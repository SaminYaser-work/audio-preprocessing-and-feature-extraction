{
  "cells": [
    {
      "cell_type": "markdown",
      "metadata": {
        "id": "5fbCls1d2yBs"
      },
      "source": [
        "# Emotion Recognition in Greek Speech Using HuBERT"
      ]
    },
    {
      "cell_type": "markdown",
      "metadata": {
        "id": "sp37lZOV2042"
      },
      "source": [
        "**HuBERT** leverages the masked prediction loss over sequences, e.g., \n",
        "Google’s Bidirectional Encoder Representations from Transformers, or BERT, method, to represent the sequential structure of speech. HuBERT uses an offline clustering step to generate noisy labels for Masked Language Model pretraining. Concretely, HuBERT consumes masked continuous speech features to predict predetermined cluster assignments. The predictive loss is applied over only the masked regions, forcing the model to learn good high-level representations of unmasked inputs in order to infer the targets of masked ones correctly.\n",
        "\n",
        "<img src=\"https://scontent-arn2-1.xx.fbcdn.net/v/t39.2365-6/199774494_858205978461255_8774541146123618096_n.jpg?_nc_cat=102&ccb=1-3&_nc_sid=ad8a9d&_nc_ohc=ijlx7hJyyDYAX9kLFAg&_nc_ht=scontent-arn2-1.xx&oh=7eed4335bf838d8372c50cae730c13a8&oe=60F2042B\" alt=\"HuBERT\" height=\"700\" />\n",
        "\n",
        "The official [paper](https://arxiv.org/pdf/2106.07447.pdf)."
      ]
    },
    {
      "cell_type": "markdown",
      "metadata": {
        "id": "y0xJwDkA3QQR"
      },
      "source": [
        "In this notebook, we will go through how to use this model to recognize the emotional aspects of speech in a language (or even as a general view using for every classification problem). Before going any further, we need to install some handy packages and define some enviroment values."
      ]
    },
    {
      "cell_type": "code",
      "execution_count": 1,
      "metadata": {
        "id": "TYsw43ULuXC_"
      },
      "outputs": [],
      "source": [
        "# %%capture\n",
        "\n",
        "# !pip install git+https://github.com/huggingface/datasets.git\n",
        "# !pip install git+https://github.com/huggingface/transformers.git\n",
        "# !pip install torchaudio\n",
        "# !pip install librosa\n",
        "\n",
        "# # Monitor the training process\n",
        "# # !pip install wandb"
      ]
    },
    {
      "cell_type": "code",
      "execution_count": 2,
      "metadata": {
        "colab": {
          "base_uri": "https://localhost:8080/"
        },
        "id": "cp4-LTa2uphv",
        "outputId": "07d39511-bd72-4165-caa1-9c505ac9cc83"
      },
      "outputs": [],
      "source": [
        "# %env LC_ALL=C.UTF-8\n",
        "# %env LANG=C.UTF-8\n",
        "# %env TRANSFORMERS_CACHE=/content/cache\n",
        "# %env HF_DATASETS_CACHE=/content/cache\n",
        "# %env CUDA_LAUNCH_BLOCKING=1"
      ]
    },
    {
      "cell_type": "code",
      "execution_count": 3,
      "metadata": {
        "id": "A0B06FRmusKF"
      },
      "outputs": [],
      "source": [
        "# # Uncomment this part if you want to setup your wandb project\n",
        "\n",
        "# %env WANDB_WATCH=all\n",
        "# %env WANDB_LOG_MODEL=1\n",
        "# %env WANDB_PROJECT=YOUR_PROJECT_NAME\n",
        "# !wandb login YOUR_API_KEY --relogin"
      ]
    },
    {
      "cell_type": "code",
      "execution_count": 4,
      "metadata": {
        "id": "pFSqZ0jwCMSv"
      },
      "outputs": [],
      "source": [
        "import numpy as np\n",
        "import pandas as pd\n",
        "\n",
        "from pathlib import Path\n",
        "from tqdm import tqdm\n",
        "\n",
        "# import torchaudio\n",
        "from sklearn.model_selection import train_test_split\n",
        "\n",
        "import os\n",
        "import sys"
      ]
    },
    {
      "cell_type": "code",
      "execution_count": 5,
      "metadata": {
        "colab": {
          "base_uri": "https://localhost:8080/"
        },
        "id": "7MXAESg_Dqr6",
        "outputId": "c72c65c7-4532-432a-8c55-c8b5eaff689c"
      },
      "outputs": [
        {
          "name": "stderr",
          "output_type": "stream",
          "text": [
            "2800it [00:00, 62635.27it/s]\n"
          ]
        }
      ],
      "source": [
        "data = []\n",
        "\n",
        "for path in tqdm(Path(\"../Datasets/Tess/\").glob(\"**/*.wav\")):\n",
        "    name = str(path).split(\"\\\\\")[-1].split(\".\")[0]\n",
        "    label = str(path).split('_')[-1].split('.')[0]\n",
        "    \n",
        "    try:\n",
        "        # There are some broken files\n",
        "        # s = torchaudio.load(path)\n",
        "        data.append({\n",
        "            \"name\": name,\n",
        "            \"path\": path,\n",
        "            \"emotion\": label\n",
        "        })\n",
        "    except Exception as e:\n",
        "        print(\"Skipped:\", str(path), e)\n",
        "        continue\n",
        "\n",
        "\n",
        "    # break"
      ]
    },
    {
      "cell_type": "code",
      "execution_count": 6,
      "metadata": {
        "colab": {
          "base_uri": "https://localhost:8080/",
          "height": 204
        },
        "id": "10b89ZpLDqx9",
        "outputId": "1a89eb3f-5a2b-41fc-acf6-0ac82d702090"
      },
      "outputs": [
        {
          "data": {
            "text/html": [
              "<div>\n",
              "<style scoped>\n",
              "    .dataframe tbody tr th:only-of-type {\n",
              "        vertical-align: middle;\n",
              "    }\n",
              "\n",
              "    .dataframe tbody tr th {\n",
              "        vertical-align: top;\n",
              "    }\n",
              "\n",
              "    .dataframe thead th {\n",
              "        text-align: right;\n",
              "    }\n",
              "</style>\n",
              "<table border=\"1\" class=\"dataframe\">\n",
              "  <thead>\n",
              "    <tr style=\"text-align: right;\">\n",
              "      <th></th>\n",
              "      <th>name</th>\n",
              "      <th>path</th>\n",
              "      <th>emotion</th>\n",
              "    </tr>\n",
              "  </thead>\n",
              "  <tbody>\n",
              "    <tr>\n",
              "      <th>0</th>\n",
              "      <td>OAF_back_angry</td>\n",
              "      <td>..\\Datasets\\Tess\\OAF_angry\\OAF_back_angry.wav</td>\n",
              "      <td>angry</td>\n",
              "    </tr>\n",
              "    <tr>\n",
              "      <th>1</th>\n",
              "      <td>OAF_bar_angry</td>\n",
              "      <td>..\\Datasets\\Tess\\OAF_angry\\OAF_bar_angry.wav</td>\n",
              "      <td>angry</td>\n",
              "    </tr>\n",
              "    <tr>\n",
              "      <th>2</th>\n",
              "      <td>OAF_base_angry</td>\n",
              "      <td>..\\Datasets\\Tess\\OAF_angry\\OAF_base_angry.wav</td>\n",
              "      <td>angry</td>\n",
              "    </tr>\n",
              "    <tr>\n",
              "      <th>3</th>\n",
              "      <td>OAF_bath_angry</td>\n",
              "      <td>..\\Datasets\\Tess\\OAF_angry\\OAF_bath_angry.wav</td>\n",
              "      <td>angry</td>\n",
              "    </tr>\n",
              "    <tr>\n",
              "      <th>4</th>\n",
              "      <td>OAF_bean_angry</td>\n",
              "      <td>..\\Datasets\\Tess\\OAF_angry\\OAF_bean_angry.wav</td>\n",
              "      <td>angry</td>\n",
              "    </tr>\n",
              "  </tbody>\n",
              "</table>\n",
              "</div>"
            ],
            "text/plain": [
              "             name                                           path emotion\n",
              "0  OAF_back_angry  ..\\Datasets\\Tess\\OAF_angry\\OAF_back_angry.wav   angry\n",
              "1   OAF_bar_angry   ..\\Datasets\\Tess\\OAF_angry\\OAF_bar_angry.wav   angry\n",
              "2  OAF_base_angry  ..\\Datasets\\Tess\\OAF_angry\\OAF_base_angry.wav   angry\n",
              "3  OAF_bath_angry  ..\\Datasets\\Tess\\OAF_angry\\OAF_bath_angry.wav   angry\n",
              "4  OAF_bean_angry  ..\\Datasets\\Tess\\OAF_angry\\OAF_bean_angry.wav   angry"
            ]
          },
          "execution_count": 6,
          "metadata": {},
          "output_type": "execute_result"
        }
      ],
      "source": [
        "df = pd.DataFrame(data)\n",
        "df.head()"
      ]
    },
    {
      "cell_type": "code",
      "execution_count": 7,
      "metadata": {
        "colab": {
          "base_uri": "https://localhost:8080/",
          "height": 238
        },
        "id": "iMhTHur8voOp",
        "outputId": "6a213a0c-c904-47b6-bc23-6e83884564c4"
      },
      "outputs": [],
      "source": [
        "# # Filter broken and non-existed paths\n",
        "\n",
        "# print(f\"Step 0: {len(df)}\")\n",
        "\n",
        "# df[\"status\"] = df[\"path\"].apply(lambda path: True if os.path.exists(path) else None)\n",
        "# df = df.dropna(subset=[\"path\"])\n",
        "# df = df.drop(\"status\", 1)\n",
        "# print(f\"Step 1: {len(df)}\")\n",
        "\n",
        "# df = df.sample(frac=1)\n",
        "# df = df.reset_index(drop=True)\n",
        "# df.head()"
      ]
    },
    {
      "cell_type": "markdown",
      "metadata": {
        "id": "TWku4ra3Bp52"
      },
      "source": [
        "Let's explore how many labels (emotions) are in the dataset with what distribution."
      ]
    },
    {
      "cell_type": "code",
      "execution_count": 8,
      "metadata": {
        "colab": {
          "base_uri": "https://localhost:8080/",
          "height": 269
        },
        "id": "beNpKMh5xXmX",
        "outputId": "0ef49574-07b5-4d0a-828a-cfecff87c451"
      },
      "outputs": [
        {
          "name": "stdout",
          "output_type": "stream",
          "text": [
            "Labels:  ['angry' 'disgust' 'fear' 'happy' 'neutral' 'ps' 'sad']\n",
            "\n"
          ]
        },
        {
          "data": {
            "text/html": [
              "<div>\n",
              "<style scoped>\n",
              "    .dataframe tbody tr th:only-of-type {\n",
              "        vertical-align: middle;\n",
              "    }\n",
              "\n",
              "    .dataframe tbody tr th {\n",
              "        vertical-align: top;\n",
              "    }\n",
              "\n",
              "    .dataframe thead th {\n",
              "        text-align: right;\n",
              "    }\n",
              "</style>\n",
              "<table border=\"1\" class=\"dataframe\">\n",
              "  <thead>\n",
              "    <tr style=\"text-align: right;\">\n",
              "      <th></th>\n",
              "      <th>path</th>\n",
              "    </tr>\n",
              "    <tr>\n",
              "      <th>emotion</th>\n",
              "      <th></th>\n",
              "    </tr>\n",
              "  </thead>\n",
              "  <tbody>\n",
              "    <tr>\n",
              "      <th>angry</th>\n",
              "      <td>400</td>\n",
              "    </tr>\n",
              "    <tr>\n",
              "      <th>disgust</th>\n",
              "      <td>400</td>\n",
              "    </tr>\n",
              "    <tr>\n",
              "      <th>fear</th>\n",
              "      <td>400</td>\n",
              "    </tr>\n",
              "    <tr>\n",
              "      <th>happy</th>\n",
              "      <td>400</td>\n",
              "    </tr>\n",
              "    <tr>\n",
              "      <th>neutral</th>\n",
              "      <td>400</td>\n",
              "    </tr>\n",
              "    <tr>\n",
              "      <th>ps</th>\n",
              "      <td>400</td>\n",
              "    </tr>\n",
              "    <tr>\n",
              "      <th>sad</th>\n",
              "      <td>400</td>\n",
              "    </tr>\n",
              "  </tbody>\n",
              "</table>\n",
              "</div>"
            ],
            "text/plain": [
              "         path\n",
              "emotion      \n",
              "angry     400\n",
              "disgust   400\n",
              "fear      400\n",
              "happy     400\n",
              "neutral   400\n",
              "ps        400\n",
              "sad       400"
            ]
          },
          "execution_count": 8,
          "metadata": {},
          "output_type": "execute_result"
        }
      ],
      "source": [
        "print(\"Labels: \", df[\"emotion\"].unique())\n",
        "print()\n",
        "df.groupby(\"emotion\").count()[[\"path\"]]"
      ]
    },
    {
      "cell_type": "markdown",
      "metadata": {
        "id": "i2hwRai7BNrx"
      },
      "source": [
        "Let's display some random sample of the dataset and run it a couple of times to get a feeling for the audio and the emotional label."
      ]
    },
    {
      "cell_type": "code",
      "execution_count": 10,
      "metadata": {
        "colab": {
          "base_uri": "https://localhost:8080/",
          "height": 126
        },
        "id": "DZaQ_sP5xkIX",
        "outputId": "449a4c88-7258-4eae-d285-548e8f8180a7"
      },
      "outputs": [
        {
          "name": "stdout",
          "output_type": "stream",
          "text": [
            "ID Location: 602\n",
            "      Label: happy\n",
            "\n"
          ]
        },
        {
          "name": "stderr",
          "output_type": "stream",
          "text": [
            "C:\\Users\\samin\\AppData\\Local\\Temp\\ipykernel_9732\\1003987010.py:18: FutureWarning: Pass orig_sr=24414, target_sr=16000 as keyword args. From version 0.10 passing these as positional arguments will result in an error\n",
            "  speech = librosa.resample(np.asarray(speech), sr, 16_000)\n"
          ]
        },
        {
          "data": {
            "text/html": [
              "\n",
              "                <audio  controls=\"controls\" autoplay=\"autoplay\">\n",
              "                    <source src=\"data:audio/wav;base64,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\" type=\"audio/wav\" />\n",
              "                    Your browser does not support the audio element.\n",
              "                </audio>\n",
              "              "
            ],
            "text/plain": [
              "<IPython.lib.display.Audio object>"
            ]
          },
          "execution_count": 10,
          "metadata": {},
          "output_type": "execute_result"
        }
      ],
      "source": [
        "import torchaudio\n",
        "import librosa\n",
        "import IPython.display as ipd\n",
        "# import numpy as np\n",
        "\n",
        "idx = np.random.randint(0, len(df))\n",
        "sample = df.iloc[idx]\n",
        "path = sample[\"path\"]\n",
        "label = sample[\"emotion\"]\n",
        "\n",
        "\n",
        "print(f\"ID Location: {idx}\")\n",
        "print(f\"      Label: {label}\")\n",
        "print()\n",
        "\n",
        "speech, sr = torchaudio.load(path)\n",
        "speech = speech[0].numpy().squeeze()\n",
        "speech = librosa.resample(np.asarray(speech), sr, 16_000)\n",
        "ipd.Audio(data=np.asarray(speech), autoplay=True, rate=16000)"
      ]
    },
    {
      "cell_type": "markdown",
      "metadata": {
        "id": "7WNjWoWRCmPk"
      },
      "source": [
        "For training purposes, we need to split data into train test sets; in this specific example, we break with a `20%` rate for the test set."
      ]
    },
    {
      "cell_type": "code",
      "execution_count": 11,
      "metadata": {
        "colab": {
          "base_uri": "https://localhost:8080/"
        },
        "id": "mlim-044xtJN",
        "outputId": "e1410b59-5486-413f-d596-246f109710ac"
      },
      "outputs": [
        {
          "name": "stdout",
          "output_type": "stream",
          "text": [
            "(2240, 3)\n",
            "(560, 3)\n"
          ]
        }
      ],
      "source": [
        "save_path = \"../Datasets/\"\n",
        "\n",
        "train_df, test_df = train_test_split(df, test_size=0.2, random_state=101, stratify=df[\"emotion\"])\n",
        "\n",
        "train_df = train_df.reset_index(drop=True)\n",
        "test_df = test_df.reset_index(drop=True)\n",
        "\n",
        "train_df.to_csv(f\"{save_path}/train.csv\", sep=\"\\t\", encoding=\"utf-8\", index=False)\n",
        "test_df.to_csv(f\"{save_path}/test.csv\", sep=\"\\t\", encoding=\"utf-8\", index=False)\n",
        "\n",
        "\n",
        "print(train_df.shape)\n",
        "print(test_df.shape)"
      ]
    },
    {
      "cell_type": "markdown",
      "metadata": {
        "id": "kcnD-d_rDElt"
      },
      "source": [
        "## Prepare Data for Training"
      ]
    },
    {
      "cell_type": "code",
      "execution_count": 14,
      "metadata": {
        "colab": {
          "base_uri": "https://localhost:8080/",
          "height": 224,
          "referenced_widgets": [
            "6cb7ead7dd60467cbc296ced68b5a887",
            "c0fb3fdd04154c1ebd7011ee32591235",
            "09b6b1d6115e409dbd97d152d5ea66e3",
            "717522e52f344f02961b83c47a70fe24",
            "1773f9e45a93467a84bc76874c4a3d08",
            "37fb8f6c3a5748ebb12d5ffe79728ee1",
            "37ffe40f40ed41f0b37e7b28bb2c8dee",
            "3ebf2586b21c424b915fecaa21a6f6a2",
            "7ff66e8680d84452919faf047d92fbf0",
            "17eee8cde17e4079985222014f55af6b",
            "28c7fee188a44bad9f98edb52b916cbc",
            "0ae42e9388904eae8dcd5433604f98c9",
            "c2598c40a44040a784806d0a086e07bb",
            "1cd796c9cbe948299bc30c23637e29ed",
            "8eff94b7ddfc49bf985c29ddca4868d6",
            "27b2d578565d427bb3fefa1b7dadbeb9"
          ]
        },
        "id": "nnVfxQYDDIc6",
        "outputId": "c3a5d757-2137-4ff9-f9d9-44f9ca460b02"
      },
      "outputs": [
        {
          "name": "stderr",
          "output_type": "stream",
          "text": [
            "Using custom data configuration default-84d57a452c05dae7\n"
          ]
        },
        {
          "name": "stdout",
          "output_type": "stream",
          "text": [
            "Downloading and preparing dataset csv/default to C:/Users/samin/.cache/huggingface/datasets/csv/default-84d57a452c05dae7/0.0.0/6b34fb8fcf56f7c8ba51dc895bfa2bfbe43546f190a60fcf74bb5e8afdcc2317...\n"
          ]
        },
        {
          "data": {
            "application/json": {
              "ascii": false,
              "bar_format": null,
              "colour": null,
              "elapsed": 0.03000617027282715,
              "initial": 0,
              "n": 0,
              "ncols": null,
              "nrows": null,
              "postfix": null,
              "prefix": "Downloading data files",
              "rate": null,
              "total": 2,
              "unit": "it",
              "unit_divisor": 1000,
              "unit_scale": false
            },
            "application/vnd.jupyter.widget-view+json": {
              "model_id": "7db39c2cedb64452ad29e270c581969e",
              "version_major": 2,
              "version_minor": 0
            },
            "text/plain": [
              "Downloading data files:   0%|          | 0/2 [00:00<?, ?it/s]"
            ]
          },
          "metadata": {},
          "output_type": "display_data"
        },
        {
          "data": {
            "application/json": {
              "ascii": false,
              "bar_format": null,
              "colour": null,
              "elapsed": 0.025285959243774414,
              "initial": 0,
              "n": 0,
              "ncols": null,
              "nrows": null,
              "postfix": null,
              "prefix": "Extracting data files",
              "rate": null,
              "total": 2,
              "unit": "it",
              "unit_divisor": 1000,
              "unit_scale": false
            },
            "application/vnd.jupyter.widget-view+json": {
              "model_id": "6fa6399e03744b88a3e3f0d3a290bbbb",
              "version_major": 2,
              "version_minor": 0
            },
            "text/plain": [
              "Extracting data files:   0%|          | 0/2 [00:00<?, ?it/s]"
            ]
          },
          "metadata": {},
          "output_type": "display_data"
        },
        {
          "data": {
            "application/json": {
              "ascii": false,
              "bar_format": null,
              "colour": null,
              "elapsed": 0.031249284744262695,
              "initial": 0,
              "n": 0,
              "ncols": null,
              "nrows": null,
              "postfix": null,
              "prefix": "",
              "rate": null,
              "total": null,
              "unit": " tables",
              "unit_divisor": 1000,
              "unit_scale": false
            },
            "application/vnd.jupyter.widget-view+json": {
              "model_id": "8ccf68625e3f444f88661b2cbef8ca74",
              "version_major": 2,
              "version_minor": 0
            },
            "text/plain": [
              "0 tables [00:00, ? tables/s]"
            ]
          },
          "metadata": {},
          "output_type": "display_data"
        },
        {
          "data": {
            "application/json": {
              "ascii": false,
              "bar_format": null,
              "colour": null,
              "elapsed": 0.03155517578125,
              "initial": 0,
              "n": 0,
              "ncols": null,
              "nrows": null,
              "postfix": null,
              "prefix": "",
              "rate": null,
              "total": null,
              "unit": " tables",
              "unit_divisor": 1000,
              "unit_scale": false
            },
            "application/vnd.jupyter.widget-view+json": {
              "model_id": "281449ef7fbf412db9c211908f03a23b",
              "version_major": 2,
              "version_minor": 0
            },
            "text/plain": [
              "0 tables [00:00, ? tables/s]"
            ]
          },
          "metadata": {},
          "output_type": "display_data"
        },
        {
          "name": "stdout",
          "output_type": "stream",
          "text": [
            "Dataset csv downloaded and prepared to C:/Users/samin/.cache/huggingface/datasets/csv/default-84d57a452c05dae7/0.0.0/6b34fb8fcf56f7c8ba51dc895bfa2bfbe43546f190a60fcf74bb5e8afdcc2317. Subsequent calls will reuse this data.\n"
          ]
        },
        {
          "data": {
            "application/json": {
              "ascii": false,
              "bar_format": null,
              "colour": null,
              "elapsed": 0.030004501342773438,
              "initial": 0,
              "n": 0,
              "ncols": null,
              "nrows": null,
              "postfix": null,
              "prefix": "",
              "rate": null,
              "total": 2,
              "unit": "it",
              "unit_divisor": 1000,
              "unit_scale": false
            },
            "application/vnd.jupyter.widget-view+json": {
              "model_id": "896291391e994dd29ed6976ca4ec2a29",
              "version_major": 2,
              "version_minor": 0
            },
            "text/plain": [
              "  0%|          | 0/2 [00:00<?, ?it/s]"
            ]
          },
          "metadata": {},
          "output_type": "display_data"
        },
        {
          "name": "stdout",
          "output_type": "stream",
          "text": [
            "Dataset({\n",
            "    features: ['name', 'path', 'emotion'],\n",
            "    num_rows: 2240\n",
            "})\n",
            "Dataset({\n",
            "    features: ['name', 'path', 'emotion'],\n",
            "    num_rows: 560\n",
            "})\n"
          ]
        }
      ],
      "source": [
        "# Loading the created dataset using datasets\n",
        "from datasets import load_dataset, load_metric\n",
        "\n",
        "\n",
        "data_files = {\n",
        "    \"train\": f\"{save_path}train.csv\", \n",
        "    \"validation\": f\"{save_path}test.csv\", \n",
        "}\n",
        "\n",
        "dataset = load_dataset(\"csv\", data_files=data_files, delimiter=\"\\t\", )\n",
        "train_dataset = dataset[\"train\"]\n",
        "eval_dataset = dataset[\"validation\"]\n",
        "\n",
        "print(train_dataset)\n",
        "print(eval_dataset)"
      ]
    },
    {
      "cell_type": "code",
      "execution_count": 24,
      "metadata": {
        "id": "rsOrQPBOEVOy"
      },
      "outputs": [],
      "source": [
        "# We need to specify the input and output column\n",
        "input_column = \"path\"\n",
        "output_column = \"emotion\""
      ]
    },
    {
      "cell_type": "code",
      "execution_count": 16,
      "metadata": {
        "colab": {
          "base_uri": "https://localhost:8080/"
        },
        "id": "-gh7fQ1XEpC7",
        "outputId": "dae27202-09f2-4afd-e6a8-edf2b46b29d8"
      },
      "outputs": [
        {
          "name": "stdout",
          "output_type": "stream",
          "text": [
            "A classification problem with 7 classes: ['angry', 'disgust', 'fear', 'happy', 'neutral', 'ps', 'sad']\n"
          ]
        }
      ],
      "source": [
        "# we need to distinguish the unique labels in our SER dataset\n",
        "label_list = train_dataset.unique(output_column)\n",
        "label_list.sort()  # Let's sort it for determinism\n",
        "num_labels = len(label_list)\n",
        "print(f\"A classification problem with {num_labels} classes: {label_list}\")"
      ]
    },
    {
      "cell_type": "markdown",
      "metadata": {
        "id": "4TkGYrVTFR6Y"
      },
      "source": [
        "In order to preprocess the audio into our classification model, we need to set up the relevant HuBERT scale in this case `facebook/hubert-base-ls960` by [FaceBook HuBERT-Base](https://huggingface.co/facebook/hubert-base-ls960). To handle the context representations in any audio length we use a merge strategy plan (pooling mode) to concatenate that 3D representations into 2D representations.\n",
        "\n",
        "There are three merge strategies `mean`, `sum`, and `max`. In this example, we achieved better results on the mean approach. In the following, we need to initiate the config and the feature extractor from the Dimitris model."
      ]
    },
    {
      "cell_type": "code",
      "execution_count": 18,
      "metadata": {
        "id": "rQrGaFohGzVo"
      },
      "outputs": [],
      "source": [
        "from transformers import AutoConfig, Wav2Vec2Processor, Wav2Vec2FeatureExtractor"
      ]
    },
    {
      "cell_type": "code",
      "execution_count": 19,
      "metadata": {
        "id": "9Y1adr7vFrq7"
      },
      "outputs": [],
      "source": [
        "model_name_or_path = \"facebook/hubert-base-ls960\"\n",
        "pooling_mode = \"mean\""
      ]
    },
    {
      "cell_type": "code",
      "execution_count": 20,
      "metadata": {
        "colab": {
          "base_uri": "https://localhost:8080/",
          "height": 66,
          "referenced_widgets": [
            "762a2c3e3399495c86430ff5e59c6cbc",
            "db88bd4eacca42b7a4bf9f744769e524",
            "7193382b9aee4709bce34d7b53022298",
            "d170546207d440e5a0121ede9373f5ca",
            "f81b4897f16e481695347b23923ea2d1",
            "8687ac97aad24559a9e8adf5de9158d5",
            "b68872f9575a45e88e8f97d2e489adb6",
            "098d064849e94863ba86dc167758f2a7"
          ]
        },
        "id": "AZjDSmBRGqr6",
        "outputId": "3c68b6d1-db0b-46e7-b34f-7cdfac661774"
      },
      "outputs": [
        {
          "data": {
            "application/json": {
              "ascii": false,
              "bar_format": null,
              "colour": null,
              "elapsed": 0.03627586364746094,
              "initial": 0,
              "n": 0,
              "ncols": null,
              "nrows": null,
              "postfix": null,
              "prefix": "Downloading",
              "rate": null,
              "total": 1385,
              "unit": "B",
              "unit_divisor": 1000,
              "unit_scale": true
            },
            "application/vnd.jupyter.widget-view+json": {
              "model_id": "b708883407fe436fa55ad484518182bb",
              "version_major": 2,
              "version_minor": 0
            },
            "text/plain": [
              "Downloading:   0%|          | 0.00/1.39k [00:00<?, ?B/s]"
            ]
          },
          "metadata": {},
          "output_type": "display_data"
        },
        {
          "name": "stderr",
          "output_type": "stream",
          "text": [
            "c:\\Users\\samin\\AppData\\Local\\Programs\\Python\\Python310\\lib\\site-packages\\huggingface_hub\\file_download.py:123: UserWarning: `huggingface_hub` cache-system uses symlinks by default to efficiently store duplicated files but your machine does not support them in C:\\Users\\samin\\.cache\\huggingface\\hub. Caching files will still work but in a degraded version that might require more space on your disk. This warning can be disabled by setting the `HF_HUB_DISABLE_SYMLINKS_WARNING` environment variable. For more details, see https://huggingface.co/docs/huggingface_hub/how-to-cache#limitations.\n",
            "To support symlinks on Windows, you either need to activate Developer Mode or to run Python as an administrator. In order to see activate developer mode, see this article: https://docs.microsoft.com/en-us/windows/apps/get-started/enable-your-device-for-development\n",
            "  warnings.warn(message)\n"
          ]
        }
      ],
      "source": [
        "# config\n",
        "config = AutoConfig.from_pretrained(\n",
        "    model_name_or_path,\n",
        "    num_labels=num_labels,\n",
        "    label2id={label: i for i, label in enumerate(label_list)},\n",
        "    id2label={i: label for i, label in enumerate(label_list)},\n",
        "    finetuning_task=\"wav2vec2_clf\",\n",
        ")\n",
        "setattr(config, 'pooling_mode', pooling_mode)"
      ]
    },
    {
      "cell_type": "code",
      "execution_count": 21,
      "metadata": {
        "colab": {
          "base_uri": "https://localhost:8080/",
          "height": 83,
          "referenced_widgets": [
            "abc0d68f7aa2464bacc5b3ff77d9da5e",
            "b8391a98fe8747e6ad7a5b0ef6668775",
            "b39dea8e89e040a484199c2061fcb81f",
            "a07a6a7098df40d09720066d460b3c00",
            "ca96a9a041334c019f13390eeb46e297",
            "e60c0df059c14522b3a77e05881014ae",
            "f308b3d597954aec9ea244bfe6eea962",
            "96aee8b43e5f44418d04e0a7bcbb7cb8"
          ]
        },
        "id": "ZXVl9qW1Gw_-",
        "outputId": "baefbb75-935f-4a4b-d62d-2b33e7a6e9b4"
      },
      "outputs": [
        {
          "data": {
            "application/json": {
              "ascii": false,
              "bar_format": null,
              "colour": null,
              "elapsed": 0.013645648956298828,
              "initial": 0,
              "n": 0,
              "ncols": null,
              "nrows": null,
              "postfix": null,
              "prefix": "Downloading",
              "rate": null,
              "total": 213,
              "unit": "B",
              "unit_divisor": 1000,
              "unit_scale": true
            },
            "application/vnd.jupyter.widget-view+json": {
              "model_id": "b6659a8bd2f243feaeae31db59b8f7ef",
              "version_major": 2,
              "version_minor": 0
            },
            "text/plain": [
              "Downloading:   0%|          | 0.00/213 [00:00<?, ?B/s]"
            ]
          },
          "metadata": {},
          "output_type": "display_data"
        },
        {
          "name": "stdout",
          "output_type": "stream",
          "text": [
            "The target sampling rate: 16000\n"
          ]
        }
      ],
      "source": [
        "feature_extractor = Wav2Vec2FeatureExtractor.from_pretrained(model_name_or_path,)\n",
        "target_sampling_rate = feature_extractor.sampling_rate\n",
        "print(f\"The target sampling rate: {target_sampling_rate}\")"
      ]
    },
    {
      "cell_type": "markdown",
      "metadata": {
        "id": "CbGuYgLqHXZg"
      },
      "source": [
        "# Preprocess Data"
      ]
    },
    {
      "cell_type": "code",
      "execution_count": 36,
      "metadata": {
        "id": "6UqlIV3uGxDA"
      },
      "outputs": [],
      "source": [
        "\n",
        "def preprocess_function(examples):\n",
        "    import torchaudio\n",
        "\n",
        "    def speech_file_to_array_fn(path):\n",
        "        speech_array, sampling_rate = torchaudio.load(path)\n",
        "        resampler = torchaudio.transforms.Resample(sampling_rate, 16000)\n",
        "        speech = resampler(speech_array).squeeze().numpy()\n",
        "        return speech\n",
        "\n",
        "    def label_to_id(label, label_list):\n",
        "        if len(label_list) > 0:\n",
        "            return label_list.index(label) if label in label_list else -1\n",
        "        return label\n",
        "    input_column = \"path\"\n",
        "    output_column = \"emotion\"\n",
        "    speech_list = [speech_file_to_array_fn(path) for path in examples[input_column]]\n",
        "    target_list = [label_to_id(label, label_list) for label in examples[output_column]]\n",
        "\n",
        "    result = feature_extractor(speech_list, sampling_rate=16000)\n",
        "    result[\"labels\"] = list(target_list)\n",
        "\n",
        "    return result"
      ]
    },
    {
      "cell_type": "code",
      "execution_count": 37,
      "metadata": {
        "colab": {
          "base_uri": "https://localhost:8080/",
          "height": 752,
          "referenced_widgets": [
            "2bbf2108af9c443ea3fbb4a9b2e4ae99",
            "3feebdeb8b99415aa3fd3a141c766bdd",
            "6a0ea0a554f440aab7d0f38ed62ceaaf",
            "81863d7f354a462d97db6cd6dd0e6002",
            "935c6a1d0a7f46d1997e71f6135ca243",
            "539f5492ab5d4a548a3cc3d092cde912",
            "ba3a2e02a33c4e1a9aacca90949d733a",
            "de2f8967774a40bdb4d79d13089bc7d0",
            "989d41c4a10e4355b476a87ecfde27b0",
            "1394b0a3294e491c80df64aed74ff863",
            "4fd1244a3f72445ba32b5d461ae24cce",
            "dd2affd758764bfabd3979da17347b3e",
            "e063c4ee504a4b43a3ed0cc33bd51a09",
            "93d1bce9d8d249e38fdba7c20225ac11",
            "f846e0daf7764efa88d3ef29804a8766",
            "8a142ebe4af54390a71b2379dfbb8d23",
            "665fc65b05254653a73bccf8c0f19394",
            "a98523ce7d5a440ab642a163a4e6e860",
            "cfa719b3bbcd4924bc9497e6ad4020d0",
            "5f8fb139d5f845d993bf8d85ba69f164",
            "8fd8992869f94a6e98f3019c98d6d7dd",
            "5327233138f6475f9464024bc7553e9f",
            "48c349bf0adc4bc79037b1a57f008af1",
            "b7f525612b8d4293bb62e16a60986ebf",
            "bde25eacf47d46c0a85a57b916e21296",
            "c2eaf0bd91c24826b61ae04272f648f4",
            "5584e0bf2ce244d994aab768011d10ff",
            "d5b17ee62c9a4d0ab121eebe1dc0a019",
            "c6aeb40e80534cf1ba1075d7446b3d43",
            "7d4180c1815844f48c70511704a96e34",
            "df1f58dee3434628a8144f902cb58ee0",
            "7df6add34e8d4447adbdc4c88e5f221f",
            "710dde7635f342429cbc0779cb76c362",
            "22eb4ce979ff4c03995995585663345b",
            "57b4eb00af3d4b8ca20bdce38cfea977",
            "97583b1cf14a4be180b32ec1ff705b01",
            "3acbd35fc6654f038843d421c8069391",
            "592b168f58c34cfda8c5b2ccb2882f56",
            "dd5e26c39aa7449db5905528d6ca3ec7",
            "57b6298a132343b093d53f58ee9dda86",
            "f05e84006d814bbe8d426266f57a0d2a",
            "8763ed097062492190fff222874cc25b",
            "4cb12c2ae4d1420696a3a82856051c51",
            "a0e8290148114cbf8140be2dce1d8bda",
            "d4e12d5098804990a7da0f3a31b65247",
            "46e14a46a8014c6490c4c16c558b30ac",
            "10f5fa669a074b4c92369349add83e53",
            "7489a1858ed6418998f1dfba5ad2b16d",
            "938526cf150a4736a477512265563a45",
            "59d637991cb348d58ea2e91698d86c78",
            "36db8e919f5e4642aaddd0b5c549996e",
            "1c3ba117b6374d0a81f382a1195e95f0",
            "59bee6a7de834f9ca06d26d7631c1eae",
            "b174cda90cc048728296c0d3bfb04382",
            "f543cf72ac33487e9ce7fbe3a6fcc8f7",
            "51bcbe1620954077b217948fc182d92c",
            "d6188e148b7b4137adde59b9519623b6",
            "749678667e4b492d9ce2825ce88ba254",
            "11321c0de2294147900b41df6505adc2",
            "205f82aa2ac74a0583e0c595c8905112",
            "4e3d51d8b5c0435fb23acc32135c296c",
            "d6eb01e82a5147ce90afd4a59d3f9599",
            "c27d11fad7f04772822df692445616bf",
            "1b21092ebf204b16815653e751706ccb"
          ]
        },
        "id": "ioP8FfR2GxHi",
        "outputId": "2f2ec2fd-ee95-4e0d-f3fe-ed5a458e909a"
      },
      "outputs": [
        {
          "name": "stdout",
          "output_type": "stream",
          "text": [
            "    "
          ]
        }
      ],
      "source": [
        "train_dataset = train_dataset.map(\n",
        "    preprocess_function,\n",
        "    batch_size=100,\n",
        "    batched=True,\n",
        "    num_proc=4\n",
        ")\n",
        "eval_dataset = eval_dataset.map(\n",
        "    preprocess_function,\n",
        "    batch_size=100,\n",
        "    batched=True,\n",
        "    num_proc=4\n",
        ")"
      ]
    },
    {
      "cell_type": "code",
      "execution_count": null,
      "metadata": {
        "colab": {
          "base_uri": "https://localhost:8080/"
        },
        "id": "eu1qcRucHk6d",
        "outputId": "2fd6ddb8-75e2-4199-8205-c829118c1409"
      },
      "outputs": [],
      "source": [
        "idx = 0\n",
        "# print(f\"Training input_values: {train_dataset[idx]['input_values']}\")\n",
        "# print(f\"Training attention_mask: {train_dataset[idx]['attention_mask']}\")\n",
        "# print(f\"Training labels: {train_dataset[idx]['labels']} - {train_dataset[idx]['emotion']}\")"
      ]
    },
    {
      "cell_type": "markdown",
      "metadata": {
        "id": "HcrEgJO9Hmx7"
      },
      "source": [
        "Great, now we've successfully read all the audio files, resampled the audio files to 16kHz, and mapped each audio to the corresponding label."
      ]
    },
    {
      "cell_type": "markdown",
      "metadata": {
        "id": "QL7q6DfcH0Fs"
      },
      "source": [
        "## Model\n",
        "\n",
        "Before diving into the training part, we need to build our classification model based on the merge strategy. "
      ]
    },
    {
      "cell_type": "code",
      "execution_count": null,
      "metadata": {
        "id": "uJZoC4T5HpuP"
      },
      "outputs": [],
      "source": [
        "from dataclasses import dataclass\n",
        "from typing import Optional, Tuple\n",
        "import torch\n",
        "from transformers.file_utils import ModelOutput\n",
        "\n",
        "\n",
        "@dataclass\n",
        "class SpeechClassifierOutput(ModelOutput):\n",
        "    loss: Optional[torch.FloatTensor] = None\n",
        "    logits: torch.FloatTensor = None\n",
        "    hidden_states: Optional[Tuple[torch.FloatTensor]] = None\n",
        "    attentions: Optional[Tuple[torch.FloatTensor]] = None\n"
      ]
    },
    {
      "cell_type": "code",
      "execution_count": null,
      "metadata": {
        "id": "Fv62ShDsH5DZ"
      },
      "outputs": [],
      "source": [
        "import torch\n",
        "import torch.nn as nn\n",
        "from torch.nn import BCEWithLogitsLoss, CrossEntropyLoss, MSELoss\n",
        "\n",
        "# from transformers.models.wav2vec2.modeling_wav2vec2 import (\n",
        "#     Wav2Vec2PreTrainedModel,\n",
        "#     Wav2Vec2Model\n",
        "# )\n",
        "from transformers.models.hubert.modeling_hubert import (\n",
        "    HubertPreTrainedModel,\n",
        "    HubertModel\n",
        ")\n",
        "\n",
        "\n",
        "class HubertClassificationHead(nn.Module):\n",
        "    \"\"\"Head for hubert classification task.\"\"\"\n",
        "\n",
        "    def __init__(self, config):\n",
        "        super().__init__()\n",
        "        self.dense = nn.Linear(config.hidden_size, config.hidden_size)\n",
        "        self.dropout = nn.Dropout(config.final_dropout)\n",
        "        self.out_proj = nn.Linear(config.hidden_size, config.num_labels)\n",
        "\n",
        "    def forward(self, features, **kwargs):\n",
        "        x = features\n",
        "        x = self.dropout(x)\n",
        "        x = self.dense(x)\n",
        "        x = torch.tanh(x)\n",
        "        x = self.dropout(x)\n",
        "        x = self.out_proj(x)\n",
        "        return x\n",
        "\n",
        "\n",
        "class HubertForSpeechClassification(HubertPreTrainedModel):\n",
        "    def __init__(self, config):\n",
        "        super().__init__(config)\n",
        "        self.num_labels = config.num_labels\n",
        "        self.pooling_mode = config.pooling_mode\n",
        "        self.config = config\n",
        "\n",
        "        self.hubert = HubertModel(config)\n",
        "        self.classifier = HubertClassificationHead(config)\n",
        "\n",
        "        self.init_weights()\n",
        "\n",
        "    def freeze_feature_extractor(self):\n",
        "        self.hubert.feature_extractor._freeze_parameters()\n",
        "\n",
        "    def merged_strategy(\n",
        "            self,\n",
        "            hidden_states,\n",
        "            mode=\"mean\"\n",
        "    ):\n",
        "        if mode == \"mean\":\n",
        "            outputs = torch.mean(hidden_states, dim=1)\n",
        "        elif mode == \"sum\":\n",
        "            outputs = torch.sum(hidden_states, dim=1)\n",
        "        elif mode == \"max\":\n",
        "            outputs = torch.max(hidden_states, dim=1)[0]\n",
        "        else:\n",
        "            raise Exception(\n",
        "                \"The pooling method hasn't been defined! Your pooling mode must be one of these ['mean', 'sum', 'max']\")\n",
        "\n",
        "        return outputs\n",
        "\n",
        "    def forward(\n",
        "            self,\n",
        "            input_values,\n",
        "            attention_mask=None,\n",
        "            output_attentions=None,\n",
        "            output_hidden_states=None,\n",
        "            return_dict=None,\n",
        "            labels=None,\n",
        "    ):\n",
        "        return_dict = return_dict if return_dict is not None else self.config.use_return_dict\n",
        "        outputs = self.hubert(\n",
        "            input_values,\n",
        "            attention_mask=attention_mask,\n",
        "            output_attentions=output_attentions,\n",
        "            output_hidden_states=output_hidden_states,\n",
        "            return_dict=return_dict,\n",
        "        )\n",
        "        hidden_states = outputs[0]\n",
        "        hidden_states = self.merged_strategy(hidden_states, mode=self.pooling_mode)\n",
        "        logits = self.classifier(hidden_states)\n",
        "\n",
        "        loss = None\n",
        "        if labels is not None:\n",
        "            if self.config.problem_type is None:\n",
        "                if self.num_labels == 1:\n",
        "                    self.config.problem_type = \"regression\"\n",
        "                elif self.num_labels > 1 and (labels.dtype == torch.long or labels.dtype == torch.int):\n",
        "                    self.config.problem_type = \"single_label_classification\"\n",
        "                else:\n",
        "                    self.config.problem_type = \"multi_label_classification\"\n",
        "\n",
        "            if self.config.problem_type == \"regression\":\n",
        "                loss_fct = MSELoss()\n",
        "                loss = loss_fct(logits.view(-1, self.num_labels), labels)\n",
        "            elif self.config.problem_type == \"single_label_classification\":\n",
        "                loss_fct = CrossEntropyLoss()\n",
        "                loss = loss_fct(logits.view(-1, self.num_labels), labels.view(-1))\n",
        "            elif self.config.problem_type == \"multi_label_classification\":\n",
        "                loss_fct = BCEWithLogitsLoss()\n",
        "                loss = loss_fct(logits, labels)\n",
        "\n",
        "        if not return_dict:\n",
        "            output = (logits,) + outputs[2:]\n",
        "            return ((loss,) + output) if loss is not None else output\n",
        "\n",
        "        return SpeechClassifierOutput(\n",
        "            loss=loss,\n",
        "            logits=logits,\n",
        "            hidden_states=outputs.hidden_states,\n",
        "            attentions=outputs.attentions,\n",
        "        )\n"
      ]
    },
    {
      "cell_type": "markdown",
      "metadata": {
        "id": "OrBrR1b7zvUL"
      },
      "source": [
        "## Training\n",
        "\n",
        "The data is processed so that we are ready to start setting up the training pipeline. We will make use of 🤗's [Trainer](https://huggingface.co/transformers/master/main_classes/trainer.html?highlight=trainer) for which we essentially need to do the following:\n",
        "\n",
        "- Define a data collator. In contrast to most NLP models, XLSR-Wav2Vec2 has a much larger input length than output length. *E.g.*, a sample of input length 50000 has an output length of no more than 100. Given the large input sizes, it is much more efficient to pad the training batches dynamically meaning that all training samples should only be padded to the longest sample in their batch and not the overall longest sample. Therefore, fine-tuning XLSR-Wav2Vec2 requires a special padding data collator, which we will define below\n",
        "\n",
        "- Evaluation metric. During training, the model should be evaluated on the word error rate. We should define a `compute_metrics` function accordingly\n",
        "\n",
        "- Load a pretrained checkpoint. We need to load a pretrained checkpoint and configure it correctly for training.\n",
        "\n",
        "- Define the training configuration.\n",
        "\n",
        "After having fine-tuned the model, we will correctly evaluate it on the test data and verify that it has indeed learned to correctly transcribe speech."
      ]
    },
    {
      "cell_type": "markdown",
      "metadata": {
        "id": "Ji9-n1eUIKZc"
      },
      "source": [
        "### Set-up Trainer\n",
        "\n",
        "Let's start by defining the data collator. The code for the data collator was copied from [this example](https://github.com/huggingface/transformers/blob/9a06b6b11bdfc42eea08fa91d0c737d1863c99e3/examples/research_projects/wav2vec2/run_asr.py#L81).\n",
        "\n",
        "Without going into too many details, in contrast to the common data collators, this data collator treats the `input_values` and `labels` differently and thus applies to separate padding functions on them (again making use of XLSR-Wav2Vec2's context manager). This is necessary because in speech input and output are of different modalities meaning that they should not be treated by the same padding function.\n",
        "Analogous to the common data collators, the padding tokens in the labels with `-100` so that those tokens are **not** taken into account when computing the loss."
      ]
    },
    {
      "cell_type": "code",
      "execution_count": null,
      "metadata": {
        "id": "rkM0VLIwy903"
      },
      "outputs": [],
      "source": [
        "from dataclasses import dataclass\n",
        "from typing import Dict, List, Optional, Union\n",
        "import torch\n",
        "\n",
        "import transformers\n",
        "from transformers import Wav2Vec2FeatureExtractor\n",
        "\n",
        "\n",
        "@dataclass\n",
        "class DataCollatorCTCWithPadding:\n",
        "    \"\"\"\n",
        "    Data collator that will dynamically pad the inputs received.\n",
        "    Args:\n",
        "        feature_extractor (:class:`~transformers.Wav2Vec2FeatureExtractor`)\n",
        "            The feature_extractor used for proccessing the data.\n",
        "        padding (:obj:`bool`, :obj:`str` or :class:`~transformers.tokenization_utils_base.PaddingStrategy`, `optional`, defaults to :obj:`True`):\n",
        "            Select a strategy to pad the returned sequences (according to the model's padding side and padding index)\n",
        "            among:\n",
        "            * :obj:`True` or :obj:`'longest'`: Pad to the longest sequence in the batch (or no padding if only a single\n",
        "              sequence if provided).\n",
        "            * :obj:`'max_length'`: Pad to a maximum length specified with the argument :obj:`max_length` or to the\n",
        "              maximum acceptable input length for the model if that argument is not provided.\n",
        "            * :obj:`False` or :obj:`'do_not_pad'` (default): No padding (i.e., can output a batch with sequences of\n",
        "              different lengths).\n",
        "        max_length (:obj:`int`, `optional`):\n",
        "            Maximum length of the ``input_values`` of the returned list and optionally padding length (see above).\n",
        "        max_length_labels (:obj:`int`, `optional`):\n",
        "            Maximum length of the ``labels`` returned list and optionally padding length (see above).\n",
        "        pad_to_multiple_of (:obj:`int`, `optional`):\n",
        "            If set will pad the sequence to a multiple of the provided value.\n",
        "            This is especially useful to enable the use of Tensor Cores on NVIDIA hardware with compute capability >=\n",
        "            7.5 (Volta).\n",
        "    \"\"\"\n",
        "\n",
        "    feature_extractor: Wav2Vec2FeatureExtractor\n",
        "    padding: Union[bool, str] = True\n",
        "    max_length: Optional[int] = None\n",
        "    max_length_labels: Optional[int] = None\n",
        "    pad_to_multiple_of: Optional[int] = None\n",
        "    pad_to_multiple_of_labels: Optional[int] = None\n",
        "\n",
        "    def __call__(self, features: List[Dict[str, Union[List[int], torch.Tensor]]]) -> Dict[str, torch.Tensor]:\n",
        "        input_features = [{\"input_values\": feature[\"input_values\"]} for feature in features]\n",
        "        label_features = [feature[\"labels\"] for feature in features]\n",
        "\n",
        "        d_type = torch.long if isinstance(label_features[0], int) else torch.float\n",
        "\n",
        "        batch = self.feature_extractor.pad(\n",
        "            input_features,\n",
        "            padding=self.padding,\n",
        "            max_length=self.max_length,\n",
        "            pad_to_multiple_of=self.pad_to_multiple_of,\n",
        "            return_tensors=\"pt\",\n",
        "        )\n",
        "\n",
        "        batch[\"labels\"] = torch.tensor(label_features, dtype=d_type)\n",
        "\n",
        "        return batch"
      ]
    },
    {
      "cell_type": "code",
      "execution_count": null,
      "metadata": {
        "id": "-YhJ0OA4RxQe"
      },
      "outputs": [],
      "source": [
        "data_collator = DataCollatorCTCWithPadding(feature_extractor=feature_extractor, padding=True)"
      ]
    },
    {
      "cell_type": "markdown",
      "metadata": {
        "id": "mYxy2IR-KcU2"
      },
      "source": [
        "Next, the evaluation metric is defined. There are many pre-defined metrics for classification/regression problems, but in this case, we would continue with just **Accuracy** for classification and **MSE** for regression. You can define other metrics on your own."
      ]
    },
    {
      "cell_type": "code",
      "execution_count": null,
      "metadata": {
        "id": "LL8I5MKvPnth"
      },
      "outputs": [],
      "source": [
        "is_regression = False"
      ]
    },
    {
      "cell_type": "code",
      "execution_count": null,
      "metadata": {
        "id": "XK26Z6IfR36K"
      },
      "outputs": [],
      "source": [
        "import numpy as np\n",
        "from transformers import EvalPrediction\n",
        "\n",
        "\n",
        "def compute_metrics(p: EvalPrediction):\n",
        "    preds = p.predictions[0] if isinstance(p.predictions, tuple) else p.predictions\n",
        "    preds = np.squeeze(preds) if is_regression else np.argmax(preds, axis=1)\n",
        "\n",
        "    if is_regression:\n",
        "        return {\"mse\": ((preds - p.label_ids) ** 2).mean().item()}\n",
        "    else:\n",
        "        return {\"accuracy\": (preds == p.label_ids).astype(np.float32).mean().item()}"
      ]
    },
    {
      "cell_type": "markdown",
      "metadata": {
        "id": "ZsH_nKJdK28o"
      },
      "source": [
        "Now, we can load the pretrained checkpoint into our classification model with a pooling strategy."
      ]
    },
    {
      "cell_type": "code",
      "execution_count": null,
      "metadata": {
        "colab": {
          "base_uri": "https://localhost:8080/"
        },
        "id": "qOsSrY2ujmMI",
        "outputId": "f3cdfc65-a61b-4510-bea1-b470b568fe88"
      },
      "outputs": [
        {
          "name": "stdout",
          "output_type": "stream",
          "text": [
            "aesdd.zip  cache  data\tsample_data\n",
            "ls: cannot access '/content/ckpts/hubert-base-greek-ser': No such file or directory\n"
          ]
        }
      ],
      "source": [
        "drive_dir = \"/content\"\n",
        "!ls {drive_dir}\n",
        "output_dir = os.path.join(drive_dir, \"ckpts\", \"hubert-base-greek-ser\")\n",
        "!ls {output_dir}"
      ]
    },
    {
      "cell_type": "code",
      "execution_count": null,
      "metadata": {
        "id": "RDuk0PjmjeZC"
      },
      "outputs": [],
      "source": [
        "import os\n",
        "import shutil\n",
        "\n",
        "last_checkpoint = None\n",
        "checkpoints = []\n",
        "if os.path.exists(output_dir):\n",
        "    for subdir in os.scandir(output_dir):\n",
        "        if subdir.is_dir():\n",
        "            checkpoints.append(subdir.path)\n",
        "            \n",
        "            \n",
        "if len(checkpoints) > 0:\n",
        "    checkpoints = list(sorted(checkpoints, key=lambda ckpt: ckpt.split('/')[-1].split('-')[-1], reverse=True))\n",
        "    model_name_or_path = os.path.join(\"/content\", checkpoints[0].split(\"/\")[-1])\n",
        "    last_checkpoint = model_name_or_path\n",
        "    shutil.copytree(checkpoints[0], model_name_or_path)"
      ]
    },
    {
      "cell_type": "code",
      "execution_count": null,
      "metadata": {
        "colab": {
          "base_uri": "https://localhost:8080/"
        },
        "id": "sGES8XwDjv55",
        "outputId": "6c6a846a-92b4-4416-f7d4-41cd8cac2510"
      },
      "outputs": [
        {
          "name": "stdout",
          "output_type": "stream",
          "text": [
            "model_name_or_path: facebook/hubert-base-ls960\n",
            "last_checkpoint: None\n"
          ]
        }
      ],
      "source": [
        "print(f\"model_name_or_path: {model_name_or_path}\")\n",
        "print(f\"last_checkpoint: {last_checkpoint}\")"
      ]
    },
    {
      "cell_type": "code",
      "execution_count": null,
      "metadata": {
        "colab": {
          "base_uri": "https://localhost:8080/",
          "height": 120,
          "referenced_widgets": [
            "4e444cf9dea24335b6d627b09d79d55c",
            "959be65e7a074e00a4ac7c426f1767c1",
            "0f661004203c42a0bcd8f4cf4b7da9b2",
            "ab449bed23eb428eb430af60ac1f63b0",
            "55fafb88a302427ab40db3ced046a12a",
            "25f5e6bb91214a92827ad926e453efb4",
            "32312709917d4f1d9ba106dab4997552",
            "03d357f3273f4e88ba3b14f3f8a3f866"
          ]
        },
        "id": "0Tl6iKAUR4EL",
        "outputId": "8651c9da-4af5-462e-9912-4d23417bd5f8"
      },
      "outputs": [
        {
          "data": {
            "application/vnd.jupyter.widget-view+json": {
              "model_id": "4e444cf9dea24335b6d627b09d79d55c",
              "version_major": 2,
              "version_minor": 0
            },
            "text/plain": [
              "HBox(children=(FloatProgress(value=0.0, description='Downloading', max=377569754.0, style=ProgressStyle(descri…"
            ]
          },
          "metadata": {
            "tags": []
          },
          "output_type": "display_data"
        },
        {
          "name": "stdout",
          "output_type": "stream",
          "text": [
            "\n"
          ]
        },
        {
          "name": "stderr",
          "output_type": "stream",
          "text": [
            "Some weights of HubertForSpeechClassification were not initialized from the model checkpoint at facebook/hubert-base-ls960 and are newly initialized: ['classifier.out_proj.weight', 'classifier.out_proj.bias', 'classifier.dense.weight', 'classifier.dense.bias']\n",
            "You should probably TRAIN this model on a down-stream task to be able to use it for predictions and inference.\n"
          ]
        }
      ],
      "source": [
        "model = HubertForSpeechClassification.from_pretrained(\n",
        "    model_name_or_path,\n",
        "    config=config,\n",
        ")"
      ]
    },
    {
      "cell_type": "markdown",
      "metadata": {
        "id": "bqF4rNMzI1M5"
      },
      "source": [
        "The first component of XLSR-Wav2Vec2 consists of a stack of CNN layers that are used to extract acoustically meaningful - but contextually independent - features from the raw speech signal. This part of the model has already been sufficiently trained during pretraining and as stated in the [paper](https://arxiv.org/pdf/2006.13979.pdf) does not need to be fine-tuned anymore. \n",
        "Thus, we can set the `requires_grad` to `False` for all parameters of the *feature extraction* part."
      ]
    },
    {
      "cell_type": "code",
      "execution_count": null,
      "metadata": {
        "id": "KHMhxFGoR4Hb"
      },
      "outputs": [],
      "source": [
        "model.freeze_feature_extractor()"
      ]
    },
    {
      "cell_type": "markdown",
      "metadata": {
        "id": "n0HzBneBK84G"
      },
      "source": [
        "In a final step, we define all parameters related to training. \n",
        "To give more explanation on some of the parameters:\n",
        "- `learning_rate` and `weight_decay` were heuristically tuned until fine-tuning has become stable. Note that those parameters strongly depend on the Common Voice dataset and might be suboptimal for other speech datasets.\n",
        "\n",
        "For more explanations on other parameters, one can take a look at the [docs](https://huggingface.co/transformers/master/main_classes/trainer.html?highlight=trainer#trainingarguments).\n",
        "\n",
        "**Note**: If one wants to save the trained models in his/her google drive the commented-out `output_dir` can be used instead."
      ]
    },
    {
      "cell_type": "code",
      "execution_count": null,
      "metadata": {
        "id": "vUtWjldAI9-H"
      },
      "outputs": [],
      "source": [
        "from transformers import TrainingArguments\n",
        "\n",
        "training_args = TrainingArguments(\n",
        "    output_dir=output_dir,\n",
        "    per_device_train_batch_size=4,\n",
        "    per_device_eval_batch_size=4,\n",
        "    gradient_accumulation_steps=2,\n",
        "    evaluation_strategy=\"steps\",\n",
        "    num_train_epochs=1.0,\n",
        "    fp16=True,\n",
        "    save_steps=10,\n",
        "    eval_steps=10,\n",
        "    logging_steps=10,\n",
        "    learning_rate=1e-4,\n",
        "    save_total_limit=2,\n",
        "    do_train=True,\n",
        "    do_eval=True,\n",
        "    do_predict=True\n",
        ")"
      ]
    },
    {
      "cell_type": "markdown",
      "metadata": {
        "id": "XAtuL0APLZSs"
      },
      "source": [
        "For future use we can create our training script, we do it in a simple way. You can add more on you own."
      ]
    },
    {
      "cell_type": "code",
      "execution_count": null,
      "metadata": {
        "id": "KfW6uDolJYZv"
      },
      "outputs": [],
      "source": [
        "from typing import Any, Dict, Union\n",
        "\n",
        "import torch\n",
        "from packaging import version\n",
        "from torch import nn\n",
        "\n",
        "from transformers import (\n",
        "    Trainer,\n",
        "    is_apex_available,\n",
        ")\n",
        "\n",
        "if is_apex_available():\n",
        "    from apex import amp\n",
        "\n",
        "if version.parse(torch.__version__) >= version.parse(\"1.6\"):\n",
        "    _is_native_amp_available = True\n",
        "    from torch.cuda.amp import autocast\n",
        "\n",
        "\n",
        "class CTCTrainer(Trainer):\n",
        "    def training_step(self, model: nn.Module, inputs: Dict[str, Union[torch.Tensor, Any]]) -> torch.Tensor:\n",
        "        \"\"\"\n",
        "        Perform a training step on a batch of inputs.\n",
        "\n",
        "        Subclass and override to inject custom behavior.\n",
        "\n",
        "        Args:\n",
        "            model (:obj:`nn.Module`):\n",
        "                The model to train.\n",
        "            inputs (:obj:`Dict[str, Union[torch.Tensor, Any]]`):\n",
        "                The inputs and targets of the model.\n",
        "\n",
        "                The dictionary will be unpacked before being fed to the model. Most models expect the targets under the\n",
        "                argument :obj:`labels`. Check your model's documentation for all accepted arguments.\n",
        "\n",
        "        Return:\n",
        "            :obj:`torch.Tensor`: The tensor with training loss on this batch.\n",
        "        \"\"\"\n",
        "\n",
        "        model.train()\n",
        "        inputs = self._prepare_inputs(inputs)\n",
        "\n",
        "        if self.use_amp:\n",
        "            with autocast():\n",
        "                loss = self.compute_loss(model, inputs)\n",
        "        else:\n",
        "            loss = self.compute_loss(model, inputs)\n",
        "\n",
        "        if self.args.gradient_accumulation_steps > 1:\n",
        "            loss = loss / self.args.gradient_accumulation_steps\n",
        "\n",
        "        if self.use_amp:\n",
        "            self.scaler.scale(loss).backward()\n",
        "        elif self.use_apex:\n",
        "            with amp.scale_loss(loss, self.optimizer) as scaled_loss:\n",
        "                scaled_loss.backward()\n",
        "        elif self.deepspeed:\n",
        "            self.deepspeed.backward(loss)\n",
        "        else:\n",
        "            loss.backward()\n",
        "\n",
        "        return loss.detach()\n"
      ]
    },
    {
      "cell_type": "markdown",
      "metadata": {
        "id": "Qv7Ju3qYJeJn"
      },
      "source": [
        "Now, all instances can be passed to Trainer and we are ready to start training!"
      ]
    },
    {
      "cell_type": "code",
      "execution_count": null,
      "metadata": {
        "id": "nEFkfK45JYiZ"
      },
      "outputs": [],
      "source": [
        "trainer = CTCTrainer(\n",
        "    model=model,\n",
        "    data_collator=data_collator,\n",
        "    args=training_args,\n",
        "    compute_metrics=compute_metrics,\n",
        "    train_dataset=train_dataset,\n",
        "    eval_dataset=eval_dataset,\n",
        "    tokenizer=feature_extractor,\n",
        ")"
      ]
    },
    {
      "cell_type": "markdown",
      "metadata": {
        "id": "0gGLwJAOLtDg"
      },
      "source": [
        "### Training"
      ]
    },
    {
      "cell_type": "markdown",
      "metadata": {
        "id": "UpN6xlWCLxJ7"
      },
      "source": [
        "Training will take between 10 and 60 minutes depending on the GPU allocated to this notebook. \n",
        "\n",
        "In case you want to use this google colab to fine-tune your model, you should make sure that your training doesn't stop due to inactivity. A simple hack to prevent this is to paste the following code into the console of this tab (right mouse click -> inspect -> Console tab and insert code)."
      ]
    },
    {
      "cell_type": "markdown",
      "metadata": {
        "id": "zyYZH7YZL8a9"
      },
      "source": [
        "```javascript\n",
        "function ConnectButton(){\n",
        "    console.log(\"Connect pushed\"); \n",
        "    document.querySelector(\"#top-toolbar > colab-connect-button\").shadowRoot.querySelector(\"#connect\").click() \n",
        "}\n",
        "setInterval(ConnectButton,60000);\n",
        "```"
      ]
    },
    {
      "cell_type": "code",
      "execution_count": null,
      "metadata": {
        "colab": {
          "base_uri": "https://localhost:8080/",
          "height": 278
        },
        "id": "6M8bNvLLJnG1",
        "outputId": "19b29abd-0305-47d3-c12e-910d57cc7399"
      },
      "outputs": [
        {
          "name": "stdout",
          "output_type": "stream",
          "text": [
            "last_checkpoint: None\n"
          ]
        },
        {
          "data": {
            "text/html": [
              "\n",
              "    <div>\n",
              "      \n",
              "      <progress value='60' max='60' style='width:300px; height:20px; vertical-align: middle;'></progress>\n",
              "      [60/60 02:30, Epoch 0/1]\n",
              "    </div>\n",
              "    <table border=\"1\" class=\"dataframe\">\n",
              "  <thead>\n",
              "    <tr style=\"text-align: left;\">\n",
              "      <th>Step</th>\n",
              "      <th>Training Loss</th>\n",
              "      <th>Validation Loss</th>\n",
              "      <th>Accuracy</th>\n",
              "    </tr>\n",
              "  </thead>\n",
              "  <tbody>\n",
              "    <tr>\n",
              "      <td>10</td>\n",
              "      <td>1.640200</td>\n",
              "      <td>1.593208</td>\n",
              "      <td>0.223140</td>\n",
              "    </tr>\n",
              "    <tr>\n",
              "      <td>20</td>\n",
              "      <td>1.565500</td>\n",
              "      <td>1.487835</td>\n",
              "      <td>0.380165</td>\n",
              "    </tr>\n",
              "    <tr>\n",
              "      <td>30</td>\n",
              "      <td>1.451700</td>\n",
              "      <td>1.311041</td>\n",
              "      <td>0.404959</td>\n",
              "    </tr>\n",
              "    <tr>\n",
              "      <td>40</td>\n",
              "      <td>1.335400</td>\n",
              "      <td>1.469661</td>\n",
              "      <td>0.429752</td>\n",
              "    </tr>\n",
              "    <tr>\n",
              "      <td>50</td>\n",
              "      <td>1.373700</td>\n",
              "      <td>1.197774</td>\n",
              "      <td>0.454545</td>\n",
              "    </tr>\n",
              "    <tr>\n",
              "      <td>60</td>\n",
              "      <td>1.214400</td>\n",
              "      <td>1.171175</td>\n",
              "      <td>0.487603</td>\n",
              "    </tr>\n",
              "  </tbody>\n",
              "</table><p>"
            ],
            "text/plain": [
              "<IPython.core.display.HTML object>"
            ]
          },
          "metadata": {
            "tags": []
          },
          "output_type": "display_data"
        }
      ],
      "source": [
        "if training_args.do_train:\n",
        "    print(f\"last_checkpoint: {last_checkpoint}\")\n",
        "    train_result = trainer.train(resume_from_checkpoint=last_checkpoint)\n",
        "    trainer.save_model()\n",
        "    feature_extractor.save_pretrained(training_args.output_dir)\n",
        "    metrics = train_result.metrics\n",
        "    metrics[\"train_samples\"] = len(train_dataset)\n",
        "\n",
        "    trainer.log_metrics(\"train\", metrics)\n",
        "    trainer.save_metrics(\"train\", metrics)\n",
        "    trainer.save_state()"
      ]
    },
    {
      "cell_type": "markdown",
      "metadata": {
        "id": "3prIN9eiMBHo"
      },
      "source": [
        "The training loss goes down and we can see that the Acurracy on the test set also improves nicely. Because this notebook is just for demonstration purposes, we can stop here.\n",
        "\n",
        "The resulting model of this notebook has been saved to [m3hrdadfi/hubert-base-greek-speech-emotion-recognition](https://huggingface.co/m3hrdadfi/hubert-base-greek-speech-emotion-recognition)\n",
        "\n",
        "As a final check, let's load the model and verify that it indeed has learned to recognize the emotion in the speech.\n",
        "\n",
        "Let's first load the pretrained checkpoint."
      ]
    },
    {
      "cell_type": "markdown",
      "metadata": {
        "id": "bw6Sv7R2qASn"
      },
      "source": [
        "## Evaluation"
      ]
    },
    {
      "cell_type": "code",
      "execution_count": null,
      "metadata": {
        "id": "GKzaYkJ7qASo"
      },
      "outputs": [],
      "source": [
        "import librosa\n",
        "from datasets import load_dataset, load_metric\n",
        "from sklearn.metrics import classification_report\n",
        "from transformers import AutoConfig, Wav2Vec2Processor, Wav2Vec2FeatureExtractor"
      ]
    },
    {
      "cell_type": "code",
      "execution_count": null,
      "metadata": {
        "colab": {
          "base_uri": "https://localhost:8080/",
          "height": 156,
          "referenced_widgets": [
            "5a57a6a4204e45f2aca5c166a893911b",
            "388febc688f041cca057b361ed2ddbe8",
            "d4025daadd75496cafe9d5a55a22aef5",
            "0bb4070be76245988251d8c54f68acbf",
            "6dede346f4d84f03a731de2f7c162d4c",
            "5f22bc5c4fd04c66ad02ded97fa8534f",
            "96cd3fc4e6cd4423b51ec2e9c5b2ef23",
            "20af16772e7b4284a80cac396445d2cd"
          ]
        },
        "id": "Cmt9qo1YqASp",
        "outputId": "ba2b3790-d4c2-4b72-c1cf-17c51428ede6"
      },
      "outputs": [
        {
          "name": "stderr",
          "output_type": "stream",
          "text": [
            "Using custom data configuration default-c0949ad448731ab8\n"
          ]
        },
        {
          "name": "stdout",
          "output_type": "stream",
          "text": [
            "Downloading and preparing dataset csv/default (download: Unknown size, generated: Unknown size, post-processed: Unknown size, total: Unknown size) to /content/cache/csv/default-c0949ad448731ab8/0.0.0/2dc6629a9ff6b5697d82c25b73731dd440507a69cbce8b425db50b751e8fcfd0...\n"
          ]
        },
        {
          "data": {
            "application/vnd.jupyter.widget-view+json": {
              "model_id": "5a57a6a4204e45f2aca5c166a893911b",
              "version_major": 2,
              "version_minor": 0
            },
            "text/plain": [
              "HBox(children=(FloatProgress(value=1.0, bar_style='info', max=1.0), HTML(value='')))"
            ]
          },
          "metadata": {
            "tags": []
          },
          "output_type": "display_data"
        },
        {
          "name": "stdout",
          "output_type": "stream",
          "text": [
            "\rDataset csv downloaded and prepared to /content/cache/csv/default-c0949ad448731ab8/0.0.0/2dc6629a9ff6b5697d82c25b73731dd440507a69cbce8b425db50b751e8fcfd0. Subsequent calls will reuse this data.\n"
          ]
        },
        {
          "data": {
            "text/plain": [
              "Dataset({\n",
              "    features: ['name', 'path', 'emotion'],\n",
              "    num_rows: 121\n",
              "})"
            ]
          },
          "execution_count": 41,
          "metadata": {
            "tags": []
          },
          "output_type": "execute_result"
        }
      ],
      "source": [
        "test_dataset = load_dataset(\"csv\", data_files={\"test\": \"/content/data/test.csv\"}, delimiter=\"\\t\")[\"test\"]\n",
        "test_dataset"
      ]
    },
    {
      "cell_type": "code",
      "execution_count": null,
      "metadata": {
        "colab": {
          "base_uri": "https://localhost:8080/"
        },
        "id": "Tce7k6XCqASr",
        "outputId": "f67ab2b6-d2ab-4568-8a88-4e1994775b6b"
      },
      "outputs": [
        {
          "name": "stdout",
          "output_type": "stream",
          "text": [
            "Device: cuda\n"
          ]
        }
      ],
      "source": [
        "device = torch.device(\"cuda\" if torch.cuda.is_available() else \"cpu\")\n",
        "print(f\"Device: {device}\")"
      ]
    },
    {
      "cell_type": "code",
      "execution_count": null,
      "metadata": {
        "colab": {
          "base_uri": "https://localhost:8080/",
          "height": 164,
          "referenced_widgets": [
            "1d9225ce04cc4aa49576cbf38d4ed9d1",
            "01822370fbc34a11aeee06b38ac8414c",
            "fcf24adbec544854bfef5cc1864d9b73",
            "b4bc0613ff334e868d7125f9f9be1256",
            "4c248590dadc4c2e96112640c79e86b6",
            "f3a309dcc6f94259b03682ba97fa47ca",
            "9b273af69f704ac695e226ae847e2f66",
            "9072ea0038444dc1b53014ca761c71f8",
            "5f2a6a93760d4e0cba08eacfd92236c2",
            "87d8a2b23a34459faf647080f2b3146b",
            "f361babc67cc4d3ca3fcdbd58f5f8748",
            "6e46942596a5426ab69aaefe0476e4bd",
            "e823c515ad66421dbec2b73c75dfbdc7",
            "db85385bd3954e7e91864c8dce7b2e09",
            "9e45c94b836e456d82faddfc46488b6f",
            "0176005366bf4363947319e5e8ac0854",
            "3b82795606904318bd6cb47c07c11aea",
            "8cfed54f7a71441db85f40dddb6a0290",
            "10fa0b164b0546a5bb5d6a1ddf549c84",
            "cd3199d548ba464aa5af2caa270928f3",
            "8baa3e2190f94a288a5a12d7c3ce0c02",
            "9a9154607c764a57b76592f5db2dc06e",
            "6e601b969fdc4387a8ec9666f54b3808",
            "83fddd0627e24fb380ddf58a77bffe06"
          ]
        },
        "id": "CD-OVFfOqASs",
        "outputId": "3301c511-4044-487a-c9b4-f54c5fb4fdc1"
      },
      "outputs": [
        {
          "data": {
            "application/vnd.jupyter.widget-view+json": {
              "model_id": "1d9225ce04cc4aa49576cbf38d4ed9d1",
              "version_major": 2,
              "version_minor": 0
            },
            "text/plain": [
              "HBox(children=(FloatProgress(value=0.0, description='Downloading', max=1693.0, style=ProgressStyle(description…"
            ]
          },
          "metadata": {
            "tags": []
          },
          "output_type": "display_data"
        },
        {
          "name": "stdout",
          "output_type": "stream",
          "text": [
            "\n"
          ]
        },
        {
          "data": {
            "application/vnd.jupyter.widget-view+json": {
              "model_id": "5f2a6a93760d4e0cba08eacfd92236c2",
              "version_major": 2,
              "version_minor": 0
            },
            "text/plain": [
              "HBox(children=(FloatProgress(value=0.0, description='Downloading', max=213.0, style=ProgressStyle(description_…"
            ]
          },
          "metadata": {
            "tags": []
          },
          "output_type": "display_data"
        },
        {
          "name": "stdout",
          "output_type": "stream",
          "text": [
            "\n"
          ]
        },
        {
          "data": {
            "application/vnd.jupyter.widget-view+json": {
              "model_id": "3b82795606904318bd6cb47c07c11aea",
              "version_major": 2,
              "version_minor": 0
            },
            "text/plain": [
              "HBox(children=(FloatProgress(value=0.0, description='Downloading', max=379949267.0, style=ProgressStyle(descri…"
            ]
          },
          "metadata": {
            "tags": []
          },
          "output_type": "display_data"
        },
        {
          "name": "stdout",
          "output_type": "stream",
          "text": [
            "\n"
          ]
        }
      ],
      "source": [
        "model_name_or_path = \"m3hrdadfi/hubert-base-greek-speech-emotion-recognition\"\n",
        "config = AutoConfig.from_pretrained(model_name_or_path)\n",
        "feature_extractor = Wav2Vec2FeatureExtractor.from_pretrained(model_name_or_path)\n",
        "model = HubertForSpeechClassification.from_pretrained(model_name_or_path).to(device)"
      ]
    },
    {
      "cell_type": "code",
      "execution_count": null,
      "metadata": {
        "id": "xFqSnJS2qASt"
      },
      "outputs": [],
      "source": [
        "def speech_file_to_array_fn(batch):\n",
        "    speech_array, sampling_rate = torchaudio.load(batch[\"path\"])\n",
        "    speech_array = speech_array.squeeze().numpy()\n",
        "    speech_array = librosa.resample(np.asarray(speech_array), sampling_rate, feature_extractor.sampling_rate)\n",
        "\n",
        "    batch[\"speech\"] = speech_array\n",
        "    return batch\n",
        "\n",
        "\n",
        "def predict(batch):\n",
        "    features = feature_extractor(batch[\"speech\"], sampling_rate=feature_extractor.sampling_rate, return_tensors=\"pt\", padding=True)\n",
        "\n",
        "    input_values = features.input_values.to(device)\n",
        "\n",
        "    with torch.no_grad():\n",
        "        logits = model(input_values).logits \n",
        "\n",
        "    pred_ids = torch.argmax(logits, dim=-1).detach().cpu().numpy()\n",
        "    batch[\"predicted\"] = pred_ids\n",
        "    return batch"
      ]
    },
    {
      "cell_type": "code",
      "execution_count": null,
      "metadata": {
        "colab": {
          "base_uri": "https://localhost:8080/",
          "height": 66,
          "referenced_widgets": [
            "19d129fceaf147fc876b192ccb3c82c1",
            "eb532ff6a91d42b0a457badf26f114d8",
            "76bf15dfbca440b7b86c883949baf1cf",
            "19447b997cef4917aff0928d54fb6c87",
            "9fecd0186d5747f0831da783bd76dfd4",
            "7f23afdea65f446d9c0acf2d73448579",
            "5cd44a2f821b4e3aae46796d5c169df7",
            "327a70c980e342d88dad7a0e23524ba5"
          ]
        },
        "id": "O8BPF2CbqASt",
        "outputId": "9da996a6-6515-4349-fd52-ddfd3e5a0923"
      },
      "outputs": [
        {
          "data": {
            "application/vnd.jupyter.widget-view+json": {
              "model_id": "19d129fceaf147fc876b192ccb3c82c1",
              "version_major": 2,
              "version_minor": 0
            },
            "text/plain": [
              "HBox(children=(FloatProgress(value=0.0, max=121.0), HTML(value='')))"
            ]
          },
          "metadata": {
            "tags": []
          },
          "output_type": "display_data"
        },
        {
          "name": "stdout",
          "output_type": "stream",
          "text": [
            "\n"
          ]
        }
      ],
      "source": [
        "test_dataset = test_dataset.map(speech_file_to_array_fn)"
      ]
    },
    {
      "cell_type": "code",
      "execution_count": null,
      "metadata": {
        "colab": {
          "base_uri": "https://localhost:8080/",
          "height": 66,
          "referenced_widgets": [
            "b788cc15aca2473193507ce298df1e79",
            "b489484843fb4858bd1e87f6d64d654b",
            "039ff1e800af4ad0b1aed45a5dc8916f",
            "a39ffe587bbd4cb399c041bd88977763",
            "b89948691b4a48a9b7001bc6e1ded073",
            "45fb2ce2d1dd42f5985549cfa14ff889",
            "307d60713eef4111b5d3aa8720cdef66",
            "2301d2d93d064db6869e68161ae2c3b8"
          ]
        },
        "id": "_eT8k5JxqASu",
        "outputId": "3f782abd-3f88-4c93-e58a-ff67de7e7ddf"
      },
      "outputs": [
        {
          "data": {
            "application/vnd.jupyter.widget-view+json": {
              "model_id": "b788cc15aca2473193507ce298df1e79",
              "version_major": 2,
              "version_minor": 0
            },
            "text/plain": [
              "HBox(children=(FloatProgress(value=0.0, max=61.0), HTML(value='')))"
            ]
          },
          "metadata": {
            "tags": []
          },
          "output_type": "display_data"
        },
        {
          "name": "stdout",
          "output_type": "stream",
          "text": [
            "\n"
          ]
        }
      ],
      "source": [
        "result = test_dataset.map(predict, batched=True, batch_size=2)"
      ]
    },
    {
      "cell_type": "code",
      "execution_count": null,
      "metadata": {
        "colab": {
          "base_uri": "https://localhost:8080/"
        },
        "id": "6ogvOEnfqASu",
        "outputId": "c9a19153-d1b0-41bd-ff38-aaba0d6879ff"
      },
      "outputs": [
        {
          "data": {
            "text/plain": [
              "['anger', 'disgust', 'fear', 'happiness', 'sadness']"
            ]
          },
          "execution_count": 47,
          "metadata": {
            "tags": []
          },
          "output_type": "execute_result"
        }
      ],
      "source": [
        "label_names = [config.id2label[i] for i in range(config.num_labels)]\n",
        "label_names"
      ]
    },
    {
      "cell_type": "code",
      "execution_count": null,
      "metadata": {
        "colab": {
          "base_uri": "https://localhost:8080/"
        },
        "id": "NYjUGDssqASv",
        "outputId": "4c438d3f-6a15-457c-9d0f-dadf00778445"
      },
      "outputs": [
        {
          "name": "stdout",
          "output_type": "stream",
          "text": [
            "[1, 4, 0, 4, 3]\n",
            "[1, 4, 0, 4, 3]\n"
          ]
        }
      ],
      "source": [
        "y_true = [config.label2id[name] for name in result[\"emotion\"]]\n",
        "y_pred = result[\"predicted\"]\n",
        "\n",
        "print(y_true[:5])\n",
        "print(y_pred[:5])"
      ]
    },
    {
      "cell_type": "code",
      "execution_count": null,
      "metadata": {
        "colab": {
          "base_uri": "https://localhost:8080/"
        },
        "id": "4jSDoRQcqASv",
        "outputId": "0fedee43-88cd-44cc-b75d-2ee30239dc98"
      },
      "outputs": [
        {
          "name": "stdout",
          "output_type": "stream",
          "text": [
            "              precision    recall  f1-score   support\n",
            "\n",
            "       anger       1.00      0.96      0.98        24\n",
            "     disgust       0.89      1.00      0.94        24\n",
            "        fear       1.00      1.00      1.00        24\n",
            "   happiness       0.95      0.88      0.91        24\n",
            "     sadness       1.00      1.00      1.00        25\n",
            "\n",
            "    accuracy                           0.97       121\n",
            "   macro avg       0.97      0.97      0.97       121\n",
            "weighted avg       0.97      0.97      0.97       121\n",
            "\n"
          ]
        }
      ],
      "source": [
        "print(classification_report(y_true, y_pred, target_names=label_names))"
      ]
    },
    {
      "cell_type": "markdown",
      "metadata": {
        "id": "Ylb2Z6Xke2ro"
      },
      "source": [
        "# Prediction"
      ]
    },
    {
      "cell_type": "code",
      "execution_count": null,
      "metadata": {
        "id": "EQzCioPhWIiX"
      },
      "outputs": [],
      "source": [
        "import torch\n",
        "import torch.nn as nn\n",
        "import torch.nn.functional as F\n",
        "import torchaudio\n",
        "from transformers import AutoConfig, Wav2Vec2Processor\n",
        "\n",
        "import librosa\n",
        "import IPython.display as ipd\n",
        "import numpy as np\n",
        "import pandas as pd"
      ]
    },
    {
      "cell_type": "code",
      "execution_count": null,
      "metadata": {
        "id": "DocavTvQWIr_"
      },
      "outputs": [],
      "source": [
        "device = torch.device(\"cuda\" if torch.cuda.is_available() else \"cpu\")\n",
        "model_name_or_path = \"m3hrdadfi/hubert-base-greek-speech-emotion-recognition\"\n",
        "config = AutoConfig.from_pretrained(model_name_or_path)\n",
        "feature_extractor = Wav2Vec2FeatureExtractor.from_pretrained(model_name_or_path)\n",
        "sampling_rate = feature_extractor.sampling_rate\n",
        "model = HubertForSpeechClassification.from_pretrained(model_name_or_path).to(device)"
      ]
    },
    {
      "cell_type": "code",
      "execution_count": null,
      "metadata": {
        "id": "1SSs95o9WIvK"
      },
      "outputs": [],
      "source": [
        "def speech_file_to_array_fn(path, sampling_rate):\n",
        "    speech_array, _sampling_rate = torchaudio.load(path)\n",
        "    resampler = torchaudio.transforms.Resample(_sampling_rate)\n",
        "    speech = resampler(speech_array).squeeze().numpy()\n",
        "    return speech\n",
        "\n",
        "\n",
        "def predict(path, sampling_rate):\n",
        "    speech = speech_file_to_array_fn(path, sampling_rate)\n",
        "    features = feature_extractor(speech, sampling_rate=sampling_rate, return_tensors=\"pt\", padding=True)\n",
        "\n",
        "    input_values = features.input_values.to(device)\n",
        "\n",
        "    with torch.no_grad():\n",
        "        logits = model(input_values).logits\n",
        "\n",
        "    scores = F.softmax(logits, dim=1).detach().cpu().numpy()[0]\n",
        "    outputs = [{\"Label\": config.id2label[i], \"Score\": f\"{round(score * 100, 3):.1f}%\"} for i, score in enumerate(scores)]\n",
        "    return outputs\n",
        "\n",
        "\n",
        "STYLES = \"\"\"\n",
        "<style>\n",
        "div.display_data {\n",
        "    margin: 0 auto;\n",
        "    max-width: 500px;\n",
        "}\n",
        "table.xxx {\n",
        "    margin: 50px !important;\n",
        "    float: right !important;\n",
        "    clear: both !important;\n",
        "}\n",
        "table.xxx td {\n",
        "    min-width: 300px !important;\n",
        "    text-align: center !important;\n",
        "}\n",
        "</style>\n",
        "\"\"\".strip()\n",
        "\n",
        "def prediction(df_row):\n",
        "    path, label = df_row[\"path\"], df_row[\"emotion\"]\n",
        "    df = pd.DataFrame([{\"Emotion\": label, \"Sentence\": \"    \"}])\n",
        "    setup = {\n",
        "        'border': 2,\n",
        "        'show_dimensions': True,\n",
        "        'justify': 'center',\n",
        "        'classes': 'xxx',\n",
        "        'escape': False,\n",
        "    }\n",
        "    ipd.display(ipd.HTML(STYLES + df.to_html(**setup) + \"<br />\"))\n",
        "    speech, sr = torchaudio.load(path)\n",
        "    speech = speech[0].numpy().squeeze()\n",
        "    speech = librosa.resample(np.asarray(speech), sr, sampling_rate)\n",
        "    ipd.display(ipd.Audio(data=np.asarray(speech), autoplay=True, rate=sampling_rate))\n",
        "\n",
        "    outputs = predict(path, sampling_rate)\n",
        "    r = pd.DataFrame(outputs)\n",
        "    ipd.display(ipd.HTML(STYLES + r.to_html(**setup) + \"<br />\"))"
      ]
    },
    {
      "cell_type": "code",
      "execution_count": null,
      "metadata": {
        "colab": {
          "base_uri": "https://localhost:8080/",
          "height": 204
        },
        "id": "UD7oUP20YwYT",
        "outputId": "01171817-ce32-4fdf-9216-ff586a77b55e"
      },
      "outputs": [
        {
          "data": {
            "text/html": [
              "<div>\n",
              "<style scoped>\n",
              "    .dataframe tbody tr th:only-of-type {\n",
              "        vertical-align: middle;\n",
              "    }\n",
              "\n",
              "    .dataframe tbody tr th {\n",
              "        vertical-align: top;\n",
              "    }\n",
              "\n",
              "    .dataframe thead th {\n",
              "        text-align: right;\n",
              "    }\n",
              "</style>\n",
              "<table border=\"1\" class=\"dataframe\">\n",
              "  <thead>\n",
              "    <tr style=\"text-align: right;\">\n",
              "      <th></th>\n",
              "      <th>name</th>\n",
              "      <th>path</th>\n",
              "      <th>emotion</th>\n",
              "    </tr>\n",
              "  </thead>\n",
              "  <tbody>\n",
              "    <tr>\n",
              "      <th>0</th>\n",
              "      <td>d11 (4)</td>\n",
              "      <td>/content/data/aesdd/disgust/d11 (4).wav</td>\n",
              "      <td>disgust</td>\n",
              "    </tr>\n",
              "    <tr>\n",
              "      <th>1</th>\n",
              "      <td>s10 (4)</td>\n",
              "      <td>/content/data/aesdd/sadness/s10 (4).wav</td>\n",
              "      <td>sadness</td>\n",
              "    </tr>\n",
              "    <tr>\n",
              "      <th>2</th>\n",
              "      <td>a13 (5)</td>\n",
              "      <td>/content/data/aesdd/anger/a13 (5).wav</td>\n",
              "      <td>anger</td>\n",
              "    </tr>\n",
              "    <tr>\n",
              "      <th>3</th>\n",
              "      <td>s05 (2)</td>\n",
              "      <td>/content/data/aesdd/sadness/s05 (2).wav</td>\n",
              "      <td>sadness</td>\n",
              "    </tr>\n",
              "    <tr>\n",
              "      <th>4</th>\n",
              "      <td>h03 (4)</td>\n",
              "      <td>/content/data/aesdd/happiness/h03 (4).wav</td>\n",
              "      <td>happiness</td>\n",
              "    </tr>\n",
              "  </tbody>\n",
              "</table>\n",
              "</div>"
            ],
            "text/plain": [
              "      name                                       path    emotion\n",
              "0  d11 (4)    /content/data/aesdd/disgust/d11 (4).wav    disgust\n",
              "1  s10 (4)    /content/data/aesdd/sadness/s10 (4).wav    sadness\n",
              "2  a13 (5)      /content/data/aesdd/anger/a13 (5).wav      anger\n",
              "3  s05 (2)    /content/data/aesdd/sadness/s05 (2).wav    sadness\n",
              "4  h03 (4)  /content/data/aesdd/happiness/h03 (4).wav  happiness"
            ]
          },
          "execution_count": 55,
          "metadata": {
            "tags": []
          },
          "output_type": "execute_result"
        }
      ],
      "source": [
        "test = pd.read_csv(\"/content/data/test.csv\", sep=\"\\t\")\n",
        "test.head()"
      ]
    },
    {
      "cell_type": "code",
      "execution_count": null,
      "metadata": {
        "colab": {
          "base_uri": "https://localhost:8080/",
          "height": 617
        },
        "id": "FlJO2LfVWIyT",
        "outputId": "8b66a4b4-afe2-411f-c843-763928795675"
      },
      "outputs": [
        {
          "data": {
            "text/html": [
              "<style>\n",
              "div.display_data {\n",
              "    margin: 0 auto;\n",
              "    max-width: 500px;\n",
              "}\n",
              "table.xxx {\n",
              "    margin: 50px !important;\n",
              "    float: right !important;\n",
              "    clear: both !important;\n",
              "}\n",
              "table.xxx td {\n",
              "    min-width: 300px !important;\n",
              "    text-align: center !important;\n",
              "}\n",
              "</style><table border=\"2\" class=\"dataframe xxx\">\n",
              "  <thead>\n",
              "    <tr style=\"text-align: center;\">\n",
              "      <th></th>\n",
              "      <th>Emotion</th>\n",
              "      <th>Sentence</th>\n",
              "    </tr>\n",
              "  </thead>\n",
              "  <tbody>\n",
              "    <tr>\n",
              "      <th>0</th>\n",
              "      <td>disgust</td>\n",
              "      <td></td>\n",
              "    </tr>\n",
              "  </tbody>\n",
              "</table>\n",
              "<p>1 rows × 2 columns</p><br />"
            ],
            "text/plain": [
              "<IPython.core.display.HTML object>"
            ]
          },
          "metadata": {
            "tags": []
          },
          "output_type": "display_data"
        },
        {
          "data": {
            "text/html": [
              "\n",
              "                <audio controls=\"controls\" autoplay=\"autoplay\">\n",
              "                    <source src=\"data:audio/wav;base64,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\" type=\"audio/wav\" />\n",
              "                    Your browser does not support the audio element.\n",
              "                </audio>\n",
              "              "
            ],
            "text/plain": [
              "<IPython.lib.display.Audio object>"
            ]
          },
          "metadata": {
            "tags": []
          },
          "output_type": "display_data"
        },
        {
          "data": {
            "text/html": [
              "<style>\n",
              "div.display_data {\n",
              "    margin: 0 auto;\n",
              "    max-width: 500px;\n",
              "}\n",
              "table.xxx {\n",
              "    margin: 50px !important;\n",
              "    float: right !important;\n",
              "    clear: both !important;\n",
              "}\n",
              "table.xxx td {\n",
              "    min-width: 300px !important;\n",
              "    text-align: center !important;\n",
              "}\n",
              "</style><table border=\"2\" class=\"dataframe xxx\">\n",
              "  <thead>\n",
              "    <tr style=\"text-align: center;\">\n",
              "      <th></th>\n",
              "      <th>Label</th>\n",
              "      <th>Score</th>\n",
              "    </tr>\n",
              "  </thead>\n",
              "  <tbody>\n",
              "    <tr>\n",
              "      <th>0</th>\n",
              "      <td>anger</td>\n",
              "      <td>0.1%</td>\n",
              "    </tr>\n",
              "    <tr>\n",
              "      <th>1</th>\n",
              "      <td>disgust</td>\n",
              "      <td>98.9%</td>\n",
              "    </tr>\n",
              "    <tr>\n",
              "      <th>2</th>\n",
              "      <td>fear</td>\n",
              "      <td>0.2%</td>\n",
              "    </tr>\n",
              "    <tr>\n",
              "      <th>3</th>\n",
              "      <td>happiness</td>\n",
              "      <td>0.5%</td>\n",
              "    </tr>\n",
              "    <tr>\n",
              "      <th>4</th>\n",
              "      <td>sadness</td>\n",
              "      <td>0.3%</td>\n",
              "    </tr>\n",
              "  </tbody>\n",
              "</table>\n",
              "<p>5 rows × 2 columns</p><br />"
            ],
            "text/plain": [
              "<IPython.core.display.HTML object>"
            ]
          },
          "metadata": {
            "tags": []
          },
          "output_type": "display_data"
        }
      ],
      "source": [
        "prediction(test.iloc[0])"
      ]
    },
    {
      "cell_type": "code",
      "execution_count": null,
      "metadata": {
        "colab": {
          "base_uri": "https://localhost:8080/",
          "height": 617
        },
        "id": "hzoKOgpoWI1K",
        "outputId": "daae8f76-78b5-40e8-cadd-3d2b571f8e0b"
      },
      "outputs": [
        {
          "data": {
            "text/html": [
              "<style>\n",
              "div.display_data {\n",
              "    margin: 0 auto;\n",
              "    max-width: 500px;\n",
              "}\n",
              "table.xxx {\n",
              "    margin: 50px !important;\n",
              "    float: right !important;\n",
              "    clear: both !important;\n",
              "}\n",
              "table.xxx td {\n",
              "    min-width: 300px !important;\n",
              "    text-align: center !important;\n",
              "}\n",
              "</style><table border=\"2\" class=\"dataframe xxx\">\n",
              "  <thead>\n",
              "    <tr style=\"text-align: center;\">\n",
              "      <th></th>\n",
              "      <th>Emotion</th>\n",
              "      <th>Sentence</th>\n",
              "    </tr>\n",
              "  </thead>\n",
              "  <tbody>\n",
              "    <tr>\n",
              "      <th>0</th>\n",
              "      <td>sadness</td>\n",
              "      <td></td>\n",
              "    </tr>\n",
              "  </tbody>\n",
              "</table>\n",
              "<p>1 rows × 2 columns</p><br />"
            ],
            "text/plain": [
              "<IPython.core.display.HTML object>"
            ]
          },
          "metadata": {
            "tags": []
          },
          "output_type": "display_data"
        },
        {
          "data": {
            "text/html": [
              "\n",
              "                <audio controls=\"controls\" autoplay=\"autoplay\">\n",
              "                    <source src=\"data:audio/wav;base64,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\" type=\"audio/wav\" />\n",
              "                    Your browser does not support the audio element.\n",
              "                </audio>\n",
              "              "
            ],
            "text/plain": [
              "<IPython.lib.display.Audio object>"
            ]
          },
          "metadata": {
            "tags": []
          },
          "output_type": "display_data"
        },
        {
          "data": {
            "text/html": [
              "<style>\n",
              "div.display_data {\n",
              "    margin: 0 auto;\n",
              "    max-width: 500px;\n",
              "}\n",
              "table.xxx {\n",
              "    margin: 50px !important;\n",
              "    float: right !important;\n",
              "    clear: both !important;\n",
              "}\n",
              "table.xxx td {\n",
              "    min-width: 300px !important;\n",
              "    text-align: center !important;\n",
              "}\n",
              "</style><table border=\"2\" class=\"dataframe xxx\">\n",
              "  <thead>\n",
              "    <tr style=\"text-align: center;\">\n",
              "      <th></th>\n",
              "      <th>Label</th>\n",
              "      <th>Score</th>\n",
              "    </tr>\n",
              "  </thead>\n",
              "  <tbody>\n",
              "    <tr>\n",
              "      <th>0</th>\n",
              "      <td>anger</td>\n",
              "      <td>0.1%</td>\n",
              "    </tr>\n",
              "    <tr>\n",
              "      <th>1</th>\n",
              "      <td>disgust</td>\n",
              "      <td>0.3%</td>\n",
              "    </tr>\n",
              "    <tr>\n",
              "      <th>2</th>\n",
              "      <td>fear</td>\n",
              "      <td>0.3%</td>\n",
              "    </tr>\n",
              "    <tr>\n",
              "      <th>3</th>\n",
              "      <td>happiness</td>\n",
              "      <td>0.0%</td>\n",
              "    </tr>\n",
              "    <tr>\n",
              "      <th>4</th>\n",
              "      <td>sadness</td>\n",
              "      <td>99.3%</td>\n",
              "    </tr>\n",
              "  </tbody>\n",
              "</table>\n",
              "<p>5 rows × 2 columns</p><br />"
            ],
            "text/plain": [
              "<IPython.core.display.HTML object>"
            ]
          },
          "metadata": {
            "tags": []
          },
          "output_type": "display_data"
        }
      ],
      "source": [
        "prediction(test.iloc[1])"
      ]
    },
    {
      "cell_type": "code",
      "execution_count": null,
      "metadata": {
        "colab": {
          "base_uri": "https://localhost:8080/",
          "height": 617
        },
        "id": "7nqwbTTXSfMO",
        "outputId": "b1046381-bfe0-4a96-f9c6-77468c0ec6c2"
      },
      "outputs": [
        {
          "data": {
            "text/html": [
              "<style>\n",
              "div.display_data {\n",
              "    margin: 0 auto;\n",
              "    max-width: 500px;\n",
              "}\n",
              "table.xxx {\n",
              "    margin: 50px !important;\n",
              "    float: right !important;\n",
              "    clear: both !important;\n",
              "}\n",
              "table.xxx td {\n",
              "    min-width: 300px !important;\n",
              "    text-align: center !important;\n",
              "}\n",
              "</style><table border=\"2\" class=\"dataframe xxx\">\n",
              "  <thead>\n",
              "    <tr style=\"text-align: center;\">\n",
              "      <th></th>\n",
              "      <th>Emotion</th>\n",
              "      <th>Sentence</th>\n",
              "    </tr>\n",
              "  </thead>\n",
              "  <tbody>\n",
              "    <tr>\n",
              "      <th>0</th>\n",
              "      <td>anger</td>\n",
              "      <td></td>\n",
              "    </tr>\n",
              "  </tbody>\n",
              "</table>\n",
              "<p>1 rows × 2 columns</p><br />"
            ],
            "text/plain": [
              "<IPython.core.display.HTML object>"
            ]
          },
          "metadata": {
            "tags": []
          },
          "output_type": "display_data"
        },
        {
          "data": {
            "text/html": [
              "\n",
              "                <audio controls=\"controls\" autoplay=\"autoplay\">\n",
              "                    <source src=\"data:audio/wav;base64,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\" type=\"audio/wav\" />\n",
              "                    Your browser does not support the audio element.\n",
              "                </audio>\n",
              "              "
            ],
            "text/plain": [
              "<IPython.lib.display.Audio object>"
            ]
          },
          "metadata": {
            "tags": []
          },
          "output_type": "display_data"
        },
        {
          "data": {
            "text/html": [
              "<style>\n",
              "div.display_data {\n",
              "    margin: 0 auto;\n",
              "    max-width: 500px;\n",
              "}\n",
              "table.xxx {\n",
              "    margin: 50px !important;\n",
              "    float: right !important;\n",
              "    clear: both !important;\n",
              "}\n",
              "table.xxx td {\n",
              "    min-width: 300px !important;\n",
              "    text-align: center !important;\n",
              "}\n",
              "</style><table border=\"2\" class=\"dataframe xxx\">\n",
              "  <thead>\n",
              "    <tr style=\"text-align: center;\">\n",
              "      <th></th>\n",
              "      <th>Label</th>\n",
              "      <th>Score</th>\n",
              "    </tr>\n",
              "  </thead>\n",
              "  <tbody>\n",
              "    <tr>\n",
              "      <th>0</th>\n",
              "      <td>anger</td>\n",
              "      <td>98.4%</td>\n",
              "    </tr>\n",
              "    <tr>\n",
              "      <th>1</th>\n",
              "      <td>disgust</td>\n",
              "      <td>0.1%</td>\n",
              "    </tr>\n",
              "    <tr>\n",
              "      <th>2</th>\n",
              "      <td>fear</td>\n",
              "      <td>0.2%</td>\n",
              "    </tr>\n",
              "    <tr>\n",
              "      <th>3</th>\n",
              "      <td>happiness</td>\n",
              "      <td>1.1%</td>\n",
              "    </tr>\n",
              "    <tr>\n",
              "      <th>4</th>\n",
              "      <td>sadness</td>\n",
              "      <td>0.2%</td>\n",
              "    </tr>\n",
              "  </tbody>\n",
              "</table>\n",
              "<p>5 rows × 2 columns</p><br />"
            ],
            "text/plain": [
              "<IPython.core.display.HTML object>"
            ]
          },
          "metadata": {
            "tags": []
          },
          "output_type": "display_data"
        }
      ],
      "source": [
        "prediction(test.iloc[2])"
      ]
    }
  ],
  "metadata": {
    "colab": {
      "collapsed_sections": [],
      "provenance": []
    },
    "gpuClass": "standard",
    "kernelspec": {
      "display_name": "Python 3.10.6 64-bit",
      "language": "python",
      "name": "python3"
    },
    "language_info": {
      "codemirror_mode": {
        "name": "ipython",
        "version": 3
      },
      "file_extension": ".py",
      "mimetype": "text/x-python",
      "name": "python",
      "nbconvert_exporter": "python",
      "pygments_lexer": "ipython3",
      "version": "3.10.6"
    },
    "vscode": {
      "interpreter": {
        "hash": "d160966f923a3a33b7e4678143d4ddbf9984fa94549c4439610f55de51f406fe"
      }
    },
    "widgets": {
      "application/vnd.jupyter.widget-state+json": {
        "0176005366bf4363947319e5e8ac0854": {
          "model_module": "@jupyter-widgets/base",
          "model_module_version": "1.2.0",
          "model_name": "LayoutModel",
          "state": {
            "_model_module": "@jupyter-widgets/base",
            "_model_module_version": "1.2.0",
            "_model_name": "LayoutModel",
            "_view_count": null,
            "_view_module": "@jupyter-widgets/base",
            "_view_module_version": "1.2.0",
            "_view_name": "LayoutView",
            "align_content": null,
            "align_items": null,
            "align_self": null,
            "border": null,
            "bottom": null,
            "display": null,
            "flex": null,
            "flex_flow": null,
            "grid_area": null,
            "grid_auto_columns": null,
            "grid_auto_flow": null,
            "grid_auto_rows": null,
            "grid_column": null,
            "grid_gap": null,
            "grid_row": null,
            "grid_template_areas": null,
            "grid_template_columns": null,
            "grid_template_rows": null,
            "height": null,
            "justify_content": null,
            "justify_items": null,
            "left": null,
            "margin": null,
            "max_height": null,
            "max_width": null,
            "min_height": null,
            "min_width": null,
            "object_fit": null,
            "object_position": null,
            "order": null,
            "overflow": null,
            "overflow_x": null,
            "overflow_y": null,
            "padding": null,
            "right": null,
            "top": null,
            "visibility": null,
            "width": null
          }
        },
        "01822370fbc34a11aeee06b38ac8414c": {
          "model_module": "@jupyter-widgets/base",
          "model_module_version": "1.2.0",
          "model_name": "LayoutModel",
          "state": {
            "_model_module": "@jupyter-widgets/base",
            "_model_module_version": "1.2.0",
            "_model_name": "LayoutModel",
            "_view_count": null,
            "_view_module": "@jupyter-widgets/base",
            "_view_module_version": "1.2.0",
            "_view_name": "LayoutView",
            "align_content": null,
            "align_items": null,
            "align_self": null,
            "border": null,
            "bottom": null,
            "display": null,
            "flex": null,
            "flex_flow": null,
            "grid_area": null,
            "grid_auto_columns": null,
            "grid_auto_flow": null,
            "grid_auto_rows": null,
            "grid_column": null,
            "grid_gap": null,
            "grid_row": null,
            "grid_template_areas": null,
            "grid_template_columns": null,
            "grid_template_rows": null,
            "height": null,
            "justify_content": null,
            "justify_items": null,
            "left": null,
            "margin": null,
            "max_height": null,
            "max_width": null,
            "min_height": null,
            "min_width": null,
            "object_fit": null,
            "object_position": null,
            "order": null,
            "overflow": null,
            "overflow_x": null,
            "overflow_y": null,
            "padding": null,
            "right": null,
            "top": null,
            "visibility": null,
            "width": null
          }
        },
        "039ff1e800af4ad0b1aed45a5dc8916f": {
          "model_module": "@jupyter-widgets/controls",
          "model_module_version": "1.5.0",
          "model_name": "FloatProgressModel",
          "state": {
            "_dom_classes": [],
            "_model_module": "@jupyter-widgets/controls",
            "_model_module_version": "1.5.0",
            "_model_name": "FloatProgressModel",
            "_view_count": null,
            "_view_module": "@jupyter-widgets/controls",
            "_view_module_version": "1.5.0",
            "_view_name": "ProgressView",
            "bar_style": "success",
            "description": "100%",
            "description_tooltip": null,
            "layout": "IPY_MODEL_45fb2ce2d1dd42f5985549cfa14ff889",
            "max": 61,
            "min": 0,
            "orientation": "horizontal",
            "style": "IPY_MODEL_b89948691b4a48a9b7001bc6e1ded073",
            "value": 61
          }
        },
        "03d357f3273f4e88ba3b14f3f8a3f866": {
          "model_module": "@jupyter-widgets/base",
          "model_module_version": "1.2.0",
          "model_name": "LayoutModel",
          "state": {
            "_model_module": "@jupyter-widgets/base",
            "_model_module_version": "1.2.0",
            "_model_name": "LayoutModel",
            "_view_count": null,
            "_view_module": "@jupyter-widgets/base",
            "_view_module_version": "1.2.0",
            "_view_name": "LayoutView",
            "align_content": null,
            "align_items": null,
            "align_self": null,
            "border": null,
            "bottom": null,
            "display": null,
            "flex": null,
            "flex_flow": null,
            "grid_area": null,
            "grid_auto_columns": null,
            "grid_auto_flow": null,
            "grid_auto_rows": null,
            "grid_column": null,
            "grid_gap": null,
            "grid_row": null,
            "grid_template_areas": null,
            "grid_template_columns": null,
            "grid_template_rows": null,
            "height": null,
            "justify_content": null,
            "justify_items": null,
            "left": null,
            "margin": null,
            "max_height": null,
            "max_width": null,
            "min_height": null,
            "min_width": null,
            "object_fit": null,
            "object_position": null,
            "order": null,
            "overflow": null,
            "overflow_x": null,
            "overflow_y": null,
            "padding": null,
            "right": null,
            "top": null,
            "visibility": null,
            "width": null
          }
        },
        "098d064849e94863ba86dc167758f2a7": {
          "model_module": "@jupyter-widgets/base",
          "model_module_version": "1.2.0",
          "model_name": "LayoutModel",
          "state": {
            "_model_module": "@jupyter-widgets/base",
            "_model_module_version": "1.2.0",
            "_model_name": "LayoutModel",
            "_view_count": null,
            "_view_module": "@jupyter-widgets/base",
            "_view_module_version": "1.2.0",
            "_view_name": "LayoutView",
            "align_content": null,
            "align_items": null,
            "align_self": null,
            "border": null,
            "bottom": null,
            "display": null,
            "flex": null,
            "flex_flow": null,
            "grid_area": null,
            "grid_auto_columns": null,
            "grid_auto_flow": null,
            "grid_auto_rows": null,
            "grid_column": null,
            "grid_gap": null,
            "grid_row": null,
            "grid_template_areas": null,
            "grid_template_columns": null,
            "grid_template_rows": null,
            "height": null,
            "justify_content": null,
            "justify_items": null,
            "left": null,
            "margin": null,
            "max_height": null,
            "max_width": null,
            "min_height": null,
            "min_width": null,
            "object_fit": null,
            "object_position": null,
            "order": null,
            "overflow": null,
            "overflow_x": null,
            "overflow_y": null,
            "padding": null,
            "right": null,
            "top": null,
            "visibility": null,
            "width": null
          }
        },
        "09b6b1d6115e409dbd97d152d5ea66e3": {
          "model_module": "@jupyter-widgets/controls",
          "model_module_version": "1.5.0",
          "model_name": "FloatProgressModel",
          "state": {
            "_dom_classes": [],
            "_model_module": "@jupyter-widgets/controls",
            "_model_module_version": "1.5.0",
            "_model_name": "FloatProgressModel",
            "_view_count": null,
            "_view_module": "@jupyter-widgets/controls",
            "_view_module_version": "1.5.0",
            "_view_name": "ProgressView",
            "bar_style": "info",
            "description": "",
            "description_tooltip": null,
            "layout": "IPY_MODEL_37fb8f6c3a5748ebb12d5ffe79728ee1",
            "max": 1,
            "min": 0,
            "orientation": "horizontal",
            "style": "IPY_MODEL_1773f9e45a93467a84bc76874c4a3d08",
            "value": 1
          }
        },
        "0ae42e9388904eae8dcd5433604f98c9": {
          "model_module": "@jupyter-widgets/controls",
          "model_module_version": "1.5.0",
          "model_name": "HTMLModel",
          "state": {
            "_dom_classes": [],
            "_model_module": "@jupyter-widgets/controls",
            "_model_module_version": "1.5.0",
            "_model_name": "HTMLModel",
            "_view_count": null,
            "_view_module": "@jupyter-widgets/controls",
            "_view_module_version": "1.5.0",
            "_view_name": "HTMLView",
            "description": "",
            "description_tooltip": null,
            "layout": "IPY_MODEL_27b2d578565d427bb3fefa1b7dadbeb9",
            "placeholder": "​",
            "style": "IPY_MODEL_8eff94b7ddfc49bf985c29ddca4868d6",
            "value": " 1/? [00:00&lt;00:00, 24.73 tables/s]"
          }
        },
        "0bb4070be76245988251d8c54f68acbf": {
          "model_module": "@jupyter-widgets/controls",
          "model_module_version": "1.5.0",
          "model_name": "HTMLModel",
          "state": {
            "_dom_classes": [],
            "_model_module": "@jupyter-widgets/controls",
            "_model_module_version": "1.5.0",
            "_model_name": "HTMLModel",
            "_view_count": null,
            "_view_module": "@jupyter-widgets/controls",
            "_view_module_version": "1.5.0",
            "_view_name": "HTMLView",
            "description": "",
            "description_tooltip": null,
            "layout": "IPY_MODEL_20af16772e7b4284a80cac396445d2cd",
            "placeholder": "​",
            "style": "IPY_MODEL_96cd3fc4e6cd4423b51ec2e9c5b2ef23",
            "value": " 1/? [00:00&lt;00:00, 28.21 tables/s]"
          }
        },
        "0f661004203c42a0bcd8f4cf4b7da9b2": {
          "model_module": "@jupyter-widgets/controls",
          "model_module_version": "1.5.0",
          "model_name": "FloatProgressModel",
          "state": {
            "_dom_classes": [],
            "_model_module": "@jupyter-widgets/controls",
            "_model_module_version": "1.5.0",
            "_model_name": "FloatProgressModel",
            "_view_count": null,
            "_view_module": "@jupyter-widgets/controls",
            "_view_module_version": "1.5.0",
            "_view_name": "ProgressView",
            "bar_style": "success",
            "description": "Downloading: 100%",
            "description_tooltip": null,
            "layout": "IPY_MODEL_25f5e6bb91214a92827ad926e453efb4",
            "max": 377569754,
            "min": 0,
            "orientation": "horizontal",
            "style": "IPY_MODEL_55fafb88a302427ab40db3ced046a12a",
            "value": 377569754
          }
        },
        "10f5fa669a074b4c92369349add83e53": {
          "model_module": "@jupyter-widgets/controls",
          "model_module_version": "1.5.0",
          "model_name": "DescriptionStyleModel",
          "state": {
            "_model_module": "@jupyter-widgets/controls",
            "_model_module_version": "1.5.0",
            "_model_name": "DescriptionStyleModel",
            "_view_count": null,
            "_view_module": "@jupyter-widgets/base",
            "_view_module_version": "1.2.0",
            "_view_name": "StyleView",
            "description_width": ""
          }
        },
        "10fa0b164b0546a5bb5d6a1ddf549c84": {
          "model_module": "@jupyter-widgets/controls",
          "model_module_version": "1.5.0",
          "model_name": "FloatProgressModel",
          "state": {
            "_dom_classes": [],
            "_model_module": "@jupyter-widgets/controls",
            "_model_module_version": "1.5.0",
            "_model_name": "FloatProgressModel",
            "_view_count": null,
            "_view_module": "@jupyter-widgets/controls",
            "_view_module_version": "1.5.0",
            "_view_name": "ProgressView",
            "bar_style": "success",
            "description": "Downloading: 100%",
            "description_tooltip": null,
            "layout": "IPY_MODEL_9a9154607c764a57b76592f5db2dc06e",
            "max": 379949267,
            "min": 0,
            "orientation": "horizontal",
            "style": "IPY_MODEL_8baa3e2190f94a288a5a12d7c3ce0c02",
            "value": 379949267
          }
        },
        "11321c0de2294147900b41df6505adc2": {
          "model_module": "@jupyter-widgets/controls",
          "model_module_version": "1.5.0",
          "model_name": "FloatProgressModel",
          "state": {
            "_dom_classes": [],
            "_model_module": "@jupyter-widgets/controls",
            "_model_module_version": "1.5.0",
            "_model_name": "FloatProgressModel",
            "_view_count": null,
            "_view_module": "@jupyter-widgets/controls",
            "_view_module_version": "1.5.0",
            "_view_name": "ProgressView",
            "bar_style": "success",
            "description": " #3: 100%",
            "description_tooltip": null,
            "layout": "IPY_MODEL_d6eb01e82a5147ce90afd4a59d3f9599",
            "max": 1,
            "min": 0,
            "orientation": "horizontal",
            "style": "IPY_MODEL_4e3d51d8b5c0435fb23acc32135c296c",
            "value": 1
          }
        },
        "1394b0a3294e491c80df64aed74ff863": {
          "model_module": "@jupyter-widgets/base",
          "model_module_version": "1.2.0",
          "model_name": "LayoutModel",
          "state": {
            "_model_module": "@jupyter-widgets/base",
            "_model_module_version": "1.2.0",
            "_model_name": "LayoutModel",
            "_view_count": null,
            "_view_module": "@jupyter-widgets/base",
            "_view_module_version": "1.2.0",
            "_view_name": "LayoutView",
            "align_content": null,
            "align_items": null,
            "align_self": null,
            "border": null,
            "bottom": null,
            "display": null,
            "flex": null,
            "flex_flow": null,
            "grid_area": null,
            "grid_auto_columns": null,
            "grid_auto_flow": null,
            "grid_auto_rows": null,
            "grid_column": null,
            "grid_gap": null,
            "grid_row": null,
            "grid_template_areas": null,
            "grid_template_columns": null,
            "grid_template_rows": null,
            "height": null,
            "justify_content": null,
            "justify_items": null,
            "left": null,
            "margin": null,
            "max_height": null,
            "max_width": null,
            "min_height": null,
            "min_width": null,
            "object_fit": null,
            "object_position": null,
            "order": null,
            "overflow": null,
            "overflow_x": null,
            "overflow_y": null,
            "padding": null,
            "right": null,
            "top": null,
            "visibility": null,
            "width": null
          }
        },
        "1773f9e45a93467a84bc76874c4a3d08": {
          "model_module": "@jupyter-widgets/controls",
          "model_module_version": "1.5.0",
          "model_name": "ProgressStyleModel",
          "state": {
            "_model_module": "@jupyter-widgets/controls",
            "_model_module_version": "1.5.0",
            "_model_name": "ProgressStyleModel",
            "_view_count": null,
            "_view_module": "@jupyter-widgets/base",
            "_view_module_version": "1.2.0",
            "_view_name": "StyleView",
            "bar_color": null,
            "description_width": "initial"
          }
        },
        "17eee8cde17e4079985222014f55af6b": {
          "model_module": "@jupyter-widgets/base",
          "model_module_version": "1.2.0",
          "model_name": "LayoutModel",
          "state": {
            "_model_module": "@jupyter-widgets/base",
            "_model_module_version": "1.2.0",
            "_model_name": "LayoutModel",
            "_view_count": null,
            "_view_module": "@jupyter-widgets/base",
            "_view_module_version": "1.2.0",
            "_view_name": "LayoutView",
            "align_content": null,
            "align_items": null,
            "align_self": null,
            "border": null,
            "bottom": null,
            "display": null,
            "flex": null,
            "flex_flow": null,
            "grid_area": null,
            "grid_auto_columns": null,
            "grid_auto_flow": null,
            "grid_auto_rows": null,
            "grid_column": null,
            "grid_gap": null,
            "grid_row": null,
            "grid_template_areas": null,
            "grid_template_columns": null,
            "grid_template_rows": null,
            "height": null,
            "justify_content": null,
            "justify_items": null,
            "left": null,
            "margin": null,
            "max_height": null,
            "max_width": null,
            "min_height": null,
            "min_width": null,
            "object_fit": null,
            "object_position": null,
            "order": null,
            "overflow": null,
            "overflow_x": null,
            "overflow_y": null,
            "padding": null,
            "right": null,
            "top": null,
            "visibility": null,
            "width": null
          }
        },
        "19447b997cef4917aff0928d54fb6c87": {
          "model_module": "@jupyter-widgets/controls",
          "model_module_version": "1.5.0",
          "model_name": "HTMLModel",
          "state": {
            "_dom_classes": [],
            "_model_module": "@jupyter-widgets/controls",
            "_model_module_version": "1.5.0",
            "_model_name": "HTMLModel",
            "_view_count": null,
            "_view_module": "@jupyter-widgets/controls",
            "_view_module_version": "1.5.0",
            "_view_name": "HTMLView",
            "description": "",
            "description_tooltip": null,
            "layout": "IPY_MODEL_327a70c980e342d88dad7a0e23524ba5",
            "placeholder": "​",
            "style": "IPY_MODEL_5cd44a2f821b4e3aae46796d5c169df7",
            "value": " 121/121 [00:19&lt;00:00,  6.25ex/s]"
          }
        },
        "19d129fceaf147fc876b192ccb3c82c1": {
          "model_module": "@jupyter-widgets/controls",
          "model_module_version": "1.5.0",
          "model_name": "HBoxModel",
          "state": {
            "_dom_classes": [],
            "_model_module": "@jupyter-widgets/controls",
            "_model_module_version": "1.5.0",
            "_model_name": "HBoxModel",
            "_view_count": null,
            "_view_module": "@jupyter-widgets/controls",
            "_view_module_version": "1.5.0",
            "_view_name": "HBoxView",
            "box_style": "",
            "children": [
              "IPY_MODEL_76bf15dfbca440b7b86c883949baf1cf",
              "IPY_MODEL_19447b997cef4917aff0928d54fb6c87"
            ],
            "layout": "IPY_MODEL_eb532ff6a91d42b0a457badf26f114d8"
          }
        },
        "1b21092ebf204b16815653e751706ccb": {
          "model_module": "@jupyter-widgets/base",
          "model_module_version": "1.2.0",
          "model_name": "LayoutModel",
          "state": {
            "_model_module": "@jupyter-widgets/base",
            "_model_module_version": "1.2.0",
            "_model_name": "LayoutModel",
            "_view_count": null,
            "_view_module": "@jupyter-widgets/base",
            "_view_module_version": "1.2.0",
            "_view_name": "LayoutView",
            "align_content": null,
            "align_items": null,
            "align_self": null,
            "border": null,
            "bottom": null,
            "display": null,
            "flex": null,
            "flex_flow": null,
            "grid_area": null,
            "grid_auto_columns": null,
            "grid_auto_flow": null,
            "grid_auto_rows": null,
            "grid_column": null,
            "grid_gap": null,
            "grid_row": null,
            "grid_template_areas": null,
            "grid_template_columns": null,
            "grid_template_rows": null,
            "height": null,
            "justify_content": null,
            "justify_items": null,
            "left": null,
            "margin": null,
            "max_height": null,
            "max_width": null,
            "min_height": null,
            "min_width": null,
            "object_fit": null,
            "object_position": null,
            "order": null,
            "overflow": null,
            "overflow_x": null,
            "overflow_y": null,
            "padding": null,
            "right": null,
            "top": null,
            "visibility": null,
            "width": null
          }
        },
        "1c3ba117b6374d0a81f382a1195e95f0": {
          "model_module": "@jupyter-widgets/controls",
          "model_module_version": "1.5.0",
          "model_name": "HTMLModel",
          "state": {
            "_dom_classes": [],
            "_model_module": "@jupyter-widgets/controls",
            "_model_module_version": "1.5.0",
            "_model_name": "HTMLModel",
            "_view_count": null,
            "_view_module": "@jupyter-widgets/controls",
            "_view_module_version": "1.5.0",
            "_view_name": "HTMLView",
            "description": "",
            "description_tooltip": null,
            "layout": "IPY_MODEL_51bcbe1620954077b217948fc182d92c",
            "placeholder": "​",
            "style": "IPY_MODEL_f543cf72ac33487e9ce7fbe3a6fcc8f7",
            "value": " 1/1 [00:06&lt;00:00,  6.79s/ba]"
          }
        },
        "1cd796c9cbe948299bc30c23637e29ed": {
          "model_module": "@jupyter-widgets/base",
          "model_module_version": "1.2.0",
          "model_name": "LayoutModel",
          "state": {
            "_model_module": "@jupyter-widgets/base",
            "_model_module_version": "1.2.0",
            "_model_name": "LayoutModel",
            "_view_count": null,
            "_view_module": "@jupyter-widgets/base",
            "_view_module_version": "1.2.0",
            "_view_name": "LayoutView",
            "align_content": null,
            "align_items": null,
            "align_self": null,
            "border": null,
            "bottom": null,
            "display": null,
            "flex": null,
            "flex_flow": null,
            "grid_area": null,
            "grid_auto_columns": null,
            "grid_auto_flow": null,
            "grid_auto_rows": null,
            "grid_column": null,
            "grid_gap": null,
            "grid_row": null,
            "grid_template_areas": null,
            "grid_template_columns": null,
            "grid_template_rows": null,
            "height": null,
            "justify_content": null,
            "justify_items": null,
            "left": null,
            "margin": null,
            "max_height": null,
            "max_width": null,
            "min_height": null,
            "min_width": null,
            "object_fit": null,
            "object_position": null,
            "order": null,
            "overflow": null,
            "overflow_x": null,
            "overflow_y": null,
            "padding": null,
            "right": null,
            "top": null,
            "visibility": null,
            "width": null
          }
        },
        "1d9225ce04cc4aa49576cbf38d4ed9d1": {
          "model_module": "@jupyter-widgets/controls",
          "model_module_version": "1.5.0",
          "model_name": "HBoxModel",
          "state": {
            "_dom_classes": [],
            "_model_module": "@jupyter-widgets/controls",
            "_model_module_version": "1.5.0",
            "_model_name": "HBoxModel",
            "_view_count": null,
            "_view_module": "@jupyter-widgets/controls",
            "_view_module_version": "1.5.0",
            "_view_name": "HBoxView",
            "box_style": "",
            "children": [
              "IPY_MODEL_fcf24adbec544854bfef5cc1864d9b73",
              "IPY_MODEL_b4bc0613ff334e868d7125f9f9be1256"
            ],
            "layout": "IPY_MODEL_01822370fbc34a11aeee06b38ac8414c"
          }
        },
        "205f82aa2ac74a0583e0c595c8905112": {
          "model_module": "@jupyter-widgets/controls",
          "model_module_version": "1.5.0",
          "model_name": "HTMLModel",
          "state": {
            "_dom_classes": [],
            "_model_module": "@jupyter-widgets/controls",
            "_model_module_version": "1.5.0",
            "_model_name": "HTMLModel",
            "_view_count": null,
            "_view_module": "@jupyter-widgets/controls",
            "_view_module_version": "1.5.0",
            "_view_name": "HTMLView",
            "description": "",
            "description_tooltip": null,
            "layout": "IPY_MODEL_1b21092ebf204b16815653e751706ccb",
            "placeholder": "​",
            "style": "IPY_MODEL_c27d11fad7f04772822df692445616bf",
            "value": " 1/1 [00:06&lt;00:00,  6.71s/ba]"
          }
        },
        "20af16772e7b4284a80cac396445d2cd": {
          "model_module": "@jupyter-widgets/base",
          "model_module_version": "1.2.0",
          "model_name": "LayoutModel",
          "state": {
            "_model_module": "@jupyter-widgets/base",
            "_model_module_version": "1.2.0",
            "_model_name": "LayoutModel",
            "_view_count": null,
            "_view_module": "@jupyter-widgets/base",
            "_view_module_version": "1.2.0",
            "_view_name": "LayoutView",
            "align_content": null,
            "align_items": null,
            "align_self": null,
            "border": null,
            "bottom": null,
            "display": null,
            "flex": null,
            "flex_flow": null,
            "grid_area": null,
            "grid_auto_columns": null,
            "grid_auto_flow": null,
            "grid_auto_rows": null,
            "grid_column": null,
            "grid_gap": null,
            "grid_row": null,
            "grid_template_areas": null,
            "grid_template_columns": null,
            "grid_template_rows": null,
            "height": null,
            "justify_content": null,
            "justify_items": null,
            "left": null,
            "margin": null,
            "max_height": null,
            "max_width": null,
            "min_height": null,
            "min_width": null,
            "object_fit": null,
            "object_position": null,
            "order": null,
            "overflow": null,
            "overflow_x": null,
            "overflow_y": null,
            "padding": null,
            "right": null,
            "top": null,
            "visibility": null,
            "width": null
          }
        },
        "22eb4ce979ff4c03995995585663345b": {
          "model_module": "@jupyter-widgets/base",
          "model_module_version": "1.2.0",
          "model_name": "LayoutModel",
          "state": {
            "_model_module": "@jupyter-widgets/base",
            "_model_module_version": "1.2.0",
            "_model_name": "LayoutModel",
            "_view_count": null,
            "_view_module": "@jupyter-widgets/base",
            "_view_module_version": "1.2.0",
            "_view_name": "LayoutView",
            "align_content": null,
            "align_items": null,
            "align_self": null,
            "border": null,
            "bottom": null,
            "display": null,
            "flex": null,
            "flex_flow": null,
            "grid_area": null,
            "grid_auto_columns": null,
            "grid_auto_flow": null,
            "grid_auto_rows": null,
            "grid_column": null,
            "grid_gap": null,
            "grid_row": null,
            "grid_template_areas": null,
            "grid_template_columns": null,
            "grid_template_rows": null,
            "height": null,
            "justify_content": null,
            "justify_items": null,
            "left": null,
            "margin": null,
            "max_height": null,
            "max_width": null,
            "min_height": null,
            "min_width": null,
            "object_fit": null,
            "object_position": null,
            "order": null,
            "overflow": null,
            "overflow_x": null,
            "overflow_y": null,
            "padding": null,
            "right": null,
            "top": null,
            "visibility": null,
            "width": null
          }
        },
        "2301d2d93d064db6869e68161ae2c3b8": {
          "model_module": "@jupyter-widgets/base",
          "model_module_version": "1.2.0",
          "model_name": "LayoutModel",
          "state": {
            "_model_module": "@jupyter-widgets/base",
            "_model_module_version": "1.2.0",
            "_model_name": "LayoutModel",
            "_view_count": null,
            "_view_module": "@jupyter-widgets/base",
            "_view_module_version": "1.2.0",
            "_view_name": "LayoutView",
            "align_content": null,
            "align_items": null,
            "align_self": null,
            "border": null,
            "bottom": null,
            "display": null,
            "flex": null,
            "flex_flow": null,
            "grid_area": null,
            "grid_auto_columns": null,
            "grid_auto_flow": null,
            "grid_auto_rows": null,
            "grid_column": null,
            "grid_gap": null,
            "grid_row": null,
            "grid_template_areas": null,
            "grid_template_columns": null,
            "grid_template_rows": null,
            "height": null,
            "justify_content": null,
            "justify_items": null,
            "left": null,
            "margin": null,
            "max_height": null,
            "max_width": null,
            "min_height": null,
            "min_width": null,
            "object_fit": null,
            "object_position": null,
            "order": null,
            "overflow": null,
            "overflow_x": null,
            "overflow_y": null,
            "padding": null,
            "right": null,
            "top": null,
            "visibility": null,
            "width": null
          }
        },
        "25f5e6bb91214a92827ad926e453efb4": {
          "model_module": "@jupyter-widgets/base",
          "model_module_version": "1.2.0",
          "model_name": "LayoutModel",
          "state": {
            "_model_module": "@jupyter-widgets/base",
            "_model_module_version": "1.2.0",
            "_model_name": "LayoutModel",
            "_view_count": null,
            "_view_module": "@jupyter-widgets/base",
            "_view_module_version": "1.2.0",
            "_view_name": "LayoutView",
            "align_content": null,
            "align_items": null,
            "align_self": null,
            "border": null,
            "bottom": null,
            "display": null,
            "flex": null,
            "flex_flow": null,
            "grid_area": null,
            "grid_auto_columns": null,
            "grid_auto_flow": null,
            "grid_auto_rows": null,
            "grid_column": null,
            "grid_gap": null,
            "grid_row": null,
            "grid_template_areas": null,
            "grid_template_columns": null,
            "grid_template_rows": null,
            "height": null,
            "justify_content": null,
            "justify_items": null,
            "left": null,
            "margin": null,
            "max_height": null,
            "max_width": null,
            "min_height": null,
            "min_width": null,
            "object_fit": null,
            "object_position": null,
            "order": null,
            "overflow": null,
            "overflow_x": null,
            "overflow_y": null,
            "padding": null,
            "right": null,
            "top": null,
            "visibility": null,
            "width": null
          }
        },
        "27b2d578565d427bb3fefa1b7dadbeb9": {
          "model_module": "@jupyter-widgets/base",
          "model_module_version": "1.2.0",
          "model_name": "LayoutModel",
          "state": {
            "_model_module": "@jupyter-widgets/base",
            "_model_module_version": "1.2.0",
            "_model_name": "LayoutModel",
            "_view_count": null,
            "_view_module": "@jupyter-widgets/base",
            "_view_module_version": "1.2.0",
            "_view_name": "LayoutView",
            "align_content": null,
            "align_items": null,
            "align_self": null,
            "border": null,
            "bottom": null,
            "display": null,
            "flex": null,
            "flex_flow": null,
            "grid_area": null,
            "grid_auto_columns": null,
            "grid_auto_flow": null,
            "grid_auto_rows": null,
            "grid_column": null,
            "grid_gap": null,
            "grid_row": null,
            "grid_template_areas": null,
            "grid_template_columns": null,
            "grid_template_rows": null,
            "height": null,
            "justify_content": null,
            "justify_items": null,
            "left": null,
            "margin": null,
            "max_height": null,
            "max_width": null,
            "min_height": null,
            "min_width": null,
            "object_fit": null,
            "object_position": null,
            "order": null,
            "overflow": null,
            "overflow_x": null,
            "overflow_y": null,
            "padding": null,
            "right": null,
            "top": null,
            "visibility": null,
            "width": null
          }
        },
        "28c7fee188a44bad9f98edb52b916cbc": {
          "model_module": "@jupyter-widgets/controls",
          "model_module_version": "1.5.0",
          "model_name": "FloatProgressModel",
          "state": {
            "_dom_classes": [],
            "_model_module": "@jupyter-widgets/controls",
            "_model_module_version": "1.5.0",
            "_model_name": "FloatProgressModel",
            "_view_count": null,
            "_view_module": "@jupyter-widgets/controls",
            "_view_module_version": "1.5.0",
            "_view_name": "ProgressView",
            "bar_style": "info",
            "description": "",
            "description_tooltip": null,
            "layout": "IPY_MODEL_1cd796c9cbe948299bc30c23637e29ed",
            "max": 1,
            "min": 0,
            "orientation": "horizontal",
            "style": "IPY_MODEL_c2598c40a44040a784806d0a086e07bb",
            "value": 1
          }
        },
        "2bbf2108af9c443ea3fbb4a9b2e4ae99": {
          "model_module": "@jupyter-widgets/controls",
          "model_module_version": "1.5.0",
          "model_name": "HBoxModel",
          "state": {
            "_dom_classes": [],
            "_model_module": "@jupyter-widgets/controls",
            "_model_module_version": "1.5.0",
            "_model_name": "HBoxModel",
            "_view_count": null,
            "_view_module": "@jupyter-widgets/controls",
            "_view_module_version": "1.5.0",
            "_view_name": "HBoxView",
            "box_style": "",
            "children": [
              "IPY_MODEL_6a0ea0a554f440aab7d0f38ed62ceaaf",
              "IPY_MODEL_81863d7f354a462d97db6cd6dd0e6002"
            ],
            "layout": "IPY_MODEL_3feebdeb8b99415aa3fd3a141c766bdd"
          }
        },
        "307d60713eef4111b5d3aa8720cdef66": {
          "model_module": "@jupyter-widgets/controls",
          "model_module_version": "1.5.0",
          "model_name": "DescriptionStyleModel",
          "state": {
            "_model_module": "@jupyter-widgets/controls",
            "_model_module_version": "1.5.0",
            "_model_name": "DescriptionStyleModel",
            "_view_count": null,
            "_view_module": "@jupyter-widgets/base",
            "_view_module_version": "1.2.0",
            "_view_name": "StyleView",
            "description_width": ""
          }
        },
        "32312709917d4f1d9ba106dab4997552": {
          "model_module": "@jupyter-widgets/controls",
          "model_module_version": "1.5.0",
          "model_name": "DescriptionStyleModel",
          "state": {
            "_model_module": "@jupyter-widgets/controls",
            "_model_module_version": "1.5.0",
            "_model_name": "DescriptionStyleModel",
            "_view_count": null,
            "_view_module": "@jupyter-widgets/base",
            "_view_module_version": "1.2.0",
            "_view_name": "StyleView",
            "description_width": ""
          }
        },
        "327a70c980e342d88dad7a0e23524ba5": {
          "model_module": "@jupyter-widgets/base",
          "model_module_version": "1.2.0",
          "model_name": "LayoutModel",
          "state": {
            "_model_module": "@jupyter-widgets/base",
            "_model_module_version": "1.2.0",
            "_model_name": "LayoutModel",
            "_view_count": null,
            "_view_module": "@jupyter-widgets/base",
            "_view_module_version": "1.2.0",
            "_view_name": "LayoutView",
            "align_content": null,
            "align_items": null,
            "align_self": null,
            "border": null,
            "bottom": null,
            "display": null,
            "flex": null,
            "flex_flow": null,
            "grid_area": null,
            "grid_auto_columns": null,
            "grid_auto_flow": null,
            "grid_auto_rows": null,
            "grid_column": null,
            "grid_gap": null,
            "grid_row": null,
            "grid_template_areas": null,
            "grid_template_columns": null,
            "grid_template_rows": null,
            "height": null,
            "justify_content": null,
            "justify_items": null,
            "left": null,
            "margin": null,
            "max_height": null,
            "max_width": null,
            "min_height": null,
            "min_width": null,
            "object_fit": null,
            "object_position": null,
            "order": null,
            "overflow": null,
            "overflow_x": null,
            "overflow_y": null,
            "padding": null,
            "right": null,
            "top": null,
            "visibility": null,
            "width": null
          }
        },
        "36db8e919f5e4642aaddd0b5c549996e": {
          "model_module": "@jupyter-widgets/controls",
          "model_module_version": "1.5.0",
          "model_name": "FloatProgressModel",
          "state": {
            "_dom_classes": [],
            "_model_module": "@jupyter-widgets/controls",
            "_model_module_version": "1.5.0",
            "_model_name": "FloatProgressModel",
            "_view_count": null,
            "_view_module": "@jupyter-widgets/controls",
            "_view_module_version": "1.5.0",
            "_view_name": "ProgressView",
            "bar_style": "success",
            "description": " #2: 100%",
            "description_tooltip": null,
            "layout": "IPY_MODEL_b174cda90cc048728296c0d3bfb04382",
            "max": 1,
            "min": 0,
            "orientation": "horizontal",
            "style": "IPY_MODEL_59bee6a7de834f9ca06d26d7631c1eae",
            "value": 1
          }
        },
        "37fb8f6c3a5748ebb12d5ffe79728ee1": {
          "model_module": "@jupyter-widgets/base",
          "model_module_version": "1.2.0",
          "model_name": "LayoutModel",
          "state": {
            "_model_module": "@jupyter-widgets/base",
            "_model_module_version": "1.2.0",
            "_model_name": "LayoutModel",
            "_view_count": null,
            "_view_module": "@jupyter-widgets/base",
            "_view_module_version": "1.2.0",
            "_view_name": "LayoutView",
            "align_content": null,
            "align_items": null,
            "align_self": null,
            "border": null,
            "bottom": null,
            "display": null,
            "flex": null,
            "flex_flow": null,
            "grid_area": null,
            "grid_auto_columns": null,
            "grid_auto_flow": null,
            "grid_auto_rows": null,
            "grid_column": null,
            "grid_gap": null,
            "grid_row": null,
            "grid_template_areas": null,
            "grid_template_columns": null,
            "grid_template_rows": null,
            "height": null,
            "justify_content": null,
            "justify_items": null,
            "left": null,
            "margin": null,
            "max_height": null,
            "max_width": null,
            "min_height": null,
            "min_width": null,
            "object_fit": null,
            "object_position": null,
            "order": null,
            "overflow": null,
            "overflow_x": null,
            "overflow_y": null,
            "padding": null,
            "right": null,
            "top": null,
            "visibility": null,
            "width": null
          }
        },
        "37ffe40f40ed41f0b37e7b28bb2c8dee": {
          "model_module": "@jupyter-widgets/controls",
          "model_module_version": "1.5.0",
          "model_name": "DescriptionStyleModel",
          "state": {
            "_model_module": "@jupyter-widgets/controls",
            "_model_module_version": "1.5.0",
            "_model_name": "DescriptionStyleModel",
            "_view_count": null,
            "_view_module": "@jupyter-widgets/base",
            "_view_module_version": "1.2.0",
            "_view_name": "StyleView",
            "description_width": ""
          }
        },
        "388febc688f041cca057b361ed2ddbe8": {
          "model_module": "@jupyter-widgets/base",
          "model_module_version": "1.2.0",
          "model_name": "LayoutModel",
          "state": {
            "_model_module": "@jupyter-widgets/base",
            "_model_module_version": "1.2.0",
            "_model_name": "LayoutModel",
            "_view_count": null,
            "_view_module": "@jupyter-widgets/base",
            "_view_module_version": "1.2.0",
            "_view_name": "LayoutView",
            "align_content": null,
            "align_items": null,
            "align_self": null,
            "border": null,
            "bottom": null,
            "display": null,
            "flex": null,
            "flex_flow": null,
            "grid_area": null,
            "grid_auto_columns": null,
            "grid_auto_flow": null,
            "grid_auto_rows": null,
            "grid_column": null,
            "grid_gap": null,
            "grid_row": null,
            "grid_template_areas": null,
            "grid_template_columns": null,
            "grid_template_rows": null,
            "height": null,
            "justify_content": null,
            "justify_items": null,
            "left": null,
            "margin": null,
            "max_height": null,
            "max_width": null,
            "min_height": null,
            "min_width": null,
            "object_fit": null,
            "object_position": null,
            "order": null,
            "overflow": null,
            "overflow_x": null,
            "overflow_y": null,
            "padding": null,
            "right": null,
            "top": null,
            "visibility": null,
            "width": null
          }
        },
        "3acbd35fc6654f038843d421c8069391": {
          "model_module": "@jupyter-widgets/controls",
          "model_module_version": "1.5.0",
          "model_name": "ProgressStyleModel",
          "state": {
            "_model_module": "@jupyter-widgets/controls",
            "_model_module_version": "1.5.0",
            "_model_name": "ProgressStyleModel",
            "_view_count": null,
            "_view_module": "@jupyter-widgets/base",
            "_view_module_version": "1.2.0",
            "_view_name": "StyleView",
            "bar_color": null,
            "description_width": "initial"
          }
        },
        "3b82795606904318bd6cb47c07c11aea": {
          "model_module": "@jupyter-widgets/controls",
          "model_module_version": "1.5.0",
          "model_name": "HBoxModel",
          "state": {
            "_dom_classes": [],
            "_model_module": "@jupyter-widgets/controls",
            "_model_module_version": "1.5.0",
            "_model_name": "HBoxModel",
            "_view_count": null,
            "_view_module": "@jupyter-widgets/controls",
            "_view_module_version": "1.5.0",
            "_view_name": "HBoxView",
            "box_style": "",
            "children": [
              "IPY_MODEL_10fa0b164b0546a5bb5d6a1ddf549c84",
              "IPY_MODEL_cd3199d548ba464aa5af2caa270928f3"
            ],
            "layout": "IPY_MODEL_8cfed54f7a71441db85f40dddb6a0290"
          }
        },
        "3ebf2586b21c424b915fecaa21a6f6a2": {
          "model_module": "@jupyter-widgets/base",
          "model_module_version": "1.2.0",
          "model_name": "LayoutModel",
          "state": {
            "_model_module": "@jupyter-widgets/base",
            "_model_module_version": "1.2.0",
            "_model_name": "LayoutModel",
            "_view_count": null,
            "_view_module": "@jupyter-widgets/base",
            "_view_module_version": "1.2.0",
            "_view_name": "LayoutView",
            "align_content": null,
            "align_items": null,
            "align_self": null,
            "border": null,
            "bottom": null,
            "display": null,
            "flex": null,
            "flex_flow": null,
            "grid_area": null,
            "grid_auto_columns": null,
            "grid_auto_flow": null,
            "grid_auto_rows": null,
            "grid_column": null,
            "grid_gap": null,
            "grid_row": null,
            "grid_template_areas": null,
            "grid_template_columns": null,
            "grid_template_rows": null,
            "height": null,
            "justify_content": null,
            "justify_items": null,
            "left": null,
            "margin": null,
            "max_height": null,
            "max_width": null,
            "min_height": null,
            "min_width": null,
            "object_fit": null,
            "object_position": null,
            "order": null,
            "overflow": null,
            "overflow_x": null,
            "overflow_y": null,
            "padding": null,
            "right": null,
            "top": null,
            "visibility": null,
            "width": null
          }
        },
        "3feebdeb8b99415aa3fd3a141c766bdd": {
          "model_module": "@jupyter-widgets/base",
          "model_module_version": "1.2.0",
          "model_name": "LayoutModel",
          "state": {
            "_model_module": "@jupyter-widgets/base",
            "_model_module_version": "1.2.0",
            "_model_name": "LayoutModel",
            "_view_count": null,
            "_view_module": "@jupyter-widgets/base",
            "_view_module_version": "1.2.0",
            "_view_name": "LayoutView",
            "align_content": null,
            "align_items": null,
            "align_self": null,
            "border": null,
            "bottom": null,
            "display": null,
            "flex": null,
            "flex_flow": null,
            "grid_area": null,
            "grid_auto_columns": null,
            "grid_auto_flow": null,
            "grid_auto_rows": null,
            "grid_column": null,
            "grid_gap": null,
            "grid_row": null,
            "grid_template_areas": null,
            "grid_template_columns": null,
            "grid_template_rows": null,
            "height": null,
            "justify_content": null,
            "justify_items": null,
            "left": null,
            "margin": null,
            "max_height": null,
            "max_width": null,
            "min_height": null,
            "min_width": null,
            "object_fit": null,
            "object_position": null,
            "order": null,
            "overflow": null,
            "overflow_x": null,
            "overflow_y": null,
            "padding": null,
            "right": null,
            "top": null,
            "visibility": null,
            "width": null
          }
        },
        "45fb2ce2d1dd42f5985549cfa14ff889": {
          "model_module": "@jupyter-widgets/base",
          "model_module_version": "1.2.0",
          "model_name": "LayoutModel",
          "state": {
            "_model_module": "@jupyter-widgets/base",
            "_model_module_version": "1.2.0",
            "_model_name": "LayoutModel",
            "_view_count": null,
            "_view_module": "@jupyter-widgets/base",
            "_view_module_version": "1.2.0",
            "_view_name": "LayoutView",
            "align_content": null,
            "align_items": null,
            "align_self": null,
            "border": null,
            "bottom": null,
            "display": null,
            "flex": null,
            "flex_flow": null,
            "grid_area": null,
            "grid_auto_columns": null,
            "grid_auto_flow": null,
            "grid_auto_rows": null,
            "grid_column": null,
            "grid_gap": null,
            "grid_row": null,
            "grid_template_areas": null,
            "grid_template_columns": null,
            "grid_template_rows": null,
            "height": null,
            "justify_content": null,
            "justify_items": null,
            "left": null,
            "margin": null,
            "max_height": null,
            "max_width": null,
            "min_height": null,
            "min_width": null,
            "object_fit": null,
            "object_position": null,
            "order": null,
            "overflow": null,
            "overflow_x": null,
            "overflow_y": null,
            "padding": null,
            "right": null,
            "top": null,
            "visibility": null,
            "width": null
          }
        },
        "46e14a46a8014c6490c4c16c558b30ac": {
          "model_module": "@jupyter-widgets/base",
          "model_module_version": "1.2.0",
          "model_name": "LayoutModel",
          "state": {
            "_model_module": "@jupyter-widgets/base",
            "_model_module_version": "1.2.0",
            "_model_name": "LayoutModel",
            "_view_count": null,
            "_view_module": "@jupyter-widgets/base",
            "_view_module_version": "1.2.0",
            "_view_name": "LayoutView",
            "align_content": null,
            "align_items": null,
            "align_self": null,
            "border": null,
            "bottom": null,
            "display": null,
            "flex": null,
            "flex_flow": null,
            "grid_area": null,
            "grid_auto_columns": null,
            "grid_auto_flow": null,
            "grid_auto_rows": null,
            "grid_column": null,
            "grid_gap": null,
            "grid_row": null,
            "grid_template_areas": null,
            "grid_template_columns": null,
            "grid_template_rows": null,
            "height": null,
            "justify_content": null,
            "justify_items": null,
            "left": null,
            "margin": null,
            "max_height": null,
            "max_width": null,
            "min_height": null,
            "min_width": null,
            "object_fit": null,
            "object_position": null,
            "order": null,
            "overflow": null,
            "overflow_x": null,
            "overflow_y": null,
            "padding": null,
            "right": null,
            "top": null,
            "visibility": null,
            "width": null
          }
        },
        "48c349bf0adc4bc79037b1a57f008af1": {
          "model_module": "@jupyter-widgets/controls",
          "model_module_version": "1.5.0",
          "model_name": "DescriptionStyleModel",
          "state": {
            "_model_module": "@jupyter-widgets/controls",
            "_model_module_version": "1.5.0",
            "_model_name": "DescriptionStyleModel",
            "_view_count": null,
            "_view_module": "@jupyter-widgets/base",
            "_view_module_version": "1.2.0",
            "_view_name": "StyleView",
            "description_width": ""
          }
        },
        "4c248590dadc4c2e96112640c79e86b6": {
          "model_module": "@jupyter-widgets/controls",
          "model_module_version": "1.5.0",
          "model_name": "ProgressStyleModel",
          "state": {
            "_model_module": "@jupyter-widgets/controls",
            "_model_module_version": "1.5.0",
            "_model_name": "ProgressStyleModel",
            "_view_count": null,
            "_view_module": "@jupyter-widgets/base",
            "_view_module_version": "1.2.0",
            "_view_name": "StyleView",
            "bar_color": null,
            "description_width": "initial"
          }
        },
        "4cb12c2ae4d1420696a3a82856051c51": {
          "model_module": "@jupyter-widgets/controls",
          "model_module_version": "1.5.0",
          "model_name": "FloatProgressModel",
          "state": {
            "_dom_classes": [],
            "_model_module": "@jupyter-widgets/controls",
            "_model_module_version": "1.5.0",
            "_model_name": "FloatProgressModel",
            "_view_count": null,
            "_view_module": "@jupyter-widgets/controls",
            "_view_module_version": "1.5.0",
            "_view_name": "ProgressView",
            "bar_style": "success",
            "description": " #1: 100%",
            "description_tooltip": null,
            "layout": "IPY_MODEL_46e14a46a8014c6490c4c16c558b30ac",
            "max": 1,
            "min": 0,
            "orientation": "horizontal",
            "style": "IPY_MODEL_d4e12d5098804990a7da0f3a31b65247",
            "value": 1
          }
        },
        "4e3d51d8b5c0435fb23acc32135c296c": {
          "model_module": "@jupyter-widgets/controls",
          "model_module_version": "1.5.0",
          "model_name": "ProgressStyleModel",
          "state": {
            "_model_module": "@jupyter-widgets/controls",
            "_model_module_version": "1.5.0",
            "_model_name": "ProgressStyleModel",
            "_view_count": null,
            "_view_module": "@jupyter-widgets/base",
            "_view_module_version": "1.2.0",
            "_view_name": "StyleView",
            "bar_color": null,
            "description_width": "initial"
          }
        },
        "4e444cf9dea24335b6d627b09d79d55c": {
          "model_module": "@jupyter-widgets/controls",
          "model_module_version": "1.5.0",
          "model_name": "HBoxModel",
          "state": {
            "_dom_classes": [],
            "_model_module": "@jupyter-widgets/controls",
            "_model_module_version": "1.5.0",
            "_model_name": "HBoxModel",
            "_view_count": null,
            "_view_module": "@jupyter-widgets/controls",
            "_view_module_version": "1.5.0",
            "_view_name": "HBoxView",
            "box_style": "",
            "children": [
              "IPY_MODEL_0f661004203c42a0bcd8f4cf4b7da9b2",
              "IPY_MODEL_ab449bed23eb428eb430af60ac1f63b0"
            ],
            "layout": "IPY_MODEL_959be65e7a074e00a4ac7c426f1767c1"
          }
        },
        "4fd1244a3f72445ba32b5d461ae24cce": {
          "model_module": "@jupyter-widgets/controls",
          "model_module_version": "1.5.0",
          "model_name": "FloatProgressModel",
          "state": {
            "_dom_classes": [],
            "_model_module": "@jupyter-widgets/controls",
            "_model_module_version": "1.5.0",
            "_model_name": "FloatProgressModel",
            "_view_count": null,
            "_view_module": "@jupyter-widgets/controls",
            "_view_module_version": "1.5.0",
            "_view_name": "ProgressView",
            "bar_style": "success",
            "description": " #1: 100%",
            "description_tooltip": null,
            "layout": "IPY_MODEL_93d1bce9d8d249e38fdba7c20225ac11",
            "max": 2,
            "min": 0,
            "orientation": "horizontal",
            "style": "IPY_MODEL_e063c4ee504a4b43a3ed0cc33bd51a09",
            "value": 2
          }
        },
        "51bcbe1620954077b217948fc182d92c": {
          "model_module": "@jupyter-widgets/base",
          "model_module_version": "1.2.0",
          "model_name": "LayoutModel",
          "state": {
            "_model_module": "@jupyter-widgets/base",
            "_model_module_version": "1.2.0",
            "_model_name": "LayoutModel",
            "_view_count": null,
            "_view_module": "@jupyter-widgets/base",
            "_view_module_version": "1.2.0",
            "_view_name": "LayoutView",
            "align_content": null,
            "align_items": null,
            "align_self": null,
            "border": null,
            "bottom": null,
            "display": null,
            "flex": null,
            "flex_flow": null,
            "grid_area": null,
            "grid_auto_columns": null,
            "grid_auto_flow": null,
            "grid_auto_rows": null,
            "grid_column": null,
            "grid_gap": null,
            "grid_row": null,
            "grid_template_areas": null,
            "grid_template_columns": null,
            "grid_template_rows": null,
            "height": null,
            "justify_content": null,
            "justify_items": null,
            "left": null,
            "margin": null,
            "max_height": null,
            "max_width": null,
            "min_height": null,
            "min_width": null,
            "object_fit": null,
            "object_position": null,
            "order": null,
            "overflow": null,
            "overflow_x": null,
            "overflow_y": null,
            "padding": null,
            "right": null,
            "top": null,
            "visibility": null,
            "width": null
          }
        },
        "5327233138f6475f9464024bc7553e9f": {
          "model_module": "@jupyter-widgets/base",
          "model_module_version": "1.2.0",
          "model_name": "LayoutModel",
          "state": {
            "_model_module": "@jupyter-widgets/base",
            "_model_module_version": "1.2.0",
            "_model_name": "LayoutModel",
            "_view_count": null,
            "_view_module": "@jupyter-widgets/base",
            "_view_module_version": "1.2.0",
            "_view_name": "LayoutView",
            "align_content": null,
            "align_items": null,
            "align_self": null,
            "border": null,
            "bottom": null,
            "display": null,
            "flex": null,
            "flex_flow": null,
            "grid_area": null,
            "grid_auto_columns": null,
            "grid_auto_flow": null,
            "grid_auto_rows": null,
            "grid_column": null,
            "grid_gap": null,
            "grid_row": null,
            "grid_template_areas": null,
            "grid_template_columns": null,
            "grid_template_rows": null,
            "height": null,
            "justify_content": null,
            "justify_items": null,
            "left": null,
            "margin": null,
            "max_height": null,
            "max_width": null,
            "min_height": null,
            "min_width": null,
            "object_fit": null,
            "object_position": null,
            "order": null,
            "overflow": null,
            "overflow_x": null,
            "overflow_y": null,
            "padding": null,
            "right": null,
            "top": null,
            "visibility": null,
            "width": null
          }
        },
        "539f5492ab5d4a548a3cc3d092cde912": {
          "model_module": "@jupyter-widgets/base",
          "model_module_version": "1.2.0",
          "model_name": "LayoutModel",
          "state": {
            "_model_module": "@jupyter-widgets/base",
            "_model_module_version": "1.2.0",
            "_model_name": "LayoutModel",
            "_view_count": null,
            "_view_module": "@jupyter-widgets/base",
            "_view_module_version": "1.2.0",
            "_view_name": "LayoutView",
            "align_content": null,
            "align_items": null,
            "align_self": null,
            "border": null,
            "bottom": null,
            "display": null,
            "flex": null,
            "flex_flow": null,
            "grid_area": null,
            "grid_auto_columns": null,
            "grid_auto_flow": null,
            "grid_auto_rows": null,
            "grid_column": null,
            "grid_gap": null,
            "grid_row": null,
            "grid_template_areas": null,
            "grid_template_columns": null,
            "grid_template_rows": null,
            "height": null,
            "justify_content": null,
            "justify_items": null,
            "left": null,
            "margin": null,
            "max_height": null,
            "max_width": null,
            "min_height": null,
            "min_width": null,
            "object_fit": null,
            "object_position": null,
            "order": null,
            "overflow": null,
            "overflow_x": null,
            "overflow_y": null,
            "padding": null,
            "right": null,
            "top": null,
            "visibility": null,
            "width": null
          }
        },
        "5584e0bf2ce244d994aab768011d10ff": {
          "model_module": "@jupyter-widgets/controls",
          "model_module_version": "1.5.0",
          "model_name": "FloatProgressModel",
          "state": {
            "_dom_classes": [],
            "_model_module": "@jupyter-widgets/controls",
            "_model_module_version": "1.5.0",
            "_model_name": "FloatProgressModel",
            "_view_count": null,
            "_view_module": "@jupyter-widgets/controls",
            "_view_module_version": "1.5.0",
            "_view_name": "ProgressView",
            "bar_style": "success",
            "description": " #3: 100%",
            "description_tooltip": null,
            "layout": "IPY_MODEL_7d4180c1815844f48c70511704a96e34",
            "max": 2,
            "min": 0,
            "orientation": "horizontal",
            "style": "IPY_MODEL_c6aeb40e80534cf1ba1075d7446b3d43",
            "value": 2
          }
        },
        "55fafb88a302427ab40db3ced046a12a": {
          "model_module": "@jupyter-widgets/controls",
          "model_module_version": "1.5.0",
          "model_name": "ProgressStyleModel",
          "state": {
            "_model_module": "@jupyter-widgets/controls",
            "_model_module_version": "1.5.0",
            "_model_name": "ProgressStyleModel",
            "_view_count": null,
            "_view_module": "@jupyter-widgets/base",
            "_view_module_version": "1.2.0",
            "_view_name": "StyleView",
            "bar_color": null,
            "description_width": "initial"
          }
        },
        "57b4eb00af3d4b8ca20bdce38cfea977": {
          "model_module": "@jupyter-widgets/controls",
          "model_module_version": "1.5.0",
          "model_name": "FloatProgressModel",
          "state": {
            "_dom_classes": [],
            "_model_module": "@jupyter-widgets/controls",
            "_model_module_version": "1.5.0",
            "_model_name": "FloatProgressModel",
            "_view_count": null,
            "_view_module": "@jupyter-widgets/controls",
            "_view_module_version": "1.5.0",
            "_view_name": "ProgressView",
            "bar_style": "success",
            "description": " #0: 100%",
            "description_tooltip": null,
            "layout": "IPY_MODEL_592b168f58c34cfda8c5b2ccb2882f56",
            "max": 1,
            "min": 0,
            "orientation": "horizontal",
            "style": "IPY_MODEL_3acbd35fc6654f038843d421c8069391",
            "value": 1
          }
        },
        "57b6298a132343b093d53f58ee9dda86": {
          "model_module": "@jupyter-widgets/base",
          "model_module_version": "1.2.0",
          "model_name": "LayoutModel",
          "state": {
            "_model_module": "@jupyter-widgets/base",
            "_model_module_version": "1.2.0",
            "_model_name": "LayoutModel",
            "_view_count": null,
            "_view_module": "@jupyter-widgets/base",
            "_view_module_version": "1.2.0",
            "_view_name": "LayoutView",
            "align_content": null,
            "align_items": null,
            "align_self": null,
            "border": null,
            "bottom": null,
            "display": null,
            "flex": null,
            "flex_flow": null,
            "grid_area": null,
            "grid_auto_columns": null,
            "grid_auto_flow": null,
            "grid_auto_rows": null,
            "grid_column": null,
            "grid_gap": null,
            "grid_row": null,
            "grid_template_areas": null,
            "grid_template_columns": null,
            "grid_template_rows": null,
            "height": null,
            "justify_content": null,
            "justify_items": null,
            "left": null,
            "margin": null,
            "max_height": null,
            "max_width": null,
            "min_height": null,
            "min_width": null,
            "object_fit": null,
            "object_position": null,
            "order": null,
            "overflow": null,
            "overflow_x": null,
            "overflow_y": null,
            "padding": null,
            "right": null,
            "top": null,
            "visibility": null,
            "width": null
          }
        },
        "592b168f58c34cfda8c5b2ccb2882f56": {
          "model_module": "@jupyter-widgets/base",
          "model_module_version": "1.2.0",
          "model_name": "LayoutModel",
          "state": {
            "_model_module": "@jupyter-widgets/base",
            "_model_module_version": "1.2.0",
            "_model_name": "LayoutModel",
            "_view_count": null,
            "_view_module": "@jupyter-widgets/base",
            "_view_module_version": "1.2.0",
            "_view_name": "LayoutView",
            "align_content": null,
            "align_items": null,
            "align_self": null,
            "border": null,
            "bottom": null,
            "display": null,
            "flex": null,
            "flex_flow": null,
            "grid_area": null,
            "grid_auto_columns": null,
            "grid_auto_flow": null,
            "grid_auto_rows": null,
            "grid_column": null,
            "grid_gap": null,
            "grid_row": null,
            "grid_template_areas": null,
            "grid_template_columns": null,
            "grid_template_rows": null,
            "height": null,
            "justify_content": null,
            "justify_items": null,
            "left": null,
            "margin": null,
            "max_height": null,
            "max_width": null,
            "min_height": null,
            "min_width": null,
            "object_fit": null,
            "object_position": null,
            "order": null,
            "overflow": null,
            "overflow_x": null,
            "overflow_y": null,
            "padding": null,
            "right": null,
            "top": null,
            "visibility": null,
            "width": null
          }
        },
        "59bee6a7de834f9ca06d26d7631c1eae": {
          "model_module": "@jupyter-widgets/controls",
          "model_module_version": "1.5.0",
          "model_name": "ProgressStyleModel",
          "state": {
            "_model_module": "@jupyter-widgets/controls",
            "_model_module_version": "1.5.0",
            "_model_name": "ProgressStyleModel",
            "_view_count": null,
            "_view_module": "@jupyter-widgets/base",
            "_view_module_version": "1.2.0",
            "_view_name": "StyleView",
            "bar_color": null,
            "description_width": "initial"
          }
        },
        "59d637991cb348d58ea2e91698d86c78": {
          "model_module": "@jupyter-widgets/base",
          "model_module_version": "1.2.0",
          "model_name": "LayoutModel",
          "state": {
            "_model_module": "@jupyter-widgets/base",
            "_model_module_version": "1.2.0",
            "_model_name": "LayoutModel",
            "_view_count": null,
            "_view_module": "@jupyter-widgets/base",
            "_view_module_version": "1.2.0",
            "_view_name": "LayoutView",
            "align_content": null,
            "align_items": null,
            "align_self": null,
            "border": null,
            "bottom": null,
            "display": null,
            "flex": null,
            "flex_flow": null,
            "grid_area": null,
            "grid_auto_columns": null,
            "grid_auto_flow": null,
            "grid_auto_rows": null,
            "grid_column": null,
            "grid_gap": null,
            "grid_row": null,
            "grid_template_areas": null,
            "grid_template_columns": null,
            "grid_template_rows": null,
            "height": null,
            "justify_content": null,
            "justify_items": null,
            "left": null,
            "margin": null,
            "max_height": null,
            "max_width": null,
            "min_height": null,
            "min_width": null,
            "object_fit": null,
            "object_position": null,
            "order": null,
            "overflow": null,
            "overflow_x": null,
            "overflow_y": null,
            "padding": null,
            "right": null,
            "top": null,
            "visibility": null,
            "width": null
          }
        },
        "5a57a6a4204e45f2aca5c166a893911b": {
          "model_module": "@jupyter-widgets/controls",
          "model_module_version": "1.5.0",
          "model_name": "HBoxModel",
          "state": {
            "_dom_classes": [],
            "_model_module": "@jupyter-widgets/controls",
            "_model_module_version": "1.5.0",
            "_model_name": "HBoxModel",
            "_view_count": null,
            "_view_module": "@jupyter-widgets/controls",
            "_view_module_version": "1.5.0",
            "_view_name": "HBoxView",
            "box_style": "",
            "children": [
              "IPY_MODEL_d4025daadd75496cafe9d5a55a22aef5",
              "IPY_MODEL_0bb4070be76245988251d8c54f68acbf"
            ],
            "layout": "IPY_MODEL_388febc688f041cca057b361ed2ddbe8"
          }
        },
        "5cd44a2f821b4e3aae46796d5c169df7": {
          "model_module": "@jupyter-widgets/controls",
          "model_module_version": "1.5.0",
          "model_name": "DescriptionStyleModel",
          "state": {
            "_model_module": "@jupyter-widgets/controls",
            "_model_module_version": "1.5.0",
            "_model_name": "DescriptionStyleModel",
            "_view_count": null,
            "_view_module": "@jupyter-widgets/base",
            "_view_module_version": "1.2.0",
            "_view_name": "StyleView",
            "description_width": ""
          }
        },
        "5f22bc5c4fd04c66ad02ded97fa8534f": {
          "model_module": "@jupyter-widgets/base",
          "model_module_version": "1.2.0",
          "model_name": "LayoutModel",
          "state": {
            "_model_module": "@jupyter-widgets/base",
            "_model_module_version": "1.2.0",
            "_model_name": "LayoutModel",
            "_view_count": null,
            "_view_module": "@jupyter-widgets/base",
            "_view_module_version": "1.2.0",
            "_view_name": "LayoutView",
            "align_content": null,
            "align_items": null,
            "align_self": null,
            "border": null,
            "bottom": null,
            "display": null,
            "flex": null,
            "flex_flow": null,
            "grid_area": null,
            "grid_auto_columns": null,
            "grid_auto_flow": null,
            "grid_auto_rows": null,
            "grid_column": null,
            "grid_gap": null,
            "grid_row": null,
            "grid_template_areas": null,
            "grid_template_columns": null,
            "grid_template_rows": null,
            "height": null,
            "justify_content": null,
            "justify_items": null,
            "left": null,
            "margin": null,
            "max_height": null,
            "max_width": null,
            "min_height": null,
            "min_width": null,
            "object_fit": null,
            "object_position": null,
            "order": null,
            "overflow": null,
            "overflow_x": null,
            "overflow_y": null,
            "padding": null,
            "right": null,
            "top": null,
            "visibility": null,
            "width": null
          }
        },
        "5f2a6a93760d4e0cba08eacfd92236c2": {
          "model_module": "@jupyter-widgets/controls",
          "model_module_version": "1.5.0",
          "model_name": "HBoxModel",
          "state": {
            "_dom_classes": [],
            "_model_module": "@jupyter-widgets/controls",
            "_model_module_version": "1.5.0",
            "_model_name": "HBoxModel",
            "_view_count": null,
            "_view_module": "@jupyter-widgets/controls",
            "_view_module_version": "1.5.0",
            "_view_name": "HBoxView",
            "box_style": "",
            "children": [
              "IPY_MODEL_f361babc67cc4d3ca3fcdbd58f5f8748",
              "IPY_MODEL_6e46942596a5426ab69aaefe0476e4bd"
            ],
            "layout": "IPY_MODEL_87d8a2b23a34459faf647080f2b3146b"
          }
        },
        "5f8fb139d5f845d993bf8d85ba69f164": {
          "model_module": "@jupyter-widgets/controls",
          "model_module_version": "1.5.0",
          "model_name": "HTMLModel",
          "state": {
            "_dom_classes": [],
            "_model_module": "@jupyter-widgets/controls",
            "_model_module_version": "1.5.0",
            "_model_name": "HTMLModel",
            "_view_count": null,
            "_view_module": "@jupyter-widgets/controls",
            "_view_module_version": "1.5.0",
            "_view_name": "HTMLView",
            "description": "",
            "description_tooltip": null,
            "layout": "IPY_MODEL_b7f525612b8d4293bb62e16a60986ebf",
            "placeholder": "​",
            "style": "IPY_MODEL_48c349bf0adc4bc79037b1a57f008af1",
            "value": " 2/2 [00:13&lt;00:00,  6.94s/ba]"
          }
        },
        "665fc65b05254653a73bccf8c0f19394": {
          "model_module": "@jupyter-widgets/controls",
          "model_module_version": "1.5.0",
          "model_name": "HBoxModel",
          "state": {
            "_dom_classes": [],
            "_model_module": "@jupyter-widgets/controls",
            "_model_module_version": "1.5.0",
            "_model_name": "HBoxModel",
            "_view_count": null,
            "_view_module": "@jupyter-widgets/controls",
            "_view_module_version": "1.5.0",
            "_view_name": "HBoxView",
            "box_style": "",
            "children": [
              "IPY_MODEL_cfa719b3bbcd4924bc9497e6ad4020d0",
              "IPY_MODEL_5f8fb139d5f845d993bf8d85ba69f164"
            ],
            "layout": "IPY_MODEL_a98523ce7d5a440ab642a163a4e6e860"
          }
        },
        "6a0ea0a554f440aab7d0f38ed62ceaaf": {
          "model_module": "@jupyter-widgets/controls",
          "model_module_version": "1.5.0",
          "model_name": "FloatProgressModel",
          "state": {
            "_dom_classes": [],
            "_model_module": "@jupyter-widgets/controls",
            "_model_module_version": "1.5.0",
            "_model_name": "FloatProgressModel",
            "_view_count": null,
            "_view_module": "@jupyter-widgets/controls",
            "_view_module_version": "1.5.0",
            "_view_name": "ProgressView",
            "bar_style": "success",
            "description": " #0: 100%",
            "description_tooltip": null,
            "layout": "IPY_MODEL_539f5492ab5d4a548a3cc3d092cde912",
            "max": 2,
            "min": 0,
            "orientation": "horizontal",
            "style": "IPY_MODEL_935c6a1d0a7f46d1997e71f6135ca243",
            "value": 2
          }
        },
        "6cb7ead7dd60467cbc296ced68b5a887": {
          "model_module": "@jupyter-widgets/controls",
          "model_module_version": "1.5.0",
          "model_name": "HBoxModel",
          "state": {
            "_dom_classes": [],
            "_model_module": "@jupyter-widgets/controls",
            "_model_module_version": "1.5.0",
            "_model_name": "HBoxModel",
            "_view_count": null,
            "_view_module": "@jupyter-widgets/controls",
            "_view_module_version": "1.5.0",
            "_view_name": "HBoxView",
            "box_style": "",
            "children": [
              "IPY_MODEL_09b6b1d6115e409dbd97d152d5ea66e3",
              "IPY_MODEL_717522e52f344f02961b83c47a70fe24"
            ],
            "layout": "IPY_MODEL_c0fb3fdd04154c1ebd7011ee32591235"
          }
        },
        "6dede346f4d84f03a731de2f7c162d4c": {
          "model_module": "@jupyter-widgets/controls",
          "model_module_version": "1.5.0",
          "model_name": "ProgressStyleModel",
          "state": {
            "_model_module": "@jupyter-widgets/controls",
            "_model_module_version": "1.5.0",
            "_model_name": "ProgressStyleModel",
            "_view_count": null,
            "_view_module": "@jupyter-widgets/base",
            "_view_module_version": "1.2.0",
            "_view_name": "StyleView",
            "bar_color": null,
            "description_width": "initial"
          }
        },
        "6e46942596a5426ab69aaefe0476e4bd": {
          "model_module": "@jupyter-widgets/controls",
          "model_module_version": "1.5.0",
          "model_name": "HTMLModel",
          "state": {
            "_dom_classes": [],
            "_model_module": "@jupyter-widgets/controls",
            "_model_module_version": "1.5.0",
            "_model_name": "HTMLModel",
            "_view_count": null,
            "_view_module": "@jupyter-widgets/controls",
            "_view_module_version": "1.5.0",
            "_view_name": "HTMLView",
            "description": "",
            "description_tooltip": null,
            "layout": "IPY_MODEL_0176005366bf4363947319e5e8ac0854",
            "placeholder": "​",
            "style": "IPY_MODEL_9e45c94b836e456d82faddfc46488b6f",
            "value": " 213/213 [00:12&lt;00:00, 16.9B/s]"
          }
        },
        "6e601b969fdc4387a8ec9666f54b3808": {
          "model_module": "@jupyter-widgets/controls",
          "model_module_version": "1.5.0",
          "model_name": "DescriptionStyleModel",
          "state": {
            "_model_module": "@jupyter-widgets/controls",
            "_model_module_version": "1.5.0",
            "_model_name": "DescriptionStyleModel",
            "_view_count": null,
            "_view_module": "@jupyter-widgets/base",
            "_view_module_version": "1.2.0",
            "_view_name": "StyleView",
            "description_width": ""
          }
        },
        "710dde7635f342429cbc0779cb76c362": {
          "model_module": "@jupyter-widgets/controls",
          "model_module_version": "1.5.0",
          "model_name": "HBoxModel",
          "state": {
            "_dom_classes": [],
            "_model_module": "@jupyter-widgets/controls",
            "_model_module_version": "1.5.0",
            "_model_name": "HBoxModel",
            "_view_count": null,
            "_view_module": "@jupyter-widgets/controls",
            "_view_module_version": "1.5.0",
            "_view_name": "HBoxView",
            "box_style": "",
            "children": [
              "IPY_MODEL_57b4eb00af3d4b8ca20bdce38cfea977",
              "IPY_MODEL_97583b1cf14a4be180b32ec1ff705b01"
            ],
            "layout": "IPY_MODEL_22eb4ce979ff4c03995995585663345b"
          }
        },
        "717522e52f344f02961b83c47a70fe24": {
          "model_module": "@jupyter-widgets/controls",
          "model_module_version": "1.5.0",
          "model_name": "HTMLModel",
          "state": {
            "_dom_classes": [],
            "_model_module": "@jupyter-widgets/controls",
            "_model_module_version": "1.5.0",
            "_model_name": "HTMLModel",
            "_view_count": null,
            "_view_module": "@jupyter-widgets/controls",
            "_view_module_version": "1.5.0",
            "_view_name": "HTMLView",
            "description": "",
            "description_tooltip": null,
            "layout": "IPY_MODEL_3ebf2586b21c424b915fecaa21a6f6a2",
            "placeholder": "​",
            "style": "IPY_MODEL_37ffe40f40ed41f0b37e7b28bb2c8dee",
            "value": " 1/? [00:00&lt;00:00, 16.06 tables/s]"
          }
        },
        "7193382b9aee4709bce34d7b53022298": {
          "model_module": "@jupyter-widgets/controls",
          "model_module_version": "1.5.0",
          "model_name": "FloatProgressModel",
          "state": {
            "_dom_classes": [],
            "_model_module": "@jupyter-widgets/controls",
            "_model_module_version": "1.5.0",
            "_model_name": "FloatProgressModel",
            "_view_count": null,
            "_view_module": "@jupyter-widgets/controls",
            "_view_module_version": "1.5.0",
            "_view_name": "ProgressView",
            "bar_style": "success",
            "description": "Downloading: 100%",
            "description_tooltip": null,
            "layout": "IPY_MODEL_8687ac97aad24559a9e8adf5de9158d5",
            "max": 1290,
            "min": 0,
            "orientation": "horizontal",
            "style": "IPY_MODEL_f81b4897f16e481695347b23923ea2d1",
            "value": 1290
          }
        },
        "7489a1858ed6418998f1dfba5ad2b16d": {
          "model_module": "@jupyter-widgets/base",
          "model_module_version": "1.2.0",
          "model_name": "LayoutModel",
          "state": {
            "_model_module": "@jupyter-widgets/base",
            "_model_module_version": "1.2.0",
            "_model_name": "LayoutModel",
            "_view_count": null,
            "_view_module": "@jupyter-widgets/base",
            "_view_module_version": "1.2.0",
            "_view_name": "LayoutView",
            "align_content": null,
            "align_items": null,
            "align_self": null,
            "border": null,
            "bottom": null,
            "display": null,
            "flex": null,
            "flex_flow": null,
            "grid_area": null,
            "grid_auto_columns": null,
            "grid_auto_flow": null,
            "grid_auto_rows": null,
            "grid_column": null,
            "grid_gap": null,
            "grid_row": null,
            "grid_template_areas": null,
            "grid_template_columns": null,
            "grid_template_rows": null,
            "height": null,
            "justify_content": null,
            "justify_items": null,
            "left": null,
            "margin": null,
            "max_height": null,
            "max_width": null,
            "min_height": null,
            "min_width": null,
            "object_fit": null,
            "object_position": null,
            "order": null,
            "overflow": null,
            "overflow_x": null,
            "overflow_y": null,
            "padding": null,
            "right": null,
            "top": null,
            "visibility": null,
            "width": null
          }
        },
        "749678667e4b492d9ce2825ce88ba254": {
          "model_module": "@jupyter-widgets/base",
          "model_module_version": "1.2.0",
          "model_name": "LayoutModel",
          "state": {
            "_model_module": "@jupyter-widgets/base",
            "_model_module_version": "1.2.0",
            "_model_name": "LayoutModel",
            "_view_count": null,
            "_view_module": "@jupyter-widgets/base",
            "_view_module_version": "1.2.0",
            "_view_name": "LayoutView",
            "align_content": null,
            "align_items": null,
            "align_self": null,
            "border": null,
            "bottom": null,
            "display": null,
            "flex": null,
            "flex_flow": null,
            "grid_area": null,
            "grid_auto_columns": null,
            "grid_auto_flow": null,
            "grid_auto_rows": null,
            "grid_column": null,
            "grid_gap": null,
            "grid_row": null,
            "grid_template_areas": null,
            "grid_template_columns": null,
            "grid_template_rows": null,
            "height": null,
            "justify_content": null,
            "justify_items": null,
            "left": null,
            "margin": null,
            "max_height": null,
            "max_width": null,
            "min_height": null,
            "min_width": null,
            "object_fit": null,
            "object_position": null,
            "order": null,
            "overflow": null,
            "overflow_x": null,
            "overflow_y": null,
            "padding": null,
            "right": null,
            "top": null,
            "visibility": null,
            "width": null
          }
        },
        "762a2c3e3399495c86430ff5e59c6cbc": {
          "model_module": "@jupyter-widgets/controls",
          "model_module_version": "1.5.0",
          "model_name": "HBoxModel",
          "state": {
            "_dom_classes": [],
            "_model_module": "@jupyter-widgets/controls",
            "_model_module_version": "1.5.0",
            "_model_name": "HBoxModel",
            "_view_count": null,
            "_view_module": "@jupyter-widgets/controls",
            "_view_module_version": "1.5.0",
            "_view_name": "HBoxView",
            "box_style": "",
            "children": [
              "IPY_MODEL_7193382b9aee4709bce34d7b53022298",
              "IPY_MODEL_d170546207d440e5a0121ede9373f5ca"
            ],
            "layout": "IPY_MODEL_db88bd4eacca42b7a4bf9f744769e524"
          }
        },
        "76bf15dfbca440b7b86c883949baf1cf": {
          "model_module": "@jupyter-widgets/controls",
          "model_module_version": "1.5.0",
          "model_name": "FloatProgressModel",
          "state": {
            "_dom_classes": [],
            "_model_module": "@jupyter-widgets/controls",
            "_model_module_version": "1.5.0",
            "_model_name": "FloatProgressModel",
            "_view_count": null,
            "_view_module": "@jupyter-widgets/controls",
            "_view_module_version": "1.5.0",
            "_view_name": "ProgressView",
            "bar_style": "success",
            "description": "100%",
            "description_tooltip": null,
            "layout": "IPY_MODEL_7f23afdea65f446d9c0acf2d73448579",
            "max": 121,
            "min": 0,
            "orientation": "horizontal",
            "style": "IPY_MODEL_9fecd0186d5747f0831da783bd76dfd4",
            "value": 121
          }
        },
        "7d4180c1815844f48c70511704a96e34": {
          "model_module": "@jupyter-widgets/base",
          "model_module_version": "1.2.0",
          "model_name": "LayoutModel",
          "state": {
            "_model_module": "@jupyter-widgets/base",
            "_model_module_version": "1.2.0",
            "_model_name": "LayoutModel",
            "_view_count": null,
            "_view_module": "@jupyter-widgets/base",
            "_view_module_version": "1.2.0",
            "_view_name": "LayoutView",
            "align_content": null,
            "align_items": null,
            "align_self": null,
            "border": null,
            "bottom": null,
            "display": null,
            "flex": null,
            "flex_flow": null,
            "grid_area": null,
            "grid_auto_columns": null,
            "grid_auto_flow": null,
            "grid_auto_rows": null,
            "grid_column": null,
            "grid_gap": null,
            "grid_row": null,
            "grid_template_areas": null,
            "grid_template_columns": null,
            "grid_template_rows": null,
            "height": null,
            "justify_content": null,
            "justify_items": null,
            "left": null,
            "margin": null,
            "max_height": null,
            "max_width": null,
            "min_height": null,
            "min_width": null,
            "object_fit": null,
            "object_position": null,
            "order": null,
            "overflow": null,
            "overflow_x": null,
            "overflow_y": null,
            "padding": null,
            "right": null,
            "top": null,
            "visibility": null,
            "width": null
          }
        },
        "7df6add34e8d4447adbdc4c88e5f221f": {
          "model_module": "@jupyter-widgets/base",
          "model_module_version": "1.2.0",
          "model_name": "LayoutModel",
          "state": {
            "_model_module": "@jupyter-widgets/base",
            "_model_module_version": "1.2.0",
            "_model_name": "LayoutModel",
            "_view_count": null,
            "_view_module": "@jupyter-widgets/base",
            "_view_module_version": "1.2.0",
            "_view_name": "LayoutView",
            "align_content": null,
            "align_items": null,
            "align_self": null,
            "border": null,
            "bottom": null,
            "display": null,
            "flex": null,
            "flex_flow": null,
            "grid_area": null,
            "grid_auto_columns": null,
            "grid_auto_flow": null,
            "grid_auto_rows": null,
            "grid_column": null,
            "grid_gap": null,
            "grid_row": null,
            "grid_template_areas": null,
            "grid_template_columns": null,
            "grid_template_rows": null,
            "height": null,
            "justify_content": null,
            "justify_items": null,
            "left": null,
            "margin": null,
            "max_height": null,
            "max_width": null,
            "min_height": null,
            "min_width": null,
            "object_fit": null,
            "object_position": null,
            "order": null,
            "overflow": null,
            "overflow_x": null,
            "overflow_y": null,
            "padding": null,
            "right": null,
            "top": null,
            "visibility": null,
            "width": null
          }
        },
        "7f23afdea65f446d9c0acf2d73448579": {
          "model_module": "@jupyter-widgets/base",
          "model_module_version": "1.2.0",
          "model_name": "LayoutModel",
          "state": {
            "_model_module": "@jupyter-widgets/base",
            "_model_module_version": "1.2.0",
            "_model_name": "LayoutModel",
            "_view_count": null,
            "_view_module": "@jupyter-widgets/base",
            "_view_module_version": "1.2.0",
            "_view_name": "LayoutView",
            "align_content": null,
            "align_items": null,
            "align_self": null,
            "border": null,
            "bottom": null,
            "display": null,
            "flex": null,
            "flex_flow": null,
            "grid_area": null,
            "grid_auto_columns": null,
            "grid_auto_flow": null,
            "grid_auto_rows": null,
            "grid_column": null,
            "grid_gap": null,
            "grid_row": null,
            "grid_template_areas": null,
            "grid_template_columns": null,
            "grid_template_rows": null,
            "height": null,
            "justify_content": null,
            "justify_items": null,
            "left": null,
            "margin": null,
            "max_height": null,
            "max_width": null,
            "min_height": null,
            "min_width": null,
            "object_fit": null,
            "object_position": null,
            "order": null,
            "overflow": null,
            "overflow_x": null,
            "overflow_y": null,
            "padding": null,
            "right": null,
            "top": null,
            "visibility": null,
            "width": null
          }
        },
        "7ff66e8680d84452919faf047d92fbf0": {
          "model_module": "@jupyter-widgets/controls",
          "model_module_version": "1.5.0",
          "model_name": "HBoxModel",
          "state": {
            "_dom_classes": [],
            "_model_module": "@jupyter-widgets/controls",
            "_model_module_version": "1.5.0",
            "_model_name": "HBoxModel",
            "_view_count": null,
            "_view_module": "@jupyter-widgets/controls",
            "_view_module_version": "1.5.0",
            "_view_name": "HBoxView",
            "box_style": "",
            "children": [
              "IPY_MODEL_28c7fee188a44bad9f98edb52b916cbc",
              "IPY_MODEL_0ae42e9388904eae8dcd5433604f98c9"
            ],
            "layout": "IPY_MODEL_17eee8cde17e4079985222014f55af6b"
          }
        },
        "81863d7f354a462d97db6cd6dd0e6002": {
          "model_module": "@jupyter-widgets/controls",
          "model_module_version": "1.5.0",
          "model_name": "HTMLModel",
          "state": {
            "_dom_classes": [],
            "_model_module": "@jupyter-widgets/controls",
            "_model_module_version": "1.5.0",
            "_model_name": "HTMLModel",
            "_view_count": null,
            "_view_module": "@jupyter-widgets/controls",
            "_view_module_version": "1.5.0",
            "_view_name": "HTMLView",
            "description": "",
            "description_tooltip": null,
            "layout": "IPY_MODEL_de2f8967774a40bdb4d79d13089bc7d0",
            "placeholder": "​",
            "style": "IPY_MODEL_ba3a2e02a33c4e1a9aacca90949d733a",
            "value": " 2/2 [00:13&lt;00:00,  6.93s/ba]"
          }
        },
        "83fddd0627e24fb380ddf58a77bffe06": {
          "model_module": "@jupyter-widgets/base",
          "model_module_version": "1.2.0",
          "model_name": "LayoutModel",
          "state": {
            "_model_module": "@jupyter-widgets/base",
            "_model_module_version": "1.2.0",
            "_model_name": "LayoutModel",
            "_view_count": null,
            "_view_module": "@jupyter-widgets/base",
            "_view_module_version": "1.2.0",
            "_view_name": "LayoutView",
            "align_content": null,
            "align_items": null,
            "align_self": null,
            "border": null,
            "bottom": null,
            "display": null,
            "flex": null,
            "flex_flow": null,
            "grid_area": null,
            "grid_auto_columns": null,
            "grid_auto_flow": null,
            "grid_auto_rows": null,
            "grid_column": null,
            "grid_gap": null,
            "grid_row": null,
            "grid_template_areas": null,
            "grid_template_columns": null,
            "grid_template_rows": null,
            "height": null,
            "justify_content": null,
            "justify_items": null,
            "left": null,
            "margin": null,
            "max_height": null,
            "max_width": null,
            "min_height": null,
            "min_width": null,
            "object_fit": null,
            "object_position": null,
            "order": null,
            "overflow": null,
            "overflow_x": null,
            "overflow_y": null,
            "padding": null,
            "right": null,
            "top": null,
            "visibility": null,
            "width": null
          }
        },
        "8687ac97aad24559a9e8adf5de9158d5": {
          "model_module": "@jupyter-widgets/base",
          "model_module_version": "1.2.0",
          "model_name": "LayoutModel",
          "state": {
            "_model_module": "@jupyter-widgets/base",
            "_model_module_version": "1.2.0",
            "_model_name": "LayoutModel",
            "_view_count": null,
            "_view_module": "@jupyter-widgets/base",
            "_view_module_version": "1.2.0",
            "_view_name": "LayoutView",
            "align_content": null,
            "align_items": null,
            "align_self": null,
            "border": null,
            "bottom": null,
            "display": null,
            "flex": null,
            "flex_flow": null,
            "grid_area": null,
            "grid_auto_columns": null,
            "grid_auto_flow": null,
            "grid_auto_rows": null,
            "grid_column": null,
            "grid_gap": null,
            "grid_row": null,
            "grid_template_areas": null,
            "grid_template_columns": null,
            "grid_template_rows": null,
            "height": null,
            "justify_content": null,
            "justify_items": null,
            "left": null,
            "margin": null,
            "max_height": null,
            "max_width": null,
            "min_height": null,
            "min_width": null,
            "object_fit": null,
            "object_position": null,
            "order": null,
            "overflow": null,
            "overflow_x": null,
            "overflow_y": null,
            "padding": null,
            "right": null,
            "top": null,
            "visibility": null,
            "width": null
          }
        },
        "8763ed097062492190fff222874cc25b": {
          "model_module": "@jupyter-widgets/base",
          "model_module_version": "1.2.0",
          "model_name": "LayoutModel",
          "state": {
            "_model_module": "@jupyter-widgets/base",
            "_model_module_version": "1.2.0",
            "_model_name": "LayoutModel",
            "_view_count": null,
            "_view_module": "@jupyter-widgets/base",
            "_view_module_version": "1.2.0",
            "_view_name": "LayoutView",
            "align_content": null,
            "align_items": null,
            "align_self": null,
            "border": null,
            "bottom": null,
            "display": null,
            "flex": null,
            "flex_flow": null,
            "grid_area": null,
            "grid_auto_columns": null,
            "grid_auto_flow": null,
            "grid_auto_rows": null,
            "grid_column": null,
            "grid_gap": null,
            "grid_row": null,
            "grid_template_areas": null,
            "grid_template_columns": null,
            "grid_template_rows": null,
            "height": null,
            "justify_content": null,
            "justify_items": null,
            "left": null,
            "margin": null,
            "max_height": null,
            "max_width": null,
            "min_height": null,
            "min_width": null,
            "object_fit": null,
            "object_position": null,
            "order": null,
            "overflow": null,
            "overflow_x": null,
            "overflow_y": null,
            "padding": null,
            "right": null,
            "top": null,
            "visibility": null,
            "width": null
          }
        },
        "87d8a2b23a34459faf647080f2b3146b": {
          "model_module": "@jupyter-widgets/base",
          "model_module_version": "1.2.0",
          "model_name": "LayoutModel",
          "state": {
            "_model_module": "@jupyter-widgets/base",
            "_model_module_version": "1.2.0",
            "_model_name": "LayoutModel",
            "_view_count": null,
            "_view_module": "@jupyter-widgets/base",
            "_view_module_version": "1.2.0",
            "_view_name": "LayoutView",
            "align_content": null,
            "align_items": null,
            "align_self": null,
            "border": null,
            "bottom": null,
            "display": null,
            "flex": null,
            "flex_flow": null,
            "grid_area": null,
            "grid_auto_columns": null,
            "grid_auto_flow": null,
            "grid_auto_rows": null,
            "grid_column": null,
            "grid_gap": null,
            "grid_row": null,
            "grid_template_areas": null,
            "grid_template_columns": null,
            "grid_template_rows": null,
            "height": null,
            "justify_content": null,
            "justify_items": null,
            "left": null,
            "margin": null,
            "max_height": null,
            "max_width": null,
            "min_height": null,
            "min_width": null,
            "object_fit": null,
            "object_position": null,
            "order": null,
            "overflow": null,
            "overflow_x": null,
            "overflow_y": null,
            "padding": null,
            "right": null,
            "top": null,
            "visibility": null,
            "width": null
          }
        },
        "8a142ebe4af54390a71b2379dfbb8d23": {
          "model_module": "@jupyter-widgets/base",
          "model_module_version": "1.2.0",
          "model_name": "LayoutModel",
          "state": {
            "_model_module": "@jupyter-widgets/base",
            "_model_module_version": "1.2.0",
            "_model_name": "LayoutModel",
            "_view_count": null,
            "_view_module": "@jupyter-widgets/base",
            "_view_module_version": "1.2.0",
            "_view_name": "LayoutView",
            "align_content": null,
            "align_items": null,
            "align_self": null,
            "border": null,
            "bottom": null,
            "display": null,
            "flex": null,
            "flex_flow": null,
            "grid_area": null,
            "grid_auto_columns": null,
            "grid_auto_flow": null,
            "grid_auto_rows": null,
            "grid_column": null,
            "grid_gap": null,
            "grid_row": null,
            "grid_template_areas": null,
            "grid_template_columns": null,
            "grid_template_rows": null,
            "height": null,
            "justify_content": null,
            "justify_items": null,
            "left": null,
            "margin": null,
            "max_height": null,
            "max_width": null,
            "min_height": null,
            "min_width": null,
            "object_fit": null,
            "object_position": null,
            "order": null,
            "overflow": null,
            "overflow_x": null,
            "overflow_y": null,
            "padding": null,
            "right": null,
            "top": null,
            "visibility": null,
            "width": null
          }
        },
        "8baa3e2190f94a288a5a12d7c3ce0c02": {
          "model_module": "@jupyter-widgets/controls",
          "model_module_version": "1.5.0",
          "model_name": "ProgressStyleModel",
          "state": {
            "_model_module": "@jupyter-widgets/controls",
            "_model_module_version": "1.5.0",
            "_model_name": "ProgressStyleModel",
            "_view_count": null,
            "_view_module": "@jupyter-widgets/base",
            "_view_module_version": "1.2.0",
            "_view_name": "StyleView",
            "bar_color": null,
            "description_width": "initial"
          }
        },
        "8cfed54f7a71441db85f40dddb6a0290": {
          "model_module": "@jupyter-widgets/base",
          "model_module_version": "1.2.0",
          "model_name": "LayoutModel",
          "state": {
            "_model_module": "@jupyter-widgets/base",
            "_model_module_version": "1.2.0",
            "_model_name": "LayoutModel",
            "_view_count": null,
            "_view_module": "@jupyter-widgets/base",
            "_view_module_version": "1.2.0",
            "_view_name": "LayoutView",
            "align_content": null,
            "align_items": null,
            "align_self": null,
            "border": null,
            "bottom": null,
            "display": null,
            "flex": null,
            "flex_flow": null,
            "grid_area": null,
            "grid_auto_columns": null,
            "grid_auto_flow": null,
            "grid_auto_rows": null,
            "grid_column": null,
            "grid_gap": null,
            "grid_row": null,
            "grid_template_areas": null,
            "grid_template_columns": null,
            "grid_template_rows": null,
            "height": null,
            "justify_content": null,
            "justify_items": null,
            "left": null,
            "margin": null,
            "max_height": null,
            "max_width": null,
            "min_height": null,
            "min_width": null,
            "object_fit": null,
            "object_position": null,
            "order": null,
            "overflow": null,
            "overflow_x": null,
            "overflow_y": null,
            "padding": null,
            "right": null,
            "top": null,
            "visibility": null,
            "width": null
          }
        },
        "8eff94b7ddfc49bf985c29ddca4868d6": {
          "model_module": "@jupyter-widgets/controls",
          "model_module_version": "1.5.0",
          "model_name": "DescriptionStyleModel",
          "state": {
            "_model_module": "@jupyter-widgets/controls",
            "_model_module_version": "1.5.0",
            "_model_name": "DescriptionStyleModel",
            "_view_count": null,
            "_view_module": "@jupyter-widgets/base",
            "_view_module_version": "1.2.0",
            "_view_name": "StyleView",
            "description_width": ""
          }
        },
        "8fd8992869f94a6e98f3019c98d6d7dd": {
          "model_module": "@jupyter-widgets/controls",
          "model_module_version": "1.5.0",
          "model_name": "ProgressStyleModel",
          "state": {
            "_model_module": "@jupyter-widgets/controls",
            "_model_module_version": "1.5.0",
            "_model_name": "ProgressStyleModel",
            "_view_count": null,
            "_view_module": "@jupyter-widgets/base",
            "_view_module_version": "1.2.0",
            "_view_name": "StyleView",
            "bar_color": null,
            "description_width": "initial"
          }
        },
        "9072ea0038444dc1b53014ca761c71f8": {
          "model_module": "@jupyter-widgets/base",
          "model_module_version": "1.2.0",
          "model_name": "LayoutModel",
          "state": {
            "_model_module": "@jupyter-widgets/base",
            "_model_module_version": "1.2.0",
            "_model_name": "LayoutModel",
            "_view_count": null,
            "_view_module": "@jupyter-widgets/base",
            "_view_module_version": "1.2.0",
            "_view_name": "LayoutView",
            "align_content": null,
            "align_items": null,
            "align_self": null,
            "border": null,
            "bottom": null,
            "display": null,
            "flex": null,
            "flex_flow": null,
            "grid_area": null,
            "grid_auto_columns": null,
            "grid_auto_flow": null,
            "grid_auto_rows": null,
            "grid_column": null,
            "grid_gap": null,
            "grid_row": null,
            "grid_template_areas": null,
            "grid_template_columns": null,
            "grid_template_rows": null,
            "height": null,
            "justify_content": null,
            "justify_items": null,
            "left": null,
            "margin": null,
            "max_height": null,
            "max_width": null,
            "min_height": null,
            "min_width": null,
            "object_fit": null,
            "object_position": null,
            "order": null,
            "overflow": null,
            "overflow_x": null,
            "overflow_y": null,
            "padding": null,
            "right": null,
            "top": null,
            "visibility": null,
            "width": null
          }
        },
        "935c6a1d0a7f46d1997e71f6135ca243": {
          "model_module": "@jupyter-widgets/controls",
          "model_module_version": "1.5.0",
          "model_name": "ProgressStyleModel",
          "state": {
            "_model_module": "@jupyter-widgets/controls",
            "_model_module_version": "1.5.0",
            "_model_name": "ProgressStyleModel",
            "_view_count": null,
            "_view_module": "@jupyter-widgets/base",
            "_view_module_version": "1.2.0",
            "_view_name": "StyleView",
            "bar_color": null,
            "description_width": "initial"
          }
        },
        "938526cf150a4736a477512265563a45": {
          "model_module": "@jupyter-widgets/controls",
          "model_module_version": "1.5.0",
          "model_name": "HBoxModel",
          "state": {
            "_dom_classes": [],
            "_model_module": "@jupyter-widgets/controls",
            "_model_module_version": "1.5.0",
            "_model_name": "HBoxModel",
            "_view_count": null,
            "_view_module": "@jupyter-widgets/controls",
            "_view_module_version": "1.5.0",
            "_view_name": "HBoxView",
            "box_style": "",
            "children": [
              "IPY_MODEL_36db8e919f5e4642aaddd0b5c549996e",
              "IPY_MODEL_1c3ba117b6374d0a81f382a1195e95f0"
            ],
            "layout": "IPY_MODEL_59d637991cb348d58ea2e91698d86c78"
          }
        },
        "93d1bce9d8d249e38fdba7c20225ac11": {
          "model_module": "@jupyter-widgets/base",
          "model_module_version": "1.2.0",
          "model_name": "LayoutModel",
          "state": {
            "_model_module": "@jupyter-widgets/base",
            "_model_module_version": "1.2.0",
            "_model_name": "LayoutModel",
            "_view_count": null,
            "_view_module": "@jupyter-widgets/base",
            "_view_module_version": "1.2.0",
            "_view_name": "LayoutView",
            "align_content": null,
            "align_items": null,
            "align_self": null,
            "border": null,
            "bottom": null,
            "display": null,
            "flex": null,
            "flex_flow": null,
            "grid_area": null,
            "grid_auto_columns": null,
            "grid_auto_flow": null,
            "grid_auto_rows": null,
            "grid_column": null,
            "grid_gap": null,
            "grid_row": null,
            "grid_template_areas": null,
            "grid_template_columns": null,
            "grid_template_rows": null,
            "height": null,
            "justify_content": null,
            "justify_items": null,
            "left": null,
            "margin": null,
            "max_height": null,
            "max_width": null,
            "min_height": null,
            "min_width": null,
            "object_fit": null,
            "object_position": null,
            "order": null,
            "overflow": null,
            "overflow_x": null,
            "overflow_y": null,
            "padding": null,
            "right": null,
            "top": null,
            "visibility": null,
            "width": null
          }
        },
        "959be65e7a074e00a4ac7c426f1767c1": {
          "model_module": "@jupyter-widgets/base",
          "model_module_version": "1.2.0",
          "model_name": "LayoutModel",
          "state": {
            "_model_module": "@jupyter-widgets/base",
            "_model_module_version": "1.2.0",
            "_model_name": "LayoutModel",
            "_view_count": null,
            "_view_module": "@jupyter-widgets/base",
            "_view_module_version": "1.2.0",
            "_view_name": "LayoutView",
            "align_content": null,
            "align_items": null,
            "align_self": null,
            "border": null,
            "bottom": null,
            "display": null,
            "flex": null,
            "flex_flow": null,
            "grid_area": null,
            "grid_auto_columns": null,
            "grid_auto_flow": null,
            "grid_auto_rows": null,
            "grid_column": null,
            "grid_gap": null,
            "grid_row": null,
            "grid_template_areas": null,
            "grid_template_columns": null,
            "grid_template_rows": null,
            "height": null,
            "justify_content": null,
            "justify_items": null,
            "left": null,
            "margin": null,
            "max_height": null,
            "max_width": null,
            "min_height": null,
            "min_width": null,
            "object_fit": null,
            "object_position": null,
            "order": null,
            "overflow": null,
            "overflow_x": null,
            "overflow_y": null,
            "padding": null,
            "right": null,
            "top": null,
            "visibility": null,
            "width": null
          }
        },
        "96aee8b43e5f44418d04e0a7bcbb7cb8": {
          "model_module": "@jupyter-widgets/base",
          "model_module_version": "1.2.0",
          "model_name": "LayoutModel",
          "state": {
            "_model_module": "@jupyter-widgets/base",
            "_model_module_version": "1.2.0",
            "_model_name": "LayoutModel",
            "_view_count": null,
            "_view_module": "@jupyter-widgets/base",
            "_view_module_version": "1.2.0",
            "_view_name": "LayoutView",
            "align_content": null,
            "align_items": null,
            "align_self": null,
            "border": null,
            "bottom": null,
            "display": null,
            "flex": null,
            "flex_flow": null,
            "grid_area": null,
            "grid_auto_columns": null,
            "grid_auto_flow": null,
            "grid_auto_rows": null,
            "grid_column": null,
            "grid_gap": null,
            "grid_row": null,
            "grid_template_areas": null,
            "grid_template_columns": null,
            "grid_template_rows": null,
            "height": null,
            "justify_content": null,
            "justify_items": null,
            "left": null,
            "margin": null,
            "max_height": null,
            "max_width": null,
            "min_height": null,
            "min_width": null,
            "object_fit": null,
            "object_position": null,
            "order": null,
            "overflow": null,
            "overflow_x": null,
            "overflow_y": null,
            "padding": null,
            "right": null,
            "top": null,
            "visibility": null,
            "width": null
          }
        },
        "96cd3fc4e6cd4423b51ec2e9c5b2ef23": {
          "model_module": "@jupyter-widgets/controls",
          "model_module_version": "1.5.0",
          "model_name": "DescriptionStyleModel",
          "state": {
            "_model_module": "@jupyter-widgets/controls",
            "_model_module_version": "1.5.0",
            "_model_name": "DescriptionStyleModel",
            "_view_count": null,
            "_view_module": "@jupyter-widgets/base",
            "_view_module_version": "1.2.0",
            "_view_name": "StyleView",
            "description_width": ""
          }
        },
        "97583b1cf14a4be180b32ec1ff705b01": {
          "model_module": "@jupyter-widgets/controls",
          "model_module_version": "1.5.0",
          "model_name": "HTMLModel",
          "state": {
            "_dom_classes": [],
            "_model_module": "@jupyter-widgets/controls",
            "_model_module_version": "1.5.0",
            "_model_name": "HTMLModel",
            "_view_count": null,
            "_view_module": "@jupyter-widgets/controls",
            "_view_module_version": "1.5.0",
            "_view_name": "HTMLView",
            "description": "",
            "description_tooltip": null,
            "layout": "IPY_MODEL_57b6298a132343b093d53f58ee9dda86",
            "placeholder": "​",
            "style": "IPY_MODEL_dd5e26c39aa7449db5905528d6ca3ec7",
            "value": " 1/1 [00:06&lt;00:00,  6.73s/ba]"
          }
        },
        "989d41c4a10e4355b476a87ecfde27b0": {
          "model_module": "@jupyter-widgets/controls",
          "model_module_version": "1.5.0",
          "model_name": "HBoxModel",
          "state": {
            "_dom_classes": [],
            "_model_module": "@jupyter-widgets/controls",
            "_model_module_version": "1.5.0",
            "_model_name": "HBoxModel",
            "_view_count": null,
            "_view_module": "@jupyter-widgets/controls",
            "_view_module_version": "1.5.0",
            "_view_name": "HBoxView",
            "box_style": "",
            "children": [
              "IPY_MODEL_4fd1244a3f72445ba32b5d461ae24cce",
              "IPY_MODEL_dd2affd758764bfabd3979da17347b3e"
            ],
            "layout": "IPY_MODEL_1394b0a3294e491c80df64aed74ff863"
          }
        },
        "9a9154607c764a57b76592f5db2dc06e": {
          "model_module": "@jupyter-widgets/base",
          "model_module_version": "1.2.0",
          "model_name": "LayoutModel",
          "state": {
            "_model_module": "@jupyter-widgets/base",
            "_model_module_version": "1.2.0",
            "_model_name": "LayoutModel",
            "_view_count": null,
            "_view_module": "@jupyter-widgets/base",
            "_view_module_version": "1.2.0",
            "_view_name": "LayoutView",
            "align_content": null,
            "align_items": null,
            "align_self": null,
            "border": null,
            "bottom": null,
            "display": null,
            "flex": null,
            "flex_flow": null,
            "grid_area": null,
            "grid_auto_columns": null,
            "grid_auto_flow": null,
            "grid_auto_rows": null,
            "grid_column": null,
            "grid_gap": null,
            "grid_row": null,
            "grid_template_areas": null,
            "grid_template_columns": null,
            "grid_template_rows": null,
            "height": null,
            "justify_content": null,
            "justify_items": null,
            "left": null,
            "margin": null,
            "max_height": null,
            "max_width": null,
            "min_height": null,
            "min_width": null,
            "object_fit": null,
            "object_position": null,
            "order": null,
            "overflow": null,
            "overflow_x": null,
            "overflow_y": null,
            "padding": null,
            "right": null,
            "top": null,
            "visibility": null,
            "width": null
          }
        },
        "9b273af69f704ac695e226ae847e2f66": {
          "model_module": "@jupyter-widgets/controls",
          "model_module_version": "1.5.0",
          "model_name": "DescriptionStyleModel",
          "state": {
            "_model_module": "@jupyter-widgets/controls",
            "_model_module_version": "1.5.0",
            "_model_name": "DescriptionStyleModel",
            "_view_count": null,
            "_view_module": "@jupyter-widgets/base",
            "_view_module_version": "1.2.0",
            "_view_name": "StyleView",
            "description_width": ""
          }
        },
        "9e45c94b836e456d82faddfc46488b6f": {
          "model_module": "@jupyter-widgets/controls",
          "model_module_version": "1.5.0",
          "model_name": "DescriptionStyleModel",
          "state": {
            "_model_module": "@jupyter-widgets/controls",
            "_model_module_version": "1.5.0",
            "_model_name": "DescriptionStyleModel",
            "_view_count": null,
            "_view_module": "@jupyter-widgets/base",
            "_view_module_version": "1.2.0",
            "_view_name": "StyleView",
            "description_width": ""
          }
        },
        "9fecd0186d5747f0831da783bd76dfd4": {
          "model_module": "@jupyter-widgets/controls",
          "model_module_version": "1.5.0",
          "model_name": "ProgressStyleModel",
          "state": {
            "_model_module": "@jupyter-widgets/controls",
            "_model_module_version": "1.5.0",
            "_model_name": "ProgressStyleModel",
            "_view_count": null,
            "_view_module": "@jupyter-widgets/base",
            "_view_module_version": "1.2.0",
            "_view_name": "StyleView",
            "bar_color": null,
            "description_width": "initial"
          }
        },
        "a07a6a7098df40d09720066d460b3c00": {
          "model_module": "@jupyter-widgets/controls",
          "model_module_version": "1.5.0",
          "model_name": "HTMLModel",
          "state": {
            "_dom_classes": [],
            "_model_module": "@jupyter-widgets/controls",
            "_model_module_version": "1.5.0",
            "_model_name": "HTMLModel",
            "_view_count": null,
            "_view_module": "@jupyter-widgets/controls",
            "_view_module_version": "1.5.0",
            "_view_name": "HTMLView",
            "description": "",
            "description_tooltip": null,
            "layout": "IPY_MODEL_96aee8b43e5f44418d04e0a7bcbb7cb8",
            "placeholder": "​",
            "style": "IPY_MODEL_f308b3d597954aec9ea244bfe6eea962",
            "value": " 213/213 [00:11&lt;00:00, 18.4B/s]"
          }
        },
        "a0e8290148114cbf8140be2dce1d8bda": {
          "model_module": "@jupyter-widgets/controls",
          "model_module_version": "1.5.0",
          "model_name": "HTMLModel",
          "state": {
            "_dom_classes": [],
            "_model_module": "@jupyter-widgets/controls",
            "_model_module_version": "1.5.0",
            "_model_name": "HTMLModel",
            "_view_count": null,
            "_view_module": "@jupyter-widgets/controls",
            "_view_module_version": "1.5.0",
            "_view_name": "HTMLView",
            "description": "",
            "description_tooltip": null,
            "layout": "IPY_MODEL_7489a1858ed6418998f1dfba5ad2b16d",
            "placeholder": "​",
            "style": "IPY_MODEL_10f5fa669a074b4c92369349add83e53",
            "value": " 1/1 [00:06&lt;00:00,  6.80s/ba]"
          }
        },
        "a39ffe587bbd4cb399c041bd88977763": {
          "model_module": "@jupyter-widgets/controls",
          "model_module_version": "1.5.0",
          "model_name": "HTMLModel",
          "state": {
            "_dom_classes": [],
            "_model_module": "@jupyter-widgets/controls",
            "_model_module_version": "1.5.0",
            "_model_name": "HTMLModel",
            "_view_count": null,
            "_view_module": "@jupyter-widgets/controls",
            "_view_module_version": "1.5.0",
            "_view_name": "HTMLView",
            "description": "",
            "description_tooltip": null,
            "layout": "IPY_MODEL_2301d2d93d064db6869e68161ae2c3b8",
            "placeholder": "​",
            "style": "IPY_MODEL_307d60713eef4111b5d3aa8720cdef66",
            "value": " 61/61 [00:15&lt;00:00,  4.03ba/s]"
          }
        },
        "a98523ce7d5a440ab642a163a4e6e860": {
          "model_module": "@jupyter-widgets/base",
          "model_module_version": "1.2.0",
          "model_name": "LayoutModel",
          "state": {
            "_model_module": "@jupyter-widgets/base",
            "_model_module_version": "1.2.0",
            "_model_name": "LayoutModel",
            "_view_count": null,
            "_view_module": "@jupyter-widgets/base",
            "_view_module_version": "1.2.0",
            "_view_name": "LayoutView",
            "align_content": null,
            "align_items": null,
            "align_self": null,
            "border": null,
            "bottom": null,
            "display": null,
            "flex": null,
            "flex_flow": null,
            "grid_area": null,
            "grid_auto_columns": null,
            "grid_auto_flow": null,
            "grid_auto_rows": null,
            "grid_column": null,
            "grid_gap": null,
            "grid_row": null,
            "grid_template_areas": null,
            "grid_template_columns": null,
            "grid_template_rows": null,
            "height": null,
            "justify_content": null,
            "justify_items": null,
            "left": null,
            "margin": null,
            "max_height": null,
            "max_width": null,
            "min_height": null,
            "min_width": null,
            "object_fit": null,
            "object_position": null,
            "order": null,
            "overflow": null,
            "overflow_x": null,
            "overflow_y": null,
            "padding": null,
            "right": null,
            "top": null,
            "visibility": null,
            "width": null
          }
        },
        "ab449bed23eb428eb430af60ac1f63b0": {
          "model_module": "@jupyter-widgets/controls",
          "model_module_version": "1.5.0",
          "model_name": "HTMLModel",
          "state": {
            "_dom_classes": [],
            "_model_module": "@jupyter-widgets/controls",
            "_model_module_version": "1.5.0",
            "_model_name": "HTMLModel",
            "_view_count": null,
            "_view_module": "@jupyter-widgets/controls",
            "_view_module_version": "1.5.0",
            "_view_name": "HTMLView",
            "description": "",
            "description_tooltip": null,
            "layout": "IPY_MODEL_03d357f3273f4e88ba3b14f3f8a3f866",
            "placeholder": "​",
            "style": "IPY_MODEL_32312709917d4f1d9ba106dab4997552",
            "value": " 378M/378M [00:08&lt;00:00, 47.0MB/s]"
          }
        },
        "abc0d68f7aa2464bacc5b3ff77d9da5e": {
          "model_module": "@jupyter-widgets/controls",
          "model_module_version": "1.5.0",
          "model_name": "HBoxModel",
          "state": {
            "_dom_classes": [],
            "_model_module": "@jupyter-widgets/controls",
            "_model_module_version": "1.5.0",
            "_model_name": "HBoxModel",
            "_view_count": null,
            "_view_module": "@jupyter-widgets/controls",
            "_view_module_version": "1.5.0",
            "_view_name": "HBoxView",
            "box_style": "",
            "children": [
              "IPY_MODEL_b39dea8e89e040a484199c2061fcb81f",
              "IPY_MODEL_a07a6a7098df40d09720066d460b3c00"
            ],
            "layout": "IPY_MODEL_b8391a98fe8747e6ad7a5b0ef6668775"
          }
        },
        "b174cda90cc048728296c0d3bfb04382": {
          "model_module": "@jupyter-widgets/base",
          "model_module_version": "1.2.0",
          "model_name": "LayoutModel",
          "state": {
            "_model_module": "@jupyter-widgets/base",
            "_model_module_version": "1.2.0",
            "_model_name": "LayoutModel",
            "_view_count": null,
            "_view_module": "@jupyter-widgets/base",
            "_view_module_version": "1.2.0",
            "_view_name": "LayoutView",
            "align_content": null,
            "align_items": null,
            "align_self": null,
            "border": null,
            "bottom": null,
            "display": null,
            "flex": null,
            "flex_flow": null,
            "grid_area": null,
            "grid_auto_columns": null,
            "grid_auto_flow": null,
            "grid_auto_rows": null,
            "grid_column": null,
            "grid_gap": null,
            "grid_row": null,
            "grid_template_areas": null,
            "grid_template_columns": null,
            "grid_template_rows": null,
            "height": null,
            "justify_content": null,
            "justify_items": null,
            "left": null,
            "margin": null,
            "max_height": null,
            "max_width": null,
            "min_height": null,
            "min_width": null,
            "object_fit": null,
            "object_position": null,
            "order": null,
            "overflow": null,
            "overflow_x": null,
            "overflow_y": null,
            "padding": null,
            "right": null,
            "top": null,
            "visibility": null,
            "width": null
          }
        },
        "b39dea8e89e040a484199c2061fcb81f": {
          "model_module": "@jupyter-widgets/controls",
          "model_module_version": "1.5.0",
          "model_name": "FloatProgressModel",
          "state": {
            "_dom_classes": [],
            "_model_module": "@jupyter-widgets/controls",
            "_model_module_version": "1.5.0",
            "_model_name": "FloatProgressModel",
            "_view_count": null,
            "_view_module": "@jupyter-widgets/controls",
            "_view_module_version": "1.5.0",
            "_view_name": "ProgressView",
            "bar_style": "success",
            "description": "Downloading: 100%",
            "description_tooltip": null,
            "layout": "IPY_MODEL_e60c0df059c14522b3a77e05881014ae",
            "max": 213,
            "min": 0,
            "orientation": "horizontal",
            "style": "IPY_MODEL_ca96a9a041334c019f13390eeb46e297",
            "value": 213
          }
        },
        "b489484843fb4858bd1e87f6d64d654b": {
          "model_module": "@jupyter-widgets/base",
          "model_module_version": "1.2.0",
          "model_name": "LayoutModel",
          "state": {
            "_model_module": "@jupyter-widgets/base",
            "_model_module_version": "1.2.0",
            "_model_name": "LayoutModel",
            "_view_count": null,
            "_view_module": "@jupyter-widgets/base",
            "_view_module_version": "1.2.0",
            "_view_name": "LayoutView",
            "align_content": null,
            "align_items": null,
            "align_self": null,
            "border": null,
            "bottom": null,
            "display": null,
            "flex": null,
            "flex_flow": null,
            "grid_area": null,
            "grid_auto_columns": null,
            "grid_auto_flow": null,
            "grid_auto_rows": null,
            "grid_column": null,
            "grid_gap": null,
            "grid_row": null,
            "grid_template_areas": null,
            "grid_template_columns": null,
            "grid_template_rows": null,
            "height": null,
            "justify_content": null,
            "justify_items": null,
            "left": null,
            "margin": null,
            "max_height": null,
            "max_width": null,
            "min_height": null,
            "min_width": null,
            "object_fit": null,
            "object_position": null,
            "order": null,
            "overflow": null,
            "overflow_x": null,
            "overflow_y": null,
            "padding": null,
            "right": null,
            "top": null,
            "visibility": null,
            "width": null
          }
        },
        "b4bc0613ff334e868d7125f9f9be1256": {
          "model_module": "@jupyter-widgets/controls",
          "model_module_version": "1.5.0",
          "model_name": "HTMLModel",
          "state": {
            "_dom_classes": [],
            "_model_module": "@jupyter-widgets/controls",
            "_model_module_version": "1.5.0",
            "_model_name": "HTMLModel",
            "_view_count": null,
            "_view_module": "@jupyter-widgets/controls",
            "_view_module_version": "1.5.0",
            "_view_name": "HTMLView",
            "description": "",
            "description_tooltip": null,
            "layout": "IPY_MODEL_9072ea0038444dc1b53014ca761c71f8",
            "placeholder": "​",
            "style": "IPY_MODEL_9b273af69f704ac695e226ae847e2f66",
            "value": " 1.69k/1.69k [00:00&lt;00:00, 2.21kB/s]"
          }
        },
        "b68872f9575a45e88e8f97d2e489adb6": {
          "model_module": "@jupyter-widgets/controls",
          "model_module_version": "1.5.0",
          "model_name": "DescriptionStyleModel",
          "state": {
            "_model_module": "@jupyter-widgets/controls",
            "_model_module_version": "1.5.0",
            "_model_name": "DescriptionStyleModel",
            "_view_count": null,
            "_view_module": "@jupyter-widgets/base",
            "_view_module_version": "1.2.0",
            "_view_name": "StyleView",
            "description_width": ""
          }
        },
        "b788cc15aca2473193507ce298df1e79": {
          "model_module": "@jupyter-widgets/controls",
          "model_module_version": "1.5.0",
          "model_name": "HBoxModel",
          "state": {
            "_dom_classes": [],
            "_model_module": "@jupyter-widgets/controls",
            "_model_module_version": "1.5.0",
            "_model_name": "HBoxModel",
            "_view_count": null,
            "_view_module": "@jupyter-widgets/controls",
            "_view_module_version": "1.5.0",
            "_view_name": "HBoxView",
            "box_style": "",
            "children": [
              "IPY_MODEL_039ff1e800af4ad0b1aed45a5dc8916f",
              "IPY_MODEL_a39ffe587bbd4cb399c041bd88977763"
            ],
            "layout": "IPY_MODEL_b489484843fb4858bd1e87f6d64d654b"
          }
        },
        "b7f525612b8d4293bb62e16a60986ebf": {
          "model_module": "@jupyter-widgets/base",
          "model_module_version": "1.2.0",
          "model_name": "LayoutModel",
          "state": {
            "_model_module": "@jupyter-widgets/base",
            "_model_module_version": "1.2.0",
            "_model_name": "LayoutModel",
            "_view_count": null,
            "_view_module": "@jupyter-widgets/base",
            "_view_module_version": "1.2.0",
            "_view_name": "LayoutView",
            "align_content": null,
            "align_items": null,
            "align_self": null,
            "border": null,
            "bottom": null,
            "display": null,
            "flex": null,
            "flex_flow": null,
            "grid_area": null,
            "grid_auto_columns": null,
            "grid_auto_flow": null,
            "grid_auto_rows": null,
            "grid_column": null,
            "grid_gap": null,
            "grid_row": null,
            "grid_template_areas": null,
            "grid_template_columns": null,
            "grid_template_rows": null,
            "height": null,
            "justify_content": null,
            "justify_items": null,
            "left": null,
            "margin": null,
            "max_height": null,
            "max_width": null,
            "min_height": null,
            "min_width": null,
            "object_fit": null,
            "object_position": null,
            "order": null,
            "overflow": null,
            "overflow_x": null,
            "overflow_y": null,
            "padding": null,
            "right": null,
            "top": null,
            "visibility": null,
            "width": null
          }
        },
        "b8391a98fe8747e6ad7a5b0ef6668775": {
          "model_module": "@jupyter-widgets/base",
          "model_module_version": "1.2.0",
          "model_name": "LayoutModel",
          "state": {
            "_model_module": "@jupyter-widgets/base",
            "_model_module_version": "1.2.0",
            "_model_name": "LayoutModel",
            "_view_count": null,
            "_view_module": "@jupyter-widgets/base",
            "_view_module_version": "1.2.0",
            "_view_name": "LayoutView",
            "align_content": null,
            "align_items": null,
            "align_self": null,
            "border": null,
            "bottom": null,
            "display": null,
            "flex": null,
            "flex_flow": null,
            "grid_area": null,
            "grid_auto_columns": null,
            "grid_auto_flow": null,
            "grid_auto_rows": null,
            "grid_column": null,
            "grid_gap": null,
            "grid_row": null,
            "grid_template_areas": null,
            "grid_template_columns": null,
            "grid_template_rows": null,
            "height": null,
            "justify_content": null,
            "justify_items": null,
            "left": null,
            "margin": null,
            "max_height": null,
            "max_width": null,
            "min_height": null,
            "min_width": null,
            "object_fit": null,
            "object_position": null,
            "order": null,
            "overflow": null,
            "overflow_x": null,
            "overflow_y": null,
            "padding": null,
            "right": null,
            "top": null,
            "visibility": null,
            "width": null
          }
        },
        "b89948691b4a48a9b7001bc6e1ded073": {
          "model_module": "@jupyter-widgets/controls",
          "model_module_version": "1.5.0",
          "model_name": "ProgressStyleModel",
          "state": {
            "_model_module": "@jupyter-widgets/controls",
            "_model_module_version": "1.5.0",
            "_model_name": "ProgressStyleModel",
            "_view_count": null,
            "_view_module": "@jupyter-widgets/base",
            "_view_module_version": "1.2.0",
            "_view_name": "StyleView",
            "bar_color": null,
            "description_width": "initial"
          }
        },
        "ba3a2e02a33c4e1a9aacca90949d733a": {
          "model_module": "@jupyter-widgets/controls",
          "model_module_version": "1.5.0",
          "model_name": "DescriptionStyleModel",
          "state": {
            "_model_module": "@jupyter-widgets/controls",
            "_model_module_version": "1.5.0",
            "_model_name": "DescriptionStyleModel",
            "_view_count": null,
            "_view_module": "@jupyter-widgets/base",
            "_view_module_version": "1.2.0",
            "_view_name": "StyleView",
            "description_width": ""
          }
        },
        "bde25eacf47d46c0a85a57b916e21296": {
          "model_module": "@jupyter-widgets/controls",
          "model_module_version": "1.5.0",
          "model_name": "HBoxModel",
          "state": {
            "_dom_classes": [],
            "_model_module": "@jupyter-widgets/controls",
            "_model_module_version": "1.5.0",
            "_model_name": "HBoxModel",
            "_view_count": null,
            "_view_module": "@jupyter-widgets/controls",
            "_view_module_version": "1.5.0",
            "_view_name": "HBoxView",
            "box_style": "",
            "children": [
              "IPY_MODEL_5584e0bf2ce244d994aab768011d10ff",
              "IPY_MODEL_d5b17ee62c9a4d0ab121eebe1dc0a019"
            ],
            "layout": "IPY_MODEL_c2eaf0bd91c24826b61ae04272f648f4"
          }
        },
        "c0fb3fdd04154c1ebd7011ee32591235": {
          "model_module": "@jupyter-widgets/base",
          "model_module_version": "1.2.0",
          "model_name": "LayoutModel",
          "state": {
            "_model_module": "@jupyter-widgets/base",
            "_model_module_version": "1.2.0",
            "_model_name": "LayoutModel",
            "_view_count": null,
            "_view_module": "@jupyter-widgets/base",
            "_view_module_version": "1.2.0",
            "_view_name": "LayoutView",
            "align_content": null,
            "align_items": null,
            "align_self": null,
            "border": null,
            "bottom": null,
            "display": null,
            "flex": null,
            "flex_flow": null,
            "grid_area": null,
            "grid_auto_columns": null,
            "grid_auto_flow": null,
            "grid_auto_rows": null,
            "grid_column": null,
            "grid_gap": null,
            "grid_row": null,
            "grid_template_areas": null,
            "grid_template_columns": null,
            "grid_template_rows": null,
            "height": null,
            "justify_content": null,
            "justify_items": null,
            "left": null,
            "margin": null,
            "max_height": null,
            "max_width": null,
            "min_height": null,
            "min_width": null,
            "object_fit": null,
            "object_position": null,
            "order": null,
            "overflow": null,
            "overflow_x": null,
            "overflow_y": null,
            "padding": null,
            "right": null,
            "top": null,
            "visibility": null,
            "width": null
          }
        },
        "c2598c40a44040a784806d0a086e07bb": {
          "model_module": "@jupyter-widgets/controls",
          "model_module_version": "1.5.0",
          "model_name": "ProgressStyleModel",
          "state": {
            "_model_module": "@jupyter-widgets/controls",
            "_model_module_version": "1.5.0",
            "_model_name": "ProgressStyleModel",
            "_view_count": null,
            "_view_module": "@jupyter-widgets/base",
            "_view_module_version": "1.2.0",
            "_view_name": "StyleView",
            "bar_color": null,
            "description_width": "initial"
          }
        },
        "c27d11fad7f04772822df692445616bf": {
          "model_module": "@jupyter-widgets/controls",
          "model_module_version": "1.5.0",
          "model_name": "DescriptionStyleModel",
          "state": {
            "_model_module": "@jupyter-widgets/controls",
            "_model_module_version": "1.5.0",
            "_model_name": "DescriptionStyleModel",
            "_view_count": null,
            "_view_module": "@jupyter-widgets/base",
            "_view_module_version": "1.2.0",
            "_view_name": "StyleView",
            "description_width": ""
          }
        },
        "c2eaf0bd91c24826b61ae04272f648f4": {
          "model_module": "@jupyter-widgets/base",
          "model_module_version": "1.2.0",
          "model_name": "LayoutModel",
          "state": {
            "_model_module": "@jupyter-widgets/base",
            "_model_module_version": "1.2.0",
            "_model_name": "LayoutModel",
            "_view_count": null,
            "_view_module": "@jupyter-widgets/base",
            "_view_module_version": "1.2.0",
            "_view_name": "LayoutView",
            "align_content": null,
            "align_items": null,
            "align_self": null,
            "border": null,
            "bottom": null,
            "display": null,
            "flex": null,
            "flex_flow": null,
            "grid_area": null,
            "grid_auto_columns": null,
            "grid_auto_flow": null,
            "grid_auto_rows": null,
            "grid_column": null,
            "grid_gap": null,
            "grid_row": null,
            "grid_template_areas": null,
            "grid_template_columns": null,
            "grid_template_rows": null,
            "height": null,
            "justify_content": null,
            "justify_items": null,
            "left": null,
            "margin": null,
            "max_height": null,
            "max_width": null,
            "min_height": null,
            "min_width": null,
            "object_fit": null,
            "object_position": null,
            "order": null,
            "overflow": null,
            "overflow_x": null,
            "overflow_y": null,
            "padding": null,
            "right": null,
            "top": null,
            "visibility": null,
            "width": null
          }
        },
        "c6aeb40e80534cf1ba1075d7446b3d43": {
          "model_module": "@jupyter-widgets/controls",
          "model_module_version": "1.5.0",
          "model_name": "ProgressStyleModel",
          "state": {
            "_model_module": "@jupyter-widgets/controls",
            "_model_module_version": "1.5.0",
            "_model_name": "ProgressStyleModel",
            "_view_count": null,
            "_view_module": "@jupyter-widgets/base",
            "_view_module_version": "1.2.0",
            "_view_name": "StyleView",
            "bar_color": null,
            "description_width": "initial"
          }
        },
        "ca96a9a041334c019f13390eeb46e297": {
          "model_module": "@jupyter-widgets/controls",
          "model_module_version": "1.5.0",
          "model_name": "ProgressStyleModel",
          "state": {
            "_model_module": "@jupyter-widgets/controls",
            "_model_module_version": "1.5.0",
            "_model_name": "ProgressStyleModel",
            "_view_count": null,
            "_view_module": "@jupyter-widgets/base",
            "_view_module_version": "1.2.0",
            "_view_name": "StyleView",
            "bar_color": null,
            "description_width": "initial"
          }
        },
        "cd3199d548ba464aa5af2caa270928f3": {
          "model_module": "@jupyter-widgets/controls",
          "model_module_version": "1.5.0",
          "model_name": "HTMLModel",
          "state": {
            "_dom_classes": [],
            "_model_module": "@jupyter-widgets/controls",
            "_model_module_version": "1.5.0",
            "_model_name": "HTMLModel",
            "_view_count": null,
            "_view_module": "@jupyter-widgets/controls",
            "_view_module_version": "1.5.0",
            "_view_name": "HTMLView",
            "description": "",
            "description_tooltip": null,
            "layout": "IPY_MODEL_83fddd0627e24fb380ddf58a77bffe06",
            "placeholder": "​",
            "style": "IPY_MODEL_6e601b969fdc4387a8ec9666f54b3808",
            "value": " 380M/380M [00:10&lt;00:00, 35.1MB/s]"
          }
        },
        "cfa719b3bbcd4924bc9497e6ad4020d0": {
          "model_module": "@jupyter-widgets/controls",
          "model_module_version": "1.5.0",
          "model_name": "FloatProgressModel",
          "state": {
            "_dom_classes": [],
            "_model_module": "@jupyter-widgets/controls",
            "_model_module_version": "1.5.0",
            "_model_name": "FloatProgressModel",
            "_view_count": null,
            "_view_module": "@jupyter-widgets/controls",
            "_view_module_version": "1.5.0",
            "_view_name": "ProgressView",
            "bar_style": "success",
            "description": " #2: 100%",
            "description_tooltip": null,
            "layout": "IPY_MODEL_5327233138f6475f9464024bc7553e9f",
            "max": 2,
            "min": 0,
            "orientation": "horizontal",
            "style": "IPY_MODEL_8fd8992869f94a6e98f3019c98d6d7dd",
            "value": 2
          }
        },
        "d170546207d440e5a0121ede9373f5ca": {
          "model_module": "@jupyter-widgets/controls",
          "model_module_version": "1.5.0",
          "model_name": "HTMLModel",
          "state": {
            "_dom_classes": [],
            "_model_module": "@jupyter-widgets/controls",
            "_model_module_version": "1.5.0",
            "_model_name": "HTMLModel",
            "_view_count": null,
            "_view_module": "@jupyter-widgets/controls",
            "_view_module_version": "1.5.0",
            "_view_name": "HTMLView",
            "description": "",
            "description_tooltip": null,
            "layout": "IPY_MODEL_098d064849e94863ba86dc167758f2a7",
            "placeholder": "​",
            "style": "IPY_MODEL_b68872f9575a45e88e8f97d2e489adb6",
            "value": " 1.29k/1.29k [00:02&lt;00:00, 498B/s]"
          }
        },
        "d4025daadd75496cafe9d5a55a22aef5": {
          "model_module": "@jupyter-widgets/controls",
          "model_module_version": "1.5.0",
          "model_name": "FloatProgressModel",
          "state": {
            "_dom_classes": [],
            "_model_module": "@jupyter-widgets/controls",
            "_model_module_version": "1.5.0",
            "_model_name": "FloatProgressModel",
            "_view_count": null,
            "_view_module": "@jupyter-widgets/controls",
            "_view_module_version": "1.5.0",
            "_view_name": "ProgressView",
            "bar_style": "info",
            "description": "",
            "description_tooltip": null,
            "layout": "IPY_MODEL_5f22bc5c4fd04c66ad02ded97fa8534f",
            "max": 1,
            "min": 0,
            "orientation": "horizontal",
            "style": "IPY_MODEL_6dede346f4d84f03a731de2f7c162d4c",
            "value": 1
          }
        },
        "d4e12d5098804990a7da0f3a31b65247": {
          "model_module": "@jupyter-widgets/controls",
          "model_module_version": "1.5.0",
          "model_name": "ProgressStyleModel",
          "state": {
            "_model_module": "@jupyter-widgets/controls",
            "_model_module_version": "1.5.0",
            "_model_name": "ProgressStyleModel",
            "_view_count": null,
            "_view_module": "@jupyter-widgets/base",
            "_view_module_version": "1.2.0",
            "_view_name": "StyleView",
            "bar_color": null,
            "description_width": "initial"
          }
        },
        "d5b17ee62c9a4d0ab121eebe1dc0a019": {
          "model_module": "@jupyter-widgets/controls",
          "model_module_version": "1.5.0",
          "model_name": "HTMLModel",
          "state": {
            "_dom_classes": [],
            "_model_module": "@jupyter-widgets/controls",
            "_model_module_version": "1.5.0",
            "_model_name": "HTMLModel",
            "_view_count": null,
            "_view_module": "@jupyter-widgets/controls",
            "_view_module_version": "1.5.0",
            "_view_name": "HTMLView",
            "description": "",
            "description_tooltip": null,
            "layout": "IPY_MODEL_7df6add34e8d4447adbdc4c88e5f221f",
            "placeholder": "​",
            "style": "IPY_MODEL_df1f58dee3434628a8144f902cb58ee0",
            "value": " 2/2 [00:13&lt;00:00,  6.77s/ba]"
          }
        },
        "d6188e148b7b4137adde59b9519623b6": {
          "model_module": "@jupyter-widgets/controls",
          "model_module_version": "1.5.0",
          "model_name": "HBoxModel",
          "state": {
            "_dom_classes": [],
            "_model_module": "@jupyter-widgets/controls",
            "_model_module_version": "1.5.0",
            "_model_name": "HBoxModel",
            "_view_count": null,
            "_view_module": "@jupyter-widgets/controls",
            "_view_module_version": "1.5.0",
            "_view_name": "HBoxView",
            "box_style": "",
            "children": [
              "IPY_MODEL_11321c0de2294147900b41df6505adc2",
              "IPY_MODEL_205f82aa2ac74a0583e0c595c8905112"
            ],
            "layout": "IPY_MODEL_749678667e4b492d9ce2825ce88ba254"
          }
        },
        "d6eb01e82a5147ce90afd4a59d3f9599": {
          "model_module": "@jupyter-widgets/base",
          "model_module_version": "1.2.0",
          "model_name": "LayoutModel",
          "state": {
            "_model_module": "@jupyter-widgets/base",
            "_model_module_version": "1.2.0",
            "_model_name": "LayoutModel",
            "_view_count": null,
            "_view_module": "@jupyter-widgets/base",
            "_view_module_version": "1.2.0",
            "_view_name": "LayoutView",
            "align_content": null,
            "align_items": null,
            "align_self": null,
            "border": null,
            "bottom": null,
            "display": null,
            "flex": null,
            "flex_flow": null,
            "grid_area": null,
            "grid_auto_columns": null,
            "grid_auto_flow": null,
            "grid_auto_rows": null,
            "grid_column": null,
            "grid_gap": null,
            "grid_row": null,
            "grid_template_areas": null,
            "grid_template_columns": null,
            "grid_template_rows": null,
            "height": null,
            "justify_content": null,
            "justify_items": null,
            "left": null,
            "margin": null,
            "max_height": null,
            "max_width": null,
            "min_height": null,
            "min_width": null,
            "object_fit": null,
            "object_position": null,
            "order": null,
            "overflow": null,
            "overflow_x": null,
            "overflow_y": null,
            "padding": null,
            "right": null,
            "top": null,
            "visibility": null,
            "width": null
          }
        },
        "db85385bd3954e7e91864c8dce7b2e09": {
          "model_module": "@jupyter-widgets/base",
          "model_module_version": "1.2.0",
          "model_name": "LayoutModel",
          "state": {
            "_model_module": "@jupyter-widgets/base",
            "_model_module_version": "1.2.0",
            "_model_name": "LayoutModel",
            "_view_count": null,
            "_view_module": "@jupyter-widgets/base",
            "_view_module_version": "1.2.0",
            "_view_name": "LayoutView",
            "align_content": null,
            "align_items": null,
            "align_self": null,
            "border": null,
            "bottom": null,
            "display": null,
            "flex": null,
            "flex_flow": null,
            "grid_area": null,
            "grid_auto_columns": null,
            "grid_auto_flow": null,
            "grid_auto_rows": null,
            "grid_column": null,
            "grid_gap": null,
            "grid_row": null,
            "grid_template_areas": null,
            "grid_template_columns": null,
            "grid_template_rows": null,
            "height": null,
            "justify_content": null,
            "justify_items": null,
            "left": null,
            "margin": null,
            "max_height": null,
            "max_width": null,
            "min_height": null,
            "min_width": null,
            "object_fit": null,
            "object_position": null,
            "order": null,
            "overflow": null,
            "overflow_x": null,
            "overflow_y": null,
            "padding": null,
            "right": null,
            "top": null,
            "visibility": null,
            "width": null
          }
        },
        "db88bd4eacca42b7a4bf9f744769e524": {
          "model_module": "@jupyter-widgets/base",
          "model_module_version": "1.2.0",
          "model_name": "LayoutModel",
          "state": {
            "_model_module": "@jupyter-widgets/base",
            "_model_module_version": "1.2.0",
            "_model_name": "LayoutModel",
            "_view_count": null,
            "_view_module": "@jupyter-widgets/base",
            "_view_module_version": "1.2.0",
            "_view_name": "LayoutView",
            "align_content": null,
            "align_items": null,
            "align_self": null,
            "border": null,
            "bottom": null,
            "display": null,
            "flex": null,
            "flex_flow": null,
            "grid_area": null,
            "grid_auto_columns": null,
            "grid_auto_flow": null,
            "grid_auto_rows": null,
            "grid_column": null,
            "grid_gap": null,
            "grid_row": null,
            "grid_template_areas": null,
            "grid_template_columns": null,
            "grid_template_rows": null,
            "height": null,
            "justify_content": null,
            "justify_items": null,
            "left": null,
            "margin": null,
            "max_height": null,
            "max_width": null,
            "min_height": null,
            "min_width": null,
            "object_fit": null,
            "object_position": null,
            "order": null,
            "overflow": null,
            "overflow_x": null,
            "overflow_y": null,
            "padding": null,
            "right": null,
            "top": null,
            "visibility": null,
            "width": null
          }
        },
        "dd2affd758764bfabd3979da17347b3e": {
          "model_module": "@jupyter-widgets/controls",
          "model_module_version": "1.5.0",
          "model_name": "HTMLModel",
          "state": {
            "_dom_classes": [],
            "_model_module": "@jupyter-widgets/controls",
            "_model_module_version": "1.5.0",
            "_model_name": "HTMLModel",
            "_view_count": null,
            "_view_module": "@jupyter-widgets/controls",
            "_view_module_version": "1.5.0",
            "_view_name": "HTMLView",
            "description": "",
            "description_tooltip": null,
            "layout": "IPY_MODEL_8a142ebe4af54390a71b2379dfbb8d23",
            "placeholder": "​",
            "style": "IPY_MODEL_f846e0daf7764efa88d3ef29804a8766",
            "value": " 2/2 [00:13&lt;00:00,  6.97s/ba]"
          }
        },
        "dd5e26c39aa7449db5905528d6ca3ec7": {
          "model_module": "@jupyter-widgets/controls",
          "model_module_version": "1.5.0",
          "model_name": "DescriptionStyleModel",
          "state": {
            "_model_module": "@jupyter-widgets/controls",
            "_model_module_version": "1.5.0",
            "_model_name": "DescriptionStyleModel",
            "_view_count": null,
            "_view_module": "@jupyter-widgets/base",
            "_view_module_version": "1.2.0",
            "_view_name": "StyleView",
            "description_width": ""
          }
        },
        "de2f8967774a40bdb4d79d13089bc7d0": {
          "model_module": "@jupyter-widgets/base",
          "model_module_version": "1.2.0",
          "model_name": "LayoutModel",
          "state": {
            "_model_module": "@jupyter-widgets/base",
            "_model_module_version": "1.2.0",
            "_model_name": "LayoutModel",
            "_view_count": null,
            "_view_module": "@jupyter-widgets/base",
            "_view_module_version": "1.2.0",
            "_view_name": "LayoutView",
            "align_content": null,
            "align_items": null,
            "align_self": null,
            "border": null,
            "bottom": null,
            "display": null,
            "flex": null,
            "flex_flow": null,
            "grid_area": null,
            "grid_auto_columns": null,
            "grid_auto_flow": null,
            "grid_auto_rows": null,
            "grid_column": null,
            "grid_gap": null,
            "grid_row": null,
            "grid_template_areas": null,
            "grid_template_columns": null,
            "grid_template_rows": null,
            "height": null,
            "justify_content": null,
            "justify_items": null,
            "left": null,
            "margin": null,
            "max_height": null,
            "max_width": null,
            "min_height": null,
            "min_width": null,
            "object_fit": null,
            "object_position": null,
            "order": null,
            "overflow": null,
            "overflow_x": null,
            "overflow_y": null,
            "padding": null,
            "right": null,
            "top": null,
            "visibility": null,
            "width": null
          }
        },
        "df1f58dee3434628a8144f902cb58ee0": {
          "model_module": "@jupyter-widgets/controls",
          "model_module_version": "1.5.0",
          "model_name": "DescriptionStyleModel",
          "state": {
            "_model_module": "@jupyter-widgets/controls",
            "_model_module_version": "1.5.0",
            "_model_name": "DescriptionStyleModel",
            "_view_count": null,
            "_view_module": "@jupyter-widgets/base",
            "_view_module_version": "1.2.0",
            "_view_name": "StyleView",
            "description_width": ""
          }
        },
        "e063c4ee504a4b43a3ed0cc33bd51a09": {
          "model_module": "@jupyter-widgets/controls",
          "model_module_version": "1.5.0",
          "model_name": "ProgressStyleModel",
          "state": {
            "_model_module": "@jupyter-widgets/controls",
            "_model_module_version": "1.5.0",
            "_model_name": "ProgressStyleModel",
            "_view_count": null,
            "_view_module": "@jupyter-widgets/base",
            "_view_module_version": "1.2.0",
            "_view_name": "StyleView",
            "bar_color": null,
            "description_width": "initial"
          }
        },
        "e60c0df059c14522b3a77e05881014ae": {
          "model_module": "@jupyter-widgets/base",
          "model_module_version": "1.2.0",
          "model_name": "LayoutModel",
          "state": {
            "_model_module": "@jupyter-widgets/base",
            "_model_module_version": "1.2.0",
            "_model_name": "LayoutModel",
            "_view_count": null,
            "_view_module": "@jupyter-widgets/base",
            "_view_module_version": "1.2.0",
            "_view_name": "LayoutView",
            "align_content": null,
            "align_items": null,
            "align_self": null,
            "border": null,
            "bottom": null,
            "display": null,
            "flex": null,
            "flex_flow": null,
            "grid_area": null,
            "grid_auto_columns": null,
            "grid_auto_flow": null,
            "grid_auto_rows": null,
            "grid_column": null,
            "grid_gap": null,
            "grid_row": null,
            "grid_template_areas": null,
            "grid_template_columns": null,
            "grid_template_rows": null,
            "height": null,
            "justify_content": null,
            "justify_items": null,
            "left": null,
            "margin": null,
            "max_height": null,
            "max_width": null,
            "min_height": null,
            "min_width": null,
            "object_fit": null,
            "object_position": null,
            "order": null,
            "overflow": null,
            "overflow_x": null,
            "overflow_y": null,
            "padding": null,
            "right": null,
            "top": null,
            "visibility": null,
            "width": null
          }
        },
        "e823c515ad66421dbec2b73c75dfbdc7": {
          "model_module": "@jupyter-widgets/controls",
          "model_module_version": "1.5.0",
          "model_name": "ProgressStyleModel",
          "state": {
            "_model_module": "@jupyter-widgets/controls",
            "_model_module_version": "1.5.0",
            "_model_name": "ProgressStyleModel",
            "_view_count": null,
            "_view_module": "@jupyter-widgets/base",
            "_view_module_version": "1.2.0",
            "_view_name": "StyleView",
            "bar_color": null,
            "description_width": "initial"
          }
        },
        "eb532ff6a91d42b0a457badf26f114d8": {
          "model_module": "@jupyter-widgets/base",
          "model_module_version": "1.2.0",
          "model_name": "LayoutModel",
          "state": {
            "_model_module": "@jupyter-widgets/base",
            "_model_module_version": "1.2.0",
            "_model_name": "LayoutModel",
            "_view_count": null,
            "_view_module": "@jupyter-widgets/base",
            "_view_module_version": "1.2.0",
            "_view_name": "LayoutView",
            "align_content": null,
            "align_items": null,
            "align_self": null,
            "border": null,
            "bottom": null,
            "display": null,
            "flex": null,
            "flex_flow": null,
            "grid_area": null,
            "grid_auto_columns": null,
            "grid_auto_flow": null,
            "grid_auto_rows": null,
            "grid_column": null,
            "grid_gap": null,
            "grid_row": null,
            "grid_template_areas": null,
            "grid_template_columns": null,
            "grid_template_rows": null,
            "height": null,
            "justify_content": null,
            "justify_items": null,
            "left": null,
            "margin": null,
            "max_height": null,
            "max_width": null,
            "min_height": null,
            "min_width": null,
            "object_fit": null,
            "object_position": null,
            "order": null,
            "overflow": null,
            "overflow_x": null,
            "overflow_y": null,
            "padding": null,
            "right": null,
            "top": null,
            "visibility": null,
            "width": null
          }
        },
        "f05e84006d814bbe8d426266f57a0d2a": {
          "model_module": "@jupyter-widgets/controls",
          "model_module_version": "1.5.0",
          "model_name": "HBoxModel",
          "state": {
            "_dom_classes": [],
            "_model_module": "@jupyter-widgets/controls",
            "_model_module_version": "1.5.0",
            "_model_name": "HBoxModel",
            "_view_count": null,
            "_view_module": "@jupyter-widgets/controls",
            "_view_module_version": "1.5.0",
            "_view_name": "HBoxView",
            "box_style": "",
            "children": [
              "IPY_MODEL_4cb12c2ae4d1420696a3a82856051c51",
              "IPY_MODEL_a0e8290148114cbf8140be2dce1d8bda"
            ],
            "layout": "IPY_MODEL_8763ed097062492190fff222874cc25b"
          }
        },
        "f308b3d597954aec9ea244bfe6eea962": {
          "model_module": "@jupyter-widgets/controls",
          "model_module_version": "1.5.0",
          "model_name": "DescriptionStyleModel",
          "state": {
            "_model_module": "@jupyter-widgets/controls",
            "_model_module_version": "1.5.0",
            "_model_name": "DescriptionStyleModel",
            "_view_count": null,
            "_view_module": "@jupyter-widgets/base",
            "_view_module_version": "1.2.0",
            "_view_name": "StyleView",
            "description_width": ""
          }
        },
        "f361babc67cc4d3ca3fcdbd58f5f8748": {
          "model_module": "@jupyter-widgets/controls",
          "model_module_version": "1.5.0",
          "model_name": "FloatProgressModel",
          "state": {
            "_dom_classes": [],
            "_model_module": "@jupyter-widgets/controls",
            "_model_module_version": "1.5.0",
            "_model_name": "FloatProgressModel",
            "_view_count": null,
            "_view_module": "@jupyter-widgets/controls",
            "_view_module_version": "1.5.0",
            "_view_name": "ProgressView",
            "bar_style": "success",
            "description": "Downloading: 100%",
            "description_tooltip": null,
            "layout": "IPY_MODEL_db85385bd3954e7e91864c8dce7b2e09",
            "max": 213,
            "min": 0,
            "orientation": "horizontal",
            "style": "IPY_MODEL_e823c515ad66421dbec2b73c75dfbdc7",
            "value": 213
          }
        },
        "f3a309dcc6f94259b03682ba97fa47ca": {
          "model_module": "@jupyter-widgets/base",
          "model_module_version": "1.2.0",
          "model_name": "LayoutModel",
          "state": {
            "_model_module": "@jupyter-widgets/base",
            "_model_module_version": "1.2.0",
            "_model_name": "LayoutModel",
            "_view_count": null,
            "_view_module": "@jupyter-widgets/base",
            "_view_module_version": "1.2.0",
            "_view_name": "LayoutView",
            "align_content": null,
            "align_items": null,
            "align_self": null,
            "border": null,
            "bottom": null,
            "display": null,
            "flex": null,
            "flex_flow": null,
            "grid_area": null,
            "grid_auto_columns": null,
            "grid_auto_flow": null,
            "grid_auto_rows": null,
            "grid_column": null,
            "grid_gap": null,
            "grid_row": null,
            "grid_template_areas": null,
            "grid_template_columns": null,
            "grid_template_rows": null,
            "height": null,
            "justify_content": null,
            "justify_items": null,
            "left": null,
            "margin": null,
            "max_height": null,
            "max_width": null,
            "min_height": null,
            "min_width": null,
            "object_fit": null,
            "object_position": null,
            "order": null,
            "overflow": null,
            "overflow_x": null,
            "overflow_y": null,
            "padding": null,
            "right": null,
            "top": null,
            "visibility": null,
            "width": null
          }
        },
        "f543cf72ac33487e9ce7fbe3a6fcc8f7": {
          "model_module": "@jupyter-widgets/controls",
          "model_module_version": "1.5.0",
          "model_name": "DescriptionStyleModel",
          "state": {
            "_model_module": "@jupyter-widgets/controls",
            "_model_module_version": "1.5.0",
            "_model_name": "DescriptionStyleModel",
            "_view_count": null,
            "_view_module": "@jupyter-widgets/base",
            "_view_module_version": "1.2.0",
            "_view_name": "StyleView",
            "description_width": ""
          }
        },
        "f81b4897f16e481695347b23923ea2d1": {
          "model_module": "@jupyter-widgets/controls",
          "model_module_version": "1.5.0",
          "model_name": "ProgressStyleModel",
          "state": {
            "_model_module": "@jupyter-widgets/controls",
            "_model_module_version": "1.5.0",
            "_model_name": "ProgressStyleModel",
            "_view_count": null,
            "_view_module": "@jupyter-widgets/base",
            "_view_module_version": "1.2.0",
            "_view_name": "StyleView",
            "bar_color": null,
            "description_width": "initial"
          }
        },
        "f846e0daf7764efa88d3ef29804a8766": {
          "model_module": "@jupyter-widgets/controls",
          "model_module_version": "1.5.0",
          "model_name": "DescriptionStyleModel",
          "state": {
            "_model_module": "@jupyter-widgets/controls",
            "_model_module_version": "1.5.0",
            "_model_name": "DescriptionStyleModel",
            "_view_count": null,
            "_view_module": "@jupyter-widgets/base",
            "_view_module_version": "1.2.0",
            "_view_name": "StyleView",
            "description_width": ""
          }
        },
        "fcf24adbec544854bfef5cc1864d9b73": {
          "model_module": "@jupyter-widgets/controls",
          "model_module_version": "1.5.0",
          "model_name": "FloatProgressModel",
          "state": {
            "_dom_classes": [],
            "_model_module": "@jupyter-widgets/controls",
            "_model_module_version": "1.5.0",
            "_model_name": "FloatProgressModel",
            "_view_count": null,
            "_view_module": "@jupyter-widgets/controls",
            "_view_module_version": "1.5.0",
            "_view_name": "ProgressView",
            "bar_style": "success",
            "description": "Downloading: 100%",
            "description_tooltip": null,
            "layout": "IPY_MODEL_f3a309dcc6f94259b03682ba97fa47ca",
            "max": 1693,
            "min": 0,
            "orientation": "horizontal",
            "style": "IPY_MODEL_4c248590dadc4c2e96112640c79e86b6",
            "value": 1693
          }
        }
      }
    }
  },
  "nbformat": 4,
  "nbformat_minor": 0
}
