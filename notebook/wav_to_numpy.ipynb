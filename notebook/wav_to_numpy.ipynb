{
 "cells": [
  {
   "cell_type": "code",
   "execution_count": 4,
   "metadata": {},
   "outputs": [],
   "source": [
    "import pandas as pd\n",
    "import librosa\n",
    "from tqdm import tqdm"
   ]
  },
  {
   "cell_type": "code",
   "execution_count": 3,
   "metadata": {},
   "outputs": [
    {
     "data": {
      "text/html": [
       "<div>\n",
       "<style scoped>\n",
       "    .dataframe tbody tr th:only-of-type {\n",
       "        vertical-align: middle;\n",
       "    }\n",
       "\n",
       "    .dataframe tbody tr th {\n",
       "        vertical-align: top;\n",
       "    }\n",
       "\n",
       "    .dataframe thead th {\n",
       "        text-align: right;\n",
       "    }\n",
       "</style>\n",
       "<table border=\"1\" class=\"dataframe\">\n",
       "  <thead>\n",
       "    <tr style=\"text-align: right;\">\n",
       "      <th></th>\n",
       "      <th>Emotion</th>\n",
       "      <th>File_Path</th>\n",
       "    </tr>\n",
       "  </thead>\n",
       "  <tbody>\n",
       "    <tr>\n",
       "      <th>2110</th>\n",
       "      <td>happy</td>\n",
       "      <td>../Datasets/Tess/YAF_happy\\YAF_near_happy.wav</td>\n",
       "    </tr>\n",
       "    <tr>\n",
       "      <th>668</th>\n",
       "      <td>happy</td>\n",
       "      <td>../Datasets/Tess/OAF_happy\\OAF_join_happy.wav</td>\n",
       "    </tr>\n",
       "    <tr>\n",
       "      <th>814</th>\n",
       "      <td>neutral</td>\n",
       "      <td>../Datasets/Tess/OAF_neutral\\OAF_cause_neutral...</td>\n",
       "    </tr>\n",
       "    <tr>\n",
       "      <th>2499</th>\n",
       "      <td>surprise</td>\n",
       "      <td>../Datasets/Tess/YAF_pleasant_surprised\\YAF_me...</td>\n",
       "    </tr>\n",
       "    <tr>\n",
       "      <th>1623</th>\n",
       "      <td>disgust</td>\n",
       "      <td>../Datasets/Tess/YAF_disgust\\YAF_choice_disgus...</td>\n",
       "    </tr>\n",
       "    <tr>\n",
       "      <th>2319</th>\n",
       "      <td>neutral</td>\n",
       "      <td>../Datasets/Tess/YAF_neutral\\YAF_pearl_neutral...</td>\n",
       "    </tr>\n",
       "    <tr>\n",
       "      <th>2553</th>\n",
       "      <td>surprise</td>\n",
       "      <td>../Datasets/Tess/YAF_pleasant_surprised\\YAF_sh...</td>\n",
       "    </tr>\n",
       "    <tr>\n",
       "      <th>1127</th>\n",
       "      <td>surprise</td>\n",
       "      <td>../Datasets/Tess/OAF_Pleasant_surprise\\OAF_puf...</td>\n",
       "    </tr>\n",
       "    <tr>\n",
       "      <th>2006</th>\n",
       "      <td>happy</td>\n",
       "      <td>../Datasets/Tess/YAF_happy\\YAF_bite_happy.wav</td>\n",
       "    </tr>\n",
       "    <tr>\n",
       "      <th>2663</th>\n",
       "      <td>sad</td>\n",
       "      <td>../Datasets/Tess/YAF_sad\\YAF_home_sad.wav</td>\n",
       "    </tr>\n",
       "  </tbody>\n",
       "</table>\n",
       "</div>"
      ],
      "text/plain": [
       "       Emotion                                          File_Path\n",
       "2110     happy      ../Datasets/Tess/YAF_happy\\YAF_near_happy.wav\n",
       "668      happy      ../Datasets/Tess/OAF_happy\\OAF_join_happy.wav\n",
       "814    neutral  ../Datasets/Tess/OAF_neutral\\OAF_cause_neutral...\n",
       "2499  surprise  ../Datasets/Tess/YAF_pleasant_surprised\\YAF_me...\n",
       "1623   disgust  ../Datasets/Tess/YAF_disgust\\YAF_choice_disgus...\n",
       "2319   neutral  ../Datasets/Tess/YAF_neutral\\YAF_pearl_neutral...\n",
       "2553  surprise  ../Datasets/Tess/YAF_pleasant_surprised\\YAF_sh...\n",
       "1127  surprise  ../Datasets/Tess/OAF_Pleasant_surprise\\OAF_puf...\n",
       "2006     happy      ../Datasets/Tess/YAF_happy\\YAF_bite_happy.wav\n",
       "2663       sad          ../Datasets/Tess/YAF_sad\\YAF_home_sad.wav"
      ]
     },
     "execution_count": 3,
     "metadata": {},
     "output_type": "execute_result"
    }
   ],
   "source": [
    "csv = './features/tess.csv'\n",
    "\n",
    "df = pd.read_csv(csv)\n",
    "df.sample(10)"
   ]
  },
  {
   "cell_type": "code",
   "execution_count": 5,
   "metadata": {},
   "outputs": [
    {
     "name": "stderr",
     "output_type": "stream",
     "text": [
      "100%|██████████| 2800/2800 [04:02<00:00, 11.53it/s]\n"
     ]
    }
   ],
   "source": [
    "def to_wav(filename):\n",
    "    y, _ = librosa.load(filename, sr=16000)\n",
    "    return y\n",
    "\n",
    "tqdm.pandas()\n",
    "\n",
    "df['Data'] = df['File_Path'].progress_apply(lambda filename: to_wav(filename))"
   ]
  },
  {
   "cell_type": "code",
   "execution_count": 6,
   "metadata": {},
   "outputs": [
    {
     "data": {
      "text/html": [
       "<div>\n",
       "<style scoped>\n",
       "    .dataframe tbody tr th:only-of-type {\n",
       "        vertical-align: middle;\n",
       "    }\n",
       "\n",
       "    .dataframe tbody tr th {\n",
       "        vertical-align: top;\n",
       "    }\n",
       "\n",
       "    .dataframe thead th {\n",
       "        text-align: right;\n",
       "    }\n",
       "</style>\n",
       "<table border=\"1\" class=\"dataframe\">\n",
       "  <thead>\n",
       "    <tr style=\"text-align: right;\">\n",
       "      <th></th>\n",
       "      <th>Emotion</th>\n",
       "      <th>File_Path</th>\n",
       "      <th>Data</th>\n",
       "    </tr>\n",
       "  </thead>\n",
       "  <tbody>\n",
       "    <tr>\n",
       "      <th>2630</th>\n",
       "      <td>sad</td>\n",
       "      <td>../Datasets/Tess/YAF_sad\\YAF_dime_sad.wav</td>\n",
       "      <td>[0.00030458177, 0.0004992261, 0.0002611295, 0....</td>\n",
       "    </tr>\n",
       "    <tr>\n",
       "      <th>2342</th>\n",
       "      <td>neutral</td>\n",
       "      <td>../Datasets/Tess/YAF_neutral\\YAF_rough_neutral...</td>\n",
       "      <td>[-0.00013931152, -0.0003272204, -0.00033982718...</td>\n",
       "    </tr>\n",
       "    <tr>\n",
       "      <th>1332</th>\n",
       "      <td>sad</td>\n",
       "      <td>../Datasets/Tess/OAF_Sad\\OAF_rat_sad.wav</td>\n",
       "      <td>[-2.5270087e-05, -0.00012443765, -0.0001398153...</td>\n",
       "    </tr>\n",
       "    <tr>\n",
       "      <th>435</th>\n",
       "      <td>fear</td>\n",
       "      <td>../Datasets/Tess/OAF_Fear\\OAF_doll_fear.wav</td>\n",
       "      <td>[-2.4752495e-05, -0.00015065935, -0.0001256739...</td>\n",
       "    </tr>\n",
       "    <tr>\n",
       "      <th>1607</th>\n",
       "      <td>disgust</td>\n",
       "      <td>../Datasets/Tess/YAF_disgust\\YAF_boat_disgust.wav</td>\n",
       "      <td>[9.0041394e-05, 0.00012539576, 0.00019520515, ...</td>\n",
       "    </tr>\n",
       "    <tr>\n",
       "      <th>175</th>\n",
       "      <td>angry</td>\n",
       "      <td>../Datasets/Tess/OAF_angry\\OAF_tire_angry.wav</td>\n",
       "      <td>[-1.789683e-06, -9.020643e-05, -6.503229e-05, ...</td>\n",
       "    </tr>\n",
       "    <tr>\n",
       "      <th>756</th>\n",
       "      <td>happy</td>\n",
       "      <td>../Datasets/Tess/OAF_happy\\OAF_size_happy.wav</td>\n",
       "      <td>[-0.00034475175, -0.0007017173, -0.00070275273...</td>\n",
       "    </tr>\n",
       "    <tr>\n",
       "      <th>272</th>\n",
       "      <td>disgust</td>\n",
       "      <td>../Datasets/Tess/OAF_disgust\\OAF_keen_disgust.wav</td>\n",
       "      <td>[-2.702417e-05, -0.00012287479, -9.8161065e-05...</td>\n",
       "    </tr>\n",
       "    <tr>\n",
       "      <th>2565</th>\n",
       "      <td>surprise</td>\n",
       "      <td>../Datasets/Tess/YAF_pleasant_surprised\\YAF_ta...</td>\n",
       "      <td>[0.00021007058, -4.7127483e-06, -0.00028747716...</td>\n",
       "    </tr>\n",
       "    <tr>\n",
       "      <th>2109</th>\n",
       "      <td>happy</td>\n",
       "      <td>../Datasets/Tess/YAF_happy\\YAF_name_happy.wav</td>\n",
       "      <td>[0.0001647222, -0.00034258855, 0.00059318903, ...</td>\n",
       "    </tr>\n",
       "  </tbody>\n",
       "</table>\n",
       "</div>"
      ],
      "text/plain": [
       "       Emotion                                          File_Path  \\\n",
       "2630       sad          ../Datasets/Tess/YAF_sad\\YAF_dime_sad.wav   \n",
       "2342   neutral  ../Datasets/Tess/YAF_neutral\\YAF_rough_neutral...   \n",
       "1332       sad           ../Datasets/Tess/OAF_Sad\\OAF_rat_sad.wav   \n",
       "435       fear        ../Datasets/Tess/OAF_Fear\\OAF_doll_fear.wav   \n",
       "1607   disgust  ../Datasets/Tess/YAF_disgust\\YAF_boat_disgust.wav   \n",
       "175      angry      ../Datasets/Tess/OAF_angry\\OAF_tire_angry.wav   \n",
       "756      happy      ../Datasets/Tess/OAF_happy\\OAF_size_happy.wav   \n",
       "272    disgust  ../Datasets/Tess/OAF_disgust\\OAF_keen_disgust.wav   \n",
       "2565  surprise  ../Datasets/Tess/YAF_pleasant_surprised\\YAF_ta...   \n",
       "2109     happy      ../Datasets/Tess/YAF_happy\\YAF_name_happy.wav   \n",
       "\n",
       "                                                   Data  \n",
       "2630  [0.00030458177, 0.0004992261, 0.0002611295, 0....  \n",
       "2342  [-0.00013931152, -0.0003272204, -0.00033982718...  \n",
       "1332  [-2.5270087e-05, -0.00012443765, -0.0001398153...  \n",
       "435   [-2.4752495e-05, -0.00015065935, -0.0001256739...  \n",
       "1607  [9.0041394e-05, 0.00012539576, 0.00019520515, ...  \n",
       "175   [-1.789683e-06, -9.020643e-05, -6.503229e-05, ...  \n",
       "756   [-0.00034475175, -0.0007017173, -0.00070275273...  \n",
       "272   [-2.702417e-05, -0.00012287479, -9.8161065e-05...  \n",
       "2565  [0.00021007058, -4.7127483e-06, -0.00028747716...  \n",
       "2109  [0.0001647222, -0.00034258855, 0.00059318903, ...  "
      ]
     },
     "execution_count": 6,
     "metadata": {},
     "output_type": "execute_result"
    }
   ],
   "source": [
    "df.sample(10)"
   ]
  },
  {
   "cell_type": "code",
   "execution_count": 7,
   "metadata": {},
   "outputs": [
    {
     "data": {
      "text/plain": [
       "array([-3.2440112e-05, -2.2839665e-04, -2.6419506e-04, ...,\n",
       "        1.4678617e-04,  1.4156198e-04,  0.0000000e+00], dtype=float32)"
      ]
     },
     "execution_count": 7,
     "metadata": {},
     "output_type": "execute_result"
    }
   ],
   "source": [
    "df['Data'][0]"
   ]
  },
  {
   "cell_type": "code",
   "execution_count": 11,
   "metadata": {},
   "outputs": [],
   "source": [
    "classes = ['angry', 'disgust', 'fear', 'happy', 'neutral', 'sad', 'surprise']\n",
    "\n",
    "df['Class'] = df['Emotion'].apply(lambda x: classes.index(x))"
   ]
  },
  {
   "cell_type": "code",
   "execution_count": 12,
   "metadata": {},
   "outputs": [
    {
     "data": {
      "text/html": [
       "<div>\n",
       "<style scoped>\n",
       "    .dataframe tbody tr th:only-of-type {\n",
       "        vertical-align: middle;\n",
       "    }\n",
       "\n",
       "    .dataframe tbody tr th {\n",
       "        vertical-align: top;\n",
       "    }\n",
       "\n",
       "    .dataframe thead th {\n",
       "        text-align: right;\n",
       "    }\n",
       "</style>\n",
       "<table border=\"1\" class=\"dataframe\">\n",
       "  <thead>\n",
       "    <tr style=\"text-align: right;\">\n",
       "      <th></th>\n",
       "      <th>Emotion</th>\n",
       "      <th>File_Path</th>\n",
       "      <th>Data</th>\n",
       "      <th>Class</th>\n",
       "    </tr>\n",
       "  </thead>\n",
       "  <tbody>\n",
       "    <tr>\n",
       "      <th>2448</th>\n",
       "      <td>surprise</td>\n",
       "      <td>../Datasets/Tess/YAF_pleasant_surprised\\YAF_ge...</td>\n",
       "      <td>[0.00010239113, 0.0007347176, 0.00070822274, 0...</td>\n",
       "      <td>6</td>\n",
       "    </tr>\n",
       "    <tr>\n",
       "      <th>2595</th>\n",
       "      <td>surprise</td>\n",
       "      <td>../Datasets/Tess/YAF_pleasant_surprised\\YAF_wi...</td>\n",
       "      <td>[0.00013301178, -0.00012024675, -0.00022035638...</td>\n",
       "      <td>6</td>\n",
       "    </tr>\n",
       "    <tr>\n",
       "      <th>897</th>\n",
       "      <td>neutral</td>\n",
       "      <td>../Datasets/Tess/OAF_neutral\\OAF_merge_neutral...</td>\n",
       "      <td>[-0.00012092006, -0.0004943309, -0.0005084398,...</td>\n",
       "      <td>4</td>\n",
       "    </tr>\n",
       "    <tr>\n",
       "      <th>2001</th>\n",
       "      <td>happy</td>\n",
       "      <td>../Datasets/Tess/YAF_happy\\YAF_bar_happy.wav</td>\n",
       "      <td>[-0.00012509429, -0.00045520707, -0.0005925781...</td>\n",
       "      <td>3</td>\n",
       "    </tr>\n",
       "    <tr>\n",
       "      <th>41</th>\n",
       "      <td>angry</td>\n",
       "      <td>../Datasets/Tess/OAF_angry\\OAF_fit_angry.wav</td>\n",
       "      <td>[-1.975169e-05, -0.0001309129, -0.0001320413, ...</td>\n",
       "      <td>0</td>\n",
       "    </tr>\n",
       "    <tr>\n",
       "      <th>1557</th>\n",
       "      <td>angry</td>\n",
       "      <td>../Datasets/Tess/YAF_angry\\YAF_soap_angry.wav</td>\n",
       "      <td>[0.00017626745, -0.00071910565, -0.0017538101,...</td>\n",
       "      <td>0</td>\n",
       "    </tr>\n",
       "    <tr>\n",
       "      <th>1913</th>\n",
       "      <td>fear</td>\n",
       "      <td>../Datasets/Tess/YAF_fear\\YAF_note_fear.wav</td>\n",
       "      <td>[4.782728e-05, -4.255163e-05, -0.00016971458, ...</td>\n",
       "      <td>2</td>\n",
       "    </tr>\n",
       "    <tr>\n",
       "      <th>1907</th>\n",
       "      <td>fear</td>\n",
       "      <td>../Datasets/Tess/YAF_fear\\YAF_mouse_fear.wav</td>\n",
       "      <td>[0.00017781304, -0.00037410445, -0.0010782348,...</td>\n",
       "      <td>2</td>\n",
       "    </tr>\n",
       "    <tr>\n",
       "      <th>1474</th>\n",
       "      <td>angry</td>\n",
       "      <td>../Datasets/Tess/YAF_angry\\YAF_keg_angry.wav</td>\n",
       "      <td>[0.0004741381, -0.0006469588, -0.0012784697, -...</td>\n",
       "      <td>0</td>\n",
       "    </tr>\n",
       "    <tr>\n",
       "      <th>1125</th>\n",
       "      <td>surprise</td>\n",
       "      <td>../Datasets/Tess/OAF_Pleasant_surprise\\OAF_pol...</td>\n",
       "      <td>[-1.6074606e-06, -0.000120696845, -0.000207410...</td>\n",
       "      <td>6</td>\n",
       "    </tr>\n",
       "  </tbody>\n",
       "</table>\n",
       "</div>"
      ],
      "text/plain": [
       "       Emotion                                          File_Path  \\\n",
       "2448  surprise  ../Datasets/Tess/YAF_pleasant_surprised\\YAF_ge...   \n",
       "2595  surprise  ../Datasets/Tess/YAF_pleasant_surprised\\YAF_wi...   \n",
       "897    neutral  ../Datasets/Tess/OAF_neutral\\OAF_merge_neutral...   \n",
       "2001     happy       ../Datasets/Tess/YAF_happy\\YAF_bar_happy.wav   \n",
       "41       angry       ../Datasets/Tess/OAF_angry\\OAF_fit_angry.wav   \n",
       "1557     angry      ../Datasets/Tess/YAF_angry\\YAF_soap_angry.wav   \n",
       "1913      fear        ../Datasets/Tess/YAF_fear\\YAF_note_fear.wav   \n",
       "1907      fear       ../Datasets/Tess/YAF_fear\\YAF_mouse_fear.wav   \n",
       "1474     angry       ../Datasets/Tess/YAF_angry\\YAF_keg_angry.wav   \n",
       "1125  surprise  ../Datasets/Tess/OAF_Pleasant_surprise\\OAF_pol...   \n",
       "\n",
       "                                                   Data  Class  \n",
       "2448  [0.00010239113, 0.0007347176, 0.00070822274, 0...      6  \n",
       "2595  [0.00013301178, -0.00012024675, -0.00022035638...      6  \n",
       "897   [-0.00012092006, -0.0004943309, -0.0005084398,...      4  \n",
       "2001  [-0.00012509429, -0.00045520707, -0.0005925781...      3  \n",
       "41    [-1.975169e-05, -0.0001309129, -0.0001320413, ...      0  \n",
       "1557  [0.00017626745, -0.00071910565, -0.0017538101,...      0  \n",
       "1913  [4.782728e-05, -4.255163e-05, -0.00016971458, ...      2  \n",
       "1907  [0.00017781304, -0.00037410445, -0.0010782348,...      2  \n",
       "1474  [0.0004741381, -0.0006469588, -0.0012784697, -...      0  \n",
       "1125  [-1.6074606e-06, -0.000120696845, -0.000207410...      6  "
      ]
     },
     "execution_count": 12,
     "metadata": {},
     "output_type": "execute_result"
    }
   ],
   "source": [
    "df.sample(10)"
   ]
  },
  {
   "cell_type": "code",
   "execution_count": 14,
   "metadata": {},
   "outputs": [
    {
     "data": {
      "text/plain": [
       "numpy.ndarray"
      ]
     },
     "execution_count": 14,
     "metadata": {},
     "output_type": "execute_result"
    }
   ],
   "source": [
    "type(df['Data'][0])"
   ]
  },
  {
   "cell_type": "code",
   "execution_count": 16,
   "metadata": {},
   "outputs": [],
   "source": [
    "df.to_parquet('./features/tess.pqt', index = False)"
   ]
  }
 ],
 "metadata": {
  "kernelspec": {
   "display_name": "Python 3.10.6 64-bit",
   "language": "python",
   "name": "python3"
  },
  "language_info": {
   "codemirror_mode": {
    "name": "ipython",
    "version": 3
   },
   "file_extension": ".py",
   "mimetype": "text/x-python",
   "name": "python",
   "nbconvert_exporter": "python",
   "pygments_lexer": "ipython3",
   "version": "3.10.6"
  },
  "orig_nbformat": 4,
  "vscode": {
   "interpreter": {
    "hash": "d160966f923a3a33b7e4678143d4ddbf9984fa94549c4439610f55de51f406fe"
   }
  }
 },
 "nbformat": 4,
 "nbformat_minor": 2
}
