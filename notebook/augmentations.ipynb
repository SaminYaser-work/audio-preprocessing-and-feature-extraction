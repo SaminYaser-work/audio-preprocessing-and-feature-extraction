{
 "cells": [
  {
   "cell_type": "code",
   "execution_count": 1,
   "metadata": {},
   "outputs": [],
   "source": [
    "import os\n",
    "from tqdm import tqdm\n",
    "import numpy as np\n",
    "import librosa\n",
    "import soundfile as sf\n",
    "import matplotlib.pyplot as plt\n",
    "import pandas as pd\n",
    "from audiomentations import Compose, AddGaussianNoise, TimeStretch, PitchShift, Shift, Gain, PolarityInversion, TimeMask, FrequencyMask, SpecFrequencyMask, RoomSimulator, AddBackgroundNoise, Trim, BandStopFilter, Padding"
   ]
  },
  {
   "cell_type": "code",
   "execution_count": 9,
   "metadata": {},
   "outputs": [],
   "source": [
    "general_aug = Compose([\n",
    "    AddGaussianNoise(min_amplitude=0.001, max_amplitude=0.005, p=.5),\n",
    "    TimeStretch(min_rate=0.8, max_rate=1.25, p=.5),\n",
    "    PitchShift(min_semitones=-3, max_semitones=3, p=.5),\n",
    "    Shift(min_fraction=-0.3, max_fraction=0.3, p=.5),\n",
    "], shuffle=True)\n",
    "\n",
    "spec_aug = Compose([\n",
    "    TimeMask(min_band_part=0.1, max_band_part=.2, p=.5),\n",
    "    # FrequencyMask(min_frequency_band=0.4, max_frequency_band=0.8, p=1),\n",
    "    BandStopFilter(p=1)\n",
    "])"
   ]
  },
  {
   "cell_type": "code",
   "execution_count": 3,
   "metadata": {},
   "outputs": [
    {
     "name": "stderr",
     "output_type": "stream",
     "text": [
      "100%|██████████| 864/864 [00:00<00:00, 284493.54it/s]\n"
     ]
    }
   ],
   "source": [
    "files = []\n",
    "emo = []\n",
    "\n",
    "for dirpath, dirnames, filenames in os.walk('../Datasets/combined/train/'):\n",
    "    for filename in tqdm(filenames):\n",
    "\n",
    "        splits = filename.split('-')\n",
    "\n",
    "        sound = os.path.join(dirpath, filename)\n",
    "\n",
    "        emotion = int(splits[2])\n",
    "\n",
    "        files.append(sound)\n",
    "        emo.append(emotion)\n",
    "    \n",
    "df = pd.DataFrame({'sound': files, 'emotion': emo})\n",
    "    "
   ]
  },
  {
   "cell_type": "code",
   "execution_count": 4,
   "metadata": {},
   "outputs": [
    {
     "data": {
      "text/html": [
       "<div>\n",
       "<style scoped>\n",
       "    .dataframe tbody tr th:only-of-type {\n",
       "        vertical-align: middle;\n",
       "    }\n",
       "\n",
       "    .dataframe tbody tr th {\n",
       "        vertical-align: top;\n",
       "    }\n",
       "\n",
       "    .dataframe thead th {\n",
       "        text-align: right;\n",
       "    }\n",
       "</style>\n",
       "<table border=\"1\" class=\"dataframe\">\n",
       "  <thead>\n",
       "    <tr style=\"text-align: right;\">\n",
       "      <th></th>\n",
       "      <th>sound</th>\n",
       "      <th>emotion</th>\n",
       "    </tr>\n",
       "  </thead>\n",
       "  <tbody>\n",
       "    <tr>\n",
       "      <th>56</th>\n",
       "      <td>../Datasets/combined/train/03-01-01-01-02-02-2...</td>\n",
       "      <td>1</td>\n",
       "    </tr>\n",
       "    <tr>\n",
       "      <th>3</th>\n",
       "      <td>../Datasets/combined/train/03-01-01-01-01-01-0...</td>\n",
       "      <td>1</td>\n",
       "    </tr>\n",
       "    <tr>\n",
       "      <th>75</th>\n",
       "      <td>../Datasets/combined/train/03-01-02-01-01-02-0...</td>\n",
       "      <td>2</td>\n",
       "    </tr>\n",
       "    <tr>\n",
       "      <th>552</th>\n",
       "      <td>../Datasets/combined/train/03-01-06-01-02-01-1...</td>\n",
       "      <td>6</td>\n",
       "    </tr>\n",
       "    <tr>\n",
       "      <th>288</th>\n",
       "      <td>../Datasets/combined/train/03-01-04-01-01-01-0...</td>\n",
       "      <td>4</td>\n",
       "    </tr>\n",
       "    <tr>\n",
       "      <th>814</th>\n",
       "      <td>../Datasets/combined/train/03-01-08-02-01-01-1...</td>\n",
       "      <td>8</td>\n",
       "    </tr>\n",
       "    <tr>\n",
       "      <th>108</th>\n",
       "      <td>../Datasets/combined/train/03-01-02-01-02-02-1...</td>\n",
       "      <td>2</td>\n",
       "    </tr>\n",
       "    <tr>\n",
       "      <th>803</th>\n",
       "      <td>../Datasets/combined/train/03-01-08-01-02-02-1...</td>\n",
       "      <td>8</td>\n",
       "    </tr>\n",
       "    <tr>\n",
       "      <th>849</th>\n",
       "      <td>../Datasets/combined/train/03-01-08-02-02-01-2...</td>\n",
       "      <td>8</td>\n",
       "    </tr>\n",
       "    <tr>\n",
       "      <th>421</th>\n",
       "      <td>../Datasets/combined/train/03-01-05-01-01-02-1...</td>\n",
       "      <td>5</td>\n",
       "    </tr>\n",
       "  </tbody>\n",
       "</table>\n",
       "</div>"
      ],
      "text/plain": [
       "                                                 sound  emotion\n",
       "56   ../Datasets/combined/train/03-01-01-01-02-02-2...        1\n",
       "3    ../Datasets/combined/train/03-01-01-01-01-01-0...        1\n",
       "75   ../Datasets/combined/train/03-01-02-01-01-02-0...        2\n",
       "552  ../Datasets/combined/train/03-01-06-01-02-01-1...        6\n",
       "288  ../Datasets/combined/train/03-01-04-01-01-01-0...        4\n",
       "814  ../Datasets/combined/train/03-01-08-02-01-01-1...        8\n",
       "108  ../Datasets/combined/train/03-01-02-01-02-02-1...        2\n",
       "803  ../Datasets/combined/train/03-01-08-01-02-02-1...        8\n",
       "849  ../Datasets/combined/train/03-01-08-02-02-01-2...        8\n",
       "421  ../Datasets/combined/train/03-01-05-01-01-02-1...        5"
      ]
     },
     "execution_count": 4,
     "metadata": {},
     "output_type": "execute_result"
    }
   ],
   "source": [
    "df.sample(10)"
   ]
  },
  {
   "cell_type": "code",
   "execution_count": 10,
   "metadata": {},
   "outputs": [
    {
     "name": "stderr",
     "output_type": "stream",
     "text": [
      "864it [04:17,  3.35it/s]\n"
     ]
    }
   ],
   "source": [
    "for _, row in tqdm(df.iterrows()):\n",
    "    data, sr = librosa.load(row['sound'], sr=48000)\n",
    "    data_aug_gen = general_aug(samples=data, sample_rate=sr)\n",
    "    data_aug_spec = spec_aug(samples=data, sample_rate=sr)\n",
    "\n",
    "    y = row['sound'].split('/')[-1]\n",
    "\n",
    "    sf.write('../Datasets/combined/train_gen_aug/' + y, data_aug_gen, sr)\n",
    "    sf.write('../Datasets/combined/train_spec_aug/' + y, data_aug_spec, sr)"
   ]
  }
 ],
 "metadata": {
  "kernelspec": {
   "display_name": "Python 3.10.6 64-bit",
   "language": "python",
   "name": "python3"
  },
  "language_info": {
   "codemirror_mode": {
    "name": "ipython",
    "version": 3
   },
   "file_extension": ".py",
   "mimetype": "text/x-python",
   "name": "python",
   "nbconvert_exporter": "python",
   "pygments_lexer": "ipython3",
   "version": "3.10.6"
  },
  "orig_nbformat": 4,
  "vscode": {
   "interpreter": {
    "hash": "d160966f923a3a33b7e4678143d4ddbf9984fa94549c4439610f55de51f406fe"
   }
  }
 },
 "nbformat": 4,
 "nbformat_minor": 2
}
