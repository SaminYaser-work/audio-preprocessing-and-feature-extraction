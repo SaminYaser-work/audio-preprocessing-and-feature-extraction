{
 "cells": [
  {
   "cell_type": "code",
   "execution_count": 1,
   "metadata": {},
   "outputs": [],
   "source": [
    "import pandas as pd\n",
    "import re"
   ]
  },
  {
   "cell_type": "code",
   "execution_count": 2,
   "metadata": {},
   "outputs": [
    {
     "name": "stdout",
     "output_type": "stream",
     "text": [
      "Emotion_Class precision    recall  f1-score   support\n",
      "       angry   0.948718  0.973684  0.961039        38\n",
      "     disgust   0.948718  0.973684  0.961039        38\n",
      "        fear   0.711111  0.842105  0.771084        38\n",
      "       happy   1.000000  0.743590  0.852941        39\n",
      "     neutral   0.904762  0.982759  0.942149        58\n",
      "         sad   0.828571  0.763158  0.794521        38\n",
      "    surprise   0.973684  0.948718  0.961039        39\n",
      "    accuracy                       0.895833       288\n",
      "   macro avg   0.902224  0.889671  0.891973       288\n",
      "weighted avg   0.902987  0.895833  0.895562       288\n"
     ]
    }
   ],
   "source": [
    "cr = \"\"\"\n",
    "              precision    recall  f1-score   support\n",
    "       angry   0.948718  0.973684  0.961039        38\n",
    "     disgust   0.948718  0.973684  0.961039        38\n",
    "        fear   0.711111  0.842105  0.771084        38\n",
    "       happy   1.000000  0.743590  0.852941        39\n",
    "     neutral   0.904762  0.982759  0.942149        58\n",
    "         sad   0.828571  0.763158  0.794521        38\n",
    "    surprise   0.973684  0.948718  0.961039        39\n",
    "    accuracy                       0.895833       288\n",
    "   macro avg   0.902224  0.889671  0.891973       288\n",
    "weighted avg   0.902987  0.895833  0.895562       288\n",
    "\"\"\"\n",
    "\n",
    "cr = cr.strip()\n",
    "cr = 'Emotion_Class ' + cr\n",
    "print(cr)"
   ]
  },
  {
   "cell_type": "code",
   "execution_count": 3,
   "metadata": {},
   "outputs": [
    {
     "name": "stdout",
     "output_type": "stream",
     "text": [
      "Emotion_Class,Precision,Recall,F1_Score,Support\n",
      "angry,0.948718,0.973684,0.961039,38\n",
      "disgust,0.948718,0.973684,0.961039,38\n",
      "fear,0.711111,0.842105,0.771084,38\n",
      "happy,1.000000,0.743590,0.852941,39\n",
      "neutral,0.904762,0.982759,0.942149,58\n",
      "sad,0.828571,0.763158,0.794521,38\n",
      "surprise,0.973684,0.948718,0.961039,39\n",
      "Accuracy,0.895833,288\n",
      "Macro_F1,0.902224,0.889671,0.891973,288\n",
      "Weighted_F2,0.902987,0.895833,0.895562,288\n",
      "\n"
     ]
    }
   ],
   "source": [
    "ncr = ''\n",
    "\n",
    "for line in cr.split('\\n'):\n",
    "    line = line.strip()\n",
    "    line = line.replace('recall', 'Recall')\n",
    "    line = line.replace('f1-score', 'F1_Score')\n",
    "    line = line.replace('support', 'Support')\n",
    "    line = line.replace('precision', 'Precision')\n",
    "    line = line.replace('accuracy', 'Accuracy')\n",
    "    line = line.replace('macro avg', 'Macro_F1')\n",
    "    line = line.replace('weighted avg', 'Weighted_F2')\n",
    "    line = re.sub(r'\\s+', ',', line)\n",
    "    ncr += line + '\\n'\n",
    "print(ncr)\n",
    "\n",
    "with open('../results/Hubert/ravdess_aug.csv', 'w') as f:\n",
    "    f.write(ncr)\n",
    "\n",
    "# df = pd.read_csv('cr_test.csv')\n",
    "# df['F1_Score'] = df['F1_Score'].apply(lambda x: round(x*100, 2))\n",
    "# df['Precision'] = df['Precision'].apply(lambda x: round(x*100, 2))\n",
    "# df['Recall'] = df['Recall'].apply(lambda x: round(x*100, 2))"
   ]
  }
 ],
 "metadata": {
  "kernelspec": {
   "display_name": "Python 3.10.8 64-bit",
   "language": "python",
   "name": "python3"
  },
  "language_info": {
   "codemirror_mode": {
    "name": "ipython",
    "version": 3
   },
   "file_extension": ".py",
   "mimetype": "text/x-python",
   "name": "python",
   "nbconvert_exporter": "python",
   "pygments_lexer": "ipython3",
   "version": "3.10.8"
  },
  "orig_nbformat": 4,
  "vscode": {
   "interpreter": {
    "hash": "e7370f93d1d0cde622a1f8e1c04877d8463912d04d973331ad4851f04de6915a"
   }
  }
 },
 "nbformat": 4,
 "nbformat_minor": 2
}
