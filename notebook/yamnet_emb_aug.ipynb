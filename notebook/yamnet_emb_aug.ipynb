{
 "cells": [
  {
   "cell_type": "code",
   "execution_count": 2,
   "metadata": {},
   "outputs": [
    {
     "name": "stderr",
     "output_type": "stream",
     "text": [
      "2022-11-17 16:20:01.987099: I tensorflow/core/platform/cpu_feature_guard.cc:193] This TensorFlow binary is optimized with oneAPI Deep Neural Network Library (oneDNN) to use the following CPU instructions in performance-critical operations:  AVX2 FMA\n",
      "To enable them in other operations, rebuild TensorFlow with the appropriate compiler flags.\n",
      "2022-11-17 16:20:04.615910: W tensorflow/stream_executor/platform/default/dso_loader.cc:64] Could not load dynamic library 'libcudart.so.11.0'; dlerror: libcudart.so.11.0: cannot open shared object file: No such file or directory\n",
      "2022-11-17 16:20:04.615928: I tensorflow/stream_executor/cuda/cudart_stub.cc:29] Ignore above cudart dlerror if you do not have a GPU set up on your machine.\n",
      "2022-11-17 16:20:04.897066: E tensorflow/stream_executor/cuda/cuda_blas.cc:2981] Unable to register cuBLAS factory: Attempting to register factory for plugin cuBLAS when one has already been registered\n",
      "2022-11-17 16:20:09.266743: W tensorflow/stream_executor/platform/default/dso_loader.cc:64] Could not load dynamic library 'libnvinfer.so.7'; dlerror: libnvinfer.so.7: cannot open shared object file: No such file or directory\n",
      "2022-11-17 16:20:09.266967: W tensorflow/stream_executor/platform/default/dso_loader.cc:64] Could not load dynamic library 'libnvinfer_plugin.so.7'; dlerror: libnvinfer_plugin.so.7: cannot open shared object file: No such file or directory\n",
      "2022-11-17 16:20:09.266976: W tensorflow/compiler/tf2tensorrt/utils/py_utils.cc:38] TF-TRT Warning: Cannot dlopen some TensorRT libraries. If you would like to use Nvidia GPU with TensorRT, please make sure the missing libraries mentioned above are installed properly.\n"
     ]
    }
   ],
   "source": [
    "import tensorflow as tf\n",
    "import tensorflow_hub as hub\n",
    "import numpy as np\n",
    "import librosa\n",
    "from tqdm import tqdm\n",
    "import matplotlib.pyplot as plt\n",
    "import os\n",
    "import pandas as pd"
   ]
  },
  {
   "cell_type": "code",
   "execution_count": 3,
   "metadata": {},
   "outputs": [],
   "source": [
    "CLASSES5 = ['angry', 'happy', 'neutral', 'sad', 'surprise']\n",
    "CLASSES6 = ['angry', 'disgust', 'fear', 'happy', 'neutral', 'sad']\n",
    "CLASSES7 = ['angry', 'disgust', 'fear', 'happy', 'neutral', 'sad', 'surprise']"
   ]
  },
  {
   "cell_type": "code",
   "execution_count": 4,
   "metadata": {},
   "outputs": [
    {
     "name": "stderr",
     "output_type": "stream",
     "text": [
      "2022-11-17 16:20:29.330744: I tensorflow/stream_executor/cuda/cuda_gpu_executor.cc:980] successful NUMA node read from SysFS had negative value (-1), but there must be at least one NUMA node, so returning NUMA node zero\n",
      "2022-11-17 16:20:29.331021: W tensorflow/stream_executor/platform/default/dso_loader.cc:64] Could not load dynamic library 'libcudart.so.11.0'; dlerror: libcudart.so.11.0: cannot open shared object file: No such file or directory\n",
      "2022-11-17 16:20:29.331090: W tensorflow/stream_executor/platform/default/dso_loader.cc:64] Could not load dynamic library 'libcublas.so.11'; dlerror: libcublas.so.11: cannot open shared object file: No such file or directory\n",
      "2022-11-17 16:20:29.331141: W tensorflow/stream_executor/platform/default/dso_loader.cc:64] Could not load dynamic library 'libcublasLt.so.11'; dlerror: libcublasLt.so.11: cannot open shared object file: No such file or directory\n",
      "2022-11-17 16:20:29.331191: W tensorflow/stream_executor/platform/default/dso_loader.cc:64] Could not load dynamic library 'libcufft.so.10'; dlerror: libcufft.so.10: cannot open shared object file: No such file or directory\n",
      "2022-11-17 16:20:29.331254: W tensorflow/stream_executor/platform/default/dso_loader.cc:64] Could not load dynamic library 'libcurand.so.10'; dlerror: libcurand.so.10: cannot open shared object file: No such file or directory\n",
      "2022-11-17 16:20:29.331331: W tensorflow/stream_executor/platform/default/dso_loader.cc:64] Could not load dynamic library 'libcusolver.so.11'; dlerror: libcusolver.so.11: cannot open shared object file: No such file or directory\n",
      "2022-11-17 16:20:29.331394: W tensorflow/stream_executor/platform/default/dso_loader.cc:64] Could not load dynamic library 'libcusparse.so.11'; dlerror: libcusparse.so.11: cannot open shared object file: No such file or directory\n",
      "2022-11-17 16:20:29.331456: W tensorflow/stream_executor/platform/default/dso_loader.cc:64] Could not load dynamic library 'libcudnn.so.8'; dlerror: libcudnn.so.8: cannot open shared object file: No such file or directory\n",
      "2022-11-17 16:20:29.331464: W tensorflow/core/common_runtime/gpu/gpu_device.cc:1934] Cannot dlopen some GPU libraries. Please make sure the missing libraries mentioned above are installed properly if you would like to use GPU. Follow the guide at https://www.tensorflow.org/install/gpu for how to download and setup the required libraries for your platform.\n",
      "Skipping registering GPU devices...\n",
      "2022-11-17 16:20:29.331701: I tensorflow/core/platform/cpu_feature_guard.cc:193] This TensorFlow binary is optimized with oneAPI Deep Neural Network Library (oneDNN) to use the following CPU instructions in performance-critical operations:  AVX2 FMA\n",
      "To enable them in other operations, rebuild TensorFlow with the appropriate compiler flags.\n"
     ]
    }
   ],
   "source": [
    "# Load the model.\n",
    "model = hub.load('https://tfhub.dev/google/yamnet/1')"
   ]
  },
  {
   "cell_type": "code",
   "execution_count": 5,
   "metadata": {},
   "outputs": [
    {
     "data": {
      "text/html": [
       "<div>\n",
       "<style scoped>\n",
       "    .dataframe tbody tr th:only-of-type {\n",
       "        vertical-align: middle;\n",
       "    }\n",
       "\n",
       "    .dataframe tbody tr th {\n",
       "        vertical-align: top;\n",
       "    }\n",
       "\n",
       "    .dataframe thead th {\n",
       "        text-align: right;\n",
       "    }\n",
       "</style>\n",
       "<table border=\"1\" class=\"dataframe\">\n",
       "  <thead>\n",
       "    <tr style=\"text-align: right;\">\n",
       "      <th></th>\n",
       "      <th>file</th>\n",
       "      <th>emotion</th>\n",
       "      <th>split</th>\n",
       "      <th>dataset</th>\n",
       "      <th>augmentation</th>\n",
       "      <th>language</th>\n",
       "    </tr>\n",
       "  </thead>\n",
       "  <tbody>\n",
       "    <tr>\n",
       "      <th>0</th>\n",
       "      <td>../Datasets/custom_db/tess/train/angry_1068.wav</td>\n",
       "      <td>angry</td>\n",
       "      <td>train</td>\n",
       "      <td>tess</td>\n",
       "      <td>none</td>\n",
       "      <td>en</td>\n",
       "    </tr>\n",
       "    <tr>\n",
       "      <th>1</th>\n",
       "      <td>../Datasets/custom_db/tess/train/surprise_1286...</td>\n",
       "      <td>surprise</td>\n",
       "      <td>train</td>\n",
       "      <td>tess</td>\n",
       "      <td>none</td>\n",
       "      <td>en</td>\n",
       "    </tr>\n",
       "    <tr>\n",
       "      <th>2</th>\n",
       "      <td>../Datasets/custom_db/tess/train/fear_248.wav</td>\n",
       "      <td>fear</td>\n",
       "      <td>train</td>\n",
       "      <td>tess</td>\n",
       "      <td>none</td>\n",
       "      <td>en</td>\n",
       "    </tr>\n",
       "    <tr>\n",
       "      <th>3</th>\n",
       "      <td>../Datasets/custom_db/tess/train/happy_2790.wav</td>\n",
       "      <td>happy</td>\n",
       "      <td>train</td>\n",
       "      <td>tess</td>\n",
       "      <td>none</td>\n",
       "      <td>en</td>\n",
       "    </tr>\n",
       "    <tr>\n",
       "      <th>4</th>\n",
       "      <td>../Datasets/custom_db/tess/train/surprise_139.wav</td>\n",
       "      <td>surprise</td>\n",
       "      <td>train</td>\n",
       "      <td>tess</td>\n",
       "      <td>none</td>\n",
       "      <td>en</td>\n",
       "    </tr>\n",
       "    <tr>\n",
       "      <th>...</th>\n",
       "      <td>...</td>\n",
       "      <td>...</td>\n",
       "      <td>...</td>\n",
       "      <td>...</td>\n",
       "      <td>...</td>\n",
       "      <td>...</td>\n",
       "    </tr>\n",
       "    <tr>\n",
       "      <th>92777</th>\n",
       "      <td>../Datasets/custom_db/bser/augment/happy_1017_...</td>\n",
       "      <td>happy</td>\n",
       "      <td>augment</td>\n",
       "      <td>bser</td>\n",
       "      <td>freqmask</td>\n",
       "      <td>bn</td>\n",
       "    </tr>\n",
       "    <tr>\n",
       "      <th>92778</th>\n",
       "      <td>../Datasets/custom_db/bser/augment/happy_660_p...</td>\n",
       "      <td>happy</td>\n",
       "      <td>augment</td>\n",
       "      <td>bser</td>\n",
       "      <td>pitchshift</td>\n",
       "      <td>bn</td>\n",
       "    </tr>\n",
       "    <tr>\n",
       "      <th>92779</th>\n",
       "      <td>../Datasets/custom_db/bser/augment/neutral_479...</td>\n",
       "      <td>neutral</td>\n",
       "      <td>augment</td>\n",
       "      <td>bser</td>\n",
       "      <td>freqmask</td>\n",
       "      <td>bn</td>\n",
       "    </tr>\n",
       "    <tr>\n",
       "      <th>92780</th>\n",
       "      <td>../Datasets/custom_db/bser/augment/happy_841_t...</td>\n",
       "      <td>happy</td>\n",
       "      <td>augment</td>\n",
       "      <td>bser</td>\n",
       "      <td>timemask</td>\n",
       "      <td>bn</td>\n",
       "    </tr>\n",
       "    <tr>\n",
       "      <th>92781</th>\n",
       "      <td>../Datasets/custom_db/bser/augment/happy_309_f...</td>\n",
       "      <td>happy</td>\n",
       "      <td>augment</td>\n",
       "      <td>bser</td>\n",
       "      <td>freqmask</td>\n",
       "      <td>bn</td>\n",
       "    </tr>\n",
       "  </tbody>\n",
       "</table>\n",
       "<p>92782 rows × 6 columns</p>\n",
       "</div>"
      ],
      "text/plain": [
       "                                                    file   emotion    split  \\\n",
       "0        ../Datasets/custom_db/tess/train/angry_1068.wav     angry    train   \n",
       "1      ../Datasets/custom_db/tess/train/surprise_1286...  surprise    train   \n",
       "2          ../Datasets/custom_db/tess/train/fear_248.wav      fear    train   \n",
       "3        ../Datasets/custom_db/tess/train/happy_2790.wav     happy    train   \n",
       "4      ../Datasets/custom_db/tess/train/surprise_139.wav  surprise    train   \n",
       "...                                                  ...       ...      ...   \n",
       "92777  ../Datasets/custom_db/bser/augment/happy_1017_...     happy  augment   \n",
       "92778  ../Datasets/custom_db/bser/augment/happy_660_p...     happy  augment   \n",
       "92779  ../Datasets/custom_db/bser/augment/neutral_479...   neutral  augment   \n",
       "92780  ../Datasets/custom_db/bser/augment/happy_841_t...     happy  augment   \n",
       "92781  ../Datasets/custom_db/bser/augment/happy_309_f...     happy  augment   \n",
       "\n",
       "      dataset augmentation language  \n",
       "0        tess         none       en  \n",
       "1        tess         none       en  \n",
       "2        tess         none       en  \n",
       "3        tess         none       en  \n",
       "4        tess         none       en  \n",
       "...       ...          ...      ...  \n",
       "92777    bser     freqmask       bn  \n",
       "92778    bser   pitchshift       bn  \n",
       "92779    bser     freqmask       bn  \n",
       "92780    bser     timemask       bn  \n",
       "92781    bser     freqmask       bn  \n",
       "\n",
       "[92782 rows x 6 columns]"
      ]
     },
     "execution_count": 5,
     "metadata": {},
     "output_type": "execute_result"
    }
   ],
   "source": [
    "df = pd.read_csv('../Datasets/custom_db/df.csv')\n",
    "df['file'] = df['file'].apply(lambda x: '../Datasets/custom_db/' + x[2:])\n",
    "df"
   ]
  },
  {
   "cell_type": "code",
   "execution_count": 11,
   "metadata": {},
   "outputs": [],
   "source": [
    "def get_embeddings(filename, label):\n",
    "    data, sr = librosa.load(filename, sr=None, mono=True, res_type='kaiser_best')\n",
    "\n",
    "    if sr != 16000:\n",
    "        raise ValueError('Sample rate is not 16kHz!')\n",
    "\n",
    "    _, embeddings, _ = model(data)\n",
    "    num_embeddings = tf.shape(embeddings)[0]\n",
    "    return embeddings, tf.repeat(label, num_embeddings)\n",
    "\n",
    "frame_length = 9288\n",
    "frame_step = frame_length // 2\n",
    "\n",
    "\n",
    "def get_embeddings_v2(filename, label):\n",
    "    data, sr = librosa.load(filename, sr=None, mono=True, res_type='kaiser_best')\n",
    "    data = tf.convert_to_tensor(data, dtype=tf.float32)\n",
    "    clips = tf.signal.frame(\n",
    "        data, frame_length=frame_length, frame_step=frame_step)\n",
    "    batch_labels = tf.repeat(tf.expand_dims(label, 0), len(clips))\n",
    "    batch_labels = batch_labels.numpy()\n",
    "\n",
    "    embs = []\n",
    "    for clip in clips:\n",
    "        _, embeddings, _ = model(clip)\n",
    "        embedding = np.mean(embeddings, axis=0)\n",
    "        embs.append(embedding)\n",
    "    embs = np.array(embs)\n",
    "\n",
    "    return embs, batch_labels"
   ]
  },
  {
   "cell_type": "code",
   "execution_count": 12,
   "metadata": {},
   "outputs": [],
   "source": [
    "r, s = get_embeddings(df['file'][0], df['emotion'][0])"
   ]
  },
  {
   "cell_type": "code",
   "execution_count": 13,
   "metadata": {},
   "outputs": [
    {
     "data": {
      "text/plain": [
       "(TensorShape([4, 1024]), TensorShape([4]))"
      ]
     },
     "execution_count": 13,
     "metadata": {},
     "output_type": "execute_result"
    }
   ],
   "source": [
    "r.shape, s.shape"
   ]
  },
  {
   "cell_type": "code",
   "execution_count": 14,
   "metadata": {},
   "outputs": [],
   "source": [
    "p, q = get_embeddings_v2(df['file'][86223], df['emotion'][86223])"
   ]
  },
  {
   "cell_type": "code",
   "execution_count": 15,
   "metadata": {},
   "outputs": [
    {
     "data": {
      "text/plain": [
       "(array([[0.24850607, 0.2073337 , 0.27354255, ..., 0.        , 0.        ,\n",
       "         0.        ]], dtype=float32),\n",
       " array([b'angry'], dtype=object))"
      ]
     },
     "execution_count": 15,
     "metadata": {},
     "output_type": "execute_result"
    }
   ],
   "source": [
    "p, q"
   ]
  },
  {
   "cell_type": "code",
   "execution_count": 16,
   "metadata": {},
   "outputs": [],
   "source": [
    "def save_embeddings(df, filename, split):\n",
    "    features = []\n",
    "    labels = []\n",
    "\n",
    "    if df['emotion'].nunique() == 6:\n",
    "        classes = CLASSES6\n",
    "    elif df['emotion'].nunique() == 5:\n",
    "        classes = CLASSES5\n",
    "    else:\n",
    "        classes = CLASSES7\n",
    "\n",
    "    for _, row in tqdm(df.iterrows(), total=df.shape[0]):\n",
    "        embs, label = get_embeddings_v2(row['file'], row['emotion'])\n",
    "        assert(len(embs) == len(label))\n",
    "        features.extend(embs)\n",
    "        labels.extend(label)\n",
    "\n",
    "        # for i in range(embs.shape[0]):\n",
    "        #     features.append(embs[i])\n",
    "        #     labels.append(classes.index(label[i]))\n",
    "    \n",
    "    features = np.array(features)\n",
    "    labels = np.array(labels)\n",
    "    np.save(filename + split + '_X.npy', features)\n",
    "    np.save(filename + split + '_y.npy', labels)"
   ]
  },
  {
   "cell_type": "code",
   "execution_count": 17,
   "metadata": {},
   "outputs": [
    {
     "name": "stderr",
     "output_type": "stream",
     "text": [
      "100%|██████████| 6047/6047 [04:48<00:00, 20.98it/s]\n",
      "100%|██████████| 1008/1008 [00:34<00:00, 29.44it/s]\n",
      "100%|██████████| 144/144 [00:05<00:00, 28.35it/s]\n",
      "100%|██████████| 288/288 [00:10<00:00, 28.64it/s]\n"
     ]
    }
   ],
   "source": [
    "ravdess = df[df['dataset'] == 'ravdess']\n",
    "\n",
    "train_aug = ravdess[(ravdess['split'] == 'train') | (ravdess['split'] == 'augment')]\n",
    "train = ravdess[ravdess['split'] == 'train']\n",
    "val = ravdess[ravdess['split'] == 'val']\n",
    "test = ravdess[ravdess['split'] == 'test']\n",
    "\n",
    "save_embeddings(train_aug, './features/yamnet_emb/ravdess/', 'train_aug')\n",
    "save_embeddings(train, './features/yamnet_emb/ravdess/', 'train')\n",
    "save_embeddings(val, './features/yamnet_emb/ravdess/', 'val')\n",
    "save_embeddings(test, './features/yamnet_emb/ravdess/', 'test')"
   ]
  },
  {
   "cell_type": "code",
   "execution_count": 18,
   "metadata": {},
   "outputs": [
    {
     "name": "stderr",
     "output_type": "stream",
     "text": [
      "100%|██████████| 2014/2014 [02:35<00:00, 12.99it/s]\n",
      "100%|██████████| 336/336 [00:23<00:00, 14.36it/s]\n",
      "100%|██████████| 48/48 [00:03<00:00, 12.98it/s]\n",
      "100%|██████████| 96/96 [00:07<00:00, 13.70it/s]\n"
     ]
    }
   ],
   "source": [
    "savee = df[df['dataset'] == 'savee']\n",
    "\n",
    "train_aug = savee[(savee['split'] == 'train') | (savee['split'] == 'augment')]\n",
    "train = savee[savee['split'] == 'train']\n",
    "val = savee[savee['split'] == 'val']\n",
    "test = savee[savee['split'] == 'test']\n",
    "\n",
    "save_embeddings(train_aug, './features/yamnet_emb/savee/', 'train_aug')\n",
    "save_embeddings(train, './features/yamnet_emb/savee/', 'train')\n",
    "save_embeddings(val, './features/yamnet_emb/savee/', 'val')\n",
    "save_embeddings(test, './features/yamnet_emb/savee/', 'test')"
   ]
  },
  {
   "cell_type": "code",
   "execution_count": 19,
   "metadata": {},
   "outputs": [
    {
     "name": "stderr",
     "output_type": "stream",
     "text": [
      "100%|██████████| 11753/11753 [10:32<00:00, 18.59it/s]\n",
      "100%|██████████| 1960/1960 [01:12<00:00, 27.04it/s]\n",
      "100%|██████████| 280/280 [00:11<00:00, 24.97it/s]\n",
      "100%|██████████| 560/560 [00:22<00:00, 25.37it/s]\n"
     ]
    }
   ],
   "source": [
    "tess = df[df['dataset'] == 'tess']\n",
    "\n",
    "train_aug = tess[(tess['split'] == 'train') | (tess['split'] == 'augment')]\n",
    "train = tess[tess['split'] == 'train']\n",
    "val = tess[tess['split'] == 'val']\n",
    "test = tess[tess['split'] == 'test']\n",
    "\n",
    "save_embeddings(train_aug, './features/yamnet_emb/tess/', 'train_aug')\n",
    "save_embeddings(train, './features/yamnet_emb/tess/', 'train')\n",
    "save_embeddings(val, './features/yamnet_emb/tess/', 'val')\n",
    "save_embeddings(test, './features/yamnet_emb/tess/', 'test')"
   ]
  },
  {
   "cell_type": "code",
   "execution_count": 20,
   "metadata": {},
   "outputs": [
    {
     "name": "stderr",
     "output_type": "stream",
     "text": [
      "100%|██████████| 31237/31237 [30:47<00:00, 16.91it/s]\n",
      "100%|██████████| 5208/5208 [03:39<00:00, 23.75it/s]\n",
      "100%|██████████| 745/745 [00:37<00:00, 19.89it/s]\n",
      "100%|██████████| 1489/1489 [01:19<00:00, 18.64it/s]\n"
     ]
    }
   ],
   "source": [
    "crema = df[df['dataset'] == 'crema']\n",
    "\n",
    "train_aug = crema[(crema['split'] == 'train') | (crema['split'] == 'augment')]\n",
    "train = crema[crema['split'] == 'train']\n",
    "val = crema[crema['split'] == 'val']\n",
    "test = crema[crema['split'] == 'test']\n",
    "\n",
    "save_embeddings(train_aug, './features/yamnet_emb/crema/', 'train_aug')\n",
    "save_embeddings(train, './features/yamnet_emb/crema/', 'train')\n",
    "save_embeddings(val, './features/yamnet_emb/crema/', 'val')\n",
    "save_embeddings(test, './features/yamnet_emb/crema/', 'test')"
   ]
  },
  {
   "cell_type": "code",
   "execution_count": 21,
   "metadata": {},
   "outputs": [
    {
     "name": "stderr",
     "output_type": "stream",
     "text": [
      "100%|██████████| 29386/29386 [27:21<00:00, 17.90it/s]\n",
      "100%|██████████| 4900/4900 [03:24<00:00, 23.92it/s]\n",
      "100%|██████████| 700/700 [00:32<00:00, 21.34it/s]\n",
      "100%|██████████| 1400/1400 [01:14<00:00, 18.83it/s]\n"
     ]
    }
   ],
   "source": [
    "subesco = df[df['dataset'] == 'subesco']\n",
    "\n",
    "train_aug = subesco[(subesco['split'] == 'train') | (subesco['split'] == 'augment')]\n",
    "train = subesco[subesco['split'] == 'train']\n",
    "val = subesco[subesco['split'] == 'val']\n",
    "test = subesco[subesco['split'] == 'test']\n",
    "\n",
    "save_embeddings(train_aug, './features/yamnet_emb/subesco/', 'train_aug')\n",
    "save_embeddings(train, './features/yamnet_emb/subesco/', 'train')\n",
    "save_embeddings(val, './features/yamnet_emb/subesco/', 'val')\n",
    "save_embeddings(test, './features/yamnet_emb/subesco/', 'test')"
   ]
  },
  {
   "cell_type": "code",
   "execution_count": 22,
   "metadata": {},
   "outputs": [
    {
     "name": "stderr",
     "output_type": "stream",
     "text": [
      "100%|██████████| 6154/6154 [03:53<00:00, 26.36it/s]\n",
      "100%|██████████| 1026/1026 [00:24<00:00, 41.44it/s]\n",
      "100%|██████████| 147/147 [00:03<00:00, 38.30it/s]\n",
      "100%|██████████| 294/294 [00:07<00:00, 36.85it/s]\n"
     ]
    }
   ],
   "source": [
    "bser = df[df['dataset'] == 'bser']\n",
    "\n",
    "train_aug = bser[(bser['split'] == 'train') | (bser['split'] == 'augment')]\n",
    "train = bser[bser['split'] == 'train']\n",
    "val = bser[bser['split'] == 'val']\n",
    "test = bser[bser['split'] == 'test']\n",
    "\n",
    "save_embeddings(train_aug, './features/yamnet_emb/bser/', 'train_aug')\n",
    "save_embeddings(train, './features/yamnet_emb/bser/', 'train')\n",
    "save_embeddings(val, './features/yamnet_emb/bser/', 'val')\n",
    "save_embeddings(test, './features/yamnet_emb/bser/', 'test')"
   ]
  },
  {
   "cell_type": "code",
   "execution_count": 23,
   "metadata": {},
   "outputs": [
    {
     "name": "stderr",
     "output_type": "stream",
     "text": [
      "100%|██████████| 51051/51051 [45:41<00:00, 18.62it/s]\n",
      "100%|██████████| 8512/8512 [05:41<00:00, 24.96it/s]\n",
      "100%|██████████| 1217/1217 [00:54<00:00, 22.26it/s]\n",
      "100%|██████████| 2433/2433 [01:55<00:00, 21.13it/s]\n"
     ]
    }
   ],
   "source": [
    "all_en = df[df['language'] == 'en']\n",
    "\n",
    "train_aug = all_en[(all_en['split'] == 'train') | (all_en['split'] == 'augment')]\n",
    "train = all_en[all_en['split'] == 'train']\n",
    "val = all_en[all_en['split'] == 'val']\n",
    "test = all_en[all_en['split'] == 'test']\n",
    "\n",
    "save_embeddings(train_aug, './features/yamnet_emb/all_en/', 'train_aug')\n",
    "save_embeddings(train, './features/yamnet_emb/all_en/', 'train')\n",
    "save_embeddings(val, './features/yamnet_emb/all_en/', 'val')\n",
    "save_embeddings(test, './features/yamnet_emb/all_en/', 'test')"
   ]
  },
  {
   "cell_type": "code",
   "execution_count": 24,
   "metadata": {},
   "outputs": [
    {
     "name": "stderr",
     "output_type": "stream",
     "text": [
      "100%|██████████| 35540/35540 [29:45<00:00, 19.91it/s]\n",
      "100%|██████████| 5926/5926 [04:39<00:00, 21.22it/s]\n",
      "100%|██████████| 847/847 [00:37<00:00, 22.58it/s]\n",
      "100%|██████████| 1694/1694 [01:20<00:00, 21.00it/s]\n"
     ]
    }
   ],
   "source": [
    "all_bn = df[df['language'] == 'bn']\n",
    "\n",
    "train_aug = all_bn[(all_bn['split'] == 'train') | (all_bn['split'] == 'augment')]\n",
    "train = all_bn[all_bn['split'] == 'train']\n",
    "val = all_bn[all_bn['split'] == 'val']\n",
    "test = all_bn[all_bn['split'] == 'test']\n",
    "\n",
    "save_embeddings(train_aug, './features/yamnet_emb/all_bn/', 'train_aug')\n",
    "save_embeddings(train, './features/yamnet_emb/all_bn/', 'train')\n",
    "save_embeddings(val, './features/yamnet_emb/all_bn/', 'val')\n",
    "save_embeddings(test, './features/yamnet_emb/all_bn/', 'test')"
   ]
  },
  {
   "cell_type": "code",
   "execution_count": 25,
   "metadata": {},
   "outputs": [
    {
     "name": "stderr",
     "output_type": "stream",
     "text": [
      "100%|██████████| 86591/86591 [57:06<00:00, 25.27it/s]  \n",
      "100%|██████████| 14438/14438 [09:40<00:00, 24.89it/s]\n",
      "100%|██████████| 2064/2064 [01:21<00:00, 25.28it/s]\n",
      "100%|██████████| 4127/4127 [02:43<00:00, 25.21it/s]\n"
     ]
    }
   ],
   "source": [
    "all = df\n",
    "\n",
    "train_aug = all[(all['split'] == 'train') | (all['split'] == 'augment')]\n",
    "train = all[all['split'] == 'train']\n",
    "val = all[all['split'] == 'val']\n",
    "test = all[all['split'] == 'test']\n",
    "\n",
    "save_embeddings(train_aug, './features/yamnet_emb/all/', 'train_aug')\n",
    "save_embeddings(train, './features/yamnet_emb/all/', 'train')\n",
    "save_embeddings(val, './features/yamnet_emb/all/', 'val')\n",
    "save_embeddings(test, './features/yamnet_emb/all/', 'test')"
   ]
  },
  {
   "cell_type": "code",
   "execution_count": 26,
   "metadata": {},
   "outputs": [
    {
     "ename": "NameError",
     "evalue": "name 'stop' is not defined",
     "output_type": "error",
     "traceback": [
      "\u001b[0;31m---------------------------------------------------------------------------\u001b[0m",
      "\u001b[0;31mNameError\u001b[0m                                 Traceback (most recent call last)",
      "\u001b[1;32m/home/sam/Documents/Projects/Thesis/audio-preprocessing-and-feature-extraction/notebook/yamnet_emb_aug.ipynb Cell 20\u001b[0m in \u001b[0;36m<cell line: 1>\u001b[0;34m()\u001b[0m\n\u001b[0;32m----> <a href='vscode-notebook-cell:/home/sam/Documents/Projects/Thesis/audio-preprocessing-and-feature-extraction/notebook/yamnet_emb_aug.ipynb#X43sZmlsZQ%3D%3D?line=0'>1</a>\u001b[0m stop\n",
      "\u001b[0;31mNameError\u001b[0m: name 'stop' is not defined"
     ]
    }
   ],
   "source": [
    "stop"
   ]
  },
  {
   "cell_type": "markdown",
   "metadata": {},
   "source": [
    "# Testing"
   ]
  },
  {
   "cell_type": "code",
   "execution_count": null,
   "metadata": {},
   "outputs": [],
   "source": [
    "X = np.load('./features/yamnet_emb/ravdess/train_aug_X.npy', allow_pickle=True)\n",
    "y = np.load('./features/yamnet_emb/ravdess/train_aug_y.npy', allow_pickle=True)"
   ]
  },
  {
   "cell_type": "code",
   "execution_count": null,
   "metadata": {},
   "outputs": [
    {
     "data": {
      "text/plain": [
       "((28196, 1024), (28196,))"
      ]
     },
     "execution_count": 64,
     "metadata": {},
     "output_type": "execute_result"
    }
   ],
   "source": [
    "X.shape, y.shape"
   ]
  },
  {
   "cell_type": "code",
   "execution_count": null,
   "metadata": {},
   "outputs": [
    {
     "data": {
      "text/plain": [
       "array([0.        , 0.67051333, 0.        , ..., 0.        , 0.        ,\n",
       "       0.        ], dtype=float32)"
      ]
     },
     "execution_count": 65,
     "metadata": {},
     "output_type": "execute_result"
    }
   ],
   "source": [
    "X[200]"
   ]
  },
  {
   "cell_type": "code",
   "execution_count": null,
   "metadata": {},
   "outputs": [
    {
     "data": {
      "text/plain": [
       "b'happy'"
      ]
     },
     "execution_count": 66,
     "metadata": {},
     "output_type": "execute_result"
    }
   ],
   "source": [
    "y[200]"
   ]
  },
  {
   "cell_type": "code",
   "execution_count": null,
   "metadata": {},
   "outputs": [
    {
     "data": {
      "text/plain": [
       "(array([b'angry', b'disgust', b'fear', b'happy', b'neutral', b'sad',\n",
       "        b'surprise'], dtype='|S8'),\n",
       " array([3992, 4434, 3534, 3528, 5694, 3984, 3030]))"
      ]
     },
     "execution_count": 67,
     "metadata": {},
     "output_type": "execute_result"
    }
   ],
   "source": [
    "unique_items, counts = np.unique(y, return_counts=True)\n",
    "unique_items, counts"
   ]
  },
  {
   "cell_type": "markdown",
   "metadata": {},
   "source": [
    "# Spectogram"
   ]
  },
  {
   "cell_type": "code",
   "execution_count": null,
   "metadata": {},
   "outputs": [],
   "source": [
    "from math import ceil\n",
    "\n",
    "\n",
    "def plot_embeddings(df, name):\n",
    "\n",
    "    if df['Emotion'].nunique() == 6:\n",
    "        classes = CLASSES6\n",
    "    else:\n",
    "        classes = CLASSES7\n",
    "\n",
    "    fig, axs = plt.subplots(2, ceil(len(classes) / 2), figsize=(15, 6), facecolor='w', edgecolor='k')\n",
    "    fig.subplots_adjust(hspace = .3, wspace=.3)\n",
    "    fig.suptitle(f'{name} VGGish Embeddings')\n",
    "    fig.tight_layout()\n",
    "    axs = axs.ravel()\n",
    "\n",
    "    for i in range(len(classes)):\n",
    "        emb = get_embeddings(df[df['Emotion'] == classes[i]]['File_Path'].iloc[0], df[df['Emotion'] == classes[i]]['Emotion'].iloc[0])\n",
    "        axs[i].plot(emb[0][0])\n",
    "        # axs[i].imshow(emb[0].numpy(), aspect='auto', interpolation='nearest', origin='lower', cmap='jet')\n",
    "        axs[i].set_title(classes[i])\n",
    "    # plt.legend()\n",
    "    # plt.show()"
   ]
  },
  {
   "cell_type": "code",
   "execution_count": null,
   "metadata": {},
   "outputs": [],
   "source": [
    "plot_embeddings(tess, 'TESS')"
   ]
  },
  {
   "cell_type": "code",
   "execution_count": null,
   "metadata": {},
   "outputs": [],
   "source": [
    "plot_embeddings(savee, 'SAVEE')"
   ]
  },
  {
   "cell_type": "code",
   "execution_count": null,
   "metadata": {},
   "outputs": [],
   "source": [
    "plot_embeddings(ravdess, 'RAVDESS')"
   ]
  },
  {
   "cell_type": "code",
   "execution_count": null,
   "metadata": {},
   "outputs": [],
   "source": [
    "plot_embeddings(crema, 'CREMA')"
   ]
  }
 ],
 "metadata": {
  "kernelspec": {
   "display_name": "Python 3.10.8 64-bit",
   "language": "python",
   "name": "python3"
  },
  "language_info": {
   "codemirror_mode": {
    "name": "ipython",
    "version": 3
   },
   "file_extension": ".py",
   "mimetype": "text/x-python",
   "name": "python",
   "nbconvert_exporter": "python",
   "pygments_lexer": "ipython3",
   "version": "3.10.8"
  },
  "orig_nbformat": 4,
  "vscode": {
   "interpreter": {
    "hash": "e7370f93d1d0cde622a1f8e1c04877d8463912d04d973331ad4851f04de6915a"
   }
  }
 },
 "nbformat": 4,
 "nbformat_minor": 2
}
