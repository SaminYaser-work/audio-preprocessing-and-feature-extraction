{
 "cells": [
  {
   "cell_type": "code",
   "execution_count": 22,
   "metadata": {},
   "outputs": [],
   "source": [
    "import sys\n",
    "import numpy as np\n",
    "import pandas as pd\n",
    "import tensorflow as tf\n",
    "import tensorflow_io as tfio\n",
    "from tqdm import tqdm\n",
    "\n",
    "from data_loader import data_loader\n",
    "\n",
    "from sklearn.model_selection import train_test_split\n",
    "from sklearn.preprocessing import OneHotEncoder\n",
    "\n",
    "## Yamnet imports \n",
    "import params as yamnet_params\n",
    "import yamnet_modified  as yamnet_model\n",
    "import features as features_lib"
   ]
  },
  {
   "cell_type": "code",
   "execution_count": 23,
   "metadata": {},
   "outputs": [],
   "source": [
    "params = yamnet_params.Params()\n",
    "\n",
    "classes = ['angry', 'disgust', 'fear', 'happy', 'neutral', 'sad', 'surprise']\n",
    "# classes = ['angry', 'disgust', 'fear', 'happy', 'neutral', 'sad']\n",
    "\n",
    "class_names = yamnet_model.class_names(\n",
    "    './yamnet_class_map.csv'\n",
    ")"
   ]
  },
  {
   "cell_type": "markdown",
   "metadata": {},
   "source": [
    "# Data loading"
   ]
  },
  {
   "cell_type": "code",
   "execution_count": 24,
   "metadata": {},
   "outputs": [],
   "source": [
    "dl = data_loader(\n",
    "    Crema_path='../../Datasets/Crema/',\n",
    "    Ravdess_path='../../Datasets/Ravdess/',\n",
    "    Savee_path='../../Datasets/Savee/',\n",
    "    Tess_path='../../Datasets/Tess/'\n",
    ")"
   ]
  },
  {
   "cell_type": "code",
   "execution_count": 25,
   "metadata": {},
   "outputs": [],
   "source": [
    "df = dl.get_savee_df()"
   ]
  },
  {
   "cell_type": "code",
   "execution_count": 26,
   "metadata": {},
   "outputs": [],
   "source": [
    "train, val, test = dl.split_df(df)"
   ]
  },
  {
   "cell_type": "code",
   "execution_count": 27,
   "metadata": {},
   "outputs": [
    {
     "data": {
      "text/plain": [
       "((336, 2), (72, 2), (72, 2))"
      ]
     },
     "execution_count": 27,
     "metadata": {},
     "output_type": "execute_result"
    }
   ],
   "source": [
    "train.shape, val.shape, test.shape"
   ]
  },
  {
   "cell_type": "code",
   "execution_count": 28,
   "metadata": {},
   "outputs": [],
   "source": [
    "train['Emotion'] = train['Emotion'].apply(lambda x: classes.index(x))\n",
    "val['Emotion'] = val['Emotion'].apply(lambda x: classes.index(x))\n",
    "test['Emotion'] = test['Emotion'].apply(lambda x: classes.index(x))"
   ]
  },
  {
   "cell_type": "code",
   "execution_count": 29,
   "metadata": {},
   "outputs": [],
   "source": [
    "# encoder, train_label, val_label, test_label = dl.ohe_labels(\n",
    "#     train['Emotion'].values, val['Emotion'].values, test['Emotion'].values)"
   ]
  },
  {
   "cell_type": "code",
   "execution_count": 30,
   "metadata": {},
   "outputs": [],
   "source": [
    "train_label = train['Emotion'].values\n",
    "val_label = val['Emotion'].values\n",
    "test_label = test['Emotion'].values\n",
    "\n",
    "train_label = tf.keras.utils.to_categorical(train_label, num_classes=len(classes))\n",
    "val_label = tf.keras.utils.to_categorical(val_label, num_classes=len(classes))\n",
    "test_label = tf.keras.utils.to_categorical(test_label, num_classes=len(classes))"
   ]
  },
  {
   "cell_type": "code",
   "execution_count": 31,
   "metadata": {},
   "outputs": [],
   "source": [
    "train_ds = tf.data.Dataset.from_tensor_slices((train['File_Path'], train_label))\n",
    "val_ds = tf.data.Dataset.from_tensor_slices((val['File_Path'], val_label))\n",
    "test_ds = tf.data.Dataset.from_tensor_slices((test['File_Path'], test_label))"
   ]
  },
  {
   "cell_type": "code",
   "execution_count": 32,
   "metadata": {},
   "outputs": [
    {
     "name": "stdout",
     "output_type": "stream",
     "text": [
      "(TensorSpec(shape=(), dtype=tf.string, name=None), TensorSpec(shape=(7,), dtype=tf.float32, name=None))\n",
      "(TensorSpec(shape=(), dtype=tf.string, name=None), TensorSpec(shape=(7,), dtype=tf.float32, name=None))\n",
      "(TensorSpec(shape=(), dtype=tf.string, name=None), TensorSpec(shape=(7,), dtype=tf.float32, name=None))\n"
     ]
    }
   ],
   "source": [
    "print(train_ds.element_spec)\n",
    "print(val_ds.element_spec)\n",
    "print(test_ds.element_spec)"
   ]
  },
  {
   "cell_type": "code",
   "execution_count": 33,
   "metadata": {},
   "outputs": [],
   "source": [
    "#read the wav files\n",
    "# @tf.function\n",
    "def load_wav_16k_mono(filename):\n",
    "    \"\"\" Load a WAV file, convert it to a float tensor, resample to 16 kHz single-channel audio. \"\"\"\n",
    "    file_contents = tf.io.read_file(filename)\n",
    "    wav, sample_rate = tf.audio.decode_wav(\n",
    "          file_contents,\n",
    "          desired_channels=1)\n",
    "    \n",
    "    wav = tf.squeeze(wav, axis=-1)\n",
    "    sample_rate = tf.cast(sample_rate, dtype=tf.int64)\n",
    "    wav = tfio.audio.resample(wav, rate_in=sample_rate, rate_out=16000)\n",
    "    \n",
    "    return wav\n",
    " \n",
    "def load_wav_for_map(filename, label):\n",
    "  return load_wav_16k_mono(filename), label\n",
    "\n",
    "\n",
    "def yamnet_frames_model_transfer1(wav_data,label):\n",
    "   \n",
    "    waveform_padded = features_lib.pad_waveform(wav_data, params)\n",
    "    log_mel_spectrogram, features = features_lib.waveform_to_log_mel_spectrogram_patches(\n",
    "        waveform_padded, params)\n",
    "    print(log_mel_spectrogram.shape)\n",
    "    \n",
    "    \n",
    "    return log_mel_spectrogram, label"
   ]
  },
  {
   "cell_type": "code",
   "execution_count": 34,
   "metadata": {},
   "outputs": [
    {
     "name": "stdout",
     "output_type": "stream",
     "text": [
      "WARNING:tensorflow:Using a while_loop for converting IO>AudioResample cause there is no registered converter for this op.\n",
      "WARNING:tensorflow:Using a while_loop for converting IO>AudioResample cause there is no registered converter for this op.\n",
      "WARNING:tensorflow:Using a while_loop for converting IO>AudioResample cause there is no registered converter for this op.\n"
     ]
    }
   ],
   "source": [
    "train_ds = train_ds.map(load_wav_for_map)\n",
    "val_ds = val_ds.map(load_wav_for_map)\n",
    "test_ds = test_ds.map(load_wav_for_map)"
   ]
  },
  {
   "cell_type": "code",
   "execution_count": 35,
   "metadata": {},
   "outputs": [
    {
     "name": "stdout",
     "output_type": "stream",
     "text": [
      "(TensorSpec(shape=<unknown>, dtype=tf.float32, name=None), TensorSpec(shape=(7,), dtype=tf.float32, name=None))\n",
      "(TensorSpec(shape=<unknown>, dtype=tf.float32, name=None), TensorSpec(shape=(7,), dtype=tf.float32, name=None))\n",
      "(TensorSpec(shape=<unknown>, dtype=tf.float32, name=None), TensorSpec(shape=(7,), dtype=tf.float32, name=None))\n"
     ]
    }
   ],
   "source": [
    "print(train_ds.element_spec)\n",
    "print(val_ds.element_spec)\n",
    "print(test_ds.element_spec)"
   ]
  },
  {
   "cell_type": "code",
   "execution_count": 36,
   "metadata": {},
   "outputs": [
    {
     "name": "stdout",
     "output_type": "stream",
     "text": [
      "(None, 64)\n",
      "(None, 64)\n",
      "(None, 64)\n"
     ]
    }
   ],
   "source": [
    "train_ds = train_ds.map(yamnet_frames_model_transfer1)\n",
    "val_ds = val_ds.map(yamnet_frames_model_transfer1)\n",
    "test_ds = test_ds.map(yamnet_frames_model_transfer1)"
   ]
  },
  {
   "cell_type": "code",
   "execution_count": 37,
   "metadata": {},
   "outputs": [
    {
     "name": "stdout",
     "output_type": "stream",
     "text": [
      "(TensorSpec(shape=(None, 64), dtype=tf.float32, name=None), TensorSpec(shape=(7,), dtype=tf.float32, name=None))\n",
      "(TensorSpec(shape=(None, 64), dtype=tf.float32, name=None), TensorSpec(shape=(7,), dtype=tf.float32, name=None))\n",
      "(TensorSpec(shape=(None, 64), dtype=tf.float32, name=None), TensorSpec(shape=(7,), dtype=tf.float32, name=None))\n"
     ]
    }
   ],
   "source": [
    "print(train_ds.element_spec)\n",
    "print(val_ds.element_spec)\n",
    "print(test_ds.element_spec)"
   ]
  },
  {
   "cell_type": "code",
   "execution_count": 38,
   "metadata": {},
   "outputs": [],
   "source": [
    "train_ds = train_ds.cache().shuffle(1000).batch(32).prefetch(tf.data.experimental.AUTOTUNE)\n",
    "val_ds = val_ds.cache().batch(32).prefetch(tf.data.experimental.AUTOTUNE)"
   ]
  },
  {
   "cell_type": "markdown",
   "metadata": {},
   "source": [
    "# Building Model"
   ]
  },
  {
   "cell_type": "code",
   "execution_count": 39,
   "metadata": {},
   "outputs": [],
   "source": [
    "#load yamnet model. yamnet_frames_model_transfer1 is modified version of the\n",
    "#yamnet_frames_model_transfer in yamnet.py file in order to be able the \n",
    "#train yamnet from scratch\n",
    "\n",
    "\n",
    "yamnet = yamnet_model.yamnet_frames_model_transfer(params, len(classes))\n",
    "\n",
    "preloaded_layers = yamnet.layers.copy()\n",
    "preloaded_weights = []\n",
    "\n",
    "for pre in preloaded_layers:\n",
    "        preloaded_weights.append(pre.get_weights())    \n",
    "\n"
   ]
  },
  {
   "cell_type": "code",
   "execution_count": 40,
   "metadata": {},
   "outputs": [
    {
     "name": "stderr",
     "output_type": "stream",
     "text": [
      "c:\\Users\\samin\\AppData\\Local\\Programs\\Python\\Python310\\lib\\site-packages\\numpy\\core\\numeric.py:2443: VisibleDeprecationWarning: Creating an ndarray from ragged nested sequences (which is a list-or-tuple of lists-or-tuples-or ndarrays with different lengths or shapes) is deprecated. If you meant to do this, you must specify 'dtype=object' when creating the ndarray.\n",
      "  a1, a2 = asarray(a1), asarray(a2)\n"
     ]
    }
   ],
   "source": [
    "#load the weights from pretrain model except for the last layer and\n",
    "#check which layer used the pretrain weights\n",
    "# store weights before loading pre-trained weights\n",
    "\n",
    "chkp=True\n",
    "\n",
    "if chkp==True:\n",
    "# load pre-trained weights(fine tuning the model)\n",
    "#load the weights from pretrain model except for the last layer\n",
    "    yamnet.load_weights('./yamnet.h5',by_name=True)\n",
    " #   yamnet.load_weights('D:/bat_n/yamnet_2.h5',by_name=True)\n",
    "    for layer, pre in zip(yamnet.layers, preloaded_weights):\n",
    "        weights = layer.get_weights()\n",
    "        if weights:\n",
    "            if np.array_equal(weights, pre):\n",
    "                print('not loaded', layer.name)\n",
    "            # else:\n",
    "            #     print('loaded', layer.name)\n"
   ]
  },
  {
   "cell_type": "code",
   "execution_count": 41,
   "metadata": {},
   "outputs": [
    {
     "name": "stdout",
     "output_type": "stream",
     "text": [
      "You must install pydot (`pip install pydot`) and install graphviz (see instructions at https://graphviz.gitlab.io/download/) for plot_model to work.\n"
     ]
    }
   ],
   "source": [
    "# NAME='./yamnet.h5'\n",
    "# checkpoint = tf.keras.callbacks.ModelCheckpoint(NAME, monitor='val_loss', verbose=1, save_best_only=True, mode='min')\n",
    "\n",
    "callback = tf.keras.callbacks.EarlyStopping(monitor='val_loss',\n",
    "                                            patience=10,\n",
    "                                            restore_best_weights=True,\n",
    "                                            verbose=1)\n",
    "\n",
    "# tensorboard=tf.keras.callbacks.TensorBoard(\n",
    "#     log_dir='D:/bat_n/logs')\n",
    "\n",
    "yamnet.compile(optimizer='adam', \n",
    "               loss=\"categorical_crossentropy\", \n",
    "               metrics=[\n",
    "                        'accuracy',\n",
    "                        tf.keras.metrics.Recall(),\n",
    "                        tf.keras.metrics.Precision()\n",
    "                ]\n",
    ")\n",
    "\n",
    "# yamnet.summary()\n",
    "\n",
    "tf.keras.utils.plot_model(\n",
    "    yamnet,\n",
    "    to_file='yamnet.png',\n",
    "    show_shapes=True,\n",
    "    show_dtype=True,\n",
    "    show_layer_names=True,\n",
    "    rankdir='TB',\n",
    "    expand_nested=True,\n",
    "    dpi=96,\n",
    "    layer_range=True,\n",
    "    show_layer_activations=True\n",
    ")"
   ]
  },
  {
   "cell_type": "code",
   "execution_count": 42,
   "metadata": {},
   "outputs": [
    {
     "name": "stdout",
     "output_type": "stream",
     "text": [
      "Epoch 1/100\n",
      "WARNING:tensorflow:Model was constructed with shape (None, None) for input KerasTensor(type_spec=TensorSpec(shape=(None, None), dtype=tf.float32, name='input_2'), name='input_2', description=\"created by layer 'input_2'\"), but it was called on an input with incompatible shape (None, None, 64).\n",
      "WARNING:tensorflow:Model was constructed with shape (None, None) for input KerasTensor(type_spec=TensorSpec(shape=(None, None), dtype=tf.float32, name='input_2'), name='input_2', description=\"created by layer 'input_2'\"), but it was called on an input with incompatible shape (None, None, 64).\n"
     ]
    },
    {
     "ename": "InvalidArgumentError",
     "evalue": "Graph execution error:\n\nDetected at node 'IteratorGetNext' defined at (most recent call last):\n    File \"c:\\Users\\samin\\AppData\\Local\\Programs\\Python\\Python310\\lib\\runpy.py\", line 196, in _run_module_as_main\n      return _run_code(code, main_globals, None,\n    File \"c:\\Users\\samin\\AppData\\Local\\Programs\\Python\\Python310\\lib\\runpy.py\", line 86, in _run_code\n      exec(code, run_globals)\n    File \"c:\\Users\\samin\\AppData\\Local\\Programs\\Python\\Python310\\lib\\site-packages\\ipykernel_launcher.py\", line 17, in <module>\n      app.launch_new_instance()\n    File \"c:\\Users\\samin\\AppData\\Local\\Programs\\Python\\Python310\\lib\\site-packages\\traitlets\\config\\application.py\", line 976, in launch_instance\n      app.start()\n    File \"c:\\Users\\samin\\AppData\\Local\\Programs\\Python\\Python310\\lib\\site-packages\\ipykernel\\kernelapp.py\", line 712, in start\n      self.io_loop.start()\n    File \"c:\\Users\\samin\\AppData\\Local\\Programs\\Python\\Python310\\lib\\site-packages\\tornado\\platform\\asyncio.py\", line 215, in start\n      self.asyncio_loop.run_forever()\n    File \"c:\\Users\\samin\\AppData\\Local\\Programs\\Python\\Python310\\lib\\asyncio\\base_events.py\", line 600, in run_forever\n      self._run_once()\n    File \"c:\\Users\\samin\\AppData\\Local\\Programs\\Python\\Python310\\lib\\asyncio\\base_events.py\", line 1896, in _run_once\n      handle._run()\n    File \"c:\\Users\\samin\\AppData\\Local\\Programs\\Python\\Python310\\lib\\asyncio\\events.py\", line 80, in _run\n      self._context.run(self._callback, *self._args)\n    File \"c:\\Users\\samin\\AppData\\Local\\Programs\\Python\\Python310\\lib\\site-packages\\ipykernel\\kernelbase.py\", line 510, in dispatch_queue\n      await self.process_one()\n    File \"c:\\Users\\samin\\AppData\\Local\\Programs\\Python\\Python310\\lib\\site-packages\\ipykernel\\kernelbase.py\", line 499, in process_one\n      await dispatch(*args)\n    File \"c:\\Users\\samin\\AppData\\Local\\Programs\\Python\\Python310\\lib\\site-packages\\ipykernel\\kernelbase.py\", line 406, in dispatch_shell\n      await result\n    File \"c:\\Users\\samin\\AppData\\Local\\Programs\\Python\\Python310\\lib\\site-packages\\ipykernel\\kernelbase.py\", line 730, in execute_request\n      reply_content = await reply_content\n    File \"c:\\Users\\samin\\AppData\\Local\\Programs\\Python\\Python310\\lib\\site-packages\\ipykernel\\ipkernel.py\", line 383, in do_execute\n      res = shell.run_cell(\n    File \"c:\\Users\\samin\\AppData\\Local\\Programs\\Python\\Python310\\lib\\site-packages\\ipykernel\\zmqshell.py\", line 528, in run_cell\n      return super().run_cell(*args, **kwargs)\n    File \"c:\\Users\\samin\\AppData\\Local\\Programs\\Python\\Python310\\lib\\site-packages\\IPython\\core\\interactiveshell.py\", line 2881, in run_cell\n      result = self._run_cell(\n    File \"c:\\Users\\samin\\AppData\\Local\\Programs\\Python\\Python310\\lib\\site-packages\\IPython\\core\\interactiveshell.py\", line 2936, in _run_cell\n      return runner(coro)\n    File \"c:\\Users\\samin\\AppData\\Local\\Programs\\Python\\Python310\\lib\\site-packages\\IPython\\core\\async_helpers.py\", line 129, in _pseudo_sync_runner\n      coro.send(None)\n    File \"c:\\Users\\samin\\AppData\\Local\\Programs\\Python\\Python310\\lib\\site-packages\\IPython\\core\\interactiveshell.py\", line 3135, in run_cell_async\n      has_raised = await self.run_ast_nodes(code_ast.body, cell_name,\n    File \"c:\\Users\\samin\\AppData\\Local\\Programs\\Python\\Python310\\lib\\site-packages\\IPython\\core\\interactiveshell.py\", line 3338, in run_ast_nodes\n      if await self.run_code(code, result, async_=asy):\n    File \"c:\\Users\\samin\\AppData\\Local\\Programs\\Python\\Python310\\lib\\site-packages\\IPython\\core\\interactiveshell.py\", line 3398, in run_code\n      exec(code_obj, self.user_global_ns, self.user_ns)\n    File \"C:\\Users\\samin\\AppData\\Local\\Temp\\ipykernel_12024\\85722099.py\", line 1, in <cell line: 1>\n      yamnet.fit(\n    File \"c:\\Users\\samin\\AppData\\Local\\Programs\\Python\\Python310\\lib\\site-packages\\keras\\utils\\traceback_utils.py\", line 65, in error_handler\n      return fn(*args, **kwargs)\n    File \"c:\\Users\\samin\\AppData\\Local\\Programs\\Python\\Python310\\lib\\site-packages\\keras\\engine\\training.py\", line 1564, in fit\n      tmp_logs = self.train_function(iterator)\n    File \"c:\\Users\\samin\\AppData\\Local\\Programs\\Python\\Python310\\lib\\site-packages\\keras\\engine\\training.py\", line 1160, in train_function\n      return step_function(self, iterator)\n    File \"c:\\Users\\samin\\AppData\\Local\\Programs\\Python\\Python310\\lib\\site-packages\\keras\\engine\\training.py\", line 1145, in step_function\n      data = next(iterator)\nNode: 'IteratorGetNext'\nCannot batch tensors with different shapes in component 0. First element had shape [528,64] and element 8 had shape [192,64].\n\t [[{{node IteratorGetNext}}]] [Op:__inference_train_function_15449]",
     "output_type": "error",
     "traceback": [
      "\u001b[1;31m---------------------------------------------------------------------------\u001b[0m",
      "\u001b[1;31mInvalidArgumentError\u001b[0m                      Traceback (most recent call last)",
      "\u001b[1;32mc:\\Users\\samin\\Documents\\Projects\\Emotion Detection\\notebook\\yamnet\\TL_yamnet_v2.ipynb Cell 23\u001b[0m in \u001b[0;36m<cell line: 1>\u001b[1;34m()\u001b[0m\n\u001b[1;32m----> <a href='vscode-notebook-cell:/c%3A/Users/samin/Documents/Projects/Emotion%20Detection/notebook/yamnet/TL_yamnet_v2.ipynb#X35sZmlsZQ%3D%3D?line=0'>1</a>\u001b[0m yamnet\u001b[39m.\u001b[39;49mfit(\n\u001b[0;32m      <a href='vscode-notebook-cell:/c%3A/Users/samin/Documents/Projects/Emotion%20Detection/notebook/yamnet/TL_yamnet_v2.ipynb#X35sZmlsZQ%3D%3D?line=1'>2</a>\u001b[0m     train_ds,\n\u001b[0;32m      <a href='vscode-notebook-cell:/c%3A/Users/samin/Documents/Projects/Emotion%20Detection/notebook/yamnet/TL_yamnet_v2.ipynb#X35sZmlsZQ%3D%3D?line=2'>3</a>\u001b[0m     epochs\u001b[39m=\u001b[39;49m\u001b[39m100\u001b[39;49m, \n\u001b[0;32m      <a href='vscode-notebook-cell:/c%3A/Users/samin/Documents/Projects/Emotion%20Detection/notebook/yamnet/TL_yamnet_v2.ipynb#X35sZmlsZQ%3D%3D?line=3'>4</a>\u001b[0m     validation_data\u001b[39m=\u001b[39;49m val_ds,\n\u001b[0;32m      <a href='vscode-notebook-cell:/c%3A/Users/samin/Documents/Projects/Emotion%20Detection/notebook/yamnet/TL_yamnet_v2.ipynb#X35sZmlsZQ%3D%3D?line=4'>5</a>\u001b[0m     callbacks\u001b[39m=\u001b[39;49m[\n\u001b[0;32m      <a href='vscode-notebook-cell:/c%3A/Users/samin/Documents/Projects/Emotion%20Detection/notebook/yamnet/TL_yamnet_v2.ipynb#X35sZmlsZQ%3D%3D?line=5'>6</a>\u001b[0m         \u001b[39m# checkpoint,\u001b[39;49;00m\n\u001b[0;32m      <a href='vscode-notebook-cell:/c%3A/Users/samin/Documents/Projects/Emotion%20Detection/notebook/yamnet/TL_yamnet_v2.ipynb#X35sZmlsZQ%3D%3D?line=6'>7</a>\u001b[0m         \u001b[39m# tensorboard,\u001b[39;49;00m\n\u001b[0;32m      <a href='vscode-notebook-cell:/c%3A/Users/samin/Documents/Projects/Emotion%20Detection/notebook/yamnet/TL_yamnet_v2.ipynb#X35sZmlsZQ%3D%3D?line=7'>8</a>\u001b[0m         callback\n\u001b[0;32m      <a href='vscode-notebook-cell:/c%3A/Users/samin/Documents/Projects/Emotion%20Detection/notebook/yamnet/TL_yamnet_v2.ipynb#X35sZmlsZQ%3D%3D?line=8'>9</a>\u001b[0m     ]\n\u001b[0;32m     <a href='vscode-notebook-cell:/c%3A/Users/samin/Documents/Projects/Emotion%20Detection/notebook/yamnet/TL_yamnet_v2.ipynb#X35sZmlsZQ%3D%3D?line=9'>10</a>\u001b[0m )\n",
      "File \u001b[1;32mc:\\Users\\samin\\AppData\\Local\\Programs\\Python\\Python310\\lib\\site-packages\\keras\\utils\\traceback_utils.py:70\u001b[0m, in \u001b[0;36mfilter_traceback.<locals>.error_handler\u001b[1;34m(*args, **kwargs)\u001b[0m\n\u001b[0;32m     67\u001b[0m     filtered_tb \u001b[39m=\u001b[39m _process_traceback_frames(e\u001b[39m.\u001b[39m__traceback__)\n\u001b[0;32m     68\u001b[0m     \u001b[39m# To get the full stack trace, call:\u001b[39;00m\n\u001b[0;32m     69\u001b[0m     \u001b[39m# `tf.debugging.disable_traceback_filtering()`\u001b[39;00m\n\u001b[1;32m---> 70\u001b[0m     \u001b[39mraise\u001b[39;00m e\u001b[39m.\u001b[39mwith_traceback(filtered_tb) \u001b[39mfrom\u001b[39;00m \u001b[39mNone\u001b[39m\n\u001b[0;32m     71\u001b[0m \u001b[39mfinally\u001b[39;00m:\n\u001b[0;32m     72\u001b[0m     \u001b[39mdel\u001b[39;00m filtered_tb\n",
      "File \u001b[1;32m~\\AppData\\Roaming\\Python\\Python310\\site-packages\\tensorflow\\python\\eager\\execute.py:54\u001b[0m, in \u001b[0;36mquick_execute\u001b[1;34m(op_name, num_outputs, inputs, attrs, ctx, name)\u001b[0m\n\u001b[0;32m     52\u001b[0m \u001b[39mtry\u001b[39;00m:\n\u001b[0;32m     53\u001b[0m   ctx\u001b[39m.\u001b[39mensure_initialized()\n\u001b[1;32m---> 54\u001b[0m   tensors \u001b[39m=\u001b[39m pywrap_tfe\u001b[39m.\u001b[39mTFE_Py_Execute(ctx\u001b[39m.\u001b[39m_handle, device_name, op_name,\n\u001b[0;32m     55\u001b[0m                                       inputs, attrs, num_outputs)\n\u001b[0;32m     56\u001b[0m \u001b[39mexcept\u001b[39;00m core\u001b[39m.\u001b[39m_NotOkStatusException \u001b[39mas\u001b[39;00m e:\n\u001b[0;32m     57\u001b[0m   \u001b[39mif\u001b[39;00m name \u001b[39mis\u001b[39;00m \u001b[39mnot\u001b[39;00m \u001b[39mNone\u001b[39;00m:\n",
      "\u001b[1;31mInvalidArgumentError\u001b[0m: Graph execution error:\n\nDetected at node 'IteratorGetNext' defined at (most recent call last):\n    File \"c:\\Users\\samin\\AppData\\Local\\Programs\\Python\\Python310\\lib\\runpy.py\", line 196, in _run_module_as_main\n      return _run_code(code, main_globals, None,\n    File \"c:\\Users\\samin\\AppData\\Local\\Programs\\Python\\Python310\\lib\\runpy.py\", line 86, in _run_code\n      exec(code, run_globals)\n    File \"c:\\Users\\samin\\AppData\\Local\\Programs\\Python\\Python310\\lib\\site-packages\\ipykernel_launcher.py\", line 17, in <module>\n      app.launch_new_instance()\n    File \"c:\\Users\\samin\\AppData\\Local\\Programs\\Python\\Python310\\lib\\site-packages\\traitlets\\config\\application.py\", line 976, in launch_instance\n      app.start()\n    File \"c:\\Users\\samin\\AppData\\Local\\Programs\\Python\\Python310\\lib\\site-packages\\ipykernel\\kernelapp.py\", line 712, in start\n      self.io_loop.start()\n    File \"c:\\Users\\samin\\AppData\\Local\\Programs\\Python\\Python310\\lib\\site-packages\\tornado\\platform\\asyncio.py\", line 215, in start\n      self.asyncio_loop.run_forever()\n    File \"c:\\Users\\samin\\AppData\\Local\\Programs\\Python\\Python310\\lib\\asyncio\\base_events.py\", line 600, in run_forever\n      self._run_once()\n    File \"c:\\Users\\samin\\AppData\\Local\\Programs\\Python\\Python310\\lib\\asyncio\\base_events.py\", line 1896, in _run_once\n      handle._run()\n    File \"c:\\Users\\samin\\AppData\\Local\\Programs\\Python\\Python310\\lib\\asyncio\\events.py\", line 80, in _run\n      self._context.run(self._callback, *self._args)\n    File \"c:\\Users\\samin\\AppData\\Local\\Programs\\Python\\Python310\\lib\\site-packages\\ipykernel\\kernelbase.py\", line 510, in dispatch_queue\n      await self.process_one()\n    File \"c:\\Users\\samin\\AppData\\Local\\Programs\\Python\\Python310\\lib\\site-packages\\ipykernel\\kernelbase.py\", line 499, in process_one\n      await dispatch(*args)\n    File \"c:\\Users\\samin\\AppData\\Local\\Programs\\Python\\Python310\\lib\\site-packages\\ipykernel\\kernelbase.py\", line 406, in dispatch_shell\n      await result\n    File \"c:\\Users\\samin\\AppData\\Local\\Programs\\Python\\Python310\\lib\\site-packages\\ipykernel\\kernelbase.py\", line 730, in execute_request\n      reply_content = await reply_content\n    File \"c:\\Users\\samin\\AppData\\Local\\Programs\\Python\\Python310\\lib\\site-packages\\ipykernel\\ipkernel.py\", line 383, in do_execute\n      res = shell.run_cell(\n    File \"c:\\Users\\samin\\AppData\\Local\\Programs\\Python\\Python310\\lib\\site-packages\\ipykernel\\zmqshell.py\", line 528, in run_cell\n      return super().run_cell(*args, **kwargs)\n    File \"c:\\Users\\samin\\AppData\\Local\\Programs\\Python\\Python310\\lib\\site-packages\\IPython\\core\\interactiveshell.py\", line 2881, in run_cell\n      result = self._run_cell(\n    File \"c:\\Users\\samin\\AppData\\Local\\Programs\\Python\\Python310\\lib\\site-packages\\IPython\\core\\interactiveshell.py\", line 2936, in _run_cell\n      return runner(coro)\n    File \"c:\\Users\\samin\\AppData\\Local\\Programs\\Python\\Python310\\lib\\site-packages\\IPython\\core\\async_helpers.py\", line 129, in _pseudo_sync_runner\n      coro.send(None)\n    File \"c:\\Users\\samin\\AppData\\Local\\Programs\\Python\\Python310\\lib\\site-packages\\IPython\\core\\interactiveshell.py\", line 3135, in run_cell_async\n      has_raised = await self.run_ast_nodes(code_ast.body, cell_name,\n    File \"c:\\Users\\samin\\AppData\\Local\\Programs\\Python\\Python310\\lib\\site-packages\\IPython\\core\\interactiveshell.py\", line 3338, in run_ast_nodes\n      if await self.run_code(code, result, async_=asy):\n    File \"c:\\Users\\samin\\AppData\\Local\\Programs\\Python\\Python310\\lib\\site-packages\\IPython\\core\\interactiveshell.py\", line 3398, in run_code\n      exec(code_obj, self.user_global_ns, self.user_ns)\n    File \"C:\\Users\\samin\\AppData\\Local\\Temp\\ipykernel_12024\\85722099.py\", line 1, in <cell line: 1>\n      yamnet.fit(\n    File \"c:\\Users\\samin\\AppData\\Local\\Programs\\Python\\Python310\\lib\\site-packages\\keras\\utils\\traceback_utils.py\", line 65, in error_handler\n      return fn(*args, **kwargs)\n    File \"c:\\Users\\samin\\AppData\\Local\\Programs\\Python\\Python310\\lib\\site-packages\\keras\\engine\\training.py\", line 1564, in fit\n      tmp_logs = self.train_function(iterator)\n    File \"c:\\Users\\samin\\AppData\\Local\\Programs\\Python\\Python310\\lib\\site-packages\\keras\\engine\\training.py\", line 1160, in train_function\n      return step_function(self, iterator)\n    File \"c:\\Users\\samin\\AppData\\Local\\Programs\\Python\\Python310\\lib\\site-packages\\keras\\engine\\training.py\", line 1145, in step_function\n      data = next(iterator)\nNode: 'IteratorGetNext'\nCannot batch tensors with different shapes in component 0. First element had shape [528,64] and element 8 had shape [192,64].\n\t [[{{node IteratorGetNext}}]] [Op:__inference_train_function_15449]"
     ]
    }
   ],
   "source": [
    "yamnet.fit(\n",
    "    train_ds,\n",
    "    epochs=100, \n",
    "    validation_data= val_ds,\n",
    "    callbacks=[\n",
    "        # checkpoint,\n",
    "        # tensorboard,\n",
    "        callback\n",
    "    ]\n",
    ")"
   ]
  },
  {
   "cell_type": "code",
   "execution_count": null,
   "metadata": {},
   "outputs": [],
   "source": [
    "#test the model\n",
    "test_res = yamnet.evaluate(test_ds)\n",
    "\n",
    "test_res"
   ]
  },
  {
   "cell_type": "code",
   "execution_count": null,
   "metadata": {},
   "outputs": [],
   "source": [
    "\n",
    "#dir_=\"D:/bat_n/df_test_b.csv\"\n",
    "#dir_=\"D:/bat_n/df_test_n.csv\"\n",
    "#dir_=\"D:/bat_n/df_test_uk.csv\"\n",
    "import os\n",
    "dir_=\"D:/bat_n/norfolk_test_files.csv\"\n",
    "df_test_b=pd.read_csv(dir_)\n",
    "base_data_path='D:/bat_n/wav/'\n",
    "full_path = df_test_b['filename'].apply(lambda row: os.path.join(base_data_path, row))\n",
    "df_test_b= df_test_b.assign(filename=full_path)\n",
    "\n",
    "full_path = df_test_b['filename'].apply(lambda row: ( row+ '.wav'))\n",
    "\n",
    "df_test_b= df_test_b.assign(filename=full_path)\n",
    "\n",
    "filenames=df_test_b['filename']\n",
    "targets=df_test_b['target']\n",
    "df_test_b['fold']=1\n",
    "folds=df_test_b['fold']\n",
    "\n",
    "\n",
    "#the directory contained the .wav files\n",
    "\n",
    "test_b = tf.data.Dataset.from_tensor_slices((filenames, targets,folds))\n",
    "test_b= test_b.map(load_wav_for_map)\n",
    "test_b = test_b.map(yamnet_frames_model_transfer1).unbatch()\n",
    "remove_fold_column = lambda embedding, label, fold: (embedding, label)\n",
    "test_b = test_b.map(remove_fold_column)\n",
    "test_b = test_b.cache().batch(32).prefetch( tf.data.experimental.AUTOTUNE)\n",
    "\n",
    "evaluate= yamnet.evaluate(test_b)\n",
    "\n",
    "\n",
    "\n",
    "\n",
    "\n",
    "\n",
    "\n",
    "dir_=\"D:/bat_n/df_test_uk.csv\"\n",
    "dir_=\"D:/bat_n/uk_test_files1.csv\"\n",
    "df_test_b=pd.read_csv(dir_)\n",
    "\n",
    "\n",
    "filenames=df_test_b['filename']\n",
    "targets=df_test_b['target']\n",
    "df_test_b['fold']=1\n",
    "folds=df_test_b['fold']\n",
    "\n",
    "\n",
    "#the directory contained the .wav files\n",
    "\n",
    "test_b = tf.data.Dataset.from_tensor_slices((filenames, targets,folds))\n",
    "test_b= test_b.map(load_wav_for_map)\n",
    "test_b = test_b.map(yamnet_frames_model_transfer1).unbatch()\n",
    "cached_ds = main_ds.cache()\n",
    "test_b_train = cached_ds.filter(lambda embedding, label, fold: fold <2)\n",
    "test_b_val = cached_ds.filter(lambda embedding, label, fold: fold ==3)\n",
    "test_b_test = cached_ds.filter(lambda embedding, label, fold: fold == 4)\n",
    "\n",
    "# remove the folds column now that it's not needed anymore\n",
    "remove_fold_column = lambda embedding, label, fold: (embedding, label)\n",
    "\n",
    "test_b_train= test_b_train.map(remove_fold_column)\n",
    "\n",
    "test_b_val= test_b_val.map(remove_fold_column)\n",
    "\n",
    "test_b_test= test_b_test.map(remove_fold_column)\n",
    "\n",
    "\n",
    "#X_train = list(map(lambda x: x[0], train_ds))\n",
    "#y_train = list(map(lambda x: x[1], train_ds))\n",
    "\n",
    "#creat a batch of size 32 of frames with size (96,64)\n",
    "#we have to suffle the train set to avoid the frames from the same audio on one batch\n",
    "train_ds = test_b_train.cache().shuffle(1000).batch(32).prefetch( tf.data.experimental.AUTOTUNE)\n",
    "val_ds = test_b_val.cache().batch(32).prefetch( tf.data.experimental.AUTOTUNE)\n",
    "test_ds = test_b_test.cache().batch(32).prefetch( tf.data.experimental.AUTOTUNE)\n",
    "\n",
    "\n",
    "\n",
    "#test n\n",
    "\n",
    "'''\n",
    "dir_=\"D:/bat_n/df_test_n.csv\"\n",
    "dir_=\"D:/bat_n/df_test_uk.csv\"\n",
    "df_test_b=pd.read_csv(dir_)\n",
    "\n",
    "filenames=df_test_b['filename']\n",
    "targets=df_test_b['target']\n",
    "folds=df_test_b['fold']\n",
    "l=[]\n",
    "for j in range(1,5):\n",
    "    print((j-1),'--',j*175)\n",
    "    for i in range(0,175):\n",
    "        \n",
    "        l.append(j)\n",
    "        \n",
    "        \n",
    "        \n",
    "folds=l[:len(df_test_b)]        \n",
    "        \n",
    "    \n",
    "\n",
    "test_b = tf.data.Dataset.from_tensor_slices((filenames, targets,folds))\n",
    "test_b= test_b.map(load_wav_for_map)\n",
    "\n",
    "test_b = test_b.map(yamnet_frames_model_transfer1)#.unbatch()\n",
    "\n",
    "\n",
    "cached_ds = test_b.cache()\n",
    "test_b_train = cached_ds.filter(lambda embedding, label, fold: fold <2)\n",
    "test_b_val = cached_ds.filter(lambda embedding, label, fold: fold ==3)\n",
    "test_b_test = cached_ds.filter(lambda embedding, label, fold: fold <= 2)\n",
    "\n",
    "# remove the folds column now that it's not needed anymore\n",
    "remove_fold_column = lambda embedding, label, fold: (embedding, label)\n",
    "\n",
    "test_b_train= test_b_train.map(remove_fold_column)\n",
    "\n",
    "test_b_val= test_b_val.map(remove_fold_column)\n",
    "\n",
    "test_b_test= test_b_test.map(remove_fold_column)\n",
    "\n",
    "\n",
    "\n",
    "#creat a batch of size 32 of frames with size (96,64)\n",
    "#we have to suffle the train set to avoid the frames from the same audio on one batch\n",
    "train_ds = test_b_train.cache().shuffle(1000).batch(32).prefetch( tf.data.experimental.AUTOTUNE)\n",
    "val_ds = test_b_val.cache().batch(32).prefetch( tf.data.experimental.AUTOTUNE)\n",
    "test_ds = test_b_test.cache().batch(32).prefetch( tf.data.experimental.AUTOTUNE)\n",
    "\n",
    "\n",
    "yamnet=yamnet_model.yamnet_frames_model_transfer(params)\n",
    "\n",
    "preloaded_layers = yamnet.layers.copy()\n",
    "preloaded_weights = []\n",
    "for pre in preloaded_layers:\n",
    "        preloaded_weights.append(pre.get_weights())    \n",
    "\n",
    "\n",
    "#load the weights from pretrain model except for the last layer and\n",
    "#check which layer used the pretrain weights\n",
    "# store weights before loading pre-trained weights\n",
    "chkp==True\n",
    "if chkp==True:\n",
    "# load pre-trained weights(fine tuning the model)\n",
    "#load the weights from pretrain model except for the last layer\n",
    "    yamnet.load_weights('D:/bat_n/yamnet_2.h5',by_name=True)\n",
    "    for layer, pre in zip(yamnet.layers, preloaded_weights):\n",
    "        weights = layer.get_weights()\n",
    "        if weights:\n",
    "            if np.array_equal(weights, pre):\n",
    "                print('not loaded', layer.name)\n",
    "            else:\n",
    "                print('loaded', layer.name)\n",
    "\n",
    "\n",
    "\n",
    "\n",
    "\n",
    "yamnet.compile(optimizer='adam', \n",
    "               loss='sparse_categorical_crossentropy', \n",
    "               metrics=['accuracy'])\n",
    "yamnet.fit(train_ds,epochs=20)\n",
    "\n",
    "\n",
    "\n",
    "\n",
    "\n",
    "\n",
    "loss= yamnet.evaluate(test_ds)\n",
    "\n",
    "\n",
    "\n",
    "\n",
    "\n",
    "from audiomentations import Compose, AddGaussianNoise, TimeStretch, PitchShift, Shift\n",
    "import numpy as np\n",
    "\n",
    "SAMPLE_RATE = 16000\n",
    "X=list(map(lambda x: x[0], test_b))\n",
    "X=np.array(X)\n",
    "#y_train = list(map(lambda x: x[1], train_ds))\n",
    "augment = Compose([\n",
    "        AddGaussianNoise(min_amplitude=0.001, max_amplitude=0.015, p=0.5),\n",
    "        TimeStretch(min_rate=0.8, max_rate=1.25, p=0.5),\n",
    "        PitchShift(min_semitones=-4, max_semitones=4, p=0.5),\n",
    "        Shift(min_fraction=-0.5, max_fraction=0.5, p=0.5),\n",
    "        ])\n",
    "augmented_samples = augment(samples=X, sample_rate=16000)\n",
    "    \n",
    "    \n",
    "'''"
   ]
  }
 ],
 "metadata": {
  "kernelspec": {
   "display_name": "Python 3.10.6 64-bit",
   "language": "python",
   "name": "python3"
  },
  "language_info": {
   "codemirror_mode": {
    "name": "ipython",
    "version": 3
   },
   "file_extension": ".py",
   "mimetype": "text/x-python",
   "name": "python",
   "nbconvert_exporter": "python",
   "pygments_lexer": "ipython3",
   "version": "3.10.6"
  },
  "orig_nbformat": 4,
  "vscode": {
   "interpreter": {
    "hash": "d160966f923a3a33b7e4678143d4ddbf9984fa94549c4439610f55de51f406fe"
   }
  }
 },
 "nbformat": 4,
 "nbformat_minor": 2
}
