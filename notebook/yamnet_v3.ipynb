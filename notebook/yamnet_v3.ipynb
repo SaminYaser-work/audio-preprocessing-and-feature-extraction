{
 "cells": [
  {
   "cell_type": "code",
   "execution_count": 14,
   "metadata": {},
   "outputs": [],
   "source": [
    "import numpy as np\n",
    "import seaborn as sns\n",
    "import matplotlib.pyplot as plt\n",
    "import pandas as pd\n",
    "from collections import Counter\n",
    "import statistics\n",
    "\n",
    "import tensorflow as tf\n",
    "from tensorflow import keras\n",
    "\n",
    "from sklearn.preprocessing import OneHotEncoder\n",
    "from sklearn import metrics\n",
    "from sklearn.metrics import classification_report, accuracy_score, confusion_matrix, f1_score, roc_auc_score\n",
    "from sklearn.naive_bayes import GaussianNB\n",
    "from sklearn.model_selection import GridSearchCV, StratifiedKFold, cross_validate, train_test_split\n",
    "from sklearn.neural_network import MLPClassifier\n",
    "from sklearn.preprocessing import StandardScaler\n",
    "from sklearn.neighbors import KNeighborsClassifier\n",
    "from sklearn.linear_model import SGDClassifier, LogisticRegression\n",
    "from sklearn.pipeline import Pipeline, make_pipeline\n",
    "from sklearn.svm import SVC\n",
    "from sklearn.tree import DecisionTreeClassifier\n",
    "from sklearn.decomposition import PCA\n",
    "from sklearn.ensemble import RandomForestClassifier, GradientBoostingClassifier\n",
    "from sklearn.utils import class_weight\n",
    "\n",
    "from imblearn.over_sampling import RandomOverSampler, SMOTE\n",
    "from imblearn.under_sampling import RandomUnderSampler\n",
    "from imblearn.combine import SMOTETomek, SMOTEENN\n",
    "from imblearn.pipeline import Pipeline as IMBPipeline\n",
    "\n",
    "from scikeras.wrappers import KerasClassifier\n",
    "\n",
    "from tpot import TPOTClassifier"
   ]
  },
  {
   "cell_type": "code",
   "execution_count": 15,
   "metadata": {},
   "outputs": [],
   "source": [
    "CLASSES5 = ['angry', 'happy', 'neutral', 'sad', 'surprise']\n",
    "CLASSES6 = ['angry', 'disgust', 'fear', 'happy', 'neutral', 'sad']\n",
    "CLASSES7 = ['angry', 'disgust', 'fear', 'happy', 'neutral', 'sad', 'surprise']\n",
    "\n",
    "\n",
    "def load_data(ds, folder_name):\n",
    "    # ds = 'all_en'\n",
    "    isAug = False\n",
    "    # folder_name = 'yamnet_emb'\n",
    "    model_name = 'YAMNet'\n",
    "\n",
    "    if 1 == 2:\n",
    "        X_train = np.load(f'./features/{folder_name}/{ds}/train_aug_X.npy', allow_pickle=True)\n",
    "        y_train = np.load(f'./features/{folder_name}/{ds}/train_aug_y.npy', allow_pickle=True)\n",
    "    else:\n",
    "        X_train = np.load(f'./features/{folder_name}/{ds}/train_X.npy', allow_pickle=True)\n",
    "        y_train = np.load(f'./features/{folder_name}/{ds}/train_y.npy', allow_pickle=True)\n",
    "\n",
    "\n",
    "    X_val = np.load(f'./features/{folder_name}/{ds}/val_X.npy', allow_pickle=True)\n",
    "    y_val = np.load(f'./features/{folder_name}/{ds}/val_y.npy', allow_pickle=True)\n",
    "    X_test = np.load(f'./features/{folder_name}/{ds}/test_X.npy', allow_pickle=True)\n",
    "    y_test = np.load(f'./features/{folder_name}/{ds}/test_y.npy', allow_pickle=True)\n",
    "\n",
    "\n",
    "    if ds == 'crema':\n",
    "        classes = CLASSES6\n",
    "    elif ds == 'bser':\n",
    "        classes = CLASSES5\n",
    "    else: \n",
    "        classes = CLASSES7\n",
    "\n",
    "    # join train and val\n",
    "    X_train = np.concatenate((X_train, X_val), axis=0)\n",
    "    y_train = np.concatenate((y_train, y_val), axis=0)\n",
    "\n",
    "    X = np.concatenate((X_train, X_test), axis=0)\n",
    "    y = np.concatenate((y_train, y_test), axis=0)\n",
    "\n",
    "    # print(X_train.shape, y_train.shape, X_test.shape, y_test.shape)\n",
    "\n",
    "    # pca = PCA(n_components=0.70)\n",
    "\n",
    "    # X_train = pca.fit_transform(X_train)\n",
    "    # X_test = pca.transform(X_test)\n",
    "\n",
    "    # X_train = X_train.reshape(X_train.shape[0], -1)\n",
    "    # X_test = X_test.reshape(X_test.shape[0], -1)\n",
    "\n",
    "    # X_train.shape, X_test.shape\n",
    "\n",
    "    # class_weights = class_weight.compute_class_weight(class_weight='balanced', classes=np.unique(y_train), y=y_train)\n",
    "    # # class_weights = dict(zip(np.unique(y_train), class_weights))\n",
    "    # class_weights = dict(enumerate(class_weights))\n",
    "    # sample_weights = class_weight.compute_sample_weight(class_weight='balanced', y=y_train)\n",
    "    # sample_weights, len(sample_weights)\n",
    "\n",
    "    return X, y"
   ]
  },
  {
   "cell_type": "code",
   "execution_count": null,
   "metadata": {},
   "outputs": [],
   "source": [
    "# from sklearn.preprocessing import LabelEncoder\n",
    "\n",
    "\n",
    "# X, y = load_data('savee', 'vggish_emb')\n",
    "# train_X, test_X, train_y, test_y =train_test_split(X, y, test_size=0.2, random_state=42, stratify=y)\n",
    "\n",
    "# sample_weights = class_weight.compute_sample_weight(class_weight='balanced', y=train_y)\n",
    "\n",
    "# enc = LabelEncoder()\n",
    "# train_y = enc.fit_transform(train_y)\n",
    "# test_y = enc.transform(test_y)\n",
    "\n",
    "# tpot = TPOTClassifier(generations=5, population_size=20, verbosity=2, n_jobs=-1, scoring='f1_weighted',)\n",
    "# tpot.fit(train_X, train_y, sample_weight=sample_weights)\n",
    "# tpot.score(test_X, test_y)\n",
    "# tpot.export('tpot_ravdess_pipeline.py')"
   ]
  },
  {
   "cell_type": "code",
   "execution_count": 16,
   "metadata": {},
   "outputs": [],
   "source": [
    "def get_sampling_count(y):\n",
    "    count = Counter(y)\n",
    "    harmonic_mean = round(statistics.harmonic_mean(count.values()))\n",
    "\n",
    "    us_sample_count = {}\n",
    "    os_sample_count = {}\n",
    "\n",
    "    for key, value in count.items():\n",
    "        if value > harmonic_mean:\n",
    "            us_sample_count[key] = harmonic_mean\n",
    "        elif value < harmonic_mean:\n",
    "            os_sample_count[key] = harmonic_mean\n",
    "        else:\n",
    "            continue\n",
    "\n",
    "\n",
    "    return us_sample_count, os_sample_count"
   ]
  },
  {
   "cell_type": "code",
   "execution_count": null,
   "metadata": {},
   "outputs": [],
   "source": [
    "def evaluate(model, X_test, y_test, classes, title ):\n",
    "\n",
    "    preds = model.predict(X_test)\n",
    "\n",
    "\n",
    "\n",
    "    weighted_f1 = f1_score(y_test, preds, average='weighted')\n",
    "    macro_f1 = f1_score(y_test, preds, average='macro')\n",
    "    micro_f1 = f1_score(y_test, preds, average='micro')\n",
    "    accuracy = accuracy_score(y_test, preds)\n",
    "    print('F1 Scores')\n",
    "    print('---------')\n",
    "    print(f'Weighted: {weighted_f1}')\n",
    "    print(f'Macro: {macro_f1} (Equal weights to each class)')\n",
    "    print(f'Micro: {micro_f1}')\n",
    "    print(f'Accuracy: {accuracy}')\n",
    "\n",
    "    # weighted_auc = roc_auc_score(y_test, preds, average='weighted', multi_class='ovr')\n",
    "    # macro_auc = roc_auc_score(y_test, preds, average='macro', multi_class='ovr')\n",
    "    # micro_auc = roc_auc_score(y_test, preds, average='micro', multi_class='ovr')\n",
    "    # print('AUC Scores')\n",
    "    # print('---------')\n",
    "    # print(f'Weighted: {weighted_auc}')\n",
    "    # print(f'Macro: {macro_auc} (Equal weights to each class)')\n",
    "    # print(f'Micro: {micro_auc}')\n",
    "\n",
    "\n",
    "    print('\\n')\n",
    "    print('Classification Report')\n",
    "    print('---------------------')\n",
    "    print(classification_report(y_test,preds, digits=4))\n",
    "\n",
    "\n",
    "    print('\\n')\n",
    "    print('Confusion Matrix')\n",
    "    print('----------------')\n",
    "    cm = confusion_matrix(y_test, preds)\n",
    "\n",
    "    cm = cm / cm.astype(float).sum(axis=1)\n",
    "\n",
    "    sns.set(font_scale=1.5)\n",
    "\n",
    "    fig, ax= plt.subplots(figsize=(15,8))\n",
    "    sns.heatmap(cm, annot=True, fmt='.2g', ax=ax)\n",
    "\n",
    "    # labels, title and ticks\n",
    "    ax.set_xlabel('Predicted labels')\n",
    "    ax.set_ylabel('True labels'); \n",
    "    ax.set_title('Confusion Matrix of ' + title); \n",
    "    ax.xaxis.set_ticklabels(classes)\n",
    "    ax.yaxis.set_ticklabels(classes)\n",
    "    plt.show()\n",
    "\n",
    "    return weighted_f1"
   ]
  },
  {
   "cell_type": "code",
   "execution_count": null,
   "metadata": {},
   "outputs": [],
   "source": [
    "a,b = load_data('all', 'vggish_emb')\n",
    "\n",
    "print(a.shape, b.shape)\n",
    "\n",
    "sns.countplot(b)\n"
   ]
  },
  {
   "cell_type": "code",
   "execution_count": null,
   "metadata": {},
   "outputs": [],
   "source": [
    "smt = SMOTETomek(sampling_strategy='all')\n",
    "\n",
    "X_res, y_res = smt.fit_resample(a, b)\n",
    "\n",
    "print(X_res.shape, y_res.shape)\n",
    "\n",
    "sns.countplot(y_res)"
   ]
  },
  {
   "cell_type": "markdown",
   "metadata": {},
   "source": [
    "## Classic ML Models"
   ]
  },
  {
   "cell_type": "code",
   "execution_count": null,
   "metadata": {},
   "outputs": [],
   "source": [
    "dses = ['tess', 'ravdess', 'savee', 'crema', 'subesco', 'bser', 'all_bn', 'all_en', 'all']\n",
    "folder_names = ['yamnet_emb']\n",
    "\n",
    "models = [\n",
    "    {\n",
    "        'name': 'Logistic Regression V1',\n",
    "        'model': LogisticRegression(multi_class='multinomial', solver='lbfgs', class_weight='balanced'),\n",
    "        'scale': True\n",
    "    },\n",
    "    {\n",
    "        'name': 'Logistic Regression V2',\n",
    "        'model': LogisticRegression(max_iter = 500, tol=1e-5, C=1.5, multi_class='multinomial', solver='lbfgs', class_weight='balanced'),\n",
    "        'scale': True\n",
    "    },\n",
    "    {\n",
    "        'name': 'Logistic Regression V3',\n",
    "        'model': LogisticRegression(max_iter = 1000, tol=1e-5,C=2, multi_class='multinomial', solver='lbfgs', class_weight='balanced'),\n",
    "        'scale': True\n",
    "    },\n",
    "    {\n",
    "        'name': 'Logistic Regression V4',\n",
    "        'model': LogisticRegression(max_iter = 2000,tol=1e-5, C=2.5, multi_class='multinomial', solver='lbfgs', class_weight='balanced'),\n",
    "        'scale': True\n",
    "    },\n",
    "\n",
    "]\n",
    "\n",
    "scores = [\n",
    "    'accuracy',\n",
    "    'f1_weighted',\n",
    "]\n",
    "# metrics.get_scorer_names()"
   ]
  },
  {
   "cell_type": "code",
   "execution_count": null,
   "metadata": {},
   "outputs": [],
   "source": [
    "pipeline = IMBPipeline([\n",
    "    ('balance', SMOTETomek(sampling_strategy='all')),\n",
    "    ('clf', MLPClassifier())\n",
    "])\n",
    "\n",
    "params = {\n",
    "    'clf__hidden_layer_sizes': [(1024,), (512,), (2048,)],\n",
    "    'clf__learning_rate': ['adaptive', 'invscaling'],\n",
    "    'clf__learning_rate_init': [0.0001, 1e-5],\n",
    "    'clf__max_iter': [1000],\n",
    "    'clf__shuffle': [True],\n",
    "}\n",
    "\n",
    "scv = StratifiedKFold(n_splits=5)\n",
    "\n",
    "grid = GridSearchCV(pipeline, params, cv=scv, scoring=scores, refit='f1_weighted', n_jobs=-1, verbose=1, return_train_score=True)\n",
    "\n",
    "X, y = load_data('all', 'vggish_emb')\n",
    "\n",
    "grid.fit(X, y)"
   ]
  },
  {
   "cell_type": "code",
   "execution_count": null,
   "metadata": {},
   "outputs": [],
   "source": [
    "grid.best_params_"
   ]
  },
  {
   "cell_type": "code",
   "execution_count": null,
   "metadata": {},
   "outputs": [],
   "source": [
    "df = pd.DataFrame(grid.cv_results_)\n",
    "df = df.sort_values(by='mean_test_f1_weighted', ascending=False)\n",
    "df\n",
    "# df.to_csv('grid_search_results_savee.csv', index=False)"
   ]
  },
  {
   "cell_type": "code",
   "execution_count": null,
   "metadata": {},
   "outputs": [],
   "source": [
    "# reses = []\n",
    "# for folder_name in folder_names:\n",
    "#     for ds in dses:\n",
    "#         X, y = load_data(ds, folder_name)\n",
    "#         scv = StratifiedKFold(n_splits=5, shuffle=True)\n",
    "#         for model in models:\n",
    "#             print('Cross validating', model['name'], 'on', ds, 'with', folder_name)\n",
    "\n",
    "#             if model['scale']:\n",
    "#                 scaler = StandardScaler()\n",
    "#                 X = scaler.fit_transform(X)\n",
    "\n",
    "#             acc = []\n",
    "#             f1_weighted = []\n",
    "\n",
    "#             for train_index, test_index in scv.split(X, y):\n",
    "#                 X_train, X_test = X[train_index], X[test_index]\n",
    "#                 y_train, y_test = y[train_index], y[test_index]\n",
    "\n",
    "#                 us_sample_count, os_sample_count = get_sampling_count(y_train)\n",
    "\n",
    "#                 # over = RandomOverSampler(sampling_strategy=os_sample_count)\n",
    "#                 # X_train, y_train = over.fit_resample(X_train, y_train)\n",
    "\n",
    "#                 # under = RandomUnderSampler(sampling_strategy=us_sample_count)\n",
    "#                 # X_train, y_train = under.fit_resample(X_train, y_train)\n",
    "\n",
    "#                 smt = SMOTETomek(sampling_strategy='all')\n",
    "#                 X_train, y_train = smt.fit_resample(X_train, y_train)\n",
    "\n",
    "#                 m = model['model']\n",
    "#                 m.fit(X_train, y_train)\n",
    "\n",
    "#                 acc.append(accuracy_score(y_test, m.predict(X_test)))\n",
    "#                 f1_weighted.append(f1_score(y_test, m.predict(X_test), average='weighted'))\n",
    "\n",
    "#             reses.append({\n",
    "#                 'ds': ds,\n",
    "#                 'model': model['name'],\n",
    "#                 'folder': folder_name,\n",
    "#                 'weighted_f1': np.mean(f1_weighted),\n",
    "#                 'accuracy': np.mean(acc),\n",
    "#             })"
   ]
  },
  {
   "cell_type": "code",
   "execution_count": null,
   "metadata": {},
   "outputs": [],
   "source": [
    "# import pickle\n",
    "\n",
    "# with open('results.pkl', 'wb') as f:\n",
    "#     pickle.dump(reses, f)"
   ]
  },
  {
   "cell_type": "code",
   "execution_count": null,
   "metadata": {},
   "outputs": [],
   "source": [
    "reses[0]"
   ]
  },
  {
   "cell_type": "code",
   "execution_count": null,
   "metadata": {},
   "outputs": [],
   "source": [
    "df = pd.read_csv('grid_search_results.csv')\n",
    "df"
   ]
  },
  {
   "cell_type": "code",
   "execution_count": null,
   "metadata": {},
   "outputs": [],
   "source": [
    "sns.set(font_scale=1.5)\n",
    "df_dict = {\n",
    "    'model': [],\n",
    "    'dataset': [],\n",
    "    'folder': [],\n",
    "    'accuracy': [],\n",
    "    'f1_weighted': [],\n",
    "    'train_time': []\n",
    "}\n",
    "\n",
    "for res in reses:\n",
    "    df_dict['model'].append(res['model'])\n",
    "    df_dict['dataset'].append(res['ds'])\n",
    "    df_dict['folder'].append(res['folder'])\n",
    "    df_dict['f1_weighted'].append(res['weighted_f1'])\n",
    "    df_dict['accuracy'].append(res['accuracy'])\n",
    "\n",
    "\n",
    "\n",
    "df = pd.DataFrame(reses)\n",
    "df"
   ]
  },
  {
   "cell_type": "code",
   "execution_count": null,
   "metadata": {},
   "outputs": [],
   "source": [
    "sns.set(font_scale=1.5)\n",
    "plt.figure(figsize=(50,20))\n",
    "ax = sns.barplot(x='ds', y='weighted_f1', hue='model', data=df[df['folder'] == 'vggish_emb'])\n",
    "plt.title('Weighted F1 Scores for VGGish Embeddings')\n",
    "\n",
    "for p in ax.patches:\n",
    "    ax.annotate(format(p.get_height(), '.2f'), (p.get_x() + p.get_width() / 2., p.get_height()), \n",
    "            ha = 'center', va = 'center', xytext = (0, 10), textcoords = 'offset points')\n",
    "    if p.get_height() > 6:\n",
    "        p.set_color('red')    \n"
   ]
  },
  {
   "cell_type": "code",
   "execution_count": null,
   "metadata": {},
   "outputs": [],
   "source": [
    "plt.figure(figsize=(50,20))\n",
    "ax = sns.barplot(x='ds', y='accuracy', hue='model', data=df[df['folder'] == 'vggish_emb'])\n",
    "plt.title('Accuracy of different models on different datasets with VGGish embeddings')\n",
    "for p in ax.patches:\n",
    "    ax.annotate(format(p.get_height(), '.2f'), (p.get_x() + p.get_width() / 2., p.get_height()), \n",
    "            ha = 'center', va = 'center', xytext = (0, 10), textcoords = 'offset points')\n"
   ]
  },
  {
   "cell_type": "code",
   "execution_count": null,
   "metadata": {},
   "outputs": [],
   "source": [
    "plt.figure(figsize=(50,20))\n",
    "ax = sns.barplot(x='ds', y='weighted_f1', hue='model', data=df[df['folder'] == 'yamnet_emb'])\n",
    "for p in ax.patches:\n",
    "    ax.annotate(format(p.get_height(), '.2f'), (p.get_x() + p.get_width() / 2., p.get_height()), \n",
    "            ha = 'center', va = 'center', xytext = (0, 10), textcoords = 'offset points')\n"
   ]
  },
  {
   "cell_type": "code",
   "execution_count": null,
   "metadata": {},
   "outputs": [],
   "source": [
    "plt.figure(figsize=(50,20))\n",
    "ax = sns.barplot(x='dataset', y='train_time', hue='model', data=df[df['folder'] == 'yamnet_emb'])\n",
    "for p in ax.patches:\n",
    "    ax.annotate(format(p.get_height(), '.4f'), (p.get_x() + p.get_width() / 2., p.get_height()), \n",
    "            ha = 'center', va = 'center', xytext = (0, 10), textcoords = 'offset points')\n"
   ]
  },
  {
   "cell_type": "markdown",
   "metadata": {},
   "source": [
    "## Keras"
   ]
  },
  {
   "cell_type": "code",
   "execution_count": 17,
   "metadata": {},
   "outputs": [
    {
     "name": "stdout",
     "output_type": "stream",
     "text": [
      "{0: 1.076147382029735, 1: 0.8737273013540464, 2: 1.0043436293436294, 3: 1.03045308244615, 4: 0.9095942303489474, 5: 0.78960349079871, 6: 1.6827493261455526}\n",
      "(24972,)\n",
      "Training features shape: (24972, 128)\n",
      "Training labels shape: (24972, 7)\n",
      "Validation features shape: (3536, 128)\n",
      "Validation labels shape: (3536, 7)\n",
      "Test features shape: (7085, 128)\n",
      "Test labels shape: (7085, 7)\n"
     ]
    },
    {
     "name": "stderr",
     "output_type": "stream",
     "text": [
      "2022-11-24 17:53:36.964117: I tensorflow/stream_executor/cuda/cuda_gpu_executor.cc:980] successful NUMA node read from SysFS had negative value (-1), but there must be at least one NUMA node, so returning NUMA node zero\n",
      "2022-11-24 17:53:36.964354: W tensorflow/stream_executor/platform/default/dso_loader.cc:64] Could not load dynamic library 'libcudart.so.11.0'; dlerror: libcudart.so.11.0: cannot open shared object file: No such file or directory\n",
      "2022-11-24 17:53:36.964421: W tensorflow/stream_executor/platform/default/dso_loader.cc:64] Could not load dynamic library 'libcublas.so.11'; dlerror: libcublas.so.11: cannot open shared object file: No such file or directory\n",
      "2022-11-24 17:53:36.964473: W tensorflow/stream_executor/platform/default/dso_loader.cc:64] Could not load dynamic library 'libcublasLt.so.11'; dlerror: libcublasLt.so.11: cannot open shared object file: No such file or directory\n",
      "2022-11-24 17:53:36.964521: W tensorflow/stream_executor/platform/default/dso_loader.cc:64] Could not load dynamic library 'libcufft.so.10'; dlerror: libcufft.so.10: cannot open shared object file: No such file or directory\n",
      "2022-11-24 17:53:36.964571: W tensorflow/stream_executor/platform/default/dso_loader.cc:64] Could not load dynamic library 'libcurand.so.10'; dlerror: libcurand.so.10: cannot open shared object file: No such file or directory\n",
      "2022-11-24 17:53:36.964618: W tensorflow/stream_executor/platform/default/dso_loader.cc:64] Could not load dynamic library 'libcusolver.so.11'; dlerror: libcusolver.so.11: cannot open shared object file: No such file or directory\n",
      "2022-11-24 17:53:36.964667: W tensorflow/stream_executor/platform/default/dso_loader.cc:64] Could not load dynamic library 'libcusparse.so.11'; dlerror: libcusparse.so.11: cannot open shared object file: No such file or directory\n",
      "2022-11-24 17:53:36.964716: W tensorflow/stream_executor/platform/default/dso_loader.cc:64] Could not load dynamic library 'libcudnn.so.8'; dlerror: libcudnn.so.8: cannot open shared object file: No such file or directory\n",
      "2022-11-24 17:53:36.964723: W tensorflow/core/common_runtime/gpu/gpu_device.cc:1934] Cannot dlopen some GPU libraries. Please make sure the missing libraries mentioned above are installed properly if you would like to use GPU. Follow the guide at https://www.tensorflow.org/install/gpu for how to download and setup the required libraries for your platform.\n",
      "Skipping registering GPU devices...\n",
      "2022-11-24 17:53:36.964966: I tensorflow/core/platform/cpu_feature_guard.cc:193] This TensorFlow binary is optimized with oneAPI Deep Neural Network Library (oneDNN) to use the following CPU instructions in performance-critical operations:  AVX2 FMA\n",
      "To enable them in other operations, rebuild TensorFlow with the appropriate compiler flags.\n"
     ]
    }
   ],
   "source": [
    "isAug = False\n",
    "ds = 'all'\n",
    "folder_name = 'vggish_emb'\n",
    "\n",
    "if isAug:\n",
    "    train_features = np.load(f'./features/{folder_name}/{ds}/train_aug_X.npy', allow_pickle=True)\n",
    "    train_labels = np.load(f'./features/{folder_name}/{ds}/train_aug_y.npy', allow_pickle=True)\n",
    "else:\n",
    "    train_features = np.load(f'./features/{folder_name}/{ds}/train_X.npy', allow_pickle=True)\n",
    "    train_labels = np.load(f'./features/{folder_name}/{ds}/train_y.npy', allow_pickle=True)\n",
    "\n",
    "\n",
    "val_features = np.load(f'./features/{folder_name}/{ds}/val_X.npy', allow_pickle=True)\n",
    "val_labels = np.load(f'./features/{folder_name}/{ds}/val_y.npy', allow_pickle=True)\n",
    "test_features = np.load(f'./features/{folder_name}/{ds}/test_X.npy', allow_pickle=True)\n",
    "test_labels = np.load(f'./features/{folder_name}/{ds}/test_y.npy', allow_pickle=True)\n",
    "\n",
    "scaler = StandardScaler()\n",
    "train_features = scaler.fit_transform(train_features)\n",
    "val_features = scaler.transform(val_features)\n",
    "test_features = scaler.transform(test_features)\n",
    "\n",
    "\n",
    "labels = np.unique(train_labels)\n",
    "\n",
    "class_weights = class_weight.compute_class_weight(class_weight='balanced', classes=labels, y=train_labels)\n",
    "# class_weights = dict(zip(np.unique(y_train), class_weights))\n",
    "class_weights = dict(enumerate(class_weights))\n",
    "sample_weights = class_weight.compute_sample_weight(class_weight='balanced', y=train_labels)\n",
    "\n",
    "print(class_weights)\n",
    "print(sample_weights.shape)\n",
    "\n",
    "train_labels = train_labels.reshape(-1, 1)\n",
    "val_labels = val_labels.reshape(-1, 1)\n",
    "test_labels = test_labels.reshape(-1, 1)\n",
    "\n",
    "encoder = OneHotEncoder()\n",
    "\n",
    "train_labels = encoder.fit_transform(train_labels).toarray()\n",
    "val_labels = encoder.transform(val_labels).toarray()\n",
    "test_labels = encoder.transform(test_labels).toarray()\n",
    "\n",
    "print('Training features shape:', train_features.shape)\n",
    "print('Training labels shape:', train_labels.shape)\n",
    "print('Validation features shape:', val_features.shape)\n",
    "print('Validation labels shape:', val_labels.shape)\n",
    "print('Test features shape:', test_features.shape)\n",
    "print('Test labels shape:', test_labels.shape)\n",
    "\n",
    "def plot_cm(labels, predictions):\n",
    "    cm = confusion_matrix(labels, predictions)\n",
    "    cm = cm.astype('float') / cm.sum(axis=1)[:, np.newaxis]\n",
    "    plt.figure(figsize=(15,8))\n",
    "    sns.heatmap(cm, annot=True, fmt=\".2g\")\n",
    "    plt.ylabel('Actual label')\n",
    "    plt.xlabel('Predicted label')\n",
    "\n",
    "METRICS = [\n",
    "    keras.metrics.TruePositives(name='tp'),\n",
    "    keras.metrics.FalsePositives(name='fp'),\n",
    "    keras.metrics.TrueNegatives(name='tn'),\n",
    "    keras.metrics.FalseNegatives(name='fn'), \n",
    "    # keras.metrics.BinaryAccuracy(name='accuracy'),\n",
    "    keras.metrics.CategoricalAccuracy(name=\"categorical_accuracy\", dtype=None),\n",
    "    keras.metrics.Precision(name='precision'),\n",
    "    keras.metrics.Recall(name='recall'),\n",
    "    keras.metrics.AUC(name='auc'),\n",
    "    keras.metrics.AUC(name='prc', curve='PR'), # precision-recall curve\n",
    "]\n"
   ]
  },
  {
   "cell_type": "code",
   "execution_count": 18,
   "metadata": {},
   "outputs": [],
   "source": [
    "EPOCHS = 5000\n",
    "BATCH_SIZE = 256\n",
    "monitor = 'val_loss'\n",
    "\n",
    "early_stopping = tf.keras.callbacks.EarlyStopping(\n",
    "    monitor=monitor, \n",
    "    verbose=1,\n",
    "    patience=20,\n",
    "    mode='min',\n",
    "    restore_best_weights=True)\n",
    "\n",
    "scheduling = keras.callbacks.ReduceLROnPlateau(\n",
    "    monitor=monitor,\n",
    "    factor=0.5,\n",
    "    patience=3,\n",
    "    cooldown=0,\n",
    "    verbose=1,\n",
    "    mode=\"min\",\n",
    "    min_delta=0.0001,\n",
    "    min_lr=1e-20\n",
    "    )\n",
    "\n",
    "def create_model(layers, dropout):\n",
    "\n",
    "    model = keras.Sequential()\n",
    "    model.add(keras.layers.Input(shape=(1024,)))\n",
    "\n",
    "    for i in range(len(layers)):\n",
    "        model.add(keras.layers.Dense(layers[i], activation='relu'))\n",
    "\n",
    "    model.add(keras.layers.Dropout(dropout))\n",
    "    model.add(keras.layers.Dense(7, activation='softmax'))\n",
    "\n",
    "    return model\n"
   ]
  },
  {
   "cell_type": "code",
   "execution_count": 19,
   "metadata": {},
   "outputs": [],
   "source": [
    "layers = [\n",
    "    [2048],\n",
    "    [1024],\n",
    "    [512],\n",
    "    [256],\n",
    "    [128],\n",
    "    [512, 256],\n",
    "    [128, 256]\n",
    "]\n",
    "dropouts = [0, 0.2, 0.5]\n",
    "optimizers = [\n",
    "    tf.optimizers.Adam(learning_rate=1e-3),\n",
    "    tf.optimizers.Adamax(learning_rate=1e-3),\n",
    "    tf.optimizers.Adam(learning_rate=1e-4),\n",
    "    tf.optimizers.Adamax(learning_rate=1e-4),\n",
    "    tf.optimizers.Adam(learning_rate=1e-5),\n",
    "    tf.optimizers.Adamax(learning_rate=1e-5),\n",
    "]\n",
    "dses = ['tess', 'ravdess', 'savee', 'crema', 'subesco', 'bser', 'all_bn', 'all_en', 'all']\n",
    "folder_names = ['vggish_emb']\n",
    "isAugs = [True, False]"
   ]
  },
  {
   "cell_type": "code",
   "execution_count": null,
   "metadata": {},
   "outputs": [],
   "source": [
    "import itertools\n",
    "\n",
    "combinations = list(itertools.product(layers, dropouts, optimizers, dses, folder_names, isAugs))\n",
    "\n",
    "len(combinations), combinations[0]"
   ]
  },
  {
   "cell_type": "code",
   "execution_count": null,
   "metadata": {},
   "outputs": [],
   "source": [
    "from tqdm import tqdm\n",
    "\n",
    "results = []\n",
    "\n",
    "for comb in tqdm(combinations):\n",
    "    print(comb)\n",
    "    layer, dropout, optimizer, ds, folder_name, isAug = comb\n",
    "\n",
    "    if isAug:\n",
    "        train_features = np.load(f'./features/{folder_name}/{ds}/train_aug_X.npy', allow_pickle=True)\n",
    "        train_labels = np.load(f'./features/{folder_name}/{ds}/train_aug_y.npy', allow_pickle=True)\n",
    "    else:\n",
    "        train_features = np.load(f'./features/{folder_name}/{ds}/train_X.npy', allow_pickle=True)\n",
    "        train_labels = np.load(f'./features/{folder_name}/{ds}/train_y.npy', allow_pickle=True)\n",
    "\n",
    "\n",
    "    val_features = np.load(f'./features/{folder_name}/{ds}/val_X.npy', allow_pickle=True)\n",
    "    val_labels = np.load(f'./features/{folder_name}/{ds}/val_y.npy', allow_pickle=True)\n",
    "    test_features = np.load(f'./features/{folder_name}/{ds}/test_X.npy', allow_pickle=True)\n",
    "    test_labels = np.load(f'./features/{folder_name}/{ds}/test_y.npy', allow_pickle=True)\n",
    "\n",
    "\n",
    "    labels = np.unique(train_labels)\n",
    "\n",
    "    scaler = StandardScaler()\n",
    "    train_features = scaler.fit_transform(train_features)\n",
    "    val_features = scaler.transform(val_features)\n",
    "    test_features = scaler.transform(test_features)\n",
    "    train_labels = train_labels.reshape(-1, 1)\n",
    "    val_labels = val_labels.reshape(-1, 1)\n",
    "    test_labels = test_labels.reshape(-1, 1)\n",
    "    \n",
    "    encoder = OneHotEncoder()\n",
    "    train_labels = encoder.fit_transform(train_labels).toarray()\n",
    "    val_labels = encoder.transform(val_labels).toarray()\n",
    "    test_labels = encoder.transform(test_labels).toarray()\n",
    "\n",
    "\n",
    "    # Model creation\n",
    "    out = len(labels)\n",
    "\n",
    "    model = keras.Sequential()\n",
    "    model.add(keras.layers.Input(shape=(train_features.shape[-1],)))\n",
    "\n",
    "    for i in range(len(layers)):\n",
    "        model.add(keras.layers.Dense(layers[i][0], activation='relu'))\n",
    "    \n",
    "    if dropout != 0:\n",
    "        model.add(keras.layers.Dropout(dropout))\n",
    "\n",
    "    model.add(keras.layers.Dense(out, activation='softmax'))\n",
    "\n",
    "    model.compile(\n",
    "        optimizer=optimizer,\n",
    "        loss='categorical_crossentropy',\n",
    "        metrics=METRICS\n",
    "    )\n",
    "    model.fit(train_features, train_labels, validation_data=(val_features, val_labels), epochs=EPOCHS, batch_size=BATCH_SIZE, callbacks=[early_stopping, scheduling], verbose=0)\n",
    "\n",
    "    res = model.evaluate(test_features, test_labels, batch_size=BATCH_SIZE, verbose=0)\n",
    "\n",
    "    test_predictions = model.predict(test_features, batch_size=BATCH_SIZE)\n",
    "    true = encoder.inverse_transform(test_labels)\n",
    "    preds = encoder.inverse_transform(test_predictions)\n",
    "\n",
    "    results.append(\n",
    "        {\n",
    "            'info': comb,\n",
    "            'res': res,\n",
    "            'f1_weighted': f1_score(true, preds, average='weighted'),\n",
    "            'accuracy': accuracy_score(true, preds),\n",
    "            'cm': confusion_matrix(true, preds, normalize='true'),\n",
    "            'report': classification_report(true, preds, digits=4)\n",
    "        }\n",
    "    )\n"
   ]
  },
  {
   "cell_type": "code",
   "execution_count": 29,
   "metadata": {},
   "outputs": [
    {
     "name": "stdout",
     "output_type": "stream",
     "text": [
      "before: (84649, 1024) (84649,)\n"
     ]
    },
    {
     "name": "stderr",
     "output_type": "stream",
     "text": [
      "/home/sam/.local/lib/python3.10/site-packages/seaborn/_decorators.py:36: FutureWarning: Pass the following variable as a keyword arg: x. From version 0.12, the only valid positional argument will be `data`, and passing other arguments without an explicit keyword will result in an error or misinterpretation.\n",
      "  warnings.warn(\n"
     ]
    },
    {
     "data": {
      "image/png": "[encoded data removed]",
      "text/plain": [
       "<Figure size 432x288 with 1 Axes>"
      ]
     },
     "metadata": {
      "needs_background": "light"
     },
     "output_type": "display_data"
    },
    {
     "name": "stdout",
     "output_type": "stream",
     "text": [
      "After: (80598, 1024) (80598,)\n"
     ]
    },
    {
     "name": "stderr",
     "output_type": "stream",
     "text": [
      "/home/sam/.local/lib/python3.10/site-packages/seaborn/_decorators.py:36: FutureWarning: Pass the following variable as a keyword arg: x. From version 0.12, the only valid positional argument will be `data`, and passing other arguments without an explicit keyword will result in an error or misinterpretation.\n",
      "  warnings.warn(\n"
     ]
    },
    {
     "data": {
      "image/png": "[encoded data removed]",
      "text/plain": [
       "<Figure size 432x288 with 1 Axes>"
      ]
     },
     "metadata": {
      "needs_background": "light"
     },
     "output_type": "display_data"
    }
   ],
   "source": [
    "folder_name = 'yamnet_emb'\n",
    "ds = 'all'\n",
    "\n",
    "train_features = np.load(f'./features/{folder_name}/{ds}/train_X.npy', allow_pickle=True)\n",
    "train_labels = np.load(f'./features/{folder_name}/{ds}/train_y.npy', allow_pickle=True)\n",
    "val_features = np.load(f'./features/{folder_name}/{ds}/val_X.npy', allow_pickle=True)\n",
    "val_labels = np.load(f'./features/{folder_name}/{ds}/val_y.npy', allow_pickle=True)\n",
    "test_features = np.load(f'./features/{folder_name}/{ds}/test_X.npy', allow_pickle=True)\n",
    "test_labels = np.load(f'./features/{folder_name}/{ds}/test_y.npy', allow_pickle=True)\n",
    "\n",
    "print('before:', train_features.shape, train_labels.shape)\n",
    "sns.countplot(train_labels)\n",
    "plt.show()\n",
    "under, over = get_sampling_count(train_labels)\n",
    "under_sample = RandomUnderSampler(sampling_strategy=under)\n",
    "over_sample = RandomOverSampler(sampling_strategy=over)\n",
    "train_features, train_labels = under_sample.fit_resample(train_features, train_labels)\n",
    "train_features, train_labels = over_sample.fit_resample(train_features, train_labels)\n",
    "print('After:', train_features.shape, train_labels.shape)\n",
    "sns.countplot(train_labels)\n",
    "plt.show()\n",
    "\n",
    "scaler = StandardScaler()\n",
    "train_features = scaler.fit_transform(train_features)\n",
    "val_features = scaler.transform(val_features)\n",
    "test_features = scaler.transform(test_features)\n",
    "train_labels = train_labels.reshape(-1, 1)\n",
    "val_labels = val_labels.reshape(-1, 1)\n",
    "test_labels = test_labels.reshape(-1, 1)\n",
    "\n",
    "encoder = OneHotEncoder()\n",
    "train_labels = encoder.fit_transform(train_labels).toarray()\n",
    "val_labels = encoder.transform(val_labels).toarray()\n",
    "test_labels = encoder.transform(test_labels).toarray()\n"
   ]
  },
  {
   "cell_type": "code",
   "execution_count": 28,
   "metadata": {},
   "outputs": [
    {
     "name": "stdout",
     "output_type": "stream",
     "text": [
      "Model: \"sequential_1\"\n",
      "_________________________________________________________________\n",
      " Layer (type)                Output Shape              Param #   \n",
      "=================================================================\n",
      " dense_3 (Dense)             (None, 4096)              528384    \n",
      "                                                                 \n",
      " dense_4 (Dense)             (None, 2048)              8390656   \n",
      "                                                                 \n",
      " dense_5 (Dense)             (None, 1024)              2098176   \n",
      "                                                                 \n",
      " dropout_1 (Dropout)         (None, 1024)              0         \n",
      "                                                                 \n",
      " dense_6 (Dense)             (None, 7)                 7175      \n",
      "                                                                 \n",
      "=================================================================\n",
      "Total params: 11,024,391\n",
      "Trainable params: 11,024,391\n",
      "Non-trainable params: 0\n",
      "_________________________________________________________________\n"
     ]
    }
   ],
   "source": [
    "model = create_model([4096, 2048, 1024], 0.2)\n",
    "model.compile(\n",
    "    optimizer=tf.optimizers.Adamax(learning_rate=1e-3),\n",
    "    loss='categorical_crossentropy',\n",
    "    metrics=METRICS\n",
    ")\n",
    "model.summary()"
   ]
  },
  {
   "cell_type": "code",
   "execution_count": 30,
   "metadata": {},
   "outputs": [
    {
     "name": "stdout",
     "output_type": "stream",
     "text": [
      "Epoch 1/5000\n"
     ]
    },
    {
     "name": "stderr",
     "output_type": "stream",
     "text": [
      "2022-11-24 18:06:26.221893: W tensorflow/core/framework/cpu_allocator_impl.cc:82] Allocation of 330129408 exceeds 10% of free system memory.\n"
     ]
    },
    {
     "ename": "ValueError",
     "evalue": "in user code:\n\n    File \"/home/sam/.local/lib/python3.10/site-packages/keras/engine/training.py\", line 1160, in train_function  *\n        return step_function(self, iterator)\n    File \"/home/sam/.local/lib/python3.10/site-packages/keras/engine/training.py\", line 1146, in step_function  **\n        outputs = model.distribute_strategy.run(run_step, args=(data,))\n    File \"/home/sam/.local/lib/python3.10/site-packages/keras/engine/training.py\", line 1135, in run_step  **\n        outputs = model.train_step(data)\n    File \"/home/sam/.local/lib/python3.10/site-packages/keras/engine/training.py\", line 993, in train_step\n        y_pred = self(x, training=True)\n    File \"/home/sam/.local/lib/python3.10/site-packages/keras/utils/traceback_utils.py\", line 70, in error_handler\n        raise e.with_traceback(filtered_tb) from None\n    File \"/home/sam/.local/lib/python3.10/site-packages/keras/engine/input_spec.py\", line 295, in assert_input_compatibility\n        raise ValueError(\n\n    ValueError: Input 0 of layer \"sequential_1\" is incompatible with the layer: expected shape=(None, 128), found shape=(None, 1024)\n",
     "output_type": "error",
     "traceback": [
      "\u001b[0;31m---------------------------------------------------------------------------\u001b[0m",
      "\u001b[0;31mValueError\u001b[0m                                Traceback (most recent call last)",
      "\u001b[1;32m/home/sam/Documents/Projects/Thesis/audio-preprocessing-and-feature-extraction/notebook/yamnet_v3.ipynb Cell 30\u001b[0m in \u001b[0;36m<cell line: 1>\u001b[0;34m()\u001b[0m\n\u001b[0;32m----> <a href='vscode-notebook-cell:/home/sam/Documents/Projects/Thesis/audio-preprocessing-and-feature-extraction/notebook/yamnet_v3.ipynb#X51sZmlsZQ%3D%3D?line=0'>1</a>\u001b[0m hist \u001b[39m=\u001b[39m model\u001b[39m.\u001b[39;49mfit(\n\u001b[1;32m      <a href='vscode-notebook-cell:/home/sam/Documents/Projects/Thesis/audio-preprocessing-and-feature-extraction/notebook/yamnet_v3.ipynb#X51sZmlsZQ%3D%3D?line=1'>2</a>\u001b[0m     train_features, \n\u001b[1;32m      <a href='vscode-notebook-cell:/home/sam/Documents/Projects/Thesis/audio-preprocessing-and-feature-extraction/notebook/yamnet_v3.ipynb#X51sZmlsZQ%3D%3D?line=2'>3</a>\u001b[0m     train_labels, \n\u001b[1;32m      <a href='vscode-notebook-cell:/home/sam/Documents/Projects/Thesis/audio-preprocessing-and-feature-extraction/notebook/yamnet_v3.ipynb#X51sZmlsZQ%3D%3D?line=3'>4</a>\u001b[0m     validation_data\u001b[39m=\u001b[39;49m(val_features, val_labels), \n\u001b[1;32m      <a href='vscode-notebook-cell:/home/sam/Documents/Projects/Thesis/audio-preprocessing-and-feature-extraction/notebook/yamnet_v3.ipynb#X51sZmlsZQ%3D%3D?line=4'>5</a>\u001b[0m     epochs\u001b[39m=\u001b[39;49mEPOCHS, \n\u001b[1;32m      <a href='vscode-notebook-cell:/home/sam/Documents/Projects/Thesis/audio-preprocessing-and-feature-extraction/notebook/yamnet_v3.ipynb#X51sZmlsZQ%3D%3D?line=5'>6</a>\u001b[0m     batch_size\u001b[39m=\u001b[39;49mBATCH_SIZE, \n\u001b[1;32m      <a href='vscode-notebook-cell:/home/sam/Documents/Projects/Thesis/audio-preprocessing-and-feature-extraction/notebook/yamnet_v3.ipynb#X51sZmlsZQ%3D%3D?line=6'>7</a>\u001b[0m     callbacks\u001b[39m=\u001b[39;49m[early_stopping, scheduling], \n\u001b[1;32m      <a href='vscode-notebook-cell:/home/sam/Documents/Projects/Thesis/audio-preprocessing-and-feature-extraction/notebook/yamnet_v3.ipynb#X51sZmlsZQ%3D%3D?line=7'>8</a>\u001b[0m     verbose\u001b[39m=\u001b[39;49m\u001b[39m1\u001b[39;49m)\n",
      "File \u001b[0;32m~/.local/lib/python3.10/site-packages/keras/utils/traceback_utils.py:70\u001b[0m, in \u001b[0;36mfilter_traceback.<locals>.error_handler\u001b[0;34m(*args, **kwargs)\u001b[0m\n\u001b[1;32m     67\u001b[0m     filtered_tb \u001b[39m=\u001b[39m _process_traceback_frames(e\u001b[39m.\u001b[39m__traceback__)\n\u001b[1;32m     68\u001b[0m     \u001b[39m# To get the full stack trace, call:\u001b[39;00m\n\u001b[1;32m     69\u001b[0m     \u001b[39m# `tf.debugging.disable_traceback_filtering()`\u001b[39;00m\n\u001b[0;32m---> 70\u001b[0m     \u001b[39mraise\u001b[39;00m e\u001b[39m.\u001b[39mwith_traceback(filtered_tb) \u001b[39mfrom\u001b[39;00m \u001b[39mNone\u001b[39m\n\u001b[1;32m     71\u001b[0m \u001b[39mfinally\u001b[39;00m:\n\u001b[1;32m     72\u001b[0m     \u001b[39mdel\u001b[39;00m filtered_tb\n",
      "File \u001b[0;32m/tmp/__autograph_generated_fileq7c8w2od.py:15\u001b[0m, in \u001b[0;36mouter_factory.<locals>.inner_factory.<locals>.tf__train_function\u001b[0;34m(iterator)\u001b[0m\n\u001b[1;32m     13\u001b[0m \u001b[39mtry\u001b[39;00m:\n\u001b[1;32m     14\u001b[0m     do_return \u001b[39m=\u001b[39m \u001b[39mTrue\u001b[39;00m\n\u001b[0;32m---> 15\u001b[0m     retval_ \u001b[39m=\u001b[39m ag__\u001b[39m.\u001b[39mconverted_call(ag__\u001b[39m.\u001b[39mld(step_function), (ag__\u001b[39m.\u001b[39mld(\u001b[39mself\u001b[39m), ag__\u001b[39m.\u001b[39mld(iterator)), \u001b[39mNone\u001b[39;00m, fscope)\n\u001b[1;32m     16\u001b[0m \u001b[39mexcept\u001b[39;00m:\n\u001b[1;32m     17\u001b[0m     do_return \u001b[39m=\u001b[39m \u001b[39mFalse\u001b[39;00m\n",
      "\u001b[0;31mValueError\u001b[0m: in user code:\n\n    File \"/home/sam/.local/lib/python3.10/site-packages/keras/engine/training.py\", line 1160, in train_function  *\n        return step_function(self, iterator)\n    File \"/home/sam/.local/lib/python3.10/site-packages/keras/engine/training.py\", line 1146, in step_function  **\n        outputs = model.distribute_strategy.run(run_step, args=(data,))\n    File \"/home/sam/.local/lib/python3.10/site-packages/keras/engine/training.py\", line 1135, in run_step  **\n        outputs = model.train_step(data)\n    File \"/home/sam/.local/lib/python3.10/site-packages/keras/engine/training.py\", line 993, in train_step\n        y_pred = self(x, training=True)\n    File \"/home/sam/.local/lib/python3.10/site-packages/keras/utils/traceback_utils.py\", line 70, in error_handler\n        raise e.with_traceback(filtered_tb) from None\n    File \"/home/sam/.local/lib/python3.10/site-packages/keras/engine/input_spec.py\", line 295, in assert_input_compatibility\n        raise ValueError(\n\n    ValueError: Input 0 of layer \"sequential_1\" is incompatible with the layer: expected shape=(None, 128), found shape=(None, 1024)\n"
     ]
    }
   ],
   "source": [
    "hist = model.fit(\n",
    "    train_features, \n",
    "    train_labels, \n",
    "    validation_data=(val_features, val_labels), \n",
    "    epochs=EPOCHS, \n",
    "    batch_size=BATCH_SIZE, \n",
    "    callbacks=[early_stopping, scheduling], \n",
    "    verbose=1)\n"
   ]
  },
  {
   "cell_type": "code",
   "execution_count": null,
   "metadata": {},
   "outputs": [
    {
     "name": "stdout",
     "output_type": "stream",
     "text": [
      "INFO:tensorflow:Assets written to: ../Models/vggish_all/assets\n"
     ]
    }
   ],
   "source": [
    "model.save('../Models/yamnet_all')"
   ]
  },
  {
   "cell_type": "code",
   "execution_count": null,
   "metadata": {},
   "outputs": [
    {
     "name": "stdout",
     "output_type": "stream",
     "text": [
      "28/28 [==============================] - 0s 3ms/step\n"
     ]
    },
    {
     "data": {
      "image/png": "[encoded data removed]",
      "text/plain": [
       "<Figure size 432x288 with 1 Axes>"
      ]
     },
     "metadata": {
      "needs_background": "light"
     },
     "output_type": "display_data"
    },
    {
     "data": {
      "image/png": "[encoded data removed]",
      "text/plain": [
       "<Figure size 432x288 with 1 Axes>"
      ]
     },
     "metadata": {
      "needs_background": "light"
     },
     "output_type": "display_data"
    },
    {
     "name": "stdout",
     "output_type": "stream",
     "text": [
      "loss :  1.2375785112380981\n",
      "tp :  2359.0\n",
      "fp :  1128.0\n",
      "tn :  41382.0\n",
      "fn :  4726.0\n",
      "categorical_accuracy :  0.5165843367576599\n",
      "precision :  0.6765127778053284\n",
      "recall :  0.3329569399356842\n",
      "auc :  0.8677356839179993\n",
      "prc :  0.5789634585380554\n"
     ]
    }
   ],
   "source": [
    "# train_predictions = model.predict(train_features, batch_size=BATCH_SIZE)\n",
    "test_predictions = model.predict(test_features, batch_size=BATCH_SIZE)\n",
    "\n",
    "plt.plot(hist.history['loss'], label='train loss')\n",
    "plt.plot(hist.history['val_loss'], label='val loss')\n",
    "plt.legend()\n",
    "plt.show()\n",
    "\n",
    "plt.plot(hist.history['categorical_accuracy'], label='train accuracy')\n",
    "plt.plot(hist.history['val_categorical_accuracy'], label='val_accuracy')\n",
    "plt.legend()\n",
    "plt.show()\n",
    "\n",
    "res = model.evaluate(test_features, test_labels, batch_size=BATCH_SIZE, verbose=0)\n",
    "\n",
    "for name, value in zip(model.metrics_names, res):\n",
    "  print(name, ': ', value)\n"
   ]
  },
  {
   "cell_type": "code",
   "execution_count": null,
   "metadata": {},
   "outputs": [
    {
     "name": "stdout",
     "output_type": "stream",
     "text": [
      "F1 Scores\n",
      "---------\n",
      "Weighted: 0.511517825630378\n",
      "Macro: 0.5146719917444427 (Equal weights to each class)\n",
      "Micro: 0.5165843330980946\n",
      "Accuracy: 0.5165843330980946\n",
      "\n",
      "Accuracy Score\n",
      "--------------\n",
      "Accuracy:  51.65843330980946\n",
      "              precision    recall  f1-score   support\n",
      "\n",
      "    b'angry'     0.5967    0.6267    0.6114       935\n",
      "  b'disgust'     0.4626    0.3607    0.4054      1131\n",
      "     b'fear'     0.5213    0.4709    0.4948      1013\n",
      "    b'happy'     0.4473    0.4209    0.4337       967\n",
      "  b'neutral'     0.5540    0.6757    0.6089      1138\n",
      "      b'sad'     0.5244    0.4751    0.4985      1265\n",
      " b'surprise'     0.4780    0.6478    0.5501       636\n",
      "\n",
      "    accuracy                         0.5166      7085\n",
      "   macro avg     0.5120    0.5254    0.5147      7085\n",
      "weighted avg     0.5137    0.5166    0.5115      7085\n",
      "\n"
     ]
    },
    {
     "data": {
      "image/png": "[encoded data removed]",
      "text/plain": [
       "<Figure size 1080x576 with 2 Axes>"
      ]
     },
     "metadata": {
      "needs_background": "light"
     },
     "output_type": "display_data"
    }
   ],
   "source": [
    "\n",
    "true = encoder.inverse_transform(test_labels)\n",
    "preds = encoder.inverse_transform(test_predictions)\n",
    "\n",
    "mlp_weighted_f1 = f1_score(true, preds, average='weighted')\n",
    "mlp_macro_f1 = f1_score(true, preds, average='macro')\n",
    "mlp_micro_f1 = f1_score(true, preds, average='micro')\n",
    "mlp_accuracy = accuracy_score(true, preds)\n",
    "print('F1 Scores')\n",
    "print('---------')\n",
    "print(f'Weighted: {mlp_weighted_f1}')\n",
    "print(f'Macro: {mlp_macro_f1} (Equal weights to each class)')\n",
    "print(f'Micro: {mlp_micro_f1}')\n",
    "print(f'Accuracy: {mlp_accuracy}')\n",
    "\n",
    "print()\n",
    "print('Accuracy Score')\n",
    "print('--------------')\n",
    "mlp_acc = accuracy_score(true, preds) * 100\n",
    "print('Accuracy: ', mlp_acc)\n",
    "\n",
    "print(classification_report(true, preds, digits=4))\n",
    "plot_cm(true, preds)"
   ]
  },
  {
   "cell_type": "markdown",
   "metadata": {},
   "source": [
    "## Comparison"
   ]
  },
  {
   "cell_type": "code",
   "execution_count": null,
   "metadata": {},
   "outputs": [],
   "source": [
    "f1s = {\n",
    "    'SVM': svm_f1 * 100,\n",
    "    'Logistic Regression': lr_f1 * 100,\n",
    "    'MLP': mlp_weighted_f1 * 100\n",
    "}\n",
    "\n",
    "\n",
    "accuracies = {\n",
    "    'SVM': svm_test_acc,\n",
    "    'Logistic Regression': lrm_test_acc,\n",
    "    'MLP': mlp_acc\n",
    "}\n",
    "\n",
    "plt.figure(figsize=(15, 8))\n",
    "ax = sns.barplot(y=list(accuracies.values()), x=list(accuracies.keys()))\n",
    "plt.title('Accuracy Scores')\n",
    "for i in ax.containers:\n",
    "    ax.bar_label(i,)\n",
    "plt.show()\n",
    "\n",
    "plt.figure(figsize=(15, 8))\n",
    "ax = sns.barplot(y=list(f1s.values()), x=list(f1s.keys()))\n",
    "for i in ax.containers:\n",
    "    ax.bar_label(i,)\n",
    "plt.title('Weighted F1 Scores')\n",
    "plt.show()\n",
    "\n"
   ]
  },
  {
   "cell_type": "code",
   "execution_count": null,
   "metadata": {},
   "outputs": [],
   "source": [
    "import pickle\n",
    "\n",
    "with open('/home/sam/Documents/Projects/Thesis/audio-preprocessing-and-feature-extraction/results/vggish/bser.pkl', 'rb') as f:\n",
    "    r = pickle.load(f)"
   ]
  },
  {
   "cell_type": "code",
   "execution_count": null,
   "metadata": {},
   "outputs": [],
   "source": [
    "df = pd.DataFrame(r)\n",
    "df = df.sort_values(by=['f1_weighted'], ascending=False)\n",
    "df"
   ]
  },
  {
   "cell_type": "code",
   "execution_count": null,
   "metadata": {},
   "outputs": [],
   "source": [
    "df['info'][5]"
   ]
  }
 ],
 "metadata": {
  "kernelspec": {
   "display_name": "Python 3.10.8 64-bit",
   "language": "python",
   "name": "python3"
  },
  "language_info": {
   "codemirror_mode": {
    "name": "ipython",
    "version": 3
   },
   "file_extension": ".py",
   "mimetype": "text/x-python",
   "name": "python",
   "nbconvert_exporter": "python",
   "pygments_lexer": "ipython3",
   "version": "3.10.8"
  },
  "orig_nbformat": 4,
  "vscode": {
   "interpreter": {
    "hash": "e7370f93d1d0cde622a1f8e1c04877d8463912d04d973331ad4851f04de6915a"
   }
  }
 },
 "nbformat": 4,
 "nbformat_minor": 2
}
