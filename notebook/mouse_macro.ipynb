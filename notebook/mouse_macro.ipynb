{
 "cells": [
  {
   "cell_type": "code",
   "execution_count": 1,
   "metadata": {},
   "outputs": [],
   "source": [
    "import pyautogui as pag\n",
    "import time\n",
    "import random"
   ]
  },
  {
   "cell_type": "code",
   "execution_count": 3,
   "metadata": {},
   "outputs": [
    {
     "ename": "KeyboardInterrupt",
     "evalue": "",
     "output_type": "error",
     "traceback": [
      "\u001b[0;31m---------------------------------------------------------------------------\u001b[0m",
      "\u001b[0;31mKeyboardInterrupt\u001b[0m                         Traceback (most recent call last)",
      "\u001b[1;32m/home/sam/Documents/Projects/Thesis/audio-preprocessing-and-feature-extraction/notebook/mouse_macro.ipynb Cell 2\u001b[0m in \u001b[0;36m<cell line: 4>\u001b[0;34m()\u001b[0m\n\u001b[1;32m      <a href='vscode-notebook-cell:/home/sam/Documents/Projects/Thesis/audio-preprocessing-and-feature-extraction/notebook/mouse_macro.ipynb#W1sZmlsZQ%3D%3D?line=6'>7</a>\u001b[0m pag\u001b[39m.\u001b[39mmoveTo(x, y, duration\u001b[39m=\u001b[39m\u001b[39m1\u001b[39m)\n\u001b[1;32m      <a href='vscode-notebook-cell:/home/sam/Documents/Projects/Thesis/audio-preprocessing-and-feature-extraction/notebook/mouse_macro.ipynb#W1sZmlsZQ%3D%3D?line=7'>8</a>\u001b[0m pag\u001b[39m.\u001b[39mclick(button\u001b[39m=\u001b[39m\u001b[39m'\u001b[39m\u001b[39mleft\u001b[39m\u001b[39m'\u001b[39m)\n\u001b[0;32m----> <a href='vscode-notebook-cell:/home/sam/Documents/Projects/Thesis/audio-preprocessing-and-feature-extraction/notebook/mouse_macro.ipynb#W1sZmlsZQ%3D%3D?line=8'>9</a>\u001b[0m time\u001b[39m.\u001b[39;49msleep(\u001b[39m120\u001b[39;49m)\n",
      "\u001b[0;31mKeyboardInterrupt\u001b[0m: "
     ]
    }
   ],
   "source": [
    "a = 1440 // 2\n",
    "b = 2560 // 2\n",
    "\n",
    "while True:\n",
    "    y = random.randint(a - 100, a + 100)\n",
    "    x = random.randint(b - 100, b + 100)    \n",
    "    pag.moveTo(x, y, duration=1)\n",
    "    pag.click(button='left')\n",
    "    time.sleep(120)\n"
   ]
  }
 ],
 "metadata": {
  "kernelspec": {
   "display_name": "Python 3.10.8 64-bit",
   "language": "python",
   "name": "python3"
  },
  "language_info": {
   "codemirror_mode": {
    "name": "ipython",
    "version": 3
   },
   "file_extension": ".py",
   "mimetype": "text/x-python",
   "name": "python",
   "nbconvert_exporter": "python",
   "pygments_lexer": "ipython3",
   "version": "3.10.8"
  },
  "orig_nbformat": 4,
  "vscode": {
   "interpreter": {
    "hash": "e7370f93d1d0cde622a1f8e1c04877d8463912d04d973331ad4851f04de6915a"
   }
  }
 },
 "nbformat": 4,
 "nbformat_minor": 2
}
