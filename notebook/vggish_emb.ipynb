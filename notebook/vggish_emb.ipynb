{
 "cells": [
  {
   "cell_type": "code",
   "execution_count": 12,
   "metadata": {},
   "outputs": [],
   "source": [
    "import tensorflow as tf\n",
    "import tensorflow_hub as hub\n",
    "import numpy as np\n",
    "from data_loader import data_loader\n",
    "import librosa\n",
    "from tqdm import tqdm"
   ]
  },
  {
   "cell_type": "code",
   "execution_count": 13,
   "metadata": {},
   "outputs": [],
   "source": [
    "CLASSES6 = ['angry', 'disgust', 'fear', 'happy', 'neutral', 'sad']\n",
    "CLASSES7 = ['angry', 'disgust', 'fear', 'happy', 'neutral', 'sad', 'surprise']"
   ]
  },
  {
   "cell_type": "code",
   "execution_count": 14,
   "metadata": {},
   "outputs": [],
   "source": [
    "# Load the model.\n",
    "model = hub.load('https://tfhub.dev/google/vggish/1')"
   ]
  },
  {
   "cell_type": "code",
   "execution_count": 15,
   "metadata": {},
   "outputs": [],
   "source": [
    "dl = data_loader(\n",
    "    Crema_path='../Datasets/Crema/',\n",
    "    Ravdess_path='../Datasets/Ravdess/',\n",
    "    Savee_path='../Datasets/Savee/',\n",
    "    Tess_path='../Datasets/Tess/'\n",
    ")"
   ]
  },
  {
   "cell_type": "code",
   "execution_count": 16,
   "metadata": {},
   "outputs": [],
   "source": [
    "def get_embeddings(filename, label):\n",
    "    data, sr = librosa.load(filename, sr=None, mono=True, res_type='kaiser_best')\n",
    "\n",
    "    if sr != 16000:\n",
    "        data = librosa.resample(y=data, orig_sr=sr, target_sr=16000, res_type='kaiser_best')\n",
    "\n",
    "    embeddings = model(data)\n",
    "    num_embeddings = tf.shape(embeddings)[0]\n",
    "    return embeddings, tf.repeat(label, num_embeddings)"
   ]
  },
  {
   "cell_type": "code",
   "execution_count": 17,
   "metadata": {},
   "outputs": [],
   "source": [
    "tess = dl.get_tess_df()\n",
    "savee = dl.get_savee_df()\n",
    "ravdess = dl.get_ravdess_df()\n",
    "crema = dl.get_crema_df()\n",
    "all_en = dl.get_all_df()"
   ]
  },
  {
   "cell_type": "code",
   "execution_count": 18,
   "metadata": {},
   "outputs": [],
   "source": [
    "def save_embeddings(df, filename):\n",
    "    features = []\n",
    "    labels = []\n",
    "\n",
    "    if df['Emotion'].nunique() == 6:\n",
    "        classes = CLASSES6\n",
    "    else:\n",
    "        classes = CLASSES7\n",
    "\n",
    "    for index, row in tqdm(df.iterrows(), total=df.shape[0]):\n",
    "        embs, label = get_embeddings(row['File_Path'], row['Emotion'])\n",
    "        assert(len(embs) == len(label))\n",
    "        for i in range(embs.shape[0]):\n",
    "            features.append(embs[i])\n",
    "            labels.append(classes.index(label[i]))\n",
    "    \n",
    "    features = np.array(features)\n",
    "    labels = np.array(labels)\n",
    "    np.save(filename + 'X.npy', features)\n",
    "    np.save(filename + 'y.npy', labels)"
   ]
  },
  {
   "cell_type": "code",
   "execution_count": 19,
   "metadata": {},
   "outputs": [
    {
     "name": "stderr",
     "output_type": "stream",
     "text": [
      "100%|██████████| 2800/2800 [06:02<00:00,  7.71it/s]\n"
     ]
    }
   ],
   "source": [
    "save_embeddings(tess, './features/vggish_emb/tess/')"
   ]
  },
  {
   "cell_type": "code",
   "execution_count": 20,
   "metadata": {},
   "outputs": [
    {
     "name": "stderr",
     "output_type": "stream",
     "text": [
      "100%|██████████| 480/480 [01:42<00:00,  4.67it/s]\n"
     ]
    }
   ],
   "source": [
    "save_embeddings(savee, './features/vggish_emb/savee/')"
   ]
  },
  {
   "cell_type": "code",
   "execution_count": 21,
   "metadata": {},
   "outputs": [
    {
     "name": "stderr",
     "output_type": "stream",
     "text": [
      "100%|██████████| 1440/1440 [04:12<00:00,  5.71it/s]\n"
     ]
    }
   ],
   "source": [
    "save_embeddings(ravdess, './features/vggish_emb/ravdess/')"
   ]
  },
  {
   "cell_type": "code",
   "execution_count": 22,
   "metadata": {},
   "outputs": [
    {
     "name": "stderr",
     "output_type": "stream",
     "text": [
      "100%|██████████| 7442/7442 [07:26<00:00, 16.67it/s]\n"
     ]
    }
   ],
   "source": [
    "save_embeddings(crema, './features/vggish_emb/crema/')"
   ]
  },
  {
   "cell_type": "code",
   "execution_count": 23,
   "metadata": {},
   "outputs": [
    {
     "name": "stderr",
     "output_type": "stream",
     "text": [
      "100%|██████████| 12162/12162 [18:35<00:00, 10.90it/s]\n"
     ]
    }
   ],
   "source": [
    "save_embeddings(all_en, './features/vggish_emb/all/')"
   ]
  },
  {
   "cell_type": "markdown",
   "metadata": {},
   "source": [
    "# Testing"
   ]
  },
  {
   "cell_type": "code",
   "execution_count": 24,
   "metadata": {},
   "outputs": [],
   "source": [
    "X = np.load('./features/vggish_emb/savee/X.npy', allow_pickle=True)\n",
    "y = np.load('./features/vggish_emb/savee/y.npy', allow_pickle=True)"
   ]
  },
  {
   "cell_type": "code",
   "execution_count": 25,
   "metadata": {},
   "outputs": [
    {
     "data": {
      "text/plain": [
       "((1672, 128), (1672,))"
      ]
     },
     "execution_count": 25,
     "metadata": {},
     "output_type": "execute_result"
    }
   ],
   "source": [
    "X.shape, y.shape"
   ]
  },
  {
   "cell_type": "code",
   "execution_count": 26,
   "metadata": {},
   "outputs": [
    {
     "data": {
      "text/plain": [
       "array([ 0.6197338 , -0.29157487, -0.09512645, -0.87194926, -0.07587396,\n",
       "        0.15066339, -0.6169818 ,  0.12419615, -1.0076988 ,  0.13313988,\n",
       "       -1.181723  , -0.4617458 , -0.82125384, -0.5083156 , -0.3155771 ,\n",
       "       -0.03422102, -0.33547163,  0.17200038,  0.05936712,  0.05832529,\n",
       "        0.37256032, -0.14059591, -0.31094685,  0.25461078,  0.16009496,\n",
       "        0.34995678,  0.32597387,  0.34991467, -0.3154465 , -0.30754793,\n",
       "       -0.15141848, -0.13154104,  0.10227065,  0.09376562,  0.11562926,\n",
       "       -0.0591009 , -0.9396451 , -0.24463545, -0.6627543 , -0.23763686,\n",
       "        0.32678533, -0.4947036 ,  0.19601218, -0.50604415, -0.04912162,\n",
       "       -0.06531596,  0.2793016 ,  0.2311399 ,  0.12276937,  0.56661755,\n",
       "        0.20908324, -0.6384721 ,  0.4149729 , -1.0539478 ,  0.37674472,\n",
       "       -0.25910258,  0.15177324, -1.0351121 ,  0.25636894,  0.2925262 ,\n",
       "        0.35122687, -0.18634926, -0.42906755, -0.4676947 , -0.3306368 ,\n",
       "       -0.15869156, -0.21102369,  0.8933415 , -0.3373026 ,  0.40436006,\n",
       "       -0.2010572 , -0.00959143, -1.0678116 , -0.02168152, -0.3878572 ,\n",
       "       -0.21299398, -0.17735766,  0.46625805, -0.18045467,  0.03971696,\n",
       "        0.5539228 ,  0.01673788, -0.62349164,  0.21206084,  0.61281633,\n",
       "       -0.48563063, -0.5322155 ,  0.04850103, -0.05724697, -0.2268089 ,\n",
       "       -0.4033853 ,  0.43204606, -0.13096422,  0.12994513,  0.19884321,\n",
       "        0.18780145,  0.20838456, -0.89614815, -1.0916704 , -0.00542408,\n",
       "       -0.17064235,  0.47961456, -0.3018332 ,  0.7147336 ,  0.29959613,\n",
       "       -0.07326826,  0.2609816 , -0.0175186 , -0.07671905, -0.33891264,\n",
       "       -0.3961467 , -0.09419838, -0.03918543, -0.6596609 , -0.78308606,\n",
       "       -0.3089603 , -0.3332357 , -0.10348022, -1.4062698 ,  0.47717836,\n",
       "       -0.24173976, -0.47304308, -0.59643495, -0.03035247,  0.8453833 ,\n",
       "        0.89016104, -0.00677031, -0.6975094 ], dtype=float32)"
      ]
     },
     "execution_count": 26,
     "metadata": {},
     "output_type": "execute_result"
    }
   ],
   "source": [
    "X[200]"
   ]
  },
  {
   "cell_type": "code",
   "execution_count": 27,
   "metadata": {},
   "outputs": [
    {
     "data": {
      "text/plain": [
       "3"
      ]
     },
     "execution_count": 27,
     "metadata": {},
     "output_type": "execute_result"
    }
   ],
   "source": [
    "y[200]"
   ]
  }
 ],
 "metadata": {
  "kernelspec": {
   "display_name": "Python 3.10.6 64-bit",
   "language": "python",
   "name": "python3"
  },
  "language_info": {
   "codemirror_mode": {
    "name": "ipython",
    "version": 3
   },
   "file_extension": ".py",
   "mimetype": "text/x-python",
   "name": "python",
   "nbconvert_exporter": "python",
   "pygments_lexer": "ipython3",
   "version": "3.10.6"
  },
  "orig_nbformat": 4,
  "vscode": {
   "interpreter": {
    "hash": "d160966f923a3a33b7e4678143d4ddbf9984fa94549c4439610f55de51f406fe"
   }
  }
 },
 "nbformat": 4,
 "nbformat_minor": 2
}
