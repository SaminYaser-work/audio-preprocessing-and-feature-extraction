{
 "cells": [
  {
   "cell_type": "code",
   "execution_count": 22,
   "metadata": {},
   "outputs": [],
   "source": [
    "from data_loader import data_loader\n",
    "from pathlib import Path\n",
    "import pandas as pd\n",
    "from tqdm import tqdm\n",
    "import os\n",
    "import librosa\n",
    "import numpy as np\n",
    "import soundfile as sf\n",
    "import random\n",
    "from audiomentations import Compose, AddGaussianNoise, TimeStretch, PitchShift, Shift, Gain, PolarityInversion, TimeMask, FrequencyMask, SpecFrequencyMask, RoomSimulator, AddBackgroundNoise\n",
    "from IPython.display import Audio"
   ]
  },
  {
   "cell_type": "code",
   "execution_count": 23,
   "metadata": {},
   "outputs": [
    {
     "name": "stderr",
     "output_type": "stream",
     "text": [
      "/tmp/ipykernel_8871/3171598272.py:2: DeprecationWarning: The FrequencyMask class has been deprecated and may be removed in a future version of audiomentations. You can use BandStopFilter instead. It has different defaults and different parameter randomization that is better aligned with human hearing.\n",
      "  freqmask = FrequencyMask(min_frequency_band=0.1, max_frequency_band=1, p=1)\n"
     ]
    }
   ],
   "source": [
    "timemask = TimeMask(min_band_part=0.1, max_band_part=1, p=1)\n",
    "freqmask = FrequencyMask(min_frequency_band=0.1, max_frequency_band=1, p=1)\n",
    "\n",
    "def noise(data):\n",
    "    noise_amp = 0.035*np.random.uniform()*np.amax(data)\n",
    "    data = data + noise_amp*np.random.normal(size=data.shape[0])\n",
    "    return data\n",
    "\n",
    "def shift(data):\n",
    "    shift_range = int(np.random.uniform(low=-5, high = 5)*1000)\n",
    "    return np.roll(data, shift_range)\n",
    "\n",
    "def pitch(data, pitch_factor=0.7):\n",
    "    return librosa.effects.pitch_shift(data, 16000, pitch_factor)\n",
    "\n",
    "def spec_augment(spec: np.ndarray, num_mask=2, \n",
    "                 freq_masking_max_percentage=0.15, time_masking_max_percentage=0.2):\n",
    "\n",
    "    spec = spec.copy()\n",
    "    for i in range(num_mask):\n",
    "        all_frames_num, all_freqs_num = spec.shape\n",
    "        freq_percentage = random.uniform(0.0, freq_masking_max_percentage)\n",
    "        \n",
    "        num_freqs_to_mask = int(freq_percentage * all_freqs_num)\n",
    "        f0 = np.random.uniform(low=0.0, high=all_freqs_num - num_freqs_to_mask)\n",
    "        f0 = int(f0)\n",
    "        spec[:, f0:f0 + num_freqs_to_mask] = 0\n",
    "\n",
    "        time_percentage = random.uniform(0.0, time_masking_max_percentage)\n",
    "        \n",
    "        num_frames_to_mask = int(time_percentage * all_frames_num)\n",
    "        t0 = np.random.uniform(low=0.0, high=all_frames_num - num_frames_to_mask)\n",
    "        t0 = int(t0)\n",
    "        spec[t0:t0 + num_frames_to_mask, :] = 0\n",
    "    \n",
    "    return spec\n"
   ]
  },
  {
   "cell_type": "code",
   "execution_count": 24,
   "metadata": {},
   "outputs": [],
   "source": [
    "dl = data_loader(\n",
    "  '../Datasets/Crema/',\n",
    "  '../Datasets/Ravdess/',\n",
    "  '../Datasets/Savee/',\n",
    "  '../Datasets/Tess/'\n",
    ")"
   ]
  },
  {
   "cell_type": "code",
   "execution_count": 25,
   "metadata": {},
   "outputs": [
    {
     "data": {
      "text/plain": [
       "(7442, 2)"
      ]
     },
     "execution_count": 25,
     "metadata": {},
     "output_type": "execute_result"
    }
   ],
   "source": [
    "tess_df = dl.get_crema_df()\n",
    "dir = '../Datasets/custom_db/crema'\n",
    "# Path(dir).mkdir(parents=True, exist_ok=True)\n",
    "tess_df.shape"
   ]
  },
  {
   "cell_type": "code",
   "execution_count": 26,
   "metadata": {},
   "outputs": [],
   "source": [
    "train, val, test = dl.split_df(tess_df, ratio_train=0.7, ratio_val=0.10, ratio_test=0.20)"
   ]
  },
  {
   "cell_type": "code",
   "execution_count": 27,
   "metadata": {},
   "outputs": [
    {
     "data": {
      "text/plain": [
       "(sad        890\n",
       " angry      890\n",
       " disgust    890\n",
       " fear       889\n",
       " happy      889\n",
       " neutral    760\n",
       " Name: Emotion, dtype: int64,\n",
       " fear       128\n",
       " disgust    127\n",
       " angry      127\n",
       " sad        127\n",
       " happy      127\n",
       " neutral    109\n",
       " Name: Emotion, dtype: int64,\n",
       " happy      255\n",
       " disgust    254\n",
       " angry      254\n",
       " fear       254\n",
       " sad        254\n",
       " neutral    218\n",
       " Name: Emotion, dtype: int64)"
      ]
     },
     "execution_count": 27,
     "metadata": {},
     "output_type": "execute_result"
    }
   ],
   "source": [
    "train['Emotion'].value_counts(), val['Emotion'].value_counts(), test['Emotion'].value_counts()"
   ]
  },
  {
   "cell_type": "code",
   "execution_count": 28,
   "metadata": {},
   "outputs": [],
   "source": [
    "def move_files(df: pd.DataFrame, folder):\n",
    "    dest_folder = dir + '/' + folder + '/'\n",
    "    Path(dest_folder).mkdir(parents=True, exist_ok=True)\n",
    "    for i, row in tqdm(df.iterrows(), total=df.shape[0]):\n",
    "        data, sr = librosa.load(row['File_Path'])\n",
    "        data, _ = librosa.effects.trim(data, top_db=25)\n",
    "        if sr != 16000:\n",
    "            data = librosa.resample(data, orig_sr=sr, target_sr=16000)\n",
    "        # src = os.path.abspath(row['File_Path'])\n",
    "        dest = os.path.abspath(dest_folder + row['Emotion'] + '_' + str(i) + '.wav')\n",
    "        sf.write(dest, data, 16000)\n",
    "        # os.system(f'cp {src} {dest}')"
   ]
  },
  {
   "cell_type": "code",
   "execution_count": 29,
   "metadata": {},
   "outputs": [
    {
     "name": "stderr",
     "output_type": "stream",
     "text": [
      "100%|██████████| 5208/5208 [12:49<00:00,  6.76it/s]\n",
      "100%|██████████| 745/745 [01:50<00:00,  6.76it/s]\n",
      "100%|██████████| 1489/1489 [03:48<00:00,  6.51it/s]\n"
     ]
    }
   ],
   "source": [
    "move_files(train, 'train')\n",
    "move_files(val, 'val')\n",
    "move_files(test, 'test')"
   ]
  },
  {
   "cell_type": "markdown",
   "metadata": {},
   "source": [
    "## Augmentation"
   ]
  },
  {
   "cell_type": "code",
   "execution_count": 30,
   "metadata": {},
   "outputs": [
    {
     "data": {
      "text/html": [
       "<div>\n",
       "<style scoped>\n",
       "    .dataframe tbody tr th:only-of-type {\n",
       "        vertical-align: middle;\n",
       "    }\n",
       "\n",
       "    .dataframe tbody tr th {\n",
       "        vertical-align: top;\n",
       "    }\n",
       "\n",
       "    .dataframe thead th {\n",
       "        text-align: right;\n",
       "    }\n",
       "</style>\n",
       "<table border=\"1\" class=\"dataframe\">\n",
       "  <thead>\n",
       "    <tr style=\"text-align: right;\">\n",
       "      <th></th>\n",
       "      <th>File_Path</th>\n",
       "      <th>Emotion</th>\n",
       "    </tr>\n",
       "  </thead>\n",
       "  <tbody>\n",
       "    <tr>\n",
       "      <th>0</th>\n",
       "      <td>../Datasets/custom_db/crema/train/happy_3199.wav</td>\n",
       "      <td>happy</td>\n",
       "    </tr>\n",
       "    <tr>\n",
       "      <th>1</th>\n",
       "      <td>../Datasets/custom_db/crema/train/sad_2089.wav</td>\n",
       "      <td>sad</td>\n",
       "    </tr>\n",
       "    <tr>\n",
       "      <th>2</th>\n",
       "      <td>../Datasets/custom_db/crema/train/disgust_4755...</td>\n",
       "      <td>disgust</td>\n",
       "    </tr>\n",
       "    <tr>\n",
       "      <th>3</th>\n",
       "      <td>../Datasets/custom_db/crema/train/happy_356.wav</td>\n",
       "      <td>happy</td>\n",
       "    </tr>\n",
       "    <tr>\n",
       "      <th>4</th>\n",
       "      <td>../Datasets/custom_db/crema/train/fear_248.wav</td>\n",
       "      <td>fear</td>\n",
       "    </tr>\n",
       "    <tr>\n",
       "      <th>...</th>\n",
       "      <td>...</td>\n",
       "      <td>...</td>\n",
       "    </tr>\n",
       "    <tr>\n",
       "      <th>5203</th>\n",
       "      <td>../Datasets/custom_db/crema/train/sad_1230.wav</td>\n",
       "      <td>sad</td>\n",
       "    </tr>\n",
       "    <tr>\n",
       "      <th>5204</th>\n",
       "      <td>../Datasets/custom_db/crema/train/happy_1079.wav</td>\n",
       "      <td>happy</td>\n",
       "    </tr>\n",
       "    <tr>\n",
       "      <th>5205</th>\n",
       "      <td>../Datasets/custom_db/crema/train/sad_6397.wav</td>\n",
       "      <td>sad</td>\n",
       "    </tr>\n",
       "    <tr>\n",
       "      <th>5206</th>\n",
       "      <td>../Datasets/custom_db/crema/train/neutral_5964...</td>\n",
       "      <td>neutral</td>\n",
       "    </tr>\n",
       "    <tr>\n",
       "      <th>5207</th>\n",
       "      <td>../Datasets/custom_db/crema/train/sad_6455.wav</td>\n",
       "      <td>sad</td>\n",
       "    </tr>\n",
       "  </tbody>\n",
       "</table>\n",
       "<p>5208 rows × 2 columns</p>\n",
       "</div>"
      ],
      "text/plain": [
       "                                              File_Path  Emotion\n",
       "0      ../Datasets/custom_db/crema/train/happy_3199.wav    happy\n",
       "1        ../Datasets/custom_db/crema/train/sad_2089.wav      sad\n",
       "2     ../Datasets/custom_db/crema/train/disgust_4755...  disgust\n",
       "3       ../Datasets/custom_db/crema/train/happy_356.wav    happy\n",
       "4        ../Datasets/custom_db/crema/train/fear_248.wav     fear\n",
       "...                                                 ...      ...\n",
       "5203     ../Datasets/custom_db/crema/train/sad_1230.wav      sad\n",
       "5204   ../Datasets/custom_db/crema/train/happy_1079.wav    happy\n",
       "5205     ../Datasets/custom_db/crema/train/sad_6397.wav      sad\n",
       "5206  ../Datasets/custom_db/crema/train/neutral_5964...  neutral\n",
       "5207     ../Datasets/custom_db/crema/train/sad_6455.wav      sad\n",
       "\n",
       "[5208 rows x 2 columns]"
      ]
     },
     "execution_count": 30,
     "metadata": {},
     "output_type": "execute_result"
    }
   ],
   "source": [
    "audio = []\n",
    "emo = []\n",
    "\n",
    "for dirs, _, files in os.walk(dir + '/train'):\n",
    "    for file in files:\n",
    "        path = os.path.join(dirs, file)\n",
    "        audio.append(path)\n",
    "        emo.append(file.split('_')[0])\n",
    "\n",
    "aug_df = pd.DataFrame({'File_Path': audio, 'Emotion': emo})\n",
    "aug_df"
   ]
  },
  {
   "cell_type": "code",
   "execution_count": 31,
   "metadata": {},
   "outputs": [
    {
     "name": "stderr",
     "output_type": "stream",
     "text": [
      "  0%|          | 0/5208 [00:00<?, ?it/s]/tmp/ipykernel_8871/3171598272.py:14: FutureWarning: Pass sr=16000, n_steps=0.7 as keyword args. From version 0.10 passing these as positional arguments will result in an error\n",
      "  return librosa.effects.pitch_shift(data, 16000, pitch_factor)\n",
      " 15%|█▍        | 758/5208 [04:01<22:17,  3.33it/s]"
     ]
    },
    {
     "name": "stdout",
     "output_type": "stream",
     "text": [
      "Error while applying freqmask of ../Datasets/custom_db/crema/train/disgust_542.wav Error: empty range for randrange() (16, 4, -12)\n"
     ]
    },
    {
     "name": "stderr",
     "output_type": "stream",
     "text": [
      " 18%|█▊        | 961/5208 [05:08<21:06,  3.35it/s]"
     ]
    },
    {
     "name": "stdout",
     "output_type": "stream",
     "text": [
      "Error while applying freqmask of ../Datasets/custom_db/crema/train/neutral_95.wav Error: empty range for randrange() (16, 7, -9)\n"
     ]
    },
    {
     "name": "stderr",
     "output_type": "stream",
     "text": [
      " 25%|██▍       | 1276/5208 [06:48<21:43,  3.02it/s]"
     ]
    },
    {
     "name": "stdout",
     "output_type": "stream",
     "text": [
      "Error while applying freqmask of ../Datasets/custom_db/crema/train/fear_3688.wav Error: empty range for randrange() (16, 10, -6)\n"
     ]
    },
    {
     "name": "stderr",
     "output_type": "stream",
     "text": [
      " 27%|██▋       | 1387/5208 [07:23<18:26,  3.45it/s]"
     ]
    },
    {
     "name": "stdout",
     "output_type": "stream",
     "text": [
      "Error while applying freqmask of ../Datasets/custom_db/crema/train/neutral_6978.wav Error: empty range for randrange() (16, 10, -6)\n"
     ]
    },
    {
     "name": "stderr",
     "output_type": "stream",
     "text": [
      " 29%|██▉       | 1508/5208 [08:02<18:47,  3.28it/s]"
     ]
    },
    {
     "name": "stdout",
     "output_type": "stream",
     "text": [
      "Error while applying freqmask of ../Datasets/custom_db/crema/train/sad_5888.wav Error: empty range for randrange() (16, 1, -15)\n"
     ]
    },
    {
     "name": "stderr",
     "output_type": "stream",
     "text": [
      " 34%|███▍      | 1769/5208 [09:28<17:20,  3.31it/s]"
     ]
    },
    {
     "name": "stdout",
     "output_type": "stream",
     "text": [
      "Error while applying freqmask of ../Datasets/custom_db/crema/train/fear_1974.wav Error: empty range for randrange() (16, 16, 0)\n"
     ]
    },
    {
     "name": "stderr",
     "output_type": "stream",
     "text": [
      " 41%|████      | 2122/5208 [11:23<15:47,  3.26it/s]"
     ]
    },
    {
     "name": "stdout",
     "output_type": "stream",
     "text": [
      "Error while applying freqmask of ../Datasets/custom_db/crema/train/happy_1667.wav Error: empty range for randrange() (16, 3, -13)\n"
     ]
    },
    {
     "name": "stderr",
     "output_type": "stream",
     "text": [
      " 47%|████▋     | 2462/5208 [13:13<13:54,  3.29it/s]"
     ]
    },
    {
     "name": "stdout",
     "output_type": "stream",
     "text": [
      "Error while applying freqmask of ../Datasets/custom_db/crema/train/disgust_2968.wav Error: empty range for randrange() (16, 13, -3)\n"
     ]
    },
    {
     "name": "stderr",
     "output_type": "stream",
     "text": [
      " 52%|█████▏    | 2695/5208 [14:29<12:43,  3.29it/s]"
     ]
    },
    {
     "name": "stdout",
     "output_type": "stream",
     "text": [
      "Error while applying freqmask of ../Datasets/custom_db/crema/train/sad_5390.wav Error: empty range for randrange() (16, 1, -15)\n"
     ]
    },
    {
     "name": "stderr",
     "output_type": "stream",
     "text": [
      " 68%|██████▊   | 3531/5208 [19:03<08:47,  3.18it/s]"
     ]
    },
    {
     "name": "stdout",
     "output_type": "stream",
     "text": [
      "Error while applying freqmask of ../Datasets/custom_db/crema/train/angry_4610.wav Error: empty range for randrange() (16, 4, -12)\n"
     ]
    },
    {
     "name": "stderr",
     "output_type": "stream",
     "text": [
      " 75%|███████▍  | 3887/5208 [20:59<06:38,  3.31it/s]"
     ]
    },
    {
     "name": "stdout",
     "output_type": "stream",
     "text": [
      "Error while applying freqmask of ../Datasets/custom_db/crema/train/sad_2401.wav Error: empty range for randrange() (16, 7, -9)\n"
     ]
    },
    {
     "name": "stderr",
     "output_type": "stream",
     "text": [
      " 80%|███████▉  | 4150/5208 [22:25<05:27,  3.23it/s]"
     ]
    },
    {
     "name": "stdout",
     "output_type": "stream",
     "text": [
      "Error while applying freqmask of ../Datasets/custom_db/crema/train/neutral_676.wav Error: empty range for randrange() (16, 12, -4)\n"
     ]
    },
    {
     "name": "stderr",
     "output_type": "stream",
     "text": [
      "100%|██████████| 5208/5208 [28:05<00:00,  3.09it/s]\n"
     ]
    }
   ],
   "source": [
    "Path(dir + '/augment').mkdir(parents=True, exist_ok=True)\n",
    "\n",
    "for i, row in tqdm(aug_df.iterrows(), total=aug_df.shape[0]):\n",
    "    data, sr = librosa.load(row['File_Path'], sr=None)\n",
    "\n",
    "    if sr != 16000:\n",
    "        Audio(data, rate=sr)\n",
    "        raise Exception(f'Sample rate is {sr} Hz of file: ' + row['File_Path'])\n",
    "\n",
    "    data_noise = noise(data)\n",
    "    sf.write(dir + '/augment' + '/' + row['Emotion'] + '_' + str(i) + '_' + 'noise', data_noise, sr, format='wav')\n",
    "\n",
    "    data_ts = shift(data)\n",
    "    sf.write(dir + '/augment' + '/' + row['Emotion'] + '_' + str(i) + '_' + 'timeshift', data_ts, sr, format='wav')\n",
    "\n",
    "    data_ps = pitch(data)\n",
    "    sf.write(dir + '/augment' + '/' + row['Emotion'] + '_' + str(i) + '_' + 'pitchshift', data_ps, sr, format='wav')\n",
    "\n",
    "    try:\n",
    "        data_tm = timemask(data, sr)\n",
    "        sf.write(dir + '/augment' + '/' + row['Emotion'] + '_' + str(i) + '_' + 'timemask', data_tm, sr, format='wav')\n",
    "    except Exception as e:\n",
    "        print('Error while applying timemask of', row['File_Path'], 'Error:', e)\n",
    "\n",
    "    try:\n",
    "        data_fm = freqmask(data, sr)\n",
    "        sf.write(dir + '/augment' + '/' + row['Emotion'] + '_' + str(i) + '_' + 'freqmask', data_fm, sr, format='wav')\n",
    "    except Exception as e:\n",
    "        print('Error while applying freqmask of', row['File_Path'], 'Error:', e)\n",
    "\n"
   ]
  },
  {
   "cell_type": "code",
   "execution_count": null,
   "metadata": {},
   "outputs": [],
   "source": []
  }
 ],
 "metadata": {
  "kernelspec": {
   "display_name": "Python 3.10.8 64-bit",
   "language": "python",
   "name": "python3"
  },
  "language_info": {
   "codemirror_mode": {
    "name": "ipython",
    "version": 3
   },
   "file_extension": ".py",
   "mimetype": "text/x-python",
   "name": "python",
   "nbconvert_exporter": "python",
   "pygments_lexer": "ipython3",
   "version": "3.10.8"
  },
  "orig_nbformat": 4,
  "vscode": {
   "interpreter": {
    "hash": "e7370f93d1d0cde622a1f8e1c04877d8463912d04d973331ad4851f04de6915a"
   }
  }
 },
 "nbformat": 4,
 "nbformat_minor": 2
}
