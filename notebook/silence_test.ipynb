{
 "cells": [
  {
   "cell_type": "code",
   "execution_count": 11,
   "metadata": {},
   "outputs": [],
   "source": [
    "#Importing library and thir function\n",
    "from pydub import AudioSegment\n",
    "from pydub.silence import split_on_silence\n",
    "from pydub.playback import play\n",
    "from pydub.effects import normalize\n",
    "from vscode_audio import Audio\n",
    "from IPython.display import Audio as ipAudio\n",
    "import matplotlib.pyplot as plt\n",
    "import noisereduce as nr\n",
    "import librosa as lr\n",
    "import librosa.display as lrd\n",
    "import numpy as np\n",
    "import time"
   ]
  },
  {
   "cell_type": "code",
   "execution_count": 42,
   "metadata": {},
   "outputs": [],
   "source": [
    "RATE = 16000\n",
    "TOP_DB = 25"
   ]
  },
  {
   "cell_type": "code",
   "execution_count": 48,
   "metadata": {},
   "outputs": [],
   "source": [
    "def audiosegment_to_librosawav(audiosegment):    \n",
    "    channel_sounds = audiosegment.split_to_mono()\n",
    "    samples = [s.get_array_of_samples() for s in channel_sounds]\n",
    "\n",
    "    fp_arr = np.array(samples).T.astype(np.float32)\n",
    "    fp_arr /= np.iinfo(samples[0].typecode).max\n",
    "    fp_arr = fp_arr.reshape(-1)\n",
    "\n",
    "    return fp_arr\n",
    "\n",
    "\n",
    "def librosa_to_audiosegment(filename):\n",
    "    y, sr = lr.load(filename, sr=RATE)\n",
    "    y, _ = lr.effects.trim(y, top_db=TOP_DB) # trim leading and trailing silence\n",
    "    y = nr.reduce_noise(y, sr=sr) # noise reduction\n",
    "    # convert from float to uint16\n",
    "    y = np.array(y * (1<<15), dtype=np.int16)\n",
    "    audio_segment = AudioSegment(\n",
    "        y.tobytes(), \n",
    "        frame_rate=sr,\n",
    "        sample_width=y.dtype.itemsize, \n",
    "        channels=1\n",
    "    )\n",
    "    return audio_segment\n",
    "\n",
    "def waveshow(y, sr):\n",
    "    plt.figure(figsize=(14, 5))\n",
    "    lrd.waveshow(y, sr=sr)\n",
    "    plt.show()"
   ]
  },
  {
   "cell_type": "code",
   "execution_count": 64,
   "metadata": {},
   "outputs": [],
   "source": [
    "audioFile = '../Datasets\\\\tess\\YAF_disgust\\YAF_back_disgust.wav'"
   ]
  },
  {
   "cell_type": "code",
   "execution_count": 65,
   "metadata": {},
   "outputs": [],
   "source": [
    "original_sound = librosa_to_audiosegment(audioFile)\n",
    "augged_sound = normalize(original_sound, headroom=5.0)\n",
    "# play(augged_sound)"
   ]
  },
  {
   "cell_type": "code",
   "execution_count": 66,
   "metadata": {},
   "outputs": [],
   "source": [
    "audio_chunks = split_on_silence(augged_sound, min_silence_len=20, silence_thresh=augged_sound.dBFS-16)"
   ]
  },
  {
   "cell_type": "code",
   "execution_count": 67,
   "metadata": {},
   "outputs": [
    {
     "data": {
      "text/plain": [
       "6"
      ]
     },
     "execution_count": 67,
     "metadata": {},
     "output_type": "execute_result"
    }
   ],
   "source": [
    "len(audio_chunks)"
   ]
  },
  {
   "cell_type": "code",
   "execution_count": 68,
   "metadata": {},
   "outputs": [],
   "source": [
    "# chunks = [audiosegment_to_librosawav(chunk) for chunk in audio_chunks]"
   ]
  },
  {
   "cell_type": "code",
   "execution_count": 71,
   "metadata": {},
   "outputs": [
    {
     "name": "stdout",
     "output_type": "stream",
     "text": [
      "Playing original...\n",
      "Playing modified...\n",
      "Playing chunk0\n",
      "Exporting file ./test/chunk0.wav\n",
      "Playing chunk1\n",
      "Exporting file ./test/chunk1.wav\n",
      "Playing chunk2\n",
      "Exporting file ./test/chunk2.wav\n",
      "Playing chunk3\n",
      "Exporting file ./test/chunk3.wav\n",
      "Playing chunk4\n",
      "Exporting file ./test/chunk4.wav\n",
      "Playing chunk5\n",
      "Exporting file ./test/chunk5.wav\n"
     ]
    }
   ],
   "source": [
    "print(\"Playing original...\")\n",
    "play(original_sound)\n",
    "time.sleep(.5)\n",
    "print(\"Playing modified...\")\n",
    "play(augged_sound)\n",
    "for i, chunk in enumerate(audio_chunks):\n",
    "    print(\"Playing chunk{0}\".format(i))\n",
    "    play(chunk)\n",
    "    # time.sleep(.5)\n",
    "    output_file = \"./test/chunk{0}.wav\".format(i)\n",
    "    print(\"Exporting file\", output_file)\n",
    "    chunk.export(output_file, format=\"wav\")"
   ]
  }
 ],
 "metadata": {
  "kernelspec": {
   "display_name": "Python 3.10.6 64-bit",
   "language": "python",
   "name": "python3"
  },
  "language_info": {
   "codemirror_mode": {
    "name": "ipython",
    "version": 3
   },
   "file_extension": ".py",
   "mimetype": "text/x-python",
   "name": "python",
   "nbconvert_exporter": "python",
   "pygments_lexer": "ipython3",
   "version": "3.10.6"
  },
  "orig_nbformat": 4,
  "vscode": {
   "interpreter": {
    "hash": "d160966f923a3a33b7e4678143d4ddbf9984fa94549c4439610f55de51f406fe"
   }
  }
 },
 "nbformat": 4,
 "nbformat_minor": 2
}
