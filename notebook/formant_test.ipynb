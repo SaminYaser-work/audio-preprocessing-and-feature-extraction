{
 "cells": [
  {
   "cell_type": "code",
   "execution_count": 52,
   "metadata": {},
   "outputs": [],
   "source": [
    "import parselmouth \n",
    "from parselmouth import praat"
   ]
  },
  {
   "cell_type": "code",
   "execution_count": 53,
   "metadata": {},
   "outputs": [],
   "source": [
    "# file = '../Datasets/Ravdess/Actor_01/03-01-01-01-01-01-01.wav'\n",
    "file = '../Datasets/Ravdess/Actor_01/03-01-01-01-01-02-01.wav'"
   ]
  },
  {
   "cell_type": "code",
   "execution_count": 54,
   "metadata": {},
   "outputs": [],
   "source": [
    "sound = parselmouth.Sound(file) \n",
    "sound = sound.extract_part(from_time=0.5, to_time=3.0, preserve_times=True)"
   ]
  },
  {
   "cell_type": "code",
   "execution_count": 55,
   "metadata": {},
   "outputs": [],
   "source": [
    "f0min=75\n",
    "f0max=300\n",
    "pointProcess = praat.call(sound, \"To PointProcess (periodic, cc)\", f0min, f0max)"
   ]
  },
  {
   "cell_type": "code",
   "execution_count": 61,
   "metadata": {},
   "outputs": [
    {
     "data": {
      "text/plain": [
       "<parselmouth.Formant at 0x7fb9b7a4aff0>"
      ]
     },
     "execution_count": 61,
     "metadata": {},
     "output_type": "execute_result"
    }
   ],
   "source": [
    "formants = parselmouth.Sound.to_formant_burg(sound, time_step=0.01, max_number_of_formants=5, maximum_formant=5500, window_length=0.025, pre_emphasis_from=50)\n",
    "# formants = praat.call(sound, \"To Formant (burg)\", 0.0025, 5, 5000, 0.025, 50)\n",
    "formants"
   ]
  },
  {
   "cell_type": "code",
   "execution_count": 57,
   "metadata": {},
   "outputs": [
    {
     "name": "stdout",
     "output_type": "stream",
     "text": [
      "125\n"
     ]
    }
   ],
   "source": [
    "numPoints = praat.call(pointProcess, \"Get number of points\")\n",
    "print(numPoints)\n",
    "f1_list = []\n",
    "f2_list = []\n",
    "# f3_list = []\n",
    "for point in range(0, numPoints):\n",
    "    point += 1\n",
    "    t = praat.call(pointProcess, \"Get time from index\", point)\n",
    "    f1 = praat.call(formants, \"Get value at time\", 1, t, 'Hertz', 'Linear')\n",
    "    f2 = praat.call(formants, \"Get value at time\", 2, t, 'Hertz', 'Linear')\n",
    "    # f3 = praat.call(formants, \"Get value at time\", 3, t, 'Hertz', 'Linear')\n",
    "    f1_list.append(f1)\n",
    "    f2_list.append(f2)\n",
    "    # f3_list.append(f3)"
   ]
  },
  {
   "cell_type": "code",
   "execution_count": 58,
   "metadata": {},
   "outputs": [
    {
     "data": {
      "text/plain": [
       "(125, 125)"
      ]
     },
     "execution_count": 58,
     "metadata": {},
     "output_type": "execute_result"
    }
   ],
   "source": [
    "len(f1_list), len(f2_list)"
   ]
  },
  {
   "cell_type": "code",
   "execution_count": 59,
   "metadata": {},
   "outputs": [
    {
     "data": {
      "text/plain": [
       "(1548.2476317537835, 2781.5861110649703)"
      ]
     },
     "execution_count": 59,
     "metadata": {},
     "output_type": "execute_result"
    }
   ],
   "source": [
    "f1_list[0], f2_list[0]"
   ]
  },
  {
   "cell_type": "code",
   "execution_count": 60,
   "metadata": {},
   "outputs": [
    {
     "data": {
      "text/plain": [
       "([1675.9909926020007,\n",
       "  1548.2476317537835,\n",
       "  1309.9630864858843,\n",
       "  943.8114562231067,\n",
       "  915.2496900178091],\n",
       " [2913.7065163344487,\n",
       "  2781.5861110649703,\n",
       "  2351.7410086309515,\n",
       "  2165.984684666783,\n",
       "  2158.36887845562])"
      ]
     },
     "execution_count": 60,
     "metadata": {},
     "output_type": "execute_result"
    }
   ],
   "source": [
    "# import heapq\n",
    "\n",
    "# f1_top_5 = heapq.nlargest(5, f1_list)\n",
    "# f2_top_5 = heapq.nlargest(5, f2_list)\n",
    "# f1_top_5, f2_top_5"
   ]
  }
 ],
 "metadata": {
  "kernelspec": {
   "display_name": "Python 3.10.6 64-bit",
   "language": "python",
   "name": "python3"
  },
  "language_info": {
   "codemirror_mode": {
    "name": "ipython",
    "version": 3
   },
   "file_extension": ".py",
   "mimetype": "text/x-python",
   "name": "python",
   "nbconvert_exporter": "python",
   "pygments_lexer": "ipython3",
   "version": "3.10.7"
  },
  "orig_nbformat": 4,
  "vscode": {
   "interpreter": {
    "hash": "e7370f93d1d0cde622a1f8e1c04877d8463912d04d973331ad4851f04de6915a"
   }
  }
 },
 "nbformat": 4,
 "nbformat_minor": 2
}
