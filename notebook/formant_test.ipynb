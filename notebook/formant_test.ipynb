{
 "cells": [
  {
   "cell_type": "code",
   "execution_count": 1,
   "metadata": {},
   "outputs": [],
   "source": [
    "import parselmouth \n",
    "from parselmouth import praat"
   ]
  },
  {
   "cell_type": "code",
   "execution_count": 20,
   "metadata": {},
   "outputs": [],
   "source": [
    "# file = '../Datasets/Ravdess/Actor_01/03-01-01-01-01-01-01.wav'\n",
    "file = '../Datasets/Ravdess/Actor_01/03-01-01-01-01-02-01.wav'"
   ]
  },
  {
   "cell_type": "code",
   "execution_count": 21,
   "metadata": {},
   "outputs": [],
   "source": [
    "sound = parselmouth.Sound(file) "
   ]
  },
  {
   "cell_type": "code",
   "execution_count": 22,
   "metadata": {},
   "outputs": [],
   "source": [
    "f0min=75\n",
    "f0max=300\n",
    "pointProcess = praat.call(sound, \"To PointProcess (periodic, cc)\", f0min, f0max)"
   ]
  },
  {
   "cell_type": "code",
   "execution_count": 23,
   "metadata": {},
   "outputs": [],
   "source": [
    "formants = praat.call(sound, \"To Formant (burg)\", 0.0025, 5, 5000, 0.025, 50)"
   ]
  },
  {
   "cell_type": "code",
   "execution_count": 24,
   "metadata": {},
   "outputs": [],
   "source": [
    "numPoints = praat.call(pointProcess, \"Get number of points\")\n",
    "f1_list = []\n",
    "f2_list = []\n",
    "# f3_list = []\n",
    "for point in range(0, numPoints):\n",
    "    point += 1\n",
    "    t = praat.call(pointProcess, \"Get time from index\", point)\n",
    "    f1 = praat.call(formants, \"Get value at time\", 1, t, 'Hertz', 'Linear')\n",
    "    f2 = praat.call(formants, \"Get value at time\", 2, t, 'Hertz', 'Linear')\n",
    "    # f3 = praat.call(formants, \"Get value at time\", 3, t, 'Hertz', 'Linear')\n",
    "    f1_list.append(f1)\n",
    "    f2_list.append(f2)\n",
    "    # f3_list.append(f3)"
   ]
  },
  {
   "cell_type": "code",
   "execution_count": 25,
   "metadata": {},
   "outputs": [
    {
     "data": {
      "text/plain": [
       "(131, 131)"
      ]
     },
     "execution_count": 25,
     "metadata": {},
     "output_type": "execute_result"
    }
   ],
   "source": [
    "len(f1_list), len(f2_list)"
   ]
  },
  {
   "cell_type": "code",
   "execution_count": 26,
   "metadata": {},
   "outputs": [
    {
     "data": {
      "text/plain": [
       "(268.23693133199646, 2018.5407682205812)"
      ]
     },
     "execution_count": 26,
     "metadata": {},
     "output_type": "execute_result"
    }
   ],
   "source": [
    "f1_list[0], f2_list[0]"
   ]
  }
 ],
 "metadata": {
  "kernelspec": {
   "display_name": "Python 3.10.6 64-bit",
   "language": "python",
   "name": "python3"
  },
  "language_info": {
   "codemirror_mode": {
    "name": "ipython",
    "version": 3
   },
   "file_extension": ".py",
   "mimetype": "text/x-python",
   "name": "python",
   "nbconvert_exporter": "python",
   "pygments_lexer": "ipython3",
   "version": "3.10.6"
  },
  "orig_nbformat": 4,
  "vscode": {
   "interpreter": {
    "hash": "e7370f93d1d0cde622a1f8e1c04877d8463912d04d973331ad4851f04de6915a"
   }
  }
 },
 "nbformat": 4,
 "nbformat_minor": 2
}
