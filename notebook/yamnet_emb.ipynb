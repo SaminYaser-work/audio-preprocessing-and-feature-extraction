{
 "cells": [
  {
   "cell_type": "code",
   "execution_count": 2,
   "metadata": {},
   "outputs": [
    {
     "name": "stderr",
     "output_type": "stream",
     "text": [
      "2022-11-16 12:07:54.405636: I tensorflow/core/platform/cpu_feature_guard.cc:193] This TensorFlow binary is optimized with oneAPI Deep Neural Network Library (oneDNN) to use the following CPU instructions in performance-critical operations:  AVX2 FMA\n",
      "To enable them in other operations, rebuild TensorFlow with the appropriate compiler flags.\n",
      "2022-11-16 12:07:54.541293: W tensorflow/stream_executor/platform/default/dso_loader.cc:64] Could not load dynamic library 'libcudart.so.11.0'; dlerror: libcudart.so.11.0: cannot open shared object file: No such file or directory\n",
      "2022-11-16 12:07:54.541315: I tensorflow/stream_executor/cuda/cudart_stub.cc:29] Ignore above cudart dlerror if you do not have a GPU set up on your machine.\n",
      "2022-11-16 12:07:54.569223: E tensorflow/stream_executor/cuda/cuda_blas.cc:2981] Unable to register cuBLAS factory: Attempting to register factory for plugin cuBLAS when one has already been registered\n",
      "2022-11-16 12:07:56.077459: W tensorflow/stream_executor/platform/default/dso_loader.cc:64] Could not load dynamic library 'libnvinfer.so.7'; dlerror: libnvinfer.so.7: cannot open shared object file: No such file or directory\n",
      "2022-11-16 12:07:56.077533: W tensorflow/stream_executor/platform/default/dso_loader.cc:64] Could not load dynamic library 'libnvinfer_plugin.so.7'; dlerror: libnvinfer_plugin.so.7: cannot open shared object file: No such file or directory\n",
      "2022-11-16 12:07:56.077539: W tensorflow/compiler/tf2tensorrt/utils/py_utils.cc:38] TF-TRT Warning: Cannot dlopen some TensorRT libraries. If you would like to use Nvidia GPU with TensorRT, please make sure the missing libraries mentioned above are installed properly.\n"
     ]
    }
   ],
   "source": [
    "import tensorflow as tf\n",
    "import tensorflow_hub as hub\n",
    "import numpy as np\n",
    "import librosa\n",
    "import pandas as pd\n",
    "from tqdm import tqdm\n",
    "import matplotlib.pyplot as plt"
   ]
  },
  {
   "cell_type": "code",
   "execution_count": 3,
   "metadata": {},
   "outputs": [],
   "source": [
    "CLASSES5 = ['angry', 'happy', 'neutral', 'sad', 'surprise']\n",
    "CLASSES6 = ['angry', 'disgust', 'fear', 'happy', 'neutral', 'sad']\n",
    "CLASSES7 = ['angry', 'disgust', 'fear', 'happy', 'neutral', 'sad', 'surprise']"
   ]
  },
  {
   "cell_type": "code",
   "execution_count": 4,
   "metadata": {},
   "outputs": [
    {
     "name": "stderr",
     "output_type": "stream",
     "text": [
      "2022-11-16 12:08:00.120360: I tensorflow/stream_executor/cuda/cuda_gpu_executor.cc:980] successful NUMA node read from SysFS had negative value (-1), but there must be at least one NUMA node, so returning NUMA node zero\n",
      "2022-11-16 12:08:00.120613: W tensorflow/stream_executor/platform/default/dso_loader.cc:64] Could not load dynamic library 'libcudart.so.11.0'; dlerror: libcudart.so.11.0: cannot open shared object file: No such file or directory\n",
      "2022-11-16 12:08:00.120698: W tensorflow/stream_executor/platform/default/dso_loader.cc:64] Could not load dynamic library 'libcublas.so.11'; dlerror: libcublas.so.11: cannot open shared object file: No such file or directory\n",
      "2022-11-16 12:08:00.120749: W tensorflow/stream_executor/platform/default/dso_loader.cc:64] Could not load dynamic library 'libcublasLt.so.11'; dlerror: libcublasLt.so.11: cannot open shared object file: No such file or directory\n",
      "2022-11-16 12:08:00.120796: W tensorflow/stream_executor/platform/default/dso_loader.cc:64] Could not load dynamic library 'libcufft.so.10'; dlerror: libcufft.so.10: cannot open shared object file: No such file or directory\n",
      "2022-11-16 12:08:00.120853: W tensorflow/stream_executor/platform/default/dso_loader.cc:64] Could not load dynamic library 'libcurand.so.10'; dlerror: libcurand.so.10: cannot open shared object file: No such file or directory\n",
      "2022-11-16 12:08:00.120897: W tensorflow/stream_executor/platform/default/dso_loader.cc:64] Could not load dynamic library 'libcusolver.so.11'; dlerror: libcusolver.so.11: cannot open shared object file: No such file or directory\n",
      "2022-11-16 12:08:00.120940: W tensorflow/stream_executor/platform/default/dso_loader.cc:64] Could not load dynamic library 'libcusparse.so.11'; dlerror: libcusparse.so.11: cannot open shared object file: No such file or directory\n",
      "2022-11-16 12:08:00.120983: W tensorflow/stream_executor/platform/default/dso_loader.cc:64] Could not load dynamic library 'libcudnn.so.8'; dlerror: libcudnn.so.8: cannot open shared object file: No such file or directory\n",
      "2022-11-16 12:08:00.120990: W tensorflow/core/common_runtime/gpu/gpu_device.cc:1934] Cannot dlopen some GPU libraries. Please make sure the missing libraries mentioned above are installed properly if you would like to use GPU. Follow the guide at https://www.tensorflow.org/install/gpu for how to download and setup the required libraries for your platform.\n",
      "Skipping registering GPU devices...\n",
      "2022-11-16 12:08:00.121208: I tensorflow/core/platform/cpu_feature_guard.cc:193] This TensorFlow binary is optimized with oneAPI Deep Neural Network Library (oneDNN) to use the following CPU instructions in performance-critical operations:  AVX2 FMA\n",
      "To enable them in other operations, rebuild TensorFlow with the appropriate compiler flags.\n"
     ]
    }
   ],
   "source": [
    "# Load the model.\n",
    "model = hub.load('https://tfhub.dev/google/yamnet/1')"
   ]
  },
  {
   "cell_type": "code",
   "execution_count": 5,
   "metadata": {},
   "outputs": [
    {
     "data": {
      "text/html": [
       "<div>\n",
       "<style scoped>\n",
       "    .dataframe tbody tr th:only-of-type {\n",
       "        vertical-align: middle;\n",
       "    }\n",
       "\n",
       "    .dataframe tbody tr th {\n",
       "        vertical-align: top;\n",
       "    }\n",
       "\n",
       "    .dataframe thead th {\n",
       "        text-align: right;\n",
       "    }\n",
       "</style>\n",
       "<table border=\"1\" class=\"dataframe\">\n",
       "  <thead>\n",
       "    <tr style=\"text-align: right;\">\n",
       "      <th></th>\n",
       "      <th>file</th>\n",
       "      <th>emotion</th>\n",
       "      <th>split</th>\n",
       "      <th>dataset</th>\n",
       "      <th>augmentation</th>\n",
       "      <th>language</th>\n",
       "    </tr>\n",
       "  </thead>\n",
       "  <tbody>\n",
       "    <tr>\n",
       "      <th>0</th>\n",
       "      <td>../Datasets/custom_db/tess/train/angry_1068.wav</td>\n",
       "      <td>angry</td>\n",
       "      <td>train</td>\n",
       "      <td>tess</td>\n",
       "      <td>none</td>\n",
       "      <td>en</td>\n",
       "    </tr>\n",
       "    <tr>\n",
       "      <th>1</th>\n",
       "      <td>../Datasets/custom_db/tess/train/surprise_1286...</td>\n",
       "      <td>surprise</td>\n",
       "      <td>train</td>\n",
       "      <td>tess</td>\n",
       "      <td>none</td>\n",
       "      <td>en</td>\n",
       "    </tr>\n",
       "    <tr>\n",
       "      <th>2</th>\n",
       "      <td>../Datasets/custom_db/tess/train/fear_248.wav</td>\n",
       "      <td>fear</td>\n",
       "      <td>train</td>\n",
       "      <td>tess</td>\n",
       "      <td>none</td>\n",
       "      <td>en</td>\n",
       "    </tr>\n",
       "    <tr>\n",
       "      <th>3</th>\n",
       "      <td>../Datasets/custom_db/tess/train/happy_2790.wav</td>\n",
       "      <td>happy</td>\n",
       "      <td>train</td>\n",
       "      <td>tess</td>\n",
       "      <td>none</td>\n",
       "      <td>en</td>\n",
       "    </tr>\n",
       "    <tr>\n",
       "      <th>4</th>\n",
       "      <td>../Datasets/custom_db/tess/train/surprise_139.wav</td>\n",
       "      <td>surprise</td>\n",
       "      <td>train</td>\n",
       "      <td>tess</td>\n",
       "      <td>none</td>\n",
       "      <td>en</td>\n",
       "    </tr>\n",
       "    <tr>\n",
       "      <th>...</th>\n",
       "      <td>...</td>\n",
       "      <td>...</td>\n",
       "      <td>...</td>\n",
       "      <td>...</td>\n",
       "      <td>...</td>\n",
       "      <td>...</td>\n",
       "    </tr>\n",
       "    <tr>\n",
       "      <th>92777</th>\n",
       "      <td>../Datasets/custom_db/bser/augment/happy_1017_...</td>\n",
       "      <td>happy</td>\n",
       "      <td>augment</td>\n",
       "      <td>bser</td>\n",
       "      <td>freqmask</td>\n",
       "      <td>bn</td>\n",
       "    </tr>\n",
       "    <tr>\n",
       "      <th>92778</th>\n",
       "      <td>../Datasets/custom_db/bser/augment/happy_660_p...</td>\n",
       "      <td>happy</td>\n",
       "      <td>augment</td>\n",
       "      <td>bser</td>\n",
       "      <td>pitchshift</td>\n",
       "      <td>bn</td>\n",
       "    </tr>\n",
       "    <tr>\n",
       "      <th>92779</th>\n",
       "      <td>../Datasets/custom_db/bser/augment/neutral_479...</td>\n",
       "      <td>neutral</td>\n",
       "      <td>augment</td>\n",
       "      <td>bser</td>\n",
       "      <td>freqmask</td>\n",
       "      <td>bn</td>\n",
       "    </tr>\n",
       "    <tr>\n",
       "      <th>92780</th>\n",
       "      <td>../Datasets/custom_db/bser/augment/happy_841_t...</td>\n",
       "      <td>happy</td>\n",
       "      <td>augment</td>\n",
       "      <td>bser</td>\n",
       "      <td>timemask</td>\n",
       "      <td>bn</td>\n",
       "    </tr>\n",
       "    <tr>\n",
       "      <th>92781</th>\n",
       "      <td>../Datasets/custom_db/bser/augment/happy_309_f...</td>\n",
       "      <td>happy</td>\n",
       "      <td>augment</td>\n",
       "      <td>bser</td>\n",
       "      <td>freqmask</td>\n",
       "      <td>bn</td>\n",
       "    </tr>\n",
       "  </tbody>\n",
       "</table>\n",
       "<p>92782 rows × 6 columns</p>\n",
       "</div>"
      ],
      "text/plain": [
       "                                                    file   emotion    split  \\\n",
       "0        ../Datasets/custom_db/tess/train/angry_1068.wav     angry    train   \n",
       "1      ../Datasets/custom_db/tess/train/surprise_1286...  surprise    train   \n",
       "2          ../Datasets/custom_db/tess/train/fear_248.wav      fear    train   \n",
       "3        ../Datasets/custom_db/tess/train/happy_2790.wav     happy    train   \n",
       "4      ../Datasets/custom_db/tess/train/surprise_139.wav  surprise    train   \n",
       "...                                                  ...       ...      ...   \n",
       "92777  ../Datasets/custom_db/bser/augment/happy_1017_...     happy  augment   \n",
       "92778  ../Datasets/custom_db/bser/augment/happy_660_p...     happy  augment   \n",
       "92779  ../Datasets/custom_db/bser/augment/neutral_479...   neutral  augment   \n",
       "92780  ../Datasets/custom_db/bser/augment/happy_841_t...     happy  augment   \n",
       "92781  ../Datasets/custom_db/bser/augment/happy_309_f...     happy  augment   \n",
       "\n",
       "      dataset augmentation language  \n",
       "0        tess         none       en  \n",
       "1        tess         none       en  \n",
       "2        tess         none       en  \n",
       "3        tess         none       en  \n",
       "4        tess         none       en  \n",
       "...       ...          ...      ...  \n",
       "92777    bser     freqmask       bn  \n",
       "92778    bser   pitchshift       bn  \n",
       "92779    bser     freqmask       bn  \n",
       "92780    bser     timemask       bn  \n",
       "92781    bser     freqmask       bn  \n",
       "\n",
       "[92782 rows x 6 columns]"
      ]
     },
     "execution_count": 5,
     "metadata": {},
     "output_type": "execute_result"
    }
   ],
   "source": [
    "df = pd.read_csv('../Datasets/custom_db/df.csv')\n",
    "df['file'] = df['file'].apply(lambda x: '../Datasets/custom_db/' + x[2:])\n",
    "df"
   ]
  },
  {
   "cell_type": "code",
   "execution_count": 6,
   "metadata": {},
   "outputs": [],
   "source": [
    "def get_all():\n",
    "    df = pd.read_csv('../Datasets/custom_db/df.csv')\n",
    "    df['file'] = df['file'].apply(lambda x: '../Datasets/custom_db/' + x[2:])\n",
    "    return df"
   ]
  },
  {
   "cell_type": "code",
   "execution_count": 7,
   "metadata": {},
   "outputs": [],
   "source": [
    "def get_df(ds):\n",
    "    df = get_all()\n",
    "    df = df[df['dataset'] == ds]\n",
    "    return df"
   ]
  },
  {
   "cell_type": "code",
   "execution_count": 8,
   "metadata": {},
   "outputs": [],
   "source": [
    "def get_lang(lang):\n",
    "    df = get_all()\n",
    "    df = df[df['language'] == lang]\n",
    "    return df"
   ]
  },
  {
   "cell_type": "code",
   "execution_count": 9,
   "metadata": {},
   "outputs": [],
   "source": [
    "def get_embeddings(filename, label):\n",
    "    data, sr = librosa.load(filename, sr=None, mono=True, res_type='kaiser_best')\n",
    "\n",
    "    if sr != 16000:\n",
    "        raise ValueError('Sample rate is not 16kHz of file {}'.format(filename))\n",
    "\n",
    "    _, embeddings, _ = model(data)\n",
    "    num_embeddings = tf.shape(embeddings)[0]\n",
    "    return embeddings, tf.repeat(label, num_embeddings)"
   ]
  },
  {
   "cell_type": "code",
   "execution_count": 1,
   "metadata": {},
   "outputs": [],
   "source": [
    "def save_embeddings(df, filename, split):\n",
    "    features = []\n",
    "    labels = []\n",
    "\n",
    "    if df['emotion'].nunique() == 6:\n",
    "        classes = CLASSES6\n",
    "    elif df['emotion'].nunique() == 5:\n",
    "        classes = CLASSES5\n",
    "    else:\n",
    "        classes = CLASSES7\n",
    "\n",
    "    for _, row in tqdm(df.iterrows(), total=df.shape[0]):\n",
    "        embs, label = get_embeddings(row['path'], row['emotion'])\n",
    "        assert(len(embs) == len(label))\n",
    "        for i in range(embs.shape[0]):\n",
    "            features.append(embs[i])\n",
    "            labels.append(classes.index(label[i]))\n",
    "    \n",
    "    features = np.array(features)\n",
    "    labels = np.array(labels)\n",
    "    np.save(filename + split + '_X.npy', features)\n",
    "    np.save(filename + split + '_y.npy', labels)"
   ]
  },
  {
   "cell_type": "code",
   "execution_count": null,
   "metadata": {},
   "outputs": [],
   "source": [
    "df = get_df('tess')\n",
    "train = df[df['split'] == 'train']\n",
    "train_aug = df[(df['split'] == 'train') | (df['split'] == 'augment')]\n",
    "val = df[df['split'] == 'val']\n",
    "test = df[df['split'] == 'test']\n",
    "save_embeddings(train, './features/yamnet_emb/tess/', 'train')\n",
    "save_embeddings(train_aug, './features/yamnet_emb/tess/', 'train_aug')\n",
    "save_embeddings(val, './features/yamnet_emb/tess/', 'val')\n",
    "save_embeddings(test, './features/yamnet_emb/tess/', 'test')"
   ]
  },
  {
   "cell_type": "code",
   "execution_count": null,
   "metadata": {},
   "outputs": [],
   "source": [
    "df = get_df('savee')\n",
    "train = df[df['split'] == 'train']\n",
    "train_aug = df[(df['split'] == 'train') | (df['split'] == 'augment')]\n",
    "val = df[df['split'] == 'val']\n",
    "test = df[df['split'] == 'test']\n",
    "save_embeddings(train, './features/yamnet_emb/savee/', 'train')\n",
    "save_embeddings(train_aug, './features/yamnet_emb/savee/', 'train_aug')\n",
    "save_embeddings(val, './features/yamnet_emb/savee/', 'val')\n",
    "save_embeddings(test, './features/yamnet_emb/savee/', 'test')"
   ]
  },
  {
   "cell_type": "markdown",
   "metadata": {},
   "source": [
    "# Testing"
   ]
  },
  {
   "cell_type": "code",
   "execution_count": null,
   "metadata": {},
   "outputs": [],
   "source": [
    "# X = np.load('./features/vggish_emb/savee/X.npy', allow_pickle=True)\n",
    "# y = np.load('./features/vggish_emb/savee/y.npy', allow_pickle=True)"
   ]
  },
  {
   "cell_type": "code",
   "execution_count": null,
   "metadata": {},
   "outputs": [],
   "source": [
    "# X.shape, y.shape"
   ]
  },
  {
   "cell_type": "code",
   "execution_count": null,
   "metadata": {},
   "outputs": [],
   "source": [
    "# X[200]"
   ]
  },
  {
   "cell_type": "code",
   "execution_count": null,
   "metadata": {},
   "outputs": [],
   "source": [
    "# y[200]"
   ]
  },
  {
   "cell_type": "code",
   "execution_count": null,
   "metadata": {},
   "outputs": [],
   "source": [
    "stop"
   ]
  },
  {
   "cell_type": "markdown",
   "metadata": {},
   "source": [
    "# Spectogram"
   ]
  },
  {
   "cell_type": "code",
   "execution_count": null,
   "metadata": {},
   "outputs": [],
   "source": [
    "from math import ceil\n",
    "\n",
    "\n",
    "def plot_embeddings(df, name):\n",
    "\n",
    "    if df['Emotion'].nunique() == 6:\n",
    "        classes = CLASSES6\n",
    "    else:\n",
    "        classes = CLASSES7\n",
    "\n",
    "    fig, axs = plt.subplots(2, ceil(len(classes) / 2), figsize=(15, 6), facecolor='w', edgecolor='k')\n",
    "    fig.subplots_adjust(hspace = .3, wspace=.3)\n",
    "    fig.suptitle(f'{name} Yamnet Embeddings')\n",
    "    fig.tight_layout()\n",
    "    axs = axs.ravel()\n",
    "\n",
    "    for i in range(len(classes)):\n",
    "        emb,_,log_mel = get_embeddings(df[df['Emotion'] == classes[i]]['File_Path'].iloc[0], df[df['Emotion'] == classes[i]]['Emotion'].iloc[0])\n",
    "        # axs[i].imshow(log_mel.numpy().T, aspect='auto', interpolation='nearest', origin='lower', cmap='jet')\n",
    "        axs[i].plot(emb[0])\n",
    "        axs[i].set_title(classes[i])\n",
    "\n",
    "def plot_mel(df, name):\n",
    "\n",
    "    if df['Emotion'].nunique() == 6:\n",
    "        classes = CLASSES6\n",
    "    else:\n",
    "        classes = CLASSES7\n",
    "\n",
    "    fig, axs = plt.subplots(2, ceil(len(classes) / 2), figsize=(15, 6), facecolor='w', edgecolor='k')\n",
    "    fig.subplots_adjust(hspace = .3, wspace=.3)\n",
    "    fig.suptitle(f'{name} Yamnet Log Mel Spectrogram')\n",
    "    fig.tight_layout()\n",
    "    axs = axs.ravel()\n",
    "\n",
    "    for i in range(len(classes)):\n",
    "        emb,_,log_mel = get_embeddings(df[df['Emotion'] == classes[i]]['File_Path'].iloc[0], df[df['Emotion'] == classes[i]]['Emotion'].iloc[0])\n",
    "        axs[i].imshow(log_mel.numpy().T, aspect='auto', interpolation='nearest', origin='lower', cmap='jet')\n",
    "        axs[i].set_title(classes[i])"
   ]
  },
  {
   "cell_type": "code",
   "execution_count": null,
   "metadata": {},
   "outputs": [],
   "source": [
    "plot_embeddings(tess, 'Tess')\n",
    "plot_mel(tess, 'Tess')"
   ]
  },
  {
   "cell_type": "code",
   "execution_count": null,
   "metadata": {},
   "outputs": [],
   "source": [
    "plot_embeddings(savee, 'Savee')\n",
    "plot_mel(savee, 'Savee')"
   ]
  },
  {
   "cell_type": "code",
   "execution_count": null,
   "metadata": {},
   "outputs": [],
   "source": [
    "plot_embeddings(ravdess, 'Ravdess')\n",
    "plot_mel(ravdess, 'Ravdess')"
   ]
  },
  {
   "cell_type": "code",
   "execution_count": null,
   "metadata": {},
   "outputs": [],
   "source": [
    "plot_embeddings(crema, 'Crema')\n",
    "plot_mel(crema, 'Crema')"
   ]
  }
 ],
 "metadata": {
  "kernelspec": {
   "display_name": "Python 3",
   "language": "python",
   "name": "python3"
  },
  "language_info": {
   "codemirror_mode": {
    "name": "ipython",
    "version": 3
   },
   "file_extension": ".py",
   "mimetype": "text/x-python",
   "name": "python",
   "nbconvert_exporter": "python",
   "pygments_lexer": "ipython3",
   "version": "3.10.8 (main, Nov  1 2022, 14:18:21) [GCC 12.2.0]"
  },
  "orig_nbformat": 4,
  "vscode": {
   "interpreter": {
    "hash": "e7370f93d1d0cde622a1f8e1c04877d8463912d04d973331ad4851f04de6915a"
   }
  }
 },
 "nbformat": 4,
 "nbformat_minor": 2
}
