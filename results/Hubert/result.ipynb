{
 "cells": [
  {
   "cell_type": "code",
   "execution_count": 1,
   "metadata": {},
   "outputs": [],
   "source": [
    "import pandas as pd"
   ]
  },
  {
   "cell_type": "code",
   "execution_count": 42,
   "metadata": {},
   "outputs": [],
   "source": [
    "def get_labels(ds):\n",
    "    if ds == 'crema' or ds == 'crema_no_aug':\n",
    "        label_list = ['angry', 'disgust', 'fear', 'happy', 'neutral', 'sad']\n",
    "    elif ds == 'bser' or ds == 'bser_no_aug':\n",
    "        label_list = ['angry', 'happy', 'neutral', 'sad', 'surprise']\n",
    "    else:\n",
    "        label_list = ['angry', 'disgust', 'fear', 'happy', 'neutral', 'sad', 'surprise']\n",
    "    \n",
    "    return label_list"
   ]
  },
  {
   "cell_type": "code",
   "execution_count": 84,
   "metadata": {},
   "outputs": [],
   "source": [
    "df = pd.read_csv('./aug_comparison.csv')\n",
    "df = df.drop(columns=['Weighted_Precision', 'Weighted_Precision_aug', 'Weighted_Recall', 'Weighted_Recall_aug'])\n",
    "df['Dataset'] = df['Dataset'].apply(lambda x: x.replace('_', ' '))\n",
    "df = df.rename(columns={\n",
    "    'Accuracy_aug': '\\\\textbf{Acc. Aug.}',\n",
    "    'Weighted_F1_aug': '\\\\textbf{WF1 Aug.}',\n",
    "    'Macro_F1_aug': '\\\\textbf{MF1 Aug.}',\n",
    "    'Accuracy': '\\\\textbf{Acc.}',\n",
    "    'Weighted_F1': '\\\\textbf{WF1}',\n",
    "    'Macro_F1': '\\\\textbf{MF1}',\n",
    "    'Dataset': '\\\\textbf{Dataset}'})\n",
    "\n",
    "df = df.applymap(lambda x: '$\\\\times$' if x == 0 else x)\n",
    "df = df.applymap(lambda x: str(round(x*100, 2)) if not isinstance(x, str)  else x)\n",
    "df\n",
    "df.style.hide(axis='index').to_latex(\n",
    "    './tables/aug_comparison.tex',\n",
    "    position='h',\n",
    "    position_float='centering',\n",
    "    hrules=True,\n",
    "    caption='HuBERT Accuracy, Weighted F1, Macro F1 with and without Augmentation',\n",
    "    label='tab:hubert',\n",
    "    column_format='{|c|c|c|c|c|c|c|}')\n",
    "\n",
    "with open('./tables/aug_comparison.tex', 'r') as f:\n",
    "    lines = f.read()\n",
    "with open('./tables/aug_comparison.tex', 'w') as f:\n",
    "    lines = lines.replace('\\\\toprule', '\\\\hline')\n",
    "    lines = lines.replace('\\\\midrule', '\\\\hline')\n",
    "    lines = lines.replace('\\\\bottomrule', '\\\\hline')\n",
    "    f.write(lines)"
   ]
  },
  {
   "cell_type": "code",
   "execution_count": 32,
   "metadata": {},
   "outputs": [
    {
     "name": "stderr",
     "output_type": "stream",
     "text": [
      "/tmp/ipykernel_21639/3023005266.py:1: FutureWarning: In future versions `DataFrame.to_latex` is expected to utilise the base implementation of `Styler.to_latex` for formatting and rendering. The arguments signature may therefore change. It is recommended instead to use `DataFrame.style.to_latex` which also contains additional functionality.\n",
      "  df.to_latex('./tables/res',index=False)\n"
     ]
    }
   ],
   "source": [
    "df.to_latex('./tables/res',index=False)"
   ]
  },
  {
   "cell_type": "code",
   "execution_count": 103,
   "metadata": {},
   "outputs": [
    {
     "data": {
      "text/html": [
       "<div>\n",
       "<style scoped>\n",
       "    .dataframe tbody tr th:only-of-type {\n",
       "        vertical-align: middle;\n",
       "    }\n",
       "\n",
       "    .dataframe tbody tr th {\n",
       "        vertical-align: top;\n",
       "    }\n",
       "\n",
       "    .dataframe thead th {\n",
       "        text-align: right;\n",
       "    }\n",
       "</style>\n",
       "<table border=\"1\" class=\"dataframe\">\n",
       "  <thead>\n",
       "    <tr style=\"text-align: right;\">\n",
       "      <th></th>\n",
       "      <th>\\textbf{Emotion}</th>\n",
       "      <th>\\textbf{Precision}</th>\n",
       "      <th>\\textbf{Recall}</th>\n",
       "      <th>\\textbf{F1}</th>\n",
       "      <th>\\textbf{Support}</th>\n",
       "    </tr>\n",
       "  </thead>\n",
       "  <tbody>\n",
       "    <tr>\n",
       "      <th>0</th>\n",
       "      <td>Angry</td>\n",
       "      <td>86.89</td>\n",
       "      <td>85.48</td>\n",
       "      <td>86.18</td>\n",
       "      <td>62</td>\n",
       "    </tr>\n",
       "    <tr>\n",
       "      <th>1</th>\n",
       "      <td>Happy</td>\n",
       "      <td>78.79</td>\n",
       "      <td>85.25</td>\n",
       "      <td>81.89</td>\n",
       "      <td>61</td>\n",
       "    </tr>\n",
       "    <tr>\n",
       "      <th>2</th>\n",
       "      <td>Neutral</td>\n",
       "      <td>84.44</td>\n",
       "      <td>77.55</td>\n",
       "      <td>80.85</td>\n",
       "      <td>49</td>\n",
       "    </tr>\n",
       "    <tr>\n",
       "      <th>3</th>\n",
       "      <td>Sad</td>\n",
       "      <td>75.81</td>\n",
       "      <td>77.05</td>\n",
       "      <td>76.42</td>\n",
       "      <td>61</td>\n",
       "    </tr>\n",
       "    <tr>\n",
       "      <th>4</th>\n",
       "      <td>Surprise</td>\n",
       "      <td>86.67</td>\n",
       "      <td>85.25</td>\n",
       "      <td>85.95</td>\n",
       "      <td>61</td>\n",
       "    </tr>\n",
       "  </tbody>\n",
       "</table>\n",
       "</div>"
      ],
      "text/plain": [
       "  \\textbf{Emotion} \\textbf{Precision} \\textbf{Recall} \\textbf{F1}  \\\n",
       "0            Angry              86.89           85.48       86.18   \n",
       "1            Happy              78.79           85.25       81.89   \n",
       "2          Neutral              84.44           77.55       80.85   \n",
       "3              Sad              75.81           77.05       76.42   \n",
       "4         Surprise              86.67           85.25       85.95   \n",
       "\n",
       "   \\textbf{Support}  \n",
       "0                62  \n",
       "1                61  \n",
       "2                49  \n",
       "3                61  \n",
       "4                61  "
      ]
     },
     "execution_count": 103,
     "metadata": {},
     "output_type": "execute_result"
    }
   ],
   "source": [
    "df = pd.read_csv('./bser.csv')\n",
    "df = df[:-3]\n",
    "df['Emotion_Class'] = df['Emotion_Class'].apply(lambda x: x.capitalize())\n",
    "supp = df['Support']\n",
    "df = df.rename(columns= {\n",
    "    'Emotion_Class': '\\\\textbf{Emotion}',\n",
    "    'F1_Score': '\\\\textbf{F1}',\n",
    "    'Precision': '\\\\textbf{Precision}',\n",
    "    'Recall': '\\\\textbf{Recall}',\n",
    "    'Support': '\\\\textbf{Support}'\n",
    "})\n",
    "df = df.applymap(lambda x: str(round(x*100, 2)) if not isinstance(x, str) else x)\n",
    "df['\\\\textbf{Support}'] = supp\n",
    "df.style.hide(axis='index').to_latex(\n",
    "    './tables/bser.tex',\n",
    "    position='h',\n",
    "    position_float='centering',\n",
    "    hrules=True,\n",
    "    caption='bruh',\n",
    "    label='tab:test',\n",
    "    column_format='{|c|c|c|c|c|c|c|}')\n",
    "with open('./tables/bser.tex', 'r') as f:\n",
    "    lines = f.read()\n",
    "with open('./tables/bser.tex', 'w') as f:\n",
    "    lines = lines.replace('\\\\toprule', '\\\\hline')\n",
    "    lines = lines.replace('\\\\midrule', '\\\\hline')\n",
    "    lines = lines.replace('\\\\bottomrule', '\\\\hline')\n",
    "    f.write(lines)\n",
    "df"
   ]
  },
  {
   "cell_type": "code",
   "execution_count": 110,
   "metadata": {},
   "outputs": [
    {
     "name": "stdout",
     "output_type": "stream",
     "text": [
      "./savee.csv\n",
      "./ravdess.csv\n",
      "./bser_aug.csv\n",
      "./tess.csv\n",
      "./all_bn_aug.csv\n",
      "./subesco.csv\n",
      "./crema.csv\n",
      "./bser.csv\n",
      "./savee_aug.csv\n",
      "./ravdess_aug.csv\n",
      "./all_aug.csv\n",
      "./all_bal.csv\n",
      "./tess_aug.csv\n",
      "./all_en_aug.csv\n",
      "./crema_aug.csv\n",
      "./subesco_aug.csv\n"
     ]
    }
   ],
   "source": [
    "import os\n",
    "\n",
    "for dirname, _, files in os.walk('./'):\n",
    "    for file in files:\n",
    "        if file.endswith('.csv') and not file.startswith('aug'):\n",
    "            path = os.path.join(dirname, file)\n",
    "            print(path)\n",
    "            filename = file.split('.')[0]\n",
    "            filenameCaption = filename.replace('_', ' ')\n",
    "            df = pd.read_csv(path)\n",
    "            df = df[:-3]\n",
    "            df['Emotion_Class'] = df['Emotion_Class'].apply(lambda x: x.capitalize())\n",
    "            supp = df['Support']\n",
    "            df = df.rename(columns= {\n",
    "                'Emotion_Class': '\\\\textbf{Emotion}',\n",
    "                'F1_Score': '\\\\textbf{F1}',\n",
    "                'Precision': '\\\\textbf{Precision}',\n",
    "                'Recall': '\\\\textbf{Recall}',\n",
    "                'Support': '\\\\textbf{Support}'\n",
    "            })\n",
    "            df = df.applymap(lambda x: str(round(x*100, 2)) if not isinstance(x, str) else x)\n",
    "            df['\\\\textbf{Support}'] = supp\n",
    "\n",
    "            if filename.endswith('aug'):\n",
    "                caption = f'HuBERT Classification Report on {filenameCaption[:-4].upper()} Dataset with Augmentation'\n",
    "            else:\n",
    "                caption = f'HuBERT Classification Report on {filenameCaption.upper()} Dataset'\n",
    "\n",
    "            df.style.hide(axis='index').to_latex(\n",
    "                f'./tables/{filename}.tex',\n",
    "                position='h',\n",
    "                position_float='centering',\n",
    "                hrules=True,\n",
    "                caption=caption,\n",
    "                label=f'tab:hubert_{filename}',\n",
    "                column_format='{|c|c|c|c|c|}')\n",
    "\n",
    "            with open(f'./tables/{filename}.tex', 'r') as f:\n",
    "                lines = f.read()\n",
    "            with open(f'./tables/{filename}.tex', 'w') as f:\n",
    "                lines = lines.replace('\\\\toprule', '\\\\hline')\n",
    "                lines = lines.replace('\\\\midrule', '\\\\hline')\n",
    "                lines = lines.replace('\\\\bottomrule', '\\\\hline')\n",
    "                f.write(lines)\n"
   ]
  },
  {
   "cell_type": "code",
   "execution_count": 109,
   "metadata": {},
   "outputs": [],
   "source": [
    "lines = ''\n",
    "\n",
    "for dir, _, files in os.walk('./tables/'):\n",
    "    for file in files:\n",
    "        path = os.path.join(dir, file)\n",
    "        with open(path, 'r') as f:\n",
    "            lines += f.read() + '\\n'\n",
    "\n",
    "with open('./tables/all_tables.tex', 'w') as f:\n",
    "    f.write(lines)"
   ]
  },
  {
   "cell_type": "code",
   "execution_count": 34,
   "metadata": {},
   "outputs": [],
   "source": [
    "import numpy as np\n",
    "import re\n",
    "import seaborn as sns\n",
    "import matplotlib.pyplot as plt"
   ]
  },
  {
   "cell_type": "code",
   "execution_count": 40,
   "metadata": {},
   "outputs": [
    {
     "data": {
      "text/plain": [
       "<AxesSubplot:>"
      ]
     },
     "execution_count": 40,
     "metadata": {},
     "output_type": "execute_result"
    },
    {
     "data": {
      "image/png": "[encoded data removed]",
      "text/plain": [
       "<Figure size 432x288 with 2 Axes>"
      ]
     },
     "metadata": {
      "needs_background": "light"
     },
     "output_type": "display_data"
    }
   ],
   "source": [
    "test= \"\"\"\n",
    "[[80  0  0  0  0  0  0]\n",
    " [ 0 79  0  0  0  0  1]\n",
    " [ 0  0 80  0  0  0  0]\n",
    " [ 0  0  0 80  0  0  0]\n",
    " [ 0  0  0  0 79  1  0]\n",
    " [ 0  0  0  0  0 80  0]\n",
    " [ 0  0  0  0  0  0 80]]\n",
    " \"\"\"\n",
    "\n",
    "test = test.strip()\n",
    "test = re.sub(' +', ',', test)\n",
    "test = re.sub('\\[,', '[', test)\n",
    "test = re.sub('\\\\n', '', test)\n",
    "test\n",
    "test = np.array(eval(test))\n",
    "sns.heatmap(test, annot=True)"
   ]
  },
  {
   "cell_type": "code",
   "execution_count": 63,
   "metadata": {},
   "outputs": [],
   "source": [
    "def save_cm(name, cm, aug=False):\n",
    "\n",
    "    cm = cm.strip()\n",
    "    cm = re.sub(' +', ',', cm)\n",
    "    cm = re.sub('\\[,', '[', cm)\n",
    "    cm = re.sub('\\\\n', '', cm)\n",
    "    cm = np.array(eval(cm))\n",
    "    cm_n = cm / cm.astype(float).sum(axis=1)\n",
    "\n",
    "    label_names = get_labels(name)\n",
    "\n",
    "    ax= plt.subplot()\n",
    "    plt.tight_layout()\n",
    "    sns.heatmap(cm_n, annot=True, fmt='.2g', ax=ax)\n",
    "\n",
    "    # labels, title and ticks\n",
    "    ax.set_xlabel('Predicted labels')\n",
    "    ax.set_ylabel('True labels')\n",
    "\n",
    "    title = f'HuBERT on {name.upper()} Dataset'\n",
    "    if aug:\n",
    "        title += ' with Augmentation'\n",
    "\n",
    "    ax.set_title(title)\n",
    "    ax.xaxis.set_ticklabels(label_names)\n",
    "    ax.yaxis.set_ticklabels(label_names)\n",
    "\n",
    "    filename = f'{name}'\n",
    "    if aug:\n",
    "        filename += '_aug'\n",
    "\n",
    "    plt.savefig(f'../Hubert/cm/{filename}', dpi=150)"
   ]
  },
  {
   "cell_type": "code",
   "execution_count": 80,
   "metadata": {},
   "outputs": [
    {
     "data": {
      "image/png": "[encoded data removed]",
      "text/plain": [
       "<Figure size 432x288 with 2 Axes>"
      ]
     },
     "metadata": {},
     "output_type": "display_data"
    }
   ],
   "source": [
    "name = 'all'\n",
    "aug = True\n",
    "# aug = False\n",
    "\n",
    "cm= \"\"\"\n",
    "[[561  33  14  23   3   4   8]\n",
    " [ 27 479  21  11   8  30   8]\n",
    " [ 16   6 472  16  11  58   5]\n",
    " [ 16  13  24 563  12   8  11]\n",
    " [  2   6   0  11 579  31   0]\n",
    " [  7  12  52   8  34 531   1]\n",
    " [  2   8  11  17   1   1 599]]\n",
    " \"\"\"\n",
    "\n",
    "save_cm(name, cm, aug=aug)"
   ]
  },
  {
   "cell_type": "code",
   "execution_count": null,
   "metadata": {},
   "outputs": [],
   "source": [
    "tess_aug = np.array([[80,0,0,0,0,0,0],\n",
    " [ 0 79  0  0  0  0  1],\n",
    " [ 0  0 80  0  0  0  0],\n",
    " [ 0  0  0 80  0  0  0],\n",
    " [ 0  0  0  0 79  1  0],\n",
    " [ 0  0  0  0  0 80  0],\n",
    " [ 0  0  0  0  0  0 80]])\n",
    "\n",
    "tess = np.array(\n",
    "\n",
    ")\n",
    "\n",
    "ravdess_aug = np.array(\n",
    "\n",
    ")\n",
    "\n",
    "ravdess = np.array(\n",
    "\n",
    ")\n",
    "\n",
    "savee_aug = np.array(\n",
    "\n",
    ")\n",
    "\n",
    "savee = np.array(\n",
    "\n",
    ")\n",
    "\n",
    "crema_aug = np.array(\n",
    "\n",
    ")\n",
    "\n",
    "crema = np.array(\n",
    "\n",
    ")\n",
    "\n",
    "subesco_aug = np.array(\n",
    "\n",
    ")\n",
    "\n",
    "subesco = np.array(\n",
    "\n",
    ")\n",
    "\n",
    "bser_aug = np.array(\n",
    "\n",
    ")\n",
    "\n",
    "bser = np.array(\n",
    "\n",
    ")\n",
    "\n",
    "all_en = np.array(\n",
    "\n",
    ")\n",
    "\n",
    "all_bn = np.array(\n",
    "\n",
    ")\n",
    "\n",
    "all = np.array(\n",
    "\n",
    ")"
   ]
  }
 ],
 "metadata": {
  "kernelspec": {
   "display_name": "Python 3",
   "language": "python",
   "name": "python3"
  },
  "language_info": {
   "codemirror_mode": {
    "name": "ipython",
    "version": 3
   },
   "file_extension": ".py",
   "mimetype": "text/x-python",
   "name": "python",
   "nbconvert_exporter": "python",
   "pygments_lexer": "ipython3",
   "version": "3.10.8 (main, Nov  1 2022, 14:18:21) [GCC 12.2.0]"
  },
  "orig_nbformat": 4,
  "vscode": {
   "interpreter": {
    "hash": "e7370f93d1d0cde622a1f8e1c04877d8463912d04d973331ad4851f04de6915a"
   }
  }
 },
 "nbformat": 4,
 "nbformat_minor": 2
}
