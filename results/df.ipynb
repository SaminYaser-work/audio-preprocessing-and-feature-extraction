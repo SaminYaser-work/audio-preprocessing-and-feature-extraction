{
 "cells": [
  {
   "cell_type": "code",
   "execution_count": 2,
   "metadata": {},
   "outputs": [],
   "source": [
    "import pandas as pd\n",
    "import pickle"
   ]
  },
  {
   "cell_type": "code",
   "execution_count": null,
   "metadata": {},
   "outputs": [],
   "source": [
    "dses = ['tess', 'ravdess', 'savee', 'crema', 'subesco', 'bser', 'all_en', 'all_bn', 'all']\n",
    "folders = ['vggish', 'yamnet']\n",
    "\n",
    "res = []\n",
    "\n",
    "for ds in dses:\n",
    "    for folder in folders:\n",
    "        with open(f'./{folder}/{ds}.pkl', 'rb') as f:\n",
    "            data = pickle.load(f)\n",
    "\n",
    "\n",
    "        for datum in data:\n",
    "            size, dropout, opt, _, lr, _, _ = datum['info']\n",
    "            res.append(\n",
    "                {\n",
    "                    'dataset': ds,\n",
    "                    'model': folder,\n",
    "                    'size': ', '.join([str(s) for s in size]),\n",
    "                    'dropout': dropout if dropout != 0.0 else 'None',\n",
    "                    'opt': opt,\n",
    "                    'lr': lr,\n",
    "                    'accuracy': datum['accuracy'],\n",
    "                    'f1_weighted': datum['f1_weighted'],\n",
    "                }\n",
    "            )\n",
    "\n",
    "df = pd.DataFrame(res)\n",
    "\n",
    "best_df = pd.DataFrame()\n",
    "for ds in dses:\n",
    "    for folder in folders:\n",
    "        best = df[(df['dataset'] == ds) & (df['model'] == folder)].sort_values('f1_weighted', ascending=False).iloc[0]\n",
    "        best_df = best_df.append(best)\n",
    "best_df.to_csv('best.csv', index=False)\n",
    "best_df"
   ]
  }
 ],
 "metadata": {
  "kernelspec": {
   "display_name": "Python 3.10.8 64-bit",
   "language": "python",
   "name": "python3"
  },
  "language_info": {
   "codemirror_mode": {
    "name": "ipython",
    "version": 3
   },
   "file_extension": ".py",
   "mimetype": "text/x-python",
   "name": "python",
   "nbconvert_exporter": "python",
   "pygments_lexer": "ipython3",
   "version": "3.10.8"
  },
  "orig_nbformat": 4,
  "vscode": {
   "interpreter": {
    "hash": "e7370f93d1d0cde622a1f8e1c04877d8463912d04d973331ad4851f04de6915a"
   }
  }
 },
 "nbformat": 4,
 "nbformat_minor": 2
}
